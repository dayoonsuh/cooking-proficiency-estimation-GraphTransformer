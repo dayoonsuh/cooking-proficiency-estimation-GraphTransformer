{
 "cells": [
  {
   "cell_type": "code",
   "execution_count": 1,
   "metadata": {},
   "outputs": [],
   "source": [
    "import argparse\n",
    "import numpy as np\n",
    "import pandas as pd\n",
    "from tqdm import tqdm\n",
    "import os\n",
    "import multiprocessing\n",
    "from tqdm import tqdm\n",
    "import pickle as pkl\n",
    "from copy import deepcopy\n",
    "from typing import *\n",
    "\n",
    "import matplotlib.pyplot as plt\n",
    "from matplotlib.ticker import MaxNLocator\n",
    "import seaborn as sns\n",
    "import plotly\n",
    "import plotly.express as px\n",
    "import plotly.io as plt_io\n",
    "import plotly.graph_objects as go\n",
    "\n",
    "\n",
    "from tsfresh import extract_features, extract_relevant_features, select_features\n",
    "from tsfresh.utilities.dataframe_functions import impute\n",
    "from tsfresh.feature_extraction import ComprehensiveFCParameters, EfficientFCParameters, MinimalFCParameters\n",
    "\n",
    "\n",
    "from sklearn.preprocessing import StandardScaler, MinMaxScaler\n",
    "from sklearn.model_selection import train_test_split\n",
    "from sklearn.decomposition import PCA\n",
    "from sklearn.manifold import TSNE\n",
    "\n",
    "from utils import *\n",
    "from dataloader import *"
   ]
  },
  {
   "cell_type": "code",
   "execution_count": 47,
   "metadata": {},
   "outputs": [],
   "source": [
    "def sliding_window(data:np.array, window_size:int, overlap:float) -> np.array:\n",
    "    overlap = int(window_size * (overlap / 100))\n",
    "    out = np.array([data[i:i+window_size] for i in range(0, len(data), window_size-overlap) if len(data[i:i+window_size]) == window_size])\n",
    "    return out\n",
    "\n",
    "\n",
    "def make_window(data:dict, window_size:int, overlap:float):\n",
    "    L = []\n",
    "    for key in data.keys():\n",
    "        L.append(data[key])\n",
    "    tmp = np.array(L)\n",
    "    out = sliding_window(tmp, window_size, overlap)\n",
    "    return out\n",
    "\n",
    "def unison_shuffled_copies(a, b):\n",
    "    assert len(a) == len(b)\n",
    "    p = np.random.permutation(len(a))\n",
    "    return a[p], b[p]\n",
    "\n",
    "\n",
    "def create_dataset(data:dict, subjects:List[str], window_size:int=60, overlap:float=0.0): \n",
    "    labels = [] \n",
    "    for idx, subject_id in tqdm(enumerate(subjects), total=len(subjects)):     \n",
    "        if subject_id[0] == 'I':\n",
    "            label = 0\n",
    "        else:\n",
    "            label = 1\n",
    "        if idx == 0:\n",
    "            win_data = make_window(data[subject_id], window_size, overlap)\n",
    "            all_data_part1 = win_data\n",
    "            labels.extend([label] * win_data.shape[0])\n",
    "        else:\n",
    "            win_data = make_window(data[subject_id], window_size, overlap)\n",
    "            all_data_part2 = win_data\n",
    "            labels.extend([label] * win_data.shape[0])\n",
    "\n",
    "        if idx == 0:\n",
    "            all_data = all_data_part1\n",
    "        else:\n",
    "            all_data = np.vstack((all_data, all_data_part2))\n",
    "            \n",
    "    X, Y = unison_shuffled_copies(np.array(all_data), np.array(labels))\n",
    "    X = torch.Tensor(X)\n",
    "    Y = torch.Tensor(Y).long()\n",
    "\n",
    "    return X, Y\n",
    "\n",
    "\n",
    "def plot_pca(X:pd.DataFrame):\n",
    "\n",
    "    scaler = StandardScaler()\n",
    "    X_normalized = scaler.fit_transform(X)\n",
    "    #X_normalized = scaler.transform(X)\n",
    "\n",
    "    pca = PCA(n_components=3)\n",
    "\n",
    "    X_pca = pca.fit_transform(X_normalized)\n",
    "\n",
    "    print(\"Explained variance ratio 3 composants:\" , pca.explained_variance_ratio_)\n",
    "    print(\"Singular values 3 composants: \", pca.singular_values_)\n",
    "\n",
    "    new_df = pd.DataFrame(X_pca, columns=['pca_1','pca_2','pca_3'])\n",
    "    new_df['labels'] = y\n",
    "\n",
    "    fig = px.scatter_3d(new_df, x='pca_1', y='pca_2', z='pca_3', color='labels', size_max=10)\n",
    "    fig.update_layout(margin=dict(l=0, r=0, b=0, t=0))\n",
    "    fig.show()\n",
    "\n",
    "\n",
    "def plot_tsne(X:pd.DataFrame):\n",
    "    \n",
    "    scaler = StandardScaler()\n",
    "    X_normalized = scaler.fit_transform(X)\n",
    "    \n",
    "    X_tsne = TSNE(n_components=3, learning_rate='auto',\n",
    "                  init='random').fit_transform(X_normalized)\n",
    "    \n",
    "    new_df = pd.DataFrame(X_tsne, columns=['tsne_1','tsne_2','tsne_3'])\n",
    "    new_df['labels'] = y\n",
    "\n",
    "    fig = px.scatter_3d(new_df, x='tsne_1', y='tsne_2', z='tsne_3', color='labels')\n",
    "    fig.update_layout(margin=dict(l=0, r=0, b=0, t=0))\n",
    "    fig.show()\n",
    "\n",
    "def plot_2d(component1, component2, y):\n",
    "    \n",
    "    fig = go.Figure(data=go.Scatter(\n",
    "        x = component1,\n",
    "        y = component2,\n",
    "        mode='markers',\n",
    "        marker=dict(\n",
    "            size=10,\n",
    "            color=y, #set color equal to a variable\n",
    "            #colorscale='Rainbow', # one of plotly colorscales\n",
    "            showscale=True,\n",
    "            line_width=1\n",
    "        )\n",
    "    ))\n",
    "    fig.update_layout(margin=dict( l=100,r=100,b=100,t=100),width=700,height=500)                 \n",
    "    fig.layout.template = 'plotly_dark'\n",
    "    \n",
    "    fig.show()\n",
    "\n",
    "def plot_3d(component1, component2, component3, y):\n",
    "    fig = go.Figure(data=[go.Scatter3d(\n",
    "            x=component1,\n",
    "            y=component2,\n",
    "            z=component3,\n",
    "            mode='markers',\n",
    "            marker=dict(\n",
    "                size=5,\n",
    "                color=y,                # set color to an array/list of desired values\n",
    "                colorscale='Plotly3',   # choose a colorscale\n",
    "                opacity=1,\n",
    "                line_width=1\n",
    "            )\n",
    "        )])\n",
    "    # tight layout\n",
    "    fig.update_layout(margin=dict(l=100,r=100,b=100,t=100),width=1000,height=700)\n",
    "    #fig.layout.template = 'plotly_dark'\n",
    "    fig.write_image(\"test.png\") \n",
    "    \n",
    "    fig.show()"
   ]
  },
  {
   "cell_type": "code",
   "execution_count": 2,
   "metadata": {},
   "outputs": [],
   "source": [
    "raw_data = load_pickle(\"../data/learning/raw_data.pkl\")"
   ]
  },
  {
   "cell_type": "code",
   "execution_count": 69,
   "metadata": {},
   "outputs": [
    {
     "data": {
      "text/plain": [
       "['Chir_01',\n",
       " 'Chir_03',\n",
       " 'Chir_04',\n",
       " 'Chir_05',\n",
       " 'Intern_02',\n",
       " 'Intern_03',\n",
       " 'Intern_04',\n",
       " 'Intern_05',\n",
       " 'Intern_06',\n",
       " 'Intern_07',\n",
       " 'Intern_08',\n",
       " 'Intern_09',\n",
       " 'Intern_10',\n",
       " 'Intern_11',\n",
       " 'Intern_12',\n",
       " 'Intern_13',\n",
       " 'Intern_14',\n",
       " 'Intern_15',\n",
       " 'Intern_16',\n",
       " 'Intern_17',\n",
       " 'Intern_19',\n",
       " 'Intern_21',\n",
       " 'Intern_22',\n",
       " 'Intern_23']"
      ]
     },
     "execution_count": 69,
     "metadata": {},
     "output_type": "execute_result"
    }
   ],
   "source": [
    "list(raw_data.keys())#[:16]"
   ]
  },
  {
   "cell_type": "code",
   "execution_count": 68,
   "metadata": {},
   "outputs": [
    {
     "data": {
      "text/plain": [
       "24"
      ]
     },
     "execution_count": 68,
     "metadata": {},
     "output_type": "execute_result"
    }
   ],
   "source": [
    "len(list(raw_data.keys()))"
   ]
  },
  {
   "cell_type": "code",
   "execution_count": 89,
   "metadata": {},
   "outputs": [],
   "source": [
    "def reshape_temporal_landmarks(data:dict, ex_id:str, ws:int, overlap:float):\n",
    "    start_id = 0\n",
    "    all_df, y = pd.DataFrame(), []\n",
    "    for subject_id in tqdm(list(data.keys())[:16]):\n",
    "        print(subject_id)\n",
    "        label = 1 if subject_id.startswith('C') else 0\n",
    "        try:\n",
    "            data_win = make_window(data[subject_id][ex_id], ws, overlap)\n",
    "            for win_idx in range(data_win.shape[0]):\n",
    "                df = pd.DataFrame(data_win[win_idx,:,:], columns=['feat_' + str(idx) for idx in range(63)])\n",
    "                df['time'] = [i for i in range(1,len(df)+1)]\n",
    "                df['id'] = [(start_id + win_idx) for _ in range(len(df))]\n",
    "                all_df = pd.concat([all_df, df])\n",
    "                y.append(label)\n",
    "            start_id += (win_idx+1)\n",
    "        except:\n",
    "            pass\n",
    "    return all_df, np.array(y)"
   ]
  },
  {
   "cell_type": "code",
   "execution_count": 90,
   "metadata": {},
   "outputs": [
    {
     "name": "stderr",
     "output_type": "stream",
     "text": [
      " 25%|██▌       | 4/16 [00:00<00:00, 32.25it/s]"
     ]
    },
    {
     "name": "stdout",
     "output_type": "stream",
     "text": [
      "Chir_01\n",
      "Chir_03\n",
      "Chir_04\n",
      "Chir_05\n",
      "Intern_02\n",
      "Intern_03\n"
     ]
    },
    {
     "name": "stderr",
     "output_type": "stream",
     "text": [
      " 50%|█████     | 8/16 [00:00<00:00, 26.53it/s]"
     ]
    },
    {
     "name": "stdout",
     "output_type": "stream",
     "text": [
      "Intern_04\n",
      "Intern_05\n",
      "Intern_06\n",
      "Intern_07\n",
      "Intern_08\n"
     ]
    },
    {
     "name": "stderr",
     "output_type": "stream",
     "text": [
      " 69%|██████▉   | 11/16 [00:00<00:00, 23.91it/s]"
     ]
    },
    {
     "name": "stdout",
     "output_type": "stream",
     "text": [
      "Intern_09\n",
      "Intern_10\n",
      "Intern_11\n"
     ]
    },
    {
     "name": "stderr",
     "output_type": "stream",
     "text": [
      " 88%|████████▊ | 14/16 [00:00<00:00, 18.16it/s]"
     ]
    },
    {
     "name": "stdout",
     "output_type": "stream",
     "text": [
      "Intern_12\n",
      "Intern_13\n"
     ]
    },
    {
     "name": "stderr",
     "output_type": "stream",
     "text": [
      "100%|██████████| 16/16 [00:00<00:00, 17.16it/s]\n"
     ]
    }
   ],
   "source": [
    "all_df, y = reshape_temporal_landmarks(raw_data, 'ex2', 300, 0)"
   ]
  },
  {
   "cell_type": "code",
   "execution_count": 91,
   "metadata": {},
   "outputs": [
    {
     "data": {
      "text/plain": [
       "((81000, 65), (270,))"
      ]
     },
     "execution_count": 91,
     "metadata": {},
     "output_type": "execute_result"
    }
   ],
   "source": [
    "all_df.shape, y.shape"
   ]
  },
  {
   "cell_type": "code",
   "execution_count": 92,
   "metadata": {},
   "outputs": [
    {
     "data": {
      "text/html": [
       "<div>\n",
       "<style scoped>\n",
       "    .dataframe tbody tr th:only-of-type {\n",
       "        vertical-align: middle;\n",
       "    }\n",
       "\n",
       "    .dataframe tbody tr th {\n",
       "        vertical-align: top;\n",
       "    }\n",
       "\n",
       "    .dataframe thead th {\n",
       "        text-align: right;\n",
       "    }\n",
       "</style>\n",
       "<table border=\"1\" class=\"dataframe\">\n",
       "  <thead>\n",
       "    <tr style=\"text-align: right;\">\n",
       "      <th></th>\n",
       "      <th>feat_0</th>\n",
       "      <th>feat_1</th>\n",
       "      <th>feat_2</th>\n",
       "      <th>feat_3</th>\n",
       "      <th>feat_4</th>\n",
       "      <th>feat_5</th>\n",
       "      <th>feat_6</th>\n",
       "      <th>feat_7</th>\n",
       "      <th>feat_8</th>\n",
       "      <th>feat_9</th>\n",
       "      <th>...</th>\n",
       "      <th>feat_55</th>\n",
       "      <th>feat_56</th>\n",
       "      <th>feat_57</th>\n",
       "      <th>feat_58</th>\n",
       "      <th>feat_59</th>\n",
       "      <th>feat_60</th>\n",
       "      <th>feat_61</th>\n",
       "      <th>feat_62</th>\n",
       "      <th>time</th>\n",
       "      <th>id</th>\n",
       "    </tr>\n",
       "  </thead>\n",
       "  <tbody>\n",
       "    <tr>\n",
       "      <th>0</th>\n",
       "      <td>0.000000</td>\n",
       "      <td>0.000000</td>\n",
       "      <td>0.000000e+00</td>\n",
       "      <td>0.045132</td>\n",
       "      <td>-0.005488</td>\n",
       "      <td>0.013965</td>\n",
       "      <td>0.080902</td>\n",
       "      <td>-0.000293</td>\n",
       "      <td>0.013731</td>\n",
       "      <td>0.102230</td>\n",
       "      <td>...</td>\n",
       "      <td>0.051716</td>\n",
       "      <td>-0.033197</td>\n",
       "      <td>0.083343</td>\n",
       "      <td>0.054235</td>\n",
       "      <td>-0.018410</td>\n",
       "      <td>0.075226</td>\n",
       "      <td>0.051311</td>\n",
       "      <td>-0.003629</td>\n",
       "      <td>1</td>\n",
       "      <td>0</td>\n",
       "    </tr>\n",
       "    <tr>\n",
       "      <th>1</th>\n",
       "      <td>0.341097</td>\n",
       "      <td>0.482260</td>\n",
       "      <td>1.160808e-07</td>\n",
       "      <td>0.386231</td>\n",
       "      <td>0.476854</td>\n",
       "      <td>0.013634</td>\n",
       "      <td>0.422258</td>\n",
       "      <td>0.482156</td>\n",
       "      <td>0.013251</td>\n",
       "      <td>0.443869</td>\n",
       "      <td>...</td>\n",
       "      <td>0.533569</td>\n",
       "      <td>-0.034260</td>\n",
       "      <td>0.424959</td>\n",
       "      <td>0.535639</td>\n",
       "      <td>-0.019661</td>\n",
       "      <td>0.416924</td>\n",
       "      <td>0.532511</td>\n",
       "      <td>-0.005024</td>\n",
       "      <td>2</td>\n",
       "      <td>0</td>\n",
       "    </tr>\n",
       "    <tr>\n",
       "      <th>2</th>\n",
       "      <td>0.142373</td>\n",
       "      <td>0.462454</td>\n",
       "      <td>1.797099e-07</td>\n",
       "      <td>0.175935</td>\n",
       "      <td>0.456277</td>\n",
       "      <td>0.000703</td>\n",
       "      <td>0.212183</td>\n",
       "      <td>0.461059</td>\n",
       "      <td>-0.004905</td>\n",
       "      <td>0.235571</td>\n",
       "      <td>...</td>\n",
       "      <td>0.511893</td>\n",
       "      <td>-0.035350</td>\n",
       "      <td>0.212880</td>\n",
       "      <td>0.513820</td>\n",
       "      <td>-0.027894</td>\n",
       "      <td>0.218572</td>\n",
       "      <td>0.510433</td>\n",
       "      <td>-0.020706</td>\n",
       "      <td>3</td>\n",
       "      <td>0</td>\n",
       "    </tr>\n",
       "    <tr>\n",
       "      <th>3</th>\n",
       "      <td>0.140336</td>\n",
       "      <td>0.460639</td>\n",
       "      <td>3.247610e-07</td>\n",
       "      <td>0.177676</td>\n",
       "      <td>0.455315</td>\n",
       "      <td>0.002186</td>\n",
       "      <td>0.213493</td>\n",
       "      <td>0.461221</td>\n",
       "      <td>-0.003543</td>\n",
       "      <td>0.236771</td>\n",
       "      <td>...</td>\n",
       "      <td>0.510568</td>\n",
       "      <td>-0.035087</td>\n",
       "      <td>0.211823</td>\n",
       "      <td>0.512783</td>\n",
       "      <td>-0.025741</td>\n",
       "      <td>0.216675</td>\n",
       "      <td>0.510467</td>\n",
       "      <td>-0.017669</td>\n",
       "      <td>4</td>\n",
       "      <td>0</td>\n",
       "    </tr>\n",
       "    <tr>\n",
       "      <th>4</th>\n",
       "      <td>0.140051</td>\n",
       "      <td>0.460697</td>\n",
       "      <td>3.233133e-07</td>\n",
       "      <td>0.177617</td>\n",
       "      <td>0.455348</td>\n",
       "      <td>0.001828</td>\n",
       "      <td>0.213412</td>\n",
       "      <td>0.461075</td>\n",
       "      <td>-0.004040</td>\n",
       "      <td>0.236531</td>\n",
       "      <td>...</td>\n",
       "      <td>0.510675</td>\n",
       "      <td>-0.033335</td>\n",
       "      <td>0.212062</td>\n",
       "      <td>0.512874</td>\n",
       "      <td>-0.023713</td>\n",
       "      <td>0.217424</td>\n",
       "      <td>0.510561</td>\n",
       "      <td>-0.015497</td>\n",
       "      <td>5</td>\n",
       "      <td>0</td>\n",
       "    </tr>\n",
       "    <tr>\n",
       "      <th>...</th>\n",
       "      <td>...</td>\n",
       "      <td>...</td>\n",
       "      <td>...</td>\n",
       "      <td>...</td>\n",
       "      <td>...</td>\n",
       "      <td>...</td>\n",
       "      <td>...</td>\n",
       "      <td>...</td>\n",
       "      <td>...</td>\n",
       "      <td>...</td>\n",
       "      <td>...</td>\n",
       "      <td>...</td>\n",
       "      <td>...</td>\n",
       "      <td>...</td>\n",
       "      <td>...</td>\n",
       "      <td>...</td>\n",
       "      <td>...</td>\n",
       "      <td>...</td>\n",
       "      <td>...</td>\n",
       "      <td>...</td>\n",
       "      <td>...</td>\n",
       "    </tr>\n",
       "    <tr>\n",
       "      <th>295</th>\n",
       "      <td>0.192260</td>\n",
       "      <td>0.490726</td>\n",
       "      <td>4.813634e-08</td>\n",
       "      <td>0.227720</td>\n",
       "      <td>0.490355</td>\n",
       "      <td>-0.005709</td>\n",
       "      <td>0.264567</td>\n",
       "      <td>0.493852</td>\n",
       "      <td>-0.006257</td>\n",
       "      <td>0.290772</td>\n",
       "      <td>...</td>\n",
       "      <td>0.504900</td>\n",
       "      <td>0.006445</td>\n",
       "      <td>0.299848</td>\n",
       "      <td>0.503581</td>\n",
       "      <td>0.012227</td>\n",
       "      <td>0.305049</td>\n",
       "      <td>0.501832</td>\n",
       "      <td>0.016824</td>\n",
       "      <td>296</td>\n",
       "      <td>269</td>\n",
       "    </tr>\n",
       "    <tr>\n",
       "      <th>296</th>\n",
       "      <td>0.199009</td>\n",
       "      <td>0.492124</td>\n",
       "      <td>4.593207e-08</td>\n",
       "      <td>0.230971</td>\n",
       "      <td>0.489819</td>\n",
       "      <td>-0.004815</td>\n",
       "      <td>0.265222</td>\n",
       "      <td>0.490576</td>\n",
       "      <td>-0.006299</td>\n",
       "      <td>0.291107</td>\n",
       "      <td>...</td>\n",
       "      <td>0.508865</td>\n",
       "      <td>-0.000560</td>\n",
       "      <td>0.297445</td>\n",
       "      <td>0.506564</td>\n",
       "      <td>0.003791</td>\n",
       "      <td>0.297707</td>\n",
       "      <td>0.504447</td>\n",
       "      <td>0.007309</td>\n",
       "      <td>297</td>\n",
       "      <td>269</td>\n",
       "    </tr>\n",
       "    <tr>\n",
       "      <th>297</th>\n",
       "      <td>0.199222</td>\n",
       "      <td>0.493813</td>\n",
       "      <td>7.473941e-10</td>\n",
       "      <td>0.233727</td>\n",
       "      <td>0.484288</td>\n",
       "      <td>-0.004743</td>\n",
       "      <td>0.268636</td>\n",
       "      <td>0.485019</td>\n",
       "      <td>-0.005532</td>\n",
       "      <td>0.292582</td>\n",
       "      <td>...</td>\n",
       "      <td>0.520337</td>\n",
       "      <td>0.001303</td>\n",
       "      <td>0.297118</td>\n",
       "      <td>0.513438</td>\n",
       "      <td>0.006669</td>\n",
       "      <td>0.297583</td>\n",
       "      <td>0.508700</td>\n",
       "      <td>0.011238</td>\n",
       "      <td>298</td>\n",
       "      <td>269</td>\n",
       "    </tr>\n",
       "    <tr>\n",
       "      <th>298</th>\n",
       "      <td>0.196433</td>\n",
       "      <td>0.494444</td>\n",
       "      <td>-7.417771e-08</td>\n",
       "      <td>0.234847</td>\n",
       "      <td>0.482687</td>\n",
       "      <td>-0.006016</td>\n",
       "      <td>0.272388</td>\n",
       "      <td>0.481969</td>\n",
       "      <td>-0.005945</td>\n",
       "      <td>0.296240</td>\n",
       "      <td>...</td>\n",
       "      <td>0.520565</td>\n",
       "      <td>0.001163</td>\n",
       "      <td>0.296733</td>\n",
       "      <td>0.512557</td>\n",
       "      <td>0.005165</td>\n",
       "      <td>0.294620</td>\n",
       "      <td>0.506465</td>\n",
       "      <td>0.008735</td>\n",
       "      <td>299</td>\n",
       "      <td>269</td>\n",
       "    </tr>\n",
       "    <tr>\n",
       "      <th>299</th>\n",
       "      <td>0.195846</td>\n",
       "      <td>0.494343</td>\n",
       "      <td>-7.620653e-08</td>\n",
       "      <td>0.232892</td>\n",
       "      <td>0.482417</td>\n",
       "      <td>-0.005689</td>\n",
       "      <td>0.270596</td>\n",
       "      <td>0.483048</td>\n",
       "      <td>-0.005727</td>\n",
       "      <td>0.294226</td>\n",
       "      <td>...</td>\n",
       "      <td>0.520764</td>\n",
       "      <td>0.001984</td>\n",
       "      <td>0.296719</td>\n",
       "      <td>0.512728</td>\n",
       "      <td>0.007034</td>\n",
       "      <td>0.295916</td>\n",
       "      <td>0.506804</td>\n",
       "      <td>0.011311</td>\n",
       "      <td>300</td>\n",
       "      <td>269</td>\n",
       "    </tr>\n",
       "  </tbody>\n",
       "</table>\n",
       "<p>81000 rows × 65 columns</p>\n",
       "</div>"
      ],
      "text/plain": [
       "       feat_0    feat_1        feat_2    feat_3    feat_4    feat_5    feat_6  \\\n",
       "0    0.000000  0.000000  0.000000e+00  0.045132 -0.005488  0.013965  0.080902   \n",
       "1    0.341097  0.482260  1.160808e-07  0.386231  0.476854  0.013634  0.422258   \n",
       "2    0.142373  0.462454  1.797099e-07  0.175935  0.456277  0.000703  0.212183   \n",
       "3    0.140336  0.460639  3.247610e-07  0.177676  0.455315  0.002186  0.213493   \n",
       "4    0.140051  0.460697  3.233133e-07  0.177617  0.455348  0.001828  0.213412   \n",
       "..        ...       ...           ...       ...       ...       ...       ...   \n",
       "295  0.192260  0.490726  4.813634e-08  0.227720  0.490355 -0.005709  0.264567   \n",
       "296  0.199009  0.492124  4.593207e-08  0.230971  0.489819 -0.004815  0.265222   \n",
       "297  0.199222  0.493813  7.473941e-10  0.233727  0.484288 -0.004743  0.268636   \n",
       "298  0.196433  0.494444 -7.417771e-08  0.234847  0.482687 -0.006016  0.272388   \n",
       "299  0.195846  0.494343 -7.620653e-08  0.232892  0.482417 -0.005689  0.270596   \n",
       "\n",
       "       feat_7    feat_8    feat_9  ...   feat_55   feat_56   feat_57  \\\n",
       "0   -0.000293  0.013731  0.102230  ...  0.051716 -0.033197  0.083343   \n",
       "1    0.482156  0.013251  0.443869  ...  0.533569 -0.034260  0.424959   \n",
       "2    0.461059 -0.004905  0.235571  ...  0.511893 -0.035350  0.212880   \n",
       "3    0.461221 -0.003543  0.236771  ...  0.510568 -0.035087  0.211823   \n",
       "4    0.461075 -0.004040  0.236531  ...  0.510675 -0.033335  0.212062   \n",
       "..        ...       ...       ...  ...       ...       ...       ...   \n",
       "295  0.493852 -0.006257  0.290772  ...  0.504900  0.006445  0.299848   \n",
       "296  0.490576 -0.006299  0.291107  ...  0.508865 -0.000560  0.297445   \n",
       "297  0.485019 -0.005532  0.292582  ...  0.520337  0.001303  0.297118   \n",
       "298  0.481969 -0.005945  0.296240  ...  0.520565  0.001163  0.296733   \n",
       "299  0.483048 -0.005727  0.294226  ...  0.520764  0.001984  0.296719   \n",
       "\n",
       "      feat_58   feat_59   feat_60   feat_61   feat_62  time   id  \n",
       "0    0.054235 -0.018410  0.075226  0.051311 -0.003629     1    0  \n",
       "1    0.535639 -0.019661  0.416924  0.532511 -0.005024     2    0  \n",
       "2    0.513820 -0.027894  0.218572  0.510433 -0.020706     3    0  \n",
       "3    0.512783 -0.025741  0.216675  0.510467 -0.017669     4    0  \n",
       "4    0.512874 -0.023713  0.217424  0.510561 -0.015497     5    0  \n",
       "..        ...       ...       ...       ...       ...   ...  ...  \n",
       "295  0.503581  0.012227  0.305049  0.501832  0.016824   296  269  \n",
       "296  0.506564  0.003791  0.297707  0.504447  0.007309   297  269  \n",
       "297  0.513438  0.006669  0.297583  0.508700  0.011238   298  269  \n",
       "298  0.512557  0.005165  0.294620  0.506465  0.008735   299  269  \n",
       "299  0.512728  0.007034  0.295916  0.506804  0.011311   300  269  \n",
       "\n",
       "[81000 rows x 65 columns]"
      ]
     },
     "execution_count": 92,
     "metadata": {},
     "output_type": "execute_result"
    }
   ],
   "source": [
    "all_df"
   ]
  },
  {
   "cell_type": "code",
   "execution_count": null,
   "metadata": {},
   "outputs": [],
   "source": []
  },
  {
   "cell_type": "code",
   "execution_count": null,
   "metadata": {},
   "outputs": [],
   "source": []
  },
  {
   "cell_type": "code",
   "execution_count": 93,
   "metadata": {},
   "outputs": [
    {
     "name": "stderr",
     "output_type": "stream",
     "text": [
      "Feature Extraction: 100%|██████████| 50/50 [00:01<00:00, 41.30it/s]\n"
     ]
    }
   ],
   "source": [
    "extraction_settings = ComprehensiveFCParameters()\n",
    "\n",
    "# MinimalFCParameters, EfficientFCParameters\n",
    "\n",
    "X = extract_features(all_df, column_id='id', column_sort='time',\n",
    "                    default_fc_parameters=MinimalFCParameters(),\n",
    "                    impute_function=impute, n_jobs=10)\n",
    "\n",
    "X_filtered = select_features(X, y, n_jobs=10)"
   ]
  },
  {
   "cell_type": "code",
   "execution_count": 94,
   "metadata": {},
   "outputs": [
    {
     "data": {
      "text/plain": [
       "((270, 630), (270, 387))"
      ]
     },
     "execution_count": 94,
     "metadata": {},
     "output_type": "execute_result"
    }
   ],
   "source": [
    "X.shape, X_filtered.shape"
   ]
  },
  {
   "cell_type": "code",
   "execution_count": 82,
   "metadata": {},
   "outputs": [],
   "source": [
    "var = sorted(list(X_filtered.columns))"
   ]
  },
  {
   "cell_type": "code",
   "execution_count": 83,
   "metadata": {},
   "outputs": [],
   "source": [
    "var.insert(0, len(var))"
   ]
  },
  {
   "cell_type": "code",
   "execution_count": 84,
   "metadata": {},
   "outputs": [
    {
     "data": {
      "text/plain": [
       "[236,\n",
       " 'feat_0__mean',\n",
       " 'feat_0__median',\n",
       " 'feat_0__minimum',\n",
       " 'feat_0__root_mean_square',\n",
       " 'feat_0__sum_values',\n",
       " 'feat_10__absolute_maximum',\n",
       " 'feat_10__maximum',\n",
       " 'feat_10__mean',\n",
       " 'feat_10__median',\n",
       " 'feat_10__minimum',\n",
       " 'feat_10__root_mean_square',\n",
       " 'feat_10__sum_values',\n",
       " 'feat_11__maximum',\n",
       " 'feat_12__mean',\n",
       " 'feat_12__median',\n",
       " 'feat_12__minimum',\n",
       " 'feat_12__root_mean_square',\n",
       " 'feat_12__sum_values',\n",
       " 'feat_13__absolute_maximum',\n",
       " 'feat_13__maximum',\n",
       " 'feat_13__mean',\n",
       " 'feat_13__median',\n",
       " 'feat_13__minimum',\n",
       " 'feat_13__root_mean_square',\n",
       " 'feat_13__sum_values',\n",
       " 'feat_15__mean',\n",
       " 'feat_15__median',\n",
       " 'feat_15__minimum',\n",
       " 'feat_15__root_mean_square',\n",
       " 'feat_15__sum_values',\n",
       " 'feat_16__mean',\n",
       " 'feat_16__median',\n",
       " 'feat_16__root_mean_square',\n",
       " 'feat_16__sum_values',\n",
       " 'feat_18__mean',\n",
       " 'feat_18__median',\n",
       " 'feat_18__minimum',\n",
       " 'feat_18__root_mean_square',\n",
       " 'feat_18__sum_values',\n",
       " 'feat_19__absolute_maximum',\n",
       " 'feat_19__maximum',\n",
       " 'feat_19__mean',\n",
       " 'feat_19__median',\n",
       " 'feat_19__root_mean_square',\n",
       " 'feat_19__sum_values',\n",
       " 'feat_21__mean',\n",
       " 'feat_21__median',\n",
       " 'feat_21__root_mean_square',\n",
       " 'feat_21__sum_values',\n",
       " 'feat_22__absolute_maximum',\n",
       " 'feat_22__maximum',\n",
       " 'feat_22__mean',\n",
       " 'feat_22__median',\n",
       " 'feat_22__minimum',\n",
       " 'feat_22__root_mean_square',\n",
       " 'feat_22__sum_values',\n",
       " 'feat_24__absolute_maximum',\n",
       " 'feat_24__maximum',\n",
       " 'feat_24__mean',\n",
       " 'feat_24__median',\n",
       " 'feat_24__root_mean_square',\n",
       " 'feat_24__sum_values',\n",
       " 'feat_25__absolute_maximum',\n",
       " 'feat_25__maximum',\n",
       " 'feat_25__mean',\n",
       " 'feat_25__median',\n",
       " 'feat_25__minimum',\n",
       " 'feat_25__root_mean_square',\n",
       " 'feat_25__sum_values',\n",
       " 'feat_27__mean',\n",
       " 'feat_27__median',\n",
       " 'feat_27__minimum',\n",
       " 'feat_27__root_mean_square',\n",
       " 'feat_27__sum_values',\n",
       " 'feat_2__maximum',\n",
       " 'feat_2__mean',\n",
       " 'feat_2__sum_values',\n",
       " 'feat_30__mean',\n",
       " 'feat_30__median',\n",
       " 'feat_30__minimum',\n",
       " 'feat_30__root_mean_square',\n",
       " 'feat_30__sum_values',\n",
       " 'feat_31__absolute_maximum',\n",
       " 'feat_31__maximum',\n",
       " 'feat_31__mean',\n",
       " 'feat_31__median',\n",
       " 'feat_31__root_mean_square',\n",
       " 'feat_31__sum_values',\n",
       " 'feat_33__mean',\n",
       " 'feat_33__median',\n",
       " 'feat_33__minimum',\n",
       " 'feat_33__root_mean_square',\n",
       " 'feat_33__sum_values',\n",
       " 'feat_34__absolute_maximum',\n",
       " 'feat_34__maximum',\n",
       " 'feat_34__mean',\n",
       " 'feat_34__median',\n",
       " 'feat_34__minimum',\n",
       " 'feat_34__root_mean_square',\n",
       " 'feat_34__sum_values',\n",
       " 'feat_36__mean',\n",
       " 'feat_36__median',\n",
       " 'feat_36__minimum',\n",
       " 'feat_36__root_mean_square',\n",
       " 'feat_36__sum_values',\n",
       " 'feat_37__absolute_maximum',\n",
       " 'feat_37__maximum',\n",
       " 'feat_37__mean',\n",
       " 'feat_37__median',\n",
       " 'feat_37__minimum',\n",
       " 'feat_37__root_mean_square',\n",
       " 'feat_37__sum_values',\n",
       " 'feat_39__mean',\n",
       " 'feat_39__median',\n",
       " 'feat_39__minimum',\n",
       " 'feat_39__root_mean_square',\n",
       " 'feat_39__sum_values',\n",
       " 'feat_3__mean',\n",
       " 'feat_3__median',\n",
       " 'feat_3__minimum',\n",
       " 'feat_3__root_mean_square',\n",
       " 'feat_3__sum_values',\n",
       " 'feat_42__absolute_maximum',\n",
       " 'feat_42__maximum',\n",
       " 'feat_42__mean',\n",
       " 'feat_42__median',\n",
       " 'feat_42__minimum',\n",
       " 'feat_42__root_mean_square',\n",
       " 'feat_42__sum_values',\n",
       " 'feat_43__absolute_maximum',\n",
       " 'feat_43__maximum',\n",
       " 'feat_43__mean',\n",
       " 'feat_43__median',\n",
       " 'feat_43__root_mean_square',\n",
       " 'feat_43__sum_values',\n",
       " 'feat_45__mean',\n",
       " 'feat_45__median',\n",
       " 'feat_45__minimum',\n",
       " 'feat_45__root_mean_square',\n",
       " 'feat_45__sum_values',\n",
       " 'feat_46__absolute_maximum',\n",
       " 'feat_46__maximum',\n",
       " 'feat_46__mean',\n",
       " 'feat_46__median',\n",
       " 'feat_46__minimum',\n",
       " 'feat_46__root_mean_square',\n",
       " 'feat_46__sum_values',\n",
       " 'feat_48__mean',\n",
       " 'feat_48__median',\n",
       " 'feat_48__minimum',\n",
       " 'feat_48__root_mean_square',\n",
       " 'feat_48__sum_values',\n",
       " 'feat_49__absolute_maximum',\n",
       " 'feat_49__maximum',\n",
       " 'feat_49__mean',\n",
       " 'feat_49__median',\n",
       " 'feat_49__minimum',\n",
       " 'feat_49__root_mean_square',\n",
       " 'feat_49__sum_values',\n",
       " 'feat_4__absolute_maximum',\n",
       " 'feat_4__maximum',\n",
       " 'feat_51__absolute_maximum',\n",
       " 'feat_51__maximum',\n",
       " 'feat_51__mean',\n",
       " 'feat_51__median',\n",
       " 'feat_51__minimum',\n",
       " 'feat_51__root_mean_square',\n",
       " 'feat_51__sum_values',\n",
       " 'feat_52__absolute_maximum',\n",
       " 'feat_52__maximum',\n",
       " 'feat_53__minimum',\n",
       " 'feat_53__root_mean_square',\n",
       " 'feat_54__absolute_maximum',\n",
       " 'feat_54__maximum',\n",
       " 'feat_54__mean',\n",
       " 'feat_54__median',\n",
       " 'feat_54__minimum',\n",
       " 'feat_54__root_mean_square',\n",
       " 'feat_54__sum_values',\n",
       " 'feat_55__absolute_maximum',\n",
       " 'feat_55__maximum',\n",
       " 'feat_55__mean',\n",
       " 'feat_55__median',\n",
       " 'feat_55__root_mean_square',\n",
       " 'feat_55__sum_values',\n",
       " 'feat_57__absolute_maximum',\n",
       " 'feat_57__maximum',\n",
       " 'feat_57__mean',\n",
       " 'feat_57__median',\n",
       " 'feat_57__minimum',\n",
       " 'feat_57__root_mean_square',\n",
       " 'feat_57__sum_values',\n",
       " 'feat_58__absolute_maximum',\n",
       " 'feat_58__maximum',\n",
       " 'feat_58__mean',\n",
       " 'feat_58__median',\n",
       " 'feat_58__root_mean_square',\n",
       " 'feat_58__sum_values',\n",
       " 'feat_59__mean',\n",
       " 'feat_59__minimum',\n",
       " 'feat_59__sum_values',\n",
       " 'feat_5__maximum',\n",
       " 'feat_60__absolute_maximum',\n",
       " 'feat_60__maximum',\n",
       " 'feat_60__mean',\n",
       " 'feat_60__median',\n",
       " 'feat_60__minimum',\n",
       " 'feat_60__root_mean_square',\n",
       " 'feat_60__sum_values',\n",
       " 'feat_61__absolute_maximum',\n",
       " 'feat_61__maximum',\n",
       " 'feat_61__mean',\n",
       " 'feat_61__median',\n",
       " 'feat_61__root_mean_square',\n",
       " 'feat_61__sum_values',\n",
       " 'feat_62__mean',\n",
       " 'feat_62__median',\n",
       " 'feat_62__minimum',\n",
       " 'feat_62__sum_values',\n",
       " 'feat_6__mean',\n",
       " 'feat_6__median',\n",
       " 'feat_6__minimum',\n",
       " 'feat_6__root_mean_square',\n",
       " 'feat_6__sum_values',\n",
       " 'feat_7__absolute_maximum',\n",
       " 'feat_7__maximum',\n",
       " 'feat_7__mean',\n",
       " 'feat_7__median',\n",
       " 'feat_7__root_mean_square',\n",
       " 'feat_7__sum_values',\n",
       " 'feat_8__maximum',\n",
       " 'feat_9__mean',\n",
       " 'feat_9__median',\n",
       " 'feat_9__minimum',\n",
       " 'feat_9__root_mean_square',\n",
       " 'feat_9__sum_values']"
      ]
     },
     "execution_count": 84,
     "metadata": {},
     "output_type": "execute_result"
    }
   ],
   "source": [
    "var"
   ]
  },
  {
   "cell_type": "code",
   "execution_count": 85,
   "metadata": {},
   "outputs": [
    {
     "name": "stdout",
     "output_type": "stream",
     "text": [
      "Done\n"
     ]
    }
   ],
   "source": [
    "# open file in write mode\n",
    "with open(r'sales.txt', 'w') as fp:\n",
    "    for item in var:\n",
    "        # write each item on a new line\n",
    "        fp.write(\"%s\\n\" % item)\n",
    "    print('Done')"
   ]
  },
  {
   "cell_type": "code",
   "execution_count": null,
   "metadata": {},
   "outputs": [],
   "source": []
  },
  {
   "cell_type": "code",
   "execution_count": null,
   "metadata": {},
   "outputs": [],
   "source": []
  },
  {
   "cell_type": "code",
   "execution_count": null,
   "metadata": {},
   "outputs": [],
   "source": []
  },
  {
   "cell_type": "code",
   "execution_count": null,
   "metadata": {},
   "outputs": [],
   "source": []
  },
  {
   "cell_type": "code",
   "execution_count": 95,
   "metadata": {},
   "outputs": [
    {
     "data": {
      "application/vnd.plotly.v1+json": {
       "config": {
        "plotlyServerURL": "https://plot.ly"
       },
       "data": [
        {
         "marker": {
          "color": [
           1,
           1,
           1,
           1,
           1,
           1,
           1,
           1,
           1,
           1,
           1,
           1,
           1,
           1,
           1,
           1,
           1,
           1,
           1,
           1,
           1,
           1,
           1,
           1,
           1,
           1,
           1,
           1,
           1,
           1,
           1,
           1,
           1,
           1,
           1,
           1,
           1,
           1,
           1,
           1,
           1,
           1,
           1,
           1,
           1,
           1,
           1,
           1,
           1,
           1,
           1,
           1,
           1,
           1,
           1,
           1,
           1,
           1,
           1,
           1,
           1,
           1,
           1,
           1,
           1,
           1,
           1,
           1,
           1,
           1,
           1,
           1,
           1,
           1,
           1,
           1,
           1,
           0,
           0,
           0,
           0,
           0,
           0,
           0,
           0,
           0,
           0,
           0,
           0,
           0,
           0,
           0,
           0,
           0,
           0,
           0,
           0,
           0,
           0,
           0,
           0,
           0,
           0,
           0,
           0,
           0,
           0,
           0,
           0,
           0,
           0,
           0,
           0,
           0,
           0,
           0,
           0,
           0,
           0,
           0,
           0,
           0,
           0,
           0,
           0,
           0,
           0,
           0,
           0,
           0,
           0,
           0,
           0,
           0,
           0,
           0,
           0,
           0,
           0,
           0,
           0,
           0,
           0,
           0,
           0,
           0,
           0,
           0,
           0,
           0,
           0,
           0,
           0,
           0,
           0,
           0,
           0,
           0,
           0,
           0,
           0,
           0,
           0,
           0,
           0,
           0,
           0,
           0,
           0,
           0,
           0,
           0,
           0,
           0,
           0,
           0,
           0,
           0,
           0,
           0,
           0,
           0,
           0,
           0,
           0,
           0,
           0,
           0,
           0,
           0,
           0,
           0,
           0,
           0,
           0,
           0,
           0,
           0,
           0,
           0,
           0,
           0,
           0,
           0,
           0,
           0,
           0,
           0,
           0,
           0,
           0,
           0,
           0,
           0,
           0,
           0,
           0,
           0,
           0,
           0,
           0,
           0,
           0,
           0,
           0,
           0,
           0,
           0,
           0,
           0,
           0,
           0,
           0,
           0,
           0,
           0,
           0,
           0,
           0,
           0,
           0,
           0,
           0,
           0,
           0,
           0,
           0,
           0,
           0,
           0,
           0,
           0,
           0,
           0,
           0,
           0,
           0,
           0,
           0,
           0,
           0,
           0,
           0,
           0,
           0,
           0,
           0,
           0,
           0,
           0
          ],
          "colorscale": [
           [
            0,
            "#0508b8"
           ],
           [
            0.08333333333333333,
            "#1910d8"
           ],
           [
            0.16666666666666666,
            "#3c19f0"
           ],
           [
            0.25,
            "#6b1cfb"
           ],
           [
            0.3333333333333333,
            "#981cfd"
           ],
           [
            0.4166666666666667,
            "#bf1cfd"
           ],
           [
            0.5,
            "#dd2bfd"
           ],
           [
            0.5833333333333334,
            "#f246fe"
           ],
           [
            0.6666666666666666,
            "#fc67fd"
           ],
           [
            0.75,
            "#fe88fc"
           ],
           [
            0.8333333333333334,
            "#fea5fd"
           ],
           [
            0.9166666666666666,
            "#febefe"
           ],
           [
            1,
            "#fec3fe"
           ]
          ],
          "line": {
           "width": 1
          },
          "opacity": 1,
          "size": 5
         },
         "mode": "markers",
         "type": "scatter3d",
         "x": [
          -6.0121317204245655,
          -8.678918641661621,
          -3.6410403395120894,
          -9.682053241233813,
          -9.66737859044009,
          -5.115402480554271,
          -2.528525806782425,
          -9.481883628883997,
          -5.846616923605558,
          -5.333252842100284,
          -4.100674844551495,
          -6.606938942862759,
          -8.711398488365814,
          -6.634077936847782,
          -7.603220609523739,
          -7.656159132929267,
          -7.047037717251981,
          -9.487767402710146,
          -14.824876262391097,
          -18.746517915881345,
          -13.612796267314346,
          -7.156263808149876,
          -10.496278344714018,
          -13.991416025290157,
          -11.037810274084942,
          -16.798576441915507,
          -8.854306562778373,
          -5.781654164308104,
          -4.863893917658048,
          -8.537226711067081,
          -9.655989251603424,
          -11.943747624310742,
          -10.228269174954987,
          -6.260227253241039,
          -10.770687610178959,
          -5.05638866606535,
          -4.275856527534554,
          -3.338290529683081,
          -3.939227539769648,
          -4.813072376793527,
          -5.631037920891563,
          -6.322019737342438,
          -6.513110453179826,
          -4.933181142482269,
          -3.4522443701294687,
          -2.002606568185373,
          -4.255704913067053,
          -5.6650627018713235,
          -8.777021436046029,
          -8.061638365663297,
          -6.598050540761578,
          1.3442504068732444,
          -13.26085408094963,
          -12.465005292715093,
          -13.114376707598028,
          -15.33757859829273,
          -15.524439281334253,
          -15.318306692972588,
          -15.026335718450039,
          -15.709109500697934,
          -10.797416604037108,
          -7.171338060049056,
          -8.820795299041098,
          -9.674419346668103,
          -8.590044133139079,
          -7.042616161471014,
          -16.992612004877813,
          -7.921985511520337,
          -9.568259768971645,
          -4.595354628908265,
          -8.781159611403597,
          15.326241758935828,
          17.986966995581056,
          -4.511265647586604,
          -14.375474000505564,
          -12.358980626163818,
          -7.936422674123931,
          -4.752971196221717,
          -6.657431436287148,
          -9.023304602481561,
          -10.982527663486401,
          -11.861532846947672,
          -10.669139840017253,
          -11.844687761140285,
          -9.215123759359551,
          -7.059391064782879,
          -8.664734080356855,
          -8.98877265677446,
          -10.203739514212975,
          -7.952077344955432,
          -9.609894446253195,
          -12.383501238515333,
          -9.853993445838407,
          5.157224599189961,
          15.09290621178234,
          7.715509073134239,
          7.300718982126183,
          11.607012274277082,
          6.905516881523198,
          5.949907962347797,
          4.31977733427795,
          3.2929124853107896,
          1.6634297619944598,
          0.851573897676806,
          3.3649000350320164,
          5.101245387780442,
          2.328024658456097,
          0.955002087603511,
          -0.2954489286869345,
          0.4543293508000467,
          -0.6429769589091179,
          2.1329783051985767,
          -0.4026272217115295,
          0.014832607182713705,
          0.38646051460622444,
          -3.225210670991287,
          -2.8044916773361765,
          -4.446021248951845,
          -5.417874810373834,
          -6.092262201079952,
          -3.6771425919916565,
          -2.539095923549122,
          -2.885939050537104,
          -3.8932396150255624,
          -3.8552459080014057,
          -4.52481104010333,
          -4.75543578643379,
          -4.52393674415207,
          -4.6242306952635985,
          -5.250436071489003,
          -5.754321851294228,
          -8.371824182769066,
          -9.853204421589188,
          -11.992003587332752,
          -7.967551528292801,
          -8.327075446169358,
          -10.183848266144503,
          -12.39989237017056,
          -13.923004352985858,
          -13.251797059329817,
          -6.095860978936714,
          -2.405879222825385,
          -13.651164705772489,
          -12.805018237272828,
          -14.142756272327798,
          -17.02779111981813,
          -11.811647662590275,
          -14.106405087711927,
          -17.37189634478486,
          -15.57485745858482,
          -19.046878574813864,
          -18.95545538990953,
          -18.883959846005,
          -7.817671412826465,
          -10.784050244135154,
          -10.342890264072377,
          -13.971046979174591,
          -14.540735394387639,
          -18.07598705181058,
          -16.24446932934237,
          -17.274958419881283,
          23.43972640639595,
          7.6632200898985685,
          6.318765382794265,
          9.572824905457281,
          15.724790406449317,
          12.62379633695585,
          15.791461598367306,
          13.574268529630622,
          12.484243277356066,
          10.191664256155264,
          6.661803425890563,
          6.2771582276631674,
          5.663767564385755,
          6.912750854240118,
          10.675649348312167,
          5.805728953930655,
          14.769215756805925,
          19.869479366875034,
          15.394372042480404,
          9.5939619082328,
          8.272285492533806,
          9.728256305853106,
          4.285100840748542,
          3.035641067188483,
          -36.43593135858027,
          3.016810301078701,
          34.76056687985881,
          39.09447551193316,
          35.22777825307233,
          32.77399963374035,
          32.33609943558604,
          29.404654857376656,
          29.152403605252182,
          28.507484377893952,
          26.86911079275484,
          30.173106783938156,
          32.47345631171929,
          28.064873991121253,
          20.21346463604271,
          33.07407933493706,
          32.43017006665799,
          30.722295506530536,
          29.431857700060668,
          29.201901449901335,
          26.255127913650433,
          26.116996120444096,
          33.00197940902135,
          27.016573883143664,
          27.82782349685356,
          7.94638331306785,
          5.403535846823169,
          5.4866678453878475,
          7.7055245840987014,
          10.62450414414589,
          11.966934383081849,
          12.070258151371853,
          11.364442239598384,
          9.98943331784351,
          8.233983969852403,
          6.739512010463841,
          5.682284811721282,
          5.140213653169427,
          6.65412808309229,
          5.741454654505022,
          5.712392330978716,
          9.550789727410718,
          5.3186660518045485,
          4.409907676875376,
          4.475677522455416,
          6.576385857608052,
          7.491781775972616,
          8.239277079011412,
          7.233877463445209,
          5.357396568428547,
          4.838206432507223,
          4.752225326689863,
          4.921231548992534,
          5.22946687483976,
          6.66426047805752,
          7.8732768323166855,
          8.7127430228824,
          8.187892592811586,
          8.401502168024647,
          15.008412614781403,
          8.11068836143475,
          6.549314472182108,
          4.110869379768332,
          4.46702696522089,
          4.258495989379247,
          5.590120585466806,
          4.8462424083854,
          3.8167504025778767,
          2.9887014039097446,
          3.3776853451997604,
          4.695613935423486,
          12.255667639469129,
          -1.2315290802465824,
          -5.402438670971873,
          -5.531901110540651,
          -4.231061541715114,
          -8.600153117232065,
          -9.569845322412073,
          -8.966347844519264,
          -8.921626902453264,
          -8.026615695979695,
          -20.127647756829703,
          -8.190495245666455,
          -9.363143265572697,
          -8.442981352368054
         ],
         "y": [
          4.578138588518138,
          -4.186234150250827,
          9.853529383094397,
          -4.58650297515921,
          -1.4149814234000762,
          -1.2527835108897976,
          10.267248781034434,
          -1.3171499752435505,
          1.166347962523769,
          -3.152635266542388,
          -2.5575713849767996,
          -0.205624460402812,
          -4.1458480660367965,
          0.2966272957070589,
          -0.2934966421968011,
          -3.328726608751994,
          -1.652116171706953,
          -2.0687388813219028,
          -1.7986931845055392,
          -0.4982559856951312,
          -1.9174105767064995,
          -2.9696023981268094,
          0.0782945546178699,
          2.3278113786004475,
          1.9056910052701785,
          0.3282361054335122,
          3.7686476940042692,
          -0.73739865687862,
          -2.2905835740809763,
          0.000922670016907377,
          -1.443241556721173,
          -2.1926888106054374,
          3.7084949370109315,
          -0.33841431923013154,
          5.676059441860203,
          -3.2496088751416505,
          -7.862650314708007,
          -8.477857888480722,
          -7.6005730345355484,
          -7.572061049393193,
          -7.55318263629902,
          -6.809274759033442,
          -6.015239408395513,
          -3.8340712038096405,
          -2.650122724080541,
          -9.756140989591294,
          -7.875571000934832,
          -7.167975148747048,
          -5.140326675572459,
          -4.8755023757131735,
          -2.1466773946973112,
          -0.8459857977945276,
          2.8800901706470983,
          -1.295721621356122,
          0.5618740272050888,
          2.119450647475755,
          2.6772955051728338,
          1.6981539458032382,
          1.3102489535167237,
          0.3630169008987788,
          8.895794504013832,
          4.848548354844682,
          2.2168847285749793,
          -2.484466234748596,
          -1.609270071695296,
          15.10945450405475,
          2.2182647010895047,
          13.179809947840088,
          -0.7317500685476124,
          10.515968534086875,
          1.5844341834617683,
          34.75456132653872,
          29.181217078452615,
          26.96071825816128,
          6.043732360257594,
          3.6347558480870483,
          8.894463743090736,
          14.060163438644352,
          -2.73670577445955,
          -1.2648535431314942,
          -0.19607071401905937,
          0.8238355390922846,
          1.8636407544968037,
          2.921838959557518,
          1.3401137206512392,
          2.9923246537218935,
          -1.5097336873337535,
          -0.40405248119657194,
          0.8120456023316501,
          4.34643965529086,
          4.565427898976359,
          4.59915317468186,
          4.365581691885432,
          1.4817380970147545,
          18.324517982022858,
          -3.5693782577032906,
          -3.577132295469373,
          5.242664979195444,
          -4.5977356111648024,
          -4.7839945928532694,
          -4.714898641708483,
          -5.1760374691709385,
          -4.2038165683759114,
          -3.721930052300714,
          -2.688387502150529,
          1.1498470948228172,
          -2.242704273595676,
          -1.5418750575258786,
          -0.5561624611249736,
          -0.8725872534045472,
          -1.3130250077793069,
          -3.43705993945898,
          2.6566591298032924,
          0.9208510360138885,
          2.1692998115502773,
          -4.592425663448117,
          -7.336580614832107,
          -5.859250675866627,
          -6.645476699057044,
          -5.579378091616578,
          -10.146466097879216,
          -10.793274337385203,
          -10.471292619659366,
          -9.69788555950419,
          -8.645145345895727,
          -8.007480372458932,
          -7.439659341696826,
          -7.332917496192116,
          -7.14736006639898,
          -6.636775437923025,
          -4.614055160598511,
          -4.8741271825780625,
          -4.375429367618772,
          0.7053753050082363,
          -1.4235075661663958,
          -1.2301542029004469,
          -0.8475545661710193,
          -0.5750092431474693,
          0.3837714977413575,
          1.7339281888430504,
          0.7308470339573978,
          18.845577182747192,
          2.716018005753721,
          3.976023634838575,
          1.7033110110284249,
          -7.275956134031977,
          1.3441813850646618,
          -4.472823517777123,
          0.6779930863066642,
          9.070095856131413,
          -5.462697068713018,
          -1.7486399427555572,
          -2.6487534454224386,
          16.960971498553235,
          4.958179396118031,
          10.85928947843059,
          8.026391645858192,
          9.496234117675476,
          1.782899396785039,
          -4.0201897630373065,
          -1.4735919410038925,
          33.89079268493065,
          -7.661986960152995,
          -14.262972746246698,
          -10.715689968549192,
          -11.087344824113408,
          -8.330801758497989,
          -11.327135134215977,
          -8.601972328398313,
          -7.559355466490931,
          -5.950896427593909,
          -10.652942308419894,
          -10.06059285117473,
          -8.287589855354874,
          -6.644863128667749,
          4.0417480357275855,
          -6.944300790385144,
          -2.1701636926544334,
          -8.829019017363118,
          -6.315564140895649,
          -5.761710095889087,
          -6.315453313194103,
          -4.077630982976603,
          -2.5933909822274397,
          -6.374218045630523,
          70.6488808166309,
          -6.173844434060062,
          8.546116827364122,
          0.7736294821683342,
          -0.45925136269489464,
          0.48431070810817467,
          -1.8642853516711404,
          -1.9197064853049994,
          -1.7582980633983898,
          -1.340795011272362,
          0.5224090104298071,
          2.2857382459815856,
          4.468227618317679,
          12.275513602041576,
          37.21828175618042,
          -0.3701823958673028,
          0.4866168043891044,
          0.17299753380960342,
          -0.033489483262907495,
          0.509713258029961,
          2.183496075491864,
          5.760125970370321,
          10.39060637002977,
          0.9273060000579633,
          2.912286251273208,
          15.671538648581143,
          24.51073986689128,
          2.155377044502277,
          -2.108654144156287,
          -2.9330859443758297,
          -4.093462617938934,
          -3.935256790877925,
          -4.171049463136337,
          -3.5512278202086973,
          -3.2072935288120874,
          -2.054068209384928,
          -0.6794851920497417,
          1.7763253805474792,
          1.2151374830519721,
          -0.35303778322321383,
          0.9127218724275069,
          9.612570729295173,
          0.5438140788332863,
          1.0090638773034808,
          0.4535069247014406,
          -1.399881673528062,
          -3.1852357070939683,
          -3.889621977105158,
          -3.215089975893351,
          -2.763555942020539,
          -1.8498334808558374,
          5.410769865922112,
          -1.5554974282518539,
          -2.0748602826841607,
          -1.3885414119028856,
          -3.100141272039898,
          -3.645448127609374,
          -3.2985966588883717,
          -2.5837058614522737,
          14.082273269895902,
          -1.3743666977734819,
          -0.33717514055699677,
          -0.13817892099615597,
          1.3122871282343116,
          1.6049145181574793,
          -1.828054441448251,
          -1.8050532905646022,
          -1.238421663757894,
          -0.7079187692110432,
          -0.03354066170774514,
          -0.6405108865092165,
          10.449191518129828,
          4.936588605062293,
          -10.969867498779038,
          -9.539574356335242,
          -7.41757733234935,
          -2.3393403054778474,
          -5.922198806820825,
          -5.489487955790851,
          -4.732248818087265,
          -4.875535301661596,
          6.925523306423012,
          -8.088675311645162,
          -8.912784271763188,
          -7.035844441134319
         ],
         "z": [
          16.085715642526015,
          2.63329487365178,
          5.789312282660547,
          1.4491568387523137,
          4.367319650848685,
          5.758733861289562,
          9.830552494534171,
          5.918498477568005,
          7.430374336484701,
          7.002787907740268,
          4.7055099213034755,
          7.756820573501843,
          4.865208943563962,
          4.806098933959142,
          4.073938386191816,
          3.760129936144712,
          6.36975160332558,
          3.8295964493959707,
          0.9271050280882686,
          2.7027403802439136,
          6.621856954569114,
          2.380103256195044,
          3.4040162598867205,
          3.046359262632745,
          3.527717877638309,
          4.722827784158584,
          5.043449459041113,
          1.6434679760108926,
          2.389700538763195,
          3.4089497535518745,
          0.4937412814653017,
          0.5086063212798564,
          7.671422047427168,
          2.81911670229356,
          6.765045564304405,
          12.229057221143135,
          1.5108785908864653,
          1.2980700885389376,
          0.5946659676802566,
          1.0562918662248886,
          0.6650440842214109,
          -0.998804879112711,
          -2.7486479848978917,
          -1.8145950292185562,
          3.585579026511548,
          2.192568715276008,
          0.6826331143660833,
          -1.5135680722299283,
          -0.03519253505437414,
          -3.3981550591289875,
          3.9229968349649185,
          4.724988052608946,
          4.561469715321653,
          -7.982907853081727,
          -10.682600049841582,
          -13.27382560891355,
          -14.798292836327414,
          -13.915542819314808,
          -6.073487433671031,
          -7.242280673309097,
          -6.260566760533247,
          3.1092102099087575,
          -6.031292105257316,
          -6.1741689984702255,
          -6.077659329953621,
          -6.697133639102899,
          -15.478346214064448,
          -6.763689908056265,
          -8.720780235202131,
          -8.982692029277256,
          -10.06097105123324,
          -13.420561117618767,
          -20.52226896922709,
          -10.427733632578512,
          -12.98250368349067,
          -17.372402442590413,
          -9.364871773776544,
          15.412232584938135,
          -5.9518060190110855,
          -8.55507024586159,
          -10.678682069003033,
          -10.146015640144077,
          -10.956949053494167,
          -10.87490139640406,
          -8.761442880623802,
          -3.109994606787243,
          -6.610836239809969,
          -4.343841733571473,
          -6.2333229277181825,
          -6.949933690934709,
          -7.12088062858934,
          -7.739976627163088,
          -11.713375925361984,
          13.39367570684535,
          11.800497278343231,
          8.753421280137076,
          4.816003021536275,
          8.314186442315055,
          2.118243489619903,
          -1.883278370090842,
          -0.1819608612570219,
          -1.887705308422052,
          -2.6535044314979626,
          -2.0040264153769876,
          1.0137049317603752,
          1.979504559077254,
          -5.272107418356235,
          3.794186625188771,
          3.9670496385232585,
          -7.168252845280278,
          -5.111662073383189,
          -3.8097500285252663,
          -5.642060949875427,
          -6.811860263305118,
          -4.0888536300608385,
          17.723684613743345,
          5.579574048796535,
          2.796147313370416,
          0.2903232441791486,
          1.6283893821848208,
          6.188487646532146,
          6.410328234420623,
          5.759822499551182,
          5.591635581260761,
          4.335930210501678,
          2.770163637237822,
          2.951930487364408,
          2.4598917878634907,
          1.4299421676662354,
          -0.008947450605438126,
          2.541036476392021,
          -2.6700297405911853,
          -5.467858260711336,
          8.437463586075772,
          -5.348271359277938,
          -9.289286226096936,
          -10.969950925198797,
          -11.971568627829074,
          -11.885588870583842,
          -9.118800205362781,
          -5.893174047594445,
          -4.3493460087607305,
          -10.254046843749453,
          -5.130875067100261,
          19.015712126030046,
          8.36444088542974,
          8.617502584738284,
          8.653269307409701,
          11.017739146651682,
          8.619667510635786,
          -0.5225171055472063,
          4.925242938484571,
          3.207342394171673,
          11.511874513199414,
          9.216343532403112,
          9.395190306150203,
          8.634007159404359,
          3.7282047608396316,
          6.955705081103216,
          5.049558985628044,
          2.9009632352567443,
          37.45851328971267,
          12.829704496573878,
          11.992969807103089,
          13.168343121618275,
          11.098713200570277,
          11.00628588760093,
          9.552367750947283,
          6.177005554915566,
          6.460963562805493,
          5.480835444128958,
          5.2271930293805475,
          5.010839407175839,
          3.927315450856929,
          4.093923662899947,
          4.518380055693368,
          -0.05714997237680362,
          6.300745284642263,
          4.237312370277405,
          4.473391646636168,
          1.699705487116872,
          -0.05799907531788962,
          2.123412928360315,
          2.395451907218372,
          3.314266840832897,
          5.618289072758895,
          -0.9742038045190429,
          16.48855015963649,
          2.214458123705565,
          1.4205167637217306,
          0.8276122793001296,
          -2.2345046454923616,
          -4.043186953941305,
          -4.030936359588411,
          -5.102631367936817,
          -6.439006086285919,
          -10.0887725234481,
          -10.431363892235497,
          -1.6986225164931845,
          14.046407784167634,
          -5.775856261293617,
          -4.894186848151274,
          -5.066804878875041,
          -6.338457509923316,
          -6.643630387036165,
          -7.271657575256148,
          -7.380823350183014,
          -4.698987983398649,
          -9.659895755725632,
          -5.757739186371716,
          6.713263025461656,
          12.268297093718772,
          13.498622565005817,
          -3.3237406656340847,
          -1.0046446397391544,
          -1.5174251219339572,
          -2.181899091637976,
          -1.8668752988645014,
          -3.625133993259016,
          -4.731906201309528,
          -5.759504103518841,
          -7.378787594395552,
          -1.8806192245840663,
          -3.066153588966882,
          -3.5765328141022175,
          -7.109574395779301,
          17.29883802259264,
          -5.553755745562579,
          -7.638314298148423,
          -4.531480413200781,
          -5.380521241712786,
          -3.9080143261658598,
          -2.3379955703677453,
          -2.6415078983978004,
          -3.5001006987198813,
          -5.891668711322032,
          0.9822111382705415,
          10.787840474994937,
          -5.399993189025116,
          -5.9768734964637025,
          -4.698161334273899,
          -4.011588084003904,
          -3.024346433786726,
          -0.8181764067718549,
          7.566358241040241,
          -4.76674241700452,
          -5.994342449266754,
          -3.2912766478308035,
          -9.59217519307038,
          -7.61550749451955,
          -5.19250049887209,
          -7.7198618060783595,
          -8.808642006789677,
          -9.708794446226237,
          -9.926157590428192,
          -7.832168002019099,
          0.3907617113452111,
          16.66138553618265,
          6.510775457598908,
          7.05190722612534,
          3.498116659214687,
          4.165495221748579,
          -1.7253417622659926,
          -3.6907427579909218,
          -2.8947673036526806,
          2.816587089359781,
          -0.03823502328389806,
          3.4127792836095474,
          2.8831403780134393,
          2.3542671720025323
         ]
        }
       ],
       "layout": {
        "height": 700,
        "margin": {
         "b": 100,
         "l": 100,
         "r": 100,
         "t": 100
        },
        "template": {
         "data": {
          "bar": [
           {
            "error_x": {
             "color": "#2a3f5f"
            },
            "error_y": {
             "color": "#2a3f5f"
            },
            "marker": {
             "line": {
              "color": "#E5ECF6",
              "width": 0.5
             },
             "pattern": {
              "fillmode": "overlay",
              "size": 10,
              "solidity": 0.2
             }
            },
            "type": "bar"
           }
          ],
          "barpolar": [
           {
            "marker": {
             "line": {
              "color": "#E5ECF6",
              "width": 0.5
             },
             "pattern": {
              "fillmode": "overlay",
              "size": 10,
              "solidity": 0.2
             }
            },
            "type": "barpolar"
           }
          ],
          "carpet": [
           {
            "aaxis": {
             "endlinecolor": "#2a3f5f",
             "gridcolor": "white",
             "linecolor": "white",
             "minorgridcolor": "white",
             "startlinecolor": "#2a3f5f"
            },
            "baxis": {
             "endlinecolor": "#2a3f5f",
             "gridcolor": "white",
             "linecolor": "white",
             "minorgridcolor": "white",
             "startlinecolor": "#2a3f5f"
            },
            "type": "carpet"
           }
          ],
          "choropleth": [
           {
            "colorbar": {
             "outlinewidth": 0,
             "ticks": ""
            },
            "type": "choropleth"
           }
          ],
          "contour": [
           {
            "colorbar": {
             "outlinewidth": 0,
             "ticks": ""
            },
            "colorscale": [
             [
              0,
              "#0d0887"
             ],
             [
              0.1111111111111111,
              "#46039f"
             ],
             [
              0.2222222222222222,
              "#7201a8"
             ],
             [
              0.3333333333333333,
              "#9c179e"
             ],
             [
              0.4444444444444444,
              "#bd3786"
             ],
             [
              0.5555555555555556,
              "#d8576b"
             ],
             [
              0.6666666666666666,
              "#ed7953"
             ],
             [
              0.7777777777777778,
              "#fb9f3a"
             ],
             [
              0.8888888888888888,
              "#fdca26"
             ],
             [
              1,
              "#f0f921"
             ]
            ],
            "type": "contour"
           }
          ],
          "contourcarpet": [
           {
            "colorbar": {
             "outlinewidth": 0,
             "ticks": ""
            },
            "type": "contourcarpet"
           }
          ],
          "heatmap": [
           {
            "colorbar": {
             "outlinewidth": 0,
             "ticks": ""
            },
            "colorscale": [
             [
              0,
              "#0d0887"
             ],
             [
              0.1111111111111111,
              "#46039f"
             ],
             [
              0.2222222222222222,
              "#7201a8"
             ],
             [
              0.3333333333333333,
              "#9c179e"
             ],
             [
              0.4444444444444444,
              "#bd3786"
             ],
             [
              0.5555555555555556,
              "#d8576b"
             ],
             [
              0.6666666666666666,
              "#ed7953"
             ],
             [
              0.7777777777777778,
              "#fb9f3a"
             ],
             [
              0.8888888888888888,
              "#fdca26"
             ],
             [
              1,
              "#f0f921"
             ]
            ],
            "type": "heatmap"
           }
          ],
          "heatmapgl": [
           {
            "colorbar": {
             "outlinewidth": 0,
             "ticks": ""
            },
            "colorscale": [
             [
              0,
              "#0d0887"
             ],
             [
              0.1111111111111111,
              "#46039f"
             ],
             [
              0.2222222222222222,
              "#7201a8"
             ],
             [
              0.3333333333333333,
              "#9c179e"
             ],
             [
              0.4444444444444444,
              "#bd3786"
             ],
             [
              0.5555555555555556,
              "#d8576b"
             ],
             [
              0.6666666666666666,
              "#ed7953"
             ],
             [
              0.7777777777777778,
              "#fb9f3a"
             ],
             [
              0.8888888888888888,
              "#fdca26"
             ],
             [
              1,
              "#f0f921"
             ]
            ],
            "type": "heatmapgl"
           }
          ],
          "histogram": [
           {
            "marker": {
             "pattern": {
              "fillmode": "overlay",
              "size": 10,
              "solidity": 0.2
             }
            },
            "type": "histogram"
           }
          ],
          "histogram2d": [
           {
            "colorbar": {
             "outlinewidth": 0,
             "ticks": ""
            },
            "colorscale": [
             [
              0,
              "#0d0887"
             ],
             [
              0.1111111111111111,
              "#46039f"
             ],
             [
              0.2222222222222222,
              "#7201a8"
             ],
             [
              0.3333333333333333,
              "#9c179e"
             ],
             [
              0.4444444444444444,
              "#bd3786"
             ],
             [
              0.5555555555555556,
              "#d8576b"
             ],
             [
              0.6666666666666666,
              "#ed7953"
             ],
             [
              0.7777777777777778,
              "#fb9f3a"
             ],
             [
              0.8888888888888888,
              "#fdca26"
             ],
             [
              1,
              "#f0f921"
             ]
            ],
            "type": "histogram2d"
           }
          ],
          "histogram2dcontour": [
           {
            "colorbar": {
             "outlinewidth": 0,
             "ticks": ""
            },
            "colorscale": [
             [
              0,
              "#0d0887"
             ],
             [
              0.1111111111111111,
              "#46039f"
             ],
             [
              0.2222222222222222,
              "#7201a8"
             ],
             [
              0.3333333333333333,
              "#9c179e"
             ],
             [
              0.4444444444444444,
              "#bd3786"
             ],
             [
              0.5555555555555556,
              "#d8576b"
             ],
             [
              0.6666666666666666,
              "#ed7953"
             ],
             [
              0.7777777777777778,
              "#fb9f3a"
             ],
             [
              0.8888888888888888,
              "#fdca26"
             ],
             [
              1,
              "#f0f921"
             ]
            ],
            "type": "histogram2dcontour"
           }
          ],
          "mesh3d": [
           {
            "colorbar": {
             "outlinewidth": 0,
             "ticks": ""
            },
            "type": "mesh3d"
           }
          ],
          "parcoords": [
           {
            "line": {
             "colorbar": {
              "outlinewidth": 0,
              "ticks": ""
             }
            },
            "type": "parcoords"
           }
          ],
          "pie": [
           {
            "automargin": true,
            "type": "pie"
           }
          ],
          "scatter": [
           {
            "fillpattern": {
             "fillmode": "overlay",
             "size": 10,
             "solidity": 0.2
            },
            "type": "scatter"
           }
          ],
          "scatter3d": [
           {
            "line": {
             "colorbar": {
              "outlinewidth": 0,
              "ticks": ""
             }
            },
            "marker": {
             "colorbar": {
              "outlinewidth": 0,
              "ticks": ""
             }
            },
            "type": "scatter3d"
           }
          ],
          "scattercarpet": [
           {
            "marker": {
             "colorbar": {
              "outlinewidth": 0,
              "ticks": ""
             }
            },
            "type": "scattercarpet"
           }
          ],
          "scattergeo": [
           {
            "marker": {
             "colorbar": {
              "outlinewidth": 0,
              "ticks": ""
             }
            },
            "type": "scattergeo"
           }
          ],
          "scattergl": [
           {
            "marker": {
             "colorbar": {
              "outlinewidth": 0,
              "ticks": ""
             }
            },
            "type": "scattergl"
           }
          ],
          "scattermapbox": [
           {
            "marker": {
             "colorbar": {
              "outlinewidth": 0,
              "ticks": ""
             }
            },
            "type": "scattermapbox"
           }
          ],
          "scatterpolar": [
           {
            "marker": {
             "colorbar": {
              "outlinewidth": 0,
              "ticks": ""
             }
            },
            "type": "scatterpolar"
           }
          ],
          "scatterpolargl": [
           {
            "marker": {
             "colorbar": {
              "outlinewidth": 0,
              "ticks": ""
             }
            },
            "type": "scatterpolargl"
           }
          ],
          "scatterternary": [
           {
            "marker": {
             "colorbar": {
              "outlinewidth": 0,
              "ticks": ""
             }
            },
            "type": "scatterternary"
           }
          ],
          "surface": [
           {
            "colorbar": {
             "outlinewidth": 0,
             "ticks": ""
            },
            "colorscale": [
             [
              0,
              "#0d0887"
             ],
             [
              0.1111111111111111,
              "#46039f"
             ],
             [
              0.2222222222222222,
              "#7201a8"
             ],
             [
              0.3333333333333333,
              "#9c179e"
             ],
             [
              0.4444444444444444,
              "#bd3786"
             ],
             [
              0.5555555555555556,
              "#d8576b"
             ],
             [
              0.6666666666666666,
              "#ed7953"
             ],
             [
              0.7777777777777778,
              "#fb9f3a"
             ],
             [
              0.8888888888888888,
              "#fdca26"
             ],
             [
              1,
              "#f0f921"
             ]
            ],
            "type": "surface"
           }
          ],
          "table": [
           {
            "cells": {
             "fill": {
              "color": "#EBF0F8"
             },
             "line": {
              "color": "white"
             }
            },
            "header": {
             "fill": {
              "color": "#C8D4E3"
             },
             "line": {
              "color": "white"
             }
            },
            "type": "table"
           }
          ]
         },
         "layout": {
          "annotationdefaults": {
           "arrowcolor": "#2a3f5f",
           "arrowhead": 0,
           "arrowwidth": 1
          },
          "autotypenumbers": "strict",
          "coloraxis": {
           "colorbar": {
            "outlinewidth": 0,
            "ticks": ""
           }
          },
          "colorscale": {
           "diverging": [
            [
             0,
             "#8e0152"
            ],
            [
             0.1,
             "#c51b7d"
            ],
            [
             0.2,
             "#de77ae"
            ],
            [
             0.3,
             "#f1b6da"
            ],
            [
             0.4,
             "#fde0ef"
            ],
            [
             0.5,
             "#f7f7f7"
            ],
            [
             0.6,
             "#e6f5d0"
            ],
            [
             0.7,
             "#b8e186"
            ],
            [
             0.8,
             "#7fbc41"
            ],
            [
             0.9,
             "#4d9221"
            ],
            [
             1,
             "#276419"
            ]
           ],
           "sequential": [
            [
             0,
             "#0d0887"
            ],
            [
             0.1111111111111111,
             "#46039f"
            ],
            [
             0.2222222222222222,
             "#7201a8"
            ],
            [
             0.3333333333333333,
             "#9c179e"
            ],
            [
             0.4444444444444444,
             "#bd3786"
            ],
            [
             0.5555555555555556,
             "#d8576b"
            ],
            [
             0.6666666666666666,
             "#ed7953"
            ],
            [
             0.7777777777777778,
             "#fb9f3a"
            ],
            [
             0.8888888888888888,
             "#fdca26"
            ],
            [
             1,
             "#f0f921"
            ]
           ],
           "sequentialminus": [
            [
             0,
             "#0d0887"
            ],
            [
             0.1111111111111111,
             "#46039f"
            ],
            [
             0.2222222222222222,
             "#7201a8"
            ],
            [
             0.3333333333333333,
             "#9c179e"
            ],
            [
             0.4444444444444444,
             "#bd3786"
            ],
            [
             0.5555555555555556,
             "#d8576b"
            ],
            [
             0.6666666666666666,
             "#ed7953"
            ],
            [
             0.7777777777777778,
             "#fb9f3a"
            ],
            [
             0.8888888888888888,
             "#fdca26"
            ],
            [
             1,
             "#f0f921"
            ]
           ]
          },
          "colorway": [
           "#636efa",
           "#EF553B",
           "#00cc96",
           "#ab63fa",
           "#FFA15A",
           "#19d3f3",
           "#FF6692",
           "#B6E880",
           "#FF97FF",
           "#FECB52"
          ],
          "font": {
           "color": "#2a3f5f"
          },
          "geo": {
           "bgcolor": "white",
           "lakecolor": "white",
           "landcolor": "#E5ECF6",
           "showlakes": true,
           "showland": true,
           "subunitcolor": "white"
          },
          "hoverlabel": {
           "align": "left"
          },
          "hovermode": "closest",
          "mapbox": {
           "style": "light"
          },
          "paper_bgcolor": "white",
          "plot_bgcolor": "#E5ECF6",
          "polar": {
           "angularaxis": {
            "gridcolor": "white",
            "linecolor": "white",
            "ticks": ""
           },
           "bgcolor": "#E5ECF6",
           "radialaxis": {
            "gridcolor": "white",
            "linecolor": "white",
            "ticks": ""
           }
          },
          "scene": {
           "xaxis": {
            "backgroundcolor": "#E5ECF6",
            "gridcolor": "white",
            "gridwidth": 2,
            "linecolor": "white",
            "showbackground": true,
            "ticks": "",
            "zerolinecolor": "white"
           },
           "yaxis": {
            "backgroundcolor": "#E5ECF6",
            "gridcolor": "white",
            "gridwidth": 2,
            "linecolor": "white",
            "showbackground": true,
            "ticks": "",
            "zerolinecolor": "white"
           },
           "zaxis": {
            "backgroundcolor": "#E5ECF6",
            "gridcolor": "white",
            "gridwidth": 2,
            "linecolor": "white",
            "showbackground": true,
            "ticks": "",
            "zerolinecolor": "white"
           }
          },
          "shapedefaults": {
           "line": {
            "color": "#2a3f5f"
           }
          },
          "ternary": {
           "aaxis": {
            "gridcolor": "white",
            "linecolor": "white",
            "ticks": ""
           },
           "baxis": {
            "gridcolor": "white",
            "linecolor": "white",
            "ticks": ""
           },
           "bgcolor": "#E5ECF6",
           "caxis": {
            "gridcolor": "white",
            "linecolor": "white",
            "ticks": ""
           }
          },
          "title": {
           "x": 0.05
          },
          "xaxis": {
           "automargin": true,
           "gridcolor": "white",
           "linecolor": "white",
           "ticks": "",
           "title": {
            "standoff": 15
           },
           "zerolinecolor": "white",
           "zerolinewidth": 2
          },
          "yaxis": {
           "automargin": true,
           "gridcolor": "white",
           "linecolor": "white",
           "ticks": "",
           "title": {
            "standoff": 15
           },
           "zerolinecolor": "white",
           "zerolinewidth": 2
          }
         }
        },
        "width": 1000
       }
      }
     },
     "metadata": {},
     "output_type": "display_data"
    }
   ],
   "source": [
    "X_ = X_filtered\n",
    "\n",
    "scaler = StandardScaler()\n",
    "scaler.fit(X_)\n",
    "X_normalized = scaler.transform(X_)\n",
    "\n",
    "pca = PCA(n_components=min(X_.shape[0], X_.shape[1]))\n",
    "pca.fit(X_normalized)\n",
    "\n",
    "X_pca = pca.fit_transform(X_normalized)\n",
    "\n",
    "plot_3d(X_pca[:, 0], X_pca[:, 1], X_pca[:, 2], y)"
   ]
  },
  {
   "cell_type": "code",
   "execution_count": null,
   "metadata": {},
   "outputs": [],
   "source": []
  },
  {
   "cell_type": "code",
   "execution_count": null,
   "metadata": {},
   "outputs": [],
   "source": []
  },
  {
   "cell_type": "code",
   "execution_count": null,
   "metadata": {},
   "outputs": [],
   "source": []
  },
  {
   "cell_type": "code",
   "execution_count": null,
   "metadata": {},
   "outputs": [],
   "source": []
  },
  {
   "cell_type": "code",
   "execution_count": null,
   "metadata": {},
   "outputs": [],
   "source": []
  },
  {
   "cell_type": "code",
   "execution_count": null,
   "metadata": {},
   "outputs": [],
   "source": []
  }
 ],
 "metadata": {
  "kernelspec": {
   "display_name": "Python 3.9.7 ('mml')",
   "language": "python",
   "name": "python3"
  },
  "language_info": {
   "codemirror_mode": {
    "name": "ipython",
    "version": 3
   },
   "file_extension": ".py",
   "mimetype": "text/x-python",
   "name": "python",
   "nbconvert_exporter": "python",
   "pygments_lexer": "ipython3",
   "version": "3.9.7"
  },
  "orig_nbformat": 4,
  "vscode": {
   "interpreter": {
    "hash": "94ac9e074711721b63e2d0927380c5966893a9b6b7f2b95be1ba987ca00b8468"
   }
  }
 },
 "nbformat": 4,
 "nbformat_minor": 2
}
