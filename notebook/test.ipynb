{
 "cells": [
  {
   "cell_type": "code",
   "execution_count": 1,
   "metadata": {},
   "outputs": [],
   "source": [
    "import numpy as np\n",
    "from tqdm import tqdm\n",
    "import matplotlib.pyplot as plt\n",
    "import cv2\n",
    "import os\n",
    "from tqdm import tqdm\n",
    "import pickle as pkl\n",
    "from copy import deepcopy\n",
    "from typing import *\n",
    "import mediapipe as mp\n",
    "\n",
    "import torch\n",
    "\n",
    "from utils import *"
   ]
  },
  {
   "cell_type": "code",
   "execution_count": 3,
   "metadata": {},
   "outputs": [],
   "source": [
    "import pandas as pd\n",
    "\n",
    "from dataloader import *\n",
    "\n",
    "import numpy as np\n",
    "import pandas as pd\n",
    "import matplotlib.pyplot as plt\n",
    "from matplotlib.ticker import MaxNLocator\n",
    "import seaborn as sns\n",
    "from tqdm import tqdm\n",
    "import os\n",
    "import multiprocessing\n",
    "import pickle as pkl\n",
    "from typing import *\n",
    "\n",
    "from tsfresh import extract_features, extract_relevant_features, select_features\n",
    "from tsfresh.utilities.dataframe_functions import impute\n",
    "from tsfresh.feature_extraction import ComprehensiveFCParameters, EfficientFCParameters, MinimalFCParameters\n",
    "\n",
    "import plotly\n",
    "import plotly.express as px\n",
    "import plotly.io as plt_io\n",
    "import plotly.graph_objects as go\n",
    "\n",
    "from sklearn.preprocessing import StandardScaler, MinMaxScaler\n",
    "from sklearn.model_selection import train_test_split\n",
    "from sklearn.decomposition import PCA\n",
    "from sklearn.manifold import TSNE"
   ]
  },
  {
   "cell_type": "code",
   "execution_count": null,
   "metadata": {},
   "outputs": [],
   "source": []
  },
  {
   "cell_type": "code",
   "execution_count": 7,
   "metadata": {},
   "outputs": [],
   "source": [
    "connections = mp.solutions.holistic.HAND_CONNECTIONS"
   ]
  },
  {
   "cell_type": "code",
   "execution_count": 38,
   "metadata": {},
   "outputs": [
    {
     "data": {
      "text/plain": [
       "frozenset({(0, 1),\n",
       "           (0, 5),\n",
       "           (0, 17),\n",
       "           (1, 2),\n",
       "           (2, 3),\n",
       "           (3, 4),\n",
       "           (5, 6),\n",
       "           (5, 9),\n",
       "           (6, 7),\n",
       "           (7, 8),\n",
       "           (9, 10),\n",
       "           (9, 13),\n",
       "           (10, 11),\n",
       "           (11, 12),\n",
       "           (13, 14),\n",
       "           (13, 17),\n",
       "           (14, 15),\n",
       "           (15, 16),\n",
       "           (17, 18),\n",
       "           (18, 19),\n",
       "           (19, 20)})"
      ]
     },
     "execution_count": 38,
     "metadata": {},
     "output_type": "execute_result"
    }
   ],
   "source": [
    "connections"
   ]
  },
  {
   "cell_type": "code",
   "execution_count": 27,
   "metadata": {},
   "outputs": [],
   "source": [
    "landmarks = all_data['Chir1'][1].reshape((21,3))"
   ]
  },
  {
   "cell_type": "code",
   "execution_count": 29,
   "metadata": {},
   "outputs": [
    {
     "data": {
      "text/plain": [
       "(21, 3)"
      ]
     },
     "execution_count": 29,
     "metadata": {},
     "output_type": "execute_result"
    }
   ],
   "source": [
    "landmarks.shape"
   ]
  },
  {
   "cell_type": "code",
   "execution_count": 30,
   "metadata": {},
   "outputs": [
    {
     "data": {
      "text/plain": [
       "array([[ 1.17956050e-01,  3.86922002e-01,  2.85356577e-07],\n",
       "       [ 1.53046966e-01,  3.79127532e-01, -8.06213543e-03],\n",
       "       [ 1.93493754e-01,  3.85696083e-01, -2.12342963e-02],\n",
       "       [ 2.15485349e-01,  4.00940537e-01, -3.05188764e-02],\n",
       "       [ 2.25425065e-01,  4.14891720e-01, -3.87997963e-02],\n",
       "       [ 1.81898087e-01,  3.83483320e-01, -5.49634807e-02],\n",
       "       [ 2.28869364e-01,  4.06931847e-01, -7.01234043e-02],\n",
       "       [ 2.48677626e-01,  4.21701908e-01, -7.25638717e-02],\n",
       "       [ 2.58760899e-01,  4.32769269e-01, -7.10212067e-02],\n",
       "       [ 1.54501513e-01,  3.94099057e-01, -5.53346686e-02],\n",
       "       [ 2.03108758e-01,  4.24469411e-01, -6.97074756e-02],\n",
       "       [ 2.22733438e-01,  4.33521330e-01, -6.39272109e-02],\n",
       "       [ 2.29718730e-01,  4.36683774e-01, -5.71877360e-02],\n",
       "       [ 1.34487882e-01,  4.05817300e-01, -5.28542772e-02],\n",
       "       [ 1.83035329e-01,  4.35721636e-01, -6.02923892e-02],\n",
       "       [ 2.03951105e-01,  4.37725633e-01, -4.72301729e-02],\n",
       "       [ 2.09200978e-01,  4.33369815e-01, -3.54539342e-02],\n",
       "       [ 1.21914446e-01,  4.16921288e-01, -5.03855050e-02],\n",
       "       [ 1.67020321e-01,  4.38754112e-01, -5.10420315e-02],\n",
       "       [ 1.86654374e-01,  4.38980252e-01, -3.94121632e-02],\n",
       "       [ 1.93504646e-01,  4.34530735e-01, -2.88050734e-02]])"
      ]
     },
     "execution_count": 30,
     "metadata": {},
     "output_type": "execute_result"
    }
   ],
   "source": [
    "landmarks"
   ]
  },
  {
   "cell_type": "code",
   "execution_count": 31,
   "metadata": {},
   "outputs": [],
   "source": [
    "tmp = list(map(lambda t: landmarks[t[1]] - landmarks[t[0]], connections))"
   ]
  },
  {
   "cell_type": "code",
   "execution_count": 35,
   "metadata": {},
   "outputs": [
    {
     "data": {
      "text/plain": [
       "array([ 0.00993972,  0.01395118, -0.00828092])"
      ]
     },
     "execution_count": 35,
     "metadata": {},
     "output_type": "execute_result"
    }
   ],
   "source": [
    "tmp[0]"
   ]
  },
  {
   "cell_type": "code",
   "execution_count": 37,
   "metadata": {},
   "outputs": [
    {
     "data": {
      "text/plain": [
       "array([-0.03509092,  0.00779447,  0.00806242])"
      ]
     },
     "execution_count": 37,
     "metadata": {},
     "output_type": "execute_result"
    }
   ],
   "source": [
    "landmarks[0] - landmarks[1]"
   ]
  },
  {
   "cell_type": "code",
   "execution_count": null,
   "metadata": {},
   "outputs": [],
   "source": []
  },
  {
   "cell_type": "code",
   "execution_count": null,
   "metadata": {},
   "outputs": [],
   "source": []
  },
  {
   "cell_type": "code",
   "execution_count": 3,
   "metadata": {},
   "outputs": [],
   "source": [
    "path_data_dir = \"../data/hands_landmarks\""
   ]
  },
  {
   "cell_type": "code",
   "execution_count": null,
   "metadata": {},
   "outputs": [],
   "source": [
    "'''\n",
    "\n",
    "part1 = load_pickle(os.path.join(path_data_dir, \"Intern_08_data.pkl\"))\n",
    "part2 = load_pickle(os.path.join(path_data_dir, \"Intern_08_2_data.pkl\"))\n",
    "fusion = deepcopy(part1)\n",
    "\n",
    "part1_max_frame_id = max(list(part1.keys()))\n",
    "part2_max_frame_id = max(list(part2.keys()))\n",
    "cpt = part1_max_frame_id\n",
    "\n",
    "for frame_id in tqdm(part2.keys()):\n",
    "    cpt += 1\n",
    "    fusion[cpt] = part2[frame_id]\n",
    "\n",
    "assert max(list(fusion.keys())) == part1_max_frame_id + part2_max_frame_id\n",
    "\n",
    "save_pickle(os.path.join(path_data_dir, \"Intern_008_data.pkl\"), fusion)\n",
    "'''"
   ]
  },
  {
   "cell_type": "markdown",
   "metadata": {},
   "source": [
    "### Data loading"
   ]
  },
  {
   "cell_type": "code",
   "execution_count": 5,
   "metadata": {},
   "outputs": [],
   "source": [
    "def data_loading(path_data_dir:str, filenames:str) -> dict:\n",
    "    all_data = {}\n",
    "    for file in tqdm(filenames):\n",
    "        if file[0] == 'I':\n",
    "            subject_id = file[:9]\n",
    "        else:\n",
    "            subject_id = file[:5]\n",
    "        all_data[subject_id] = {}\n",
    "        data = load_pickle(os.path.join(path_data_dir, file))\n",
    "        for frame_id in data.keys():\n",
    "            try:\n",
    "                all_data[subject_id][frame_id] = data[frame_id]['Left']\n",
    "            except:\n",
    "                pass   \n",
    "    print(\"data loading completed ...\")\n",
    "    return all_data"
   ]
  },
  {
   "cell_type": "code",
   "execution_count": 6,
   "metadata": {},
   "outputs": [],
   "source": [
    "path_data_dir = \"../data/hands_landmarks\"\n",
    "filenames = sorted([file for file in os.listdir(\"../data/hands_landmarks\") if file[0] == 'I' or file[0] == 'C'])"
   ]
  },
  {
   "cell_type": "code",
   "execution_count": 7,
   "metadata": {},
   "outputs": [
    {
     "name": "stderr",
     "output_type": "stream",
     "text": [
      "100%|██████████| 28/28 [00:00<00:00, 28.83it/s]"
     ]
    },
    {
     "name": "stdout",
     "output_type": "stream",
     "text": [
      "data loading completed ...\n"
     ]
    },
    {
     "name": "stderr",
     "output_type": "stream",
     "text": [
      "\n"
     ]
    }
   ],
   "source": [
    "# data loading\n",
    "all_data = data_loading(path_data_dir, filenames)"
   ]
  },
  {
   "cell_type": "code",
   "execution_count": null,
   "metadata": {},
   "outputs": [],
   "source": []
  },
  {
   "cell_type": "code",
   "execution_count": null,
   "metadata": {},
   "outputs": [],
   "source": []
  },
  {
   "cell_type": "markdown",
   "metadata": {},
   "source": [
    "## Data processing"
   ]
  },
  {
   "cell_type": "code",
   "execution_count": 4,
   "metadata": {},
   "outputs": [],
   "source": [
    "def data_loading(path_data_dir:str, filenames:str, every:int=1) -> dict:\n",
    "    all_data = {}\n",
    "    for file in tqdm(filenames):\n",
    "        if file[0] == 'I':\n",
    "            subject_id = file[:9]\n",
    "        else:\n",
    "            subject_id = file[:5]\n",
    "        all_data[subject_id] = {}\n",
    "        data = load_pickle(os.path.join(path_data_dir, file))\n",
    "        for idx, frame_id in enumerate(list(data.keys())):\n",
    "            if idx % every == 0:\n",
    "                try:\n",
    "                    all_data[subject_id][frame_id] = data[frame_id]['Left']\n",
    "                except:\n",
    "                    pass\n",
    "    print(\"data loading completed ...\")\n",
    "    return all_data\n",
    "\n",
    "def sliding_window(data:np.array, window_size:int, overlap:float) -> np.array:\n",
    "    overlap = int(window_size * (overlap / 100))\n",
    "    out = np.array([data[i:i+window_size] for i in range(0, len(data), window_size-overlap) if len(data[i:i+window_size]) == window_size])\n",
    "    return out\n",
    "\n",
    "\n",
    "def make_window(data:dict, window_size:int, overlap:float):\n",
    "    L = []\n",
    "    for key in data.keys():\n",
    "        L.append(data[key])\n",
    "    tmp = np.array(L)\n",
    "    out = sliding_window(tmp, window_size, overlap)\n",
    "    return out\n",
    "\n",
    "def unison_shuffled_copies(a, b):\n",
    "    assert len(a) == len(b)\n",
    "    p = np.random.permutation(len(a))\n",
    "    return a[p], b[p]\n",
    "\n",
    "\n",
    "def create_dataset(data:dict, subjects:List[str], window_size:int=60, overlap:float=0.0): \n",
    "    labels = [] \n",
    "    for idx, subject_id in tqdm(enumerate(subjects), total=len(subjects)):     \n",
    "        if subject_id[0] == 'I':\n",
    "            label = 0\n",
    "        else:\n",
    "            label = 1\n",
    "        if idx == 0:\n",
    "            win_data = make_window(data[subject_id], window_size, overlap)\n",
    "            all_data_part1 = win_data\n",
    "            labels.extend([label] * win_data.shape[0])\n",
    "        else:\n",
    "            win_data = make_window(data[subject_id], window_size, overlap)\n",
    "            all_data_part2 = win_data\n",
    "            labels.extend([label] * win_data.shape[0])\n",
    "\n",
    "        if idx == 0:\n",
    "            all_data = all_data_part1\n",
    "        else:\n",
    "            all_data = np.vstack((all_data, all_data_part2))\n",
    "            \n",
    "    X, Y = unison_shuffled_copies(np.array(all_data), np.array(labels))\n",
    "    X = torch.Tensor(X)\n",
    "    Y = torch.Tensor(Y).long()\n",
    "\n",
    "    return X, Y\n",
    "\n",
    "\n",
    "def plot_pca(X:pd.DataFrame):\n",
    "\n",
    "    scaler = StandardScaler()\n",
    "    X_normalized = scaler.fit_transform(X)\n",
    "    #X_normalized = scaler.transform(X)\n",
    "\n",
    "    pca = PCA(n_components=3)\n",
    "\n",
    "    X_pca = pca.fit_transform(X_normalized)\n",
    "\n",
    "    print(\"Explained variance ratio 3 composants:\" , pca.explained_variance_ratio_)\n",
    "    print(\"Singular values 3 composants: \", pca.singular_values_)\n",
    "\n",
    "    new_df = pd.DataFrame(X_pca, columns=['pca_1','pca_2','pca_3'])\n",
    "    new_df['labels'] = y\n",
    "\n",
    "    fig = px.scatter_3d(new_df, x='pca_1', y='pca_2', z='pca_3', color='labels', size_max=10)\n",
    "    fig.update_layout(margin=dict(l=0, r=0, b=0, t=0))\n",
    "    fig.show()\n",
    "\n",
    "\n",
    "def plot_tsne(X:pd.DataFrame):\n",
    "    \n",
    "    scaler = StandardScaler()\n",
    "    X_normalized = scaler.fit_transform(X)\n",
    "    \n",
    "    X_tsne = TSNE(n_components=3, learning_rate='auto',\n",
    "                  init='random').fit_transform(X_normalized)\n",
    "    \n",
    "    new_df = pd.DataFrame(X_tsne, columns=['tsne_1','tsne_2','tsne_3'])\n",
    "    new_df['labels'] = y\n",
    "\n",
    "    fig = px.scatter_3d(new_df, x='tsne_1', y='tsne_2', z='tsne_3', color='labels')\n",
    "    fig.update_layout(margin=dict(l=0, r=0, b=0, t=0))\n",
    "    fig.show()\n",
    "\n",
    "def plot_2d(component1, component2, y):\n",
    "    \n",
    "    fig = go.Figure(data=go.Scatter(\n",
    "        x = component1,\n",
    "        y = component2,\n",
    "        mode='markers',\n",
    "        marker=dict(\n",
    "            size=10,\n",
    "            color=y, #set color equal to a variable\n",
    "            #colorscale='Rainbow', # one of plotly colorscales\n",
    "            showscale=True,\n",
    "            line_width=1\n",
    "        )\n",
    "    ))\n",
    "    fig.update_layout(margin=dict( l=100,r=100,b=100,t=100),width=700,height=500)                 \n",
    "    fig.layout.template = 'plotly_dark'\n",
    "    \n",
    "    fig.show()\n",
    "\n",
    "def plot_3d(component1, component2, component3, y):\n",
    "    fig = go.Figure(data=[go.Scatter3d(\n",
    "            x=component1,\n",
    "            y=component2,\n",
    "            z=component3,\n",
    "            mode='markers',\n",
    "            marker=dict(\n",
    "                size=5,\n",
    "                color=y,                # set color to an array/list of desired values\n",
    "                #colorscale='Rainbow',   # choose a colorscale\n",
    "                opacity=1,\n",
    "                line_width=1\n",
    "            )\n",
    "        )])\n",
    "    # tight layout\n",
    "    fig.update_layout(margin=dict(l=100,r=100,b=100,t=100),width=1000,height=700)\n",
    "    #fig.layout.template = 'plotly_dark'\n",
    "    fig.write_image(\"test.png\") \n",
    "    \n",
    "    fig.show()"
   ]
  },
  {
   "cell_type": "code",
   "execution_count": 8,
   "metadata": {},
   "outputs": [
    {
     "name": "stderr",
     "output_type": "stream",
     "text": [
      "100%|██████████| 28/28 [00:00<00:00, 29.48it/s]"
     ]
    },
    {
     "name": "stdout",
     "output_type": "stream",
     "text": [
      "data loading completed ...\n"
     ]
    },
    {
     "name": "stderr",
     "output_type": "stream",
     "text": [
      "\n"
     ]
    }
   ],
   "source": [
    "# data loading\n",
    "all_data = data_loading(path_data_dir, filenames)"
   ]
  },
  {
   "cell_type": "code",
   "execution_count": null,
   "metadata": {},
   "outputs": [],
   "source": [
    "all_data['Chir1'].keys()"
   ]
  },
  {
   "cell_type": "code",
   "execution_count": null,
   "metadata": {},
   "outputs": [],
   "source": []
  },
  {
   "cell_type": "code",
   "execution_count": 60,
   "metadata": {},
   "outputs": [],
   "source": [
    "t1 = all_data['Chir1'][1].reshape((21,3))\n",
    "t2 = all_data['Chir1'][2].reshape((21,3))"
   ]
  },
  {
   "cell_type": "code",
   "execution_count": 70,
   "metadata": {},
   "outputs": [
    {
     "data": {
      "text/plain": [
       "(21,)"
      ]
     },
     "execution_count": 70,
     "metadata": {},
     "output_type": "execute_result"
    }
   ],
   "source": [
    "t3 = np.linalg.norm(t2 - t1, axis=1)\n",
    "t3.shape"
   ]
  },
  {
   "cell_type": "code",
   "execution_count": 71,
   "metadata": {},
   "outputs": [
    {
     "data": {
      "text/plain": [
       "array([0.01655065, 0.01389458, 0.01307672, 0.01109101, 0.01115388,\n",
       "       0.01150091, 0.01444473, 0.01196875, 0.00901855, 0.01024183,\n",
       "       0.01231005, 0.00910783, 0.00532321, 0.00894876, 0.00992449,\n",
       "       0.0077242 , 0.00463454, 0.0074107 , 0.00802796, 0.00783776,\n",
       "       0.0065089 ])"
      ]
     },
     "execution_count": 71,
     "metadata": {},
     "output_type": "execute_result"
    }
   ],
   "source": [
    "t3"
   ]
  },
  {
   "cell_type": "code",
   "execution_count": null,
   "metadata": {},
   "outputs": [],
   "source": []
  },
  {
   "cell_type": "code",
   "execution_count": 41,
   "metadata": {},
   "outputs": [],
   "source": [
    "from itertools import combinations"
   ]
  },
  {
   "cell_type": "code",
   "execution_count": 42,
   "metadata": {},
   "outputs": [],
   "source": [
    "all_dist = []\n",
    "for l1, l2 in combinations(t,2):\n",
    "    dist=np.linalg.norm(l1-l2)\n",
    "    all_dist.append(dist)"
   ]
  },
  {
   "cell_type": "code",
   "execution_count": 44,
   "metadata": {},
   "outputs": [
    {
     "data": {
      "text/plain": [
       "210"
      ]
     },
     "execution_count": 44,
     "metadata": {},
     "output_type": "execute_result"
    }
   ],
   "source": [
    "len(all_dist)"
   ]
  },
  {
   "cell_type": "code",
   "execution_count": 47,
   "metadata": {},
   "outputs": [
    {
     "data": {
      "text/plain": [
       "(210,)"
      ]
     },
     "execution_count": 47,
     "metadata": {},
     "output_type": "execute_result"
    }
   ],
   "source": [
    "np.array([np.linalg.norm(p[0]-p[1]) for p in combinations(t,2)]).shape"
   ]
  },
  {
   "cell_type": "code",
   "execution_count": null,
   "metadata": {},
   "outputs": [],
   "source": [
    "[p for p in L]"
   ]
  },
  {
   "cell_type": "code",
   "execution_count": 8,
   "metadata": {},
   "outputs": [],
   "source": [
    "class FeatureExtraction:\n",
    "    def __init__(self, extraction:str=None):\n",
    "        self.extraction = extraction\n",
    "\n",
    "    def run(self, data):\n",
    "        if self.extraction == 'raw':\n",
    "            return self._raw_landmarks(data)\n",
    "        elif self.extraction == 'dist':\n",
    "            return self._distance_landmarks(data)\n",
    "        else:\n",
    "            pass\n",
    "\n",
    "    def _raw_landmarks(self, data:np.array):\n",
    "        return data\n",
    "\n",
    "    def _distance_landmarks(self, data:np.array):\n",
    "        #print(data.shape)\n",
    "        #'''\n",
    "        out = []\n",
    "        for (l1, l2) in combinations(data, 2):\n",
    "            dist = np.linalg.norm(l1-l2)\n",
    "            out.append(dist)\n",
    "        return np.array(out)\n",
    "        #'''\n",
    "\n",
    "    def _angles_landmarks(self):\n",
    "        pass\n",
    "\n",
    "    def _consecutive_distance(self):\n",
    "        pass\n",
    "\n",
    "\n",
    "# dist, cons_dist, angles\n",
    "\n",
    "\n",
    "class DataLoading:\n",
    "\n",
    "    def __init__(self, directory:str, filenames:List[str], extraction:str, every:int=1):\n",
    "        self.directory = directory\n",
    "        self.filenames = filenames\n",
    "        self.every = every\n",
    "        self.feature_extraction = FeatureExtraction(extraction)\n",
    "\n",
    "\n",
    "    def run(self):\n",
    "        all_data = {}\n",
    "        for file in tqdm(self.filenames):\n",
    "            if file[0] == 'I':\n",
    "                subject_id = file[:9]\n",
    "            else:\n",
    "                subject_id = file[:5]   \n",
    "            all_data[subject_id] = {}\n",
    "            data = load_pickle(os.path.join(self.directory, file))\n",
    "            for idx, frame_id in tqdm(enumerate(list(data.keys()))):\n",
    "                if idx % self.every == 0:\n",
    "                    try:\n",
    "                        all_data[subject_id][frame_id] = self.feature_extraction.run(data[frame_id]['Left'])\n",
    "                    except:\n",
    "                        pass\n",
    "        print(\"data loading completed ...\")\n",
    "        return all_data"
   ]
  },
  {
   "cell_type": "code",
   "execution_count": 9,
   "metadata": {},
   "outputs": [],
   "source": [
    "path_data_dir = \"../data/hands_landmarks\"\n",
    "filenames = sorted([file for file in os.listdir(\"../data/hands_landmarks\") if file[0] == 'I' or file[0] == 'C'])"
   ]
  },
  {
   "cell_type": "code",
   "execution_count": 10,
   "metadata": {},
   "outputs": [
    {
     "name": "stderr",
     "output_type": "stream",
     "text": [
      "15216it [01:31, 165.57it/s]0<?, ?it/s]\n",
      "9709it [00:47, 203.49it/s]31<41:22, 91.93s/it]\n",
      "15116it [01:34, 160.62it/s]9<28:34, 65.93s/it]\n",
      "6919it [00:42, 162.21it/s]53<32:50, 78.81s/it]\n",
      "14033it [01:07, 207.59it/s]6<25:48, 64.54s/it]\n",
      "10536it [00:59, 177.09it/s]4<25:09, 65.65s/it]\n",
      "13571it [01:09, 194.64it/s]3<23:18, 63.56s/it]\n",
      "26235it [02:30, 174.78it/s]3<22:57, 65.58s/it]\n",
      "14713it [01:23, 176.42it/s]3<30:50, 92.50s/it]\n",
      "15031it [01:03, 238.57it/s]6<28:23, 89.66s/it]\n",
      " 36%|███▌      | 10/28 [12:49<24:25, 81.44s/it]\n",
      "1176it [00:07, 174.19it/s]"
     ]
    }
   ],
   "source": [
    "dl = DataLoading(path_data_dir, filenames, 'dist', 1)\n",
    "all_data = dl.run()"
   ]
  },
  {
   "cell_type": "code",
   "execution_count": 199,
   "metadata": {},
   "outputs": [],
   "source": [
    "out1 = all_data['Chir1'][1]"
   ]
  },
  {
   "cell_type": "code",
   "execution_count": null,
   "metadata": {},
   "outputs": [],
   "source": []
  },
  {
   "cell_type": "code",
   "execution_count": null,
   "metadata": {},
   "outputs": [],
   "source": []
  },
  {
   "cell_type": "code",
   "execution_count": null,
   "metadata": {},
   "outputs": [],
   "source": []
  },
  {
   "cell_type": "code",
   "execution_count": null,
   "metadata": {},
   "outputs": [],
   "source": []
  },
  {
   "cell_type": "code",
   "execution_count": null,
   "metadata": {},
   "outputs": [],
   "source": []
  },
  {
   "cell_type": "code",
   "execution_count": null,
   "metadata": {},
   "outputs": [],
   "source": []
  },
  {
   "cell_type": "code",
   "execution_count": null,
   "metadata": {},
   "outputs": [],
   "source": []
  },
  {
   "cell_type": "code",
   "execution_count": null,
   "metadata": {},
   "outputs": [],
   "source": []
  },
  {
   "cell_type": "code",
   "execution_count": null,
   "metadata": {},
   "outputs": [],
   "source": []
  },
  {
   "cell_type": "code",
   "execution_count": 10,
   "metadata": {},
   "outputs": [],
   "source": [
    "def reshape_temporal_landmarks(data, ws, overlap=0):\n",
    "    all_df = pd.DataFrame()\n",
    "    start_id = 0\n",
    "    cpt = 0\n",
    "    y = []\n",
    "\n",
    "    for subject_id in tqdm(all_data.keys()):\n",
    "        label = 0 if subject_id.startswith('C') else 1\n",
    "        data_win = make_window(all_data[subject_id], ws, overlap)\n",
    "        for win_idx in range(data_win.shape[0]):\n",
    "            df = pd.DataFrame(data_win[win_idx,:,:], columns=['feat_' + str(idx) for idx in range(63)])\n",
    "            df['time'] = [i for i in range(1,len(df)+1)]\n",
    "            df['id'] = [(start_id + win_idx) for _ in range(len(df))]\n",
    "            all_df = pd.concat([all_df, df])\n",
    "            y.append(label)\n",
    "        start_id += (win_idx+1)\n",
    "    \n",
    "    return all_df, y"
   ]
  },
  {
   "cell_type": "code",
   "execution_count": 11,
   "metadata": {},
   "outputs": [
    {
     "data": {
      "text/plain": [
       "15140"
      ]
     },
     "execution_count": 11,
     "metadata": {},
     "output_type": "execute_result"
    }
   ],
   "source": [
    "len(all_data['Chir1'])"
   ]
  },
  {
   "cell_type": "code",
   "execution_count": 12,
   "metadata": {},
   "outputs": [
    {
     "name": "stderr",
     "output_type": "stream",
     "text": [
      "100%|██████████| 28/28 [00:59<00:00,  2.12s/it]\n"
     ]
    }
   ],
   "source": [
    "all_df, y = reshape_temporal_landmarks(all_data, ws=100)"
   ]
  },
  {
   "cell_type": "code",
   "execution_count": null,
   "metadata": {},
   "outputs": [],
   "source": []
  },
  {
   "cell_type": "code",
   "execution_count": 13,
   "metadata": {},
   "outputs": [],
   "source": [
    "all_df.reset_index(drop=True, inplace=True)\n",
    "y = np.array(y)"
   ]
  },
  {
   "cell_type": "code",
   "execution_count": 18,
   "metadata": {},
   "outputs": [
    {
     "data": {
      "text/plain": [
       "((346300, 65), (3463,))"
      ]
     },
     "execution_count": 18,
     "metadata": {},
     "output_type": "execute_result"
    }
   ],
   "source": [
    "all_df.shape, y.shape"
   ]
  },
  {
   "cell_type": "code",
   "execution_count": 15,
   "metadata": {},
   "outputs": [
    {
     "data": {
      "text/html": [
       "<div>\n",
       "<style scoped>\n",
       "    .dataframe tbody tr th:only-of-type {\n",
       "        vertical-align: middle;\n",
       "    }\n",
       "\n",
       "    .dataframe tbody tr th {\n",
       "        vertical-align: top;\n",
       "    }\n",
       "\n",
       "    .dataframe thead th {\n",
       "        text-align: right;\n",
       "    }\n",
       "</style>\n",
       "<table border=\"1\" class=\"dataframe\">\n",
       "  <thead>\n",
       "    <tr style=\"text-align: right;\">\n",
       "      <th></th>\n",
       "      <th>feat_0</th>\n",
       "      <th>feat_1</th>\n",
       "      <th>feat_2</th>\n",
       "      <th>feat_3</th>\n",
       "      <th>feat_4</th>\n",
       "      <th>feat_5</th>\n",
       "      <th>feat_6</th>\n",
       "      <th>feat_7</th>\n",
       "      <th>feat_8</th>\n",
       "      <th>feat_9</th>\n",
       "      <th>...</th>\n",
       "      <th>feat_55</th>\n",
       "      <th>feat_56</th>\n",
       "      <th>feat_57</th>\n",
       "      <th>feat_58</th>\n",
       "      <th>feat_59</th>\n",
       "      <th>feat_60</th>\n",
       "      <th>feat_61</th>\n",
       "      <th>feat_62</th>\n",
       "      <th>time</th>\n",
       "      <th>id</th>\n",
       "    </tr>\n",
       "  </thead>\n",
       "  <tbody>\n",
       "    <tr>\n",
       "      <th>0</th>\n",
       "      <td>0.117956</td>\n",
       "      <td>0.386922</td>\n",
       "      <td>2.853566e-07</td>\n",
       "      <td>0.153047</td>\n",
       "      <td>0.379128</td>\n",
       "      <td>-0.008062</td>\n",
       "      <td>0.193494</td>\n",
       "      <td>0.385696</td>\n",
       "      <td>-0.021234</td>\n",
       "      <td>0.215485</td>\n",
       "      <td>...</td>\n",
       "      <td>0.438754</td>\n",
       "      <td>-0.051042</td>\n",
       "      <td>0.186654</td>\n",
       "      <td>0.438980</td>\n",
       "      <td>-0.039412</td>\n",
       "      <td>0.193505</td>\n",
       "      <td>0.434531</td>\n",
       "      <td>-0.028805</td>\n",
       "      <td>1</td>\n",
       "      <td>0</td>\n",
       "    </tr>\n",
       "    <tr>\n",
       "      <th>1</th>\n",
       "      <td>0.101412</td>\n",
       "      <td>0.386470</td>\n",
       "      <td>3.435135e-07</td>\n",
       "      <td>0.139825</td>\n",
       "      <td>0.378564</td>\n",
       "      <td>-0.003829</td>\n",
       "      <td>0.182483</td>\n",
       "      <td>0.385090</td>\n",
       "      <td>-0.014206</td>\n",
       "      <td>0.208812</td>\n",
       "      <td>...</td>\n",
       "      <td>0.439926</td>\n",
       "      <td>-0.043460</td>\n",
       "      <td>0.183299</td>\n",
       "      <td>0.439522</td>\n",
       "      <td>-0.032350</td>\n",
       "      <td>0.190033</td>\n",
       "      <td>0.434250</td>\n",
       "      <td>-0.023307</td>\n",
       "      <td>2</td>\n",
       "      <td>0</td>\n",
       "    </tr>\n",
       "    <tr>\n",
       "      <th>2</th>\n",
       "      <td>0.093177</td>\n",
       "      <td>0.388346</td>\n",
       "      <td>3.150043e-07</td>\n",
       "      <td>0.130802</td>\n",
       "      <td>0.381340</td>\n",
       "      <td>-0.003627</td>\n",
       "      <td>0.174718</td>\n",
       "      <td>0.386656</td>\n",
       "      <td>-0.012880</td>\n",
       "      <td>0.203953</td>\n",
       "      <td>...</td>\n",
       "      <td>0.443390</td>\n",
       "      <td>-0.040903</td>\n",
       "      <td>0.179401</td>\n",
       "      <td>0.442844</td>\n",
       "      <td>-0.030374</td>\n",
       "      <td>0.185152</td>\n",
       "      <td>0.437684</td>\n",
       "      <td>-0.020871</td>\n",
       "      <td>3</td>\n",
       "      <td>0</td>\n",
       "    </tr>\n",
       "    <tr>\n",
       "      <th>3</th>\n",
       "      <td>0.093914</td>\n",
       "      <td>0.389550</td>\n",
       "      <td>2.925435e-07</td>\n",
       "      <td>0.133714</td>\n",
       "      <td>0.384082</td>\n",
       "      <td>-0.003104</td>\n",
       "      <td>0.177005</td>\n",
       "      <td>0.391834</td>\n",
       "      <td>-0.011821</td>\n",
       "      <td>0.204865</td>\n",
       "      <td>...</td>\n",
       "      <td>0.447864</td>\n",
       "      <td>-0.039652</td>\n",
       "      <td>0.173955</td>\n",
       "      <td>0.447469</td>\n",
       "      <td>-0.028377</td>\n",
       "      <td>0.179512</td>\n",
       "      <td>0.442588</td>\n",
       "      <td>-0.018689</td>\n",
       "      <td>4</td>\n",
       "      <td>0</td>\n",
       "    </tr>\n",
       "    <tr>\n",
       "      <th>4</th>\n",
       "      <td>0.095978</td>\n",
       "      <td>0.393567</td>\n",
       "      <td>2.688094e-07</td>\n",
       "      <td>0.136671</td>\n",
       "      <td>0.387915</td>\n",
       "      <td>-0.004087</td>\n",
       "      <td>0.179313</td>\n",
       "      <td>0.395896</td>\n",
       "      <td>-0.012594</td>\n",
       "      <td>0.204663</td>\n",
       "      <td>...</td>\n",
       "      <td>0.451454</td>\n",
       "      <td>-0.037330</td>\n",
       "      <td>0.176432</td>\n",
       "      <td>0.451662</td>\n",
       "      <td>-0.026292</td>\n",
       "      <td>0.183658</td>\n",
       "      <td>0.447311</td>\n",
       "      <td>-0.016078</td>\n",
       "      <td>5</td>\n",
       "      <td>0</td>\n",
       "    </tr>\n",
       "  </tbody>\n",
       "</table>\n",
       "<p>5 rows × 65 columns</p>\n",
       "</div>"
      ],
      "text/plain": [
       "     feat_0    feat_1        feat_2    feat_3    feat_4    feat_5    feat_6  \\\n",
       "0  0.117956  0.386922  2.853566e-07  0.153047  0.379128 -0.008062  0.193494   \n",
       "1  0.101412  0.386470  3.435135e-07  0.139825  0.378564 -0.003829  0.182483   \n",
       "2  0.093177  0.388346  3.150043e-07  0.130802  0.381340 -0.003627  0.174718   \n",
       "3  0.093914  0.389550  2.925435e-07  0.133714  0.384082 -0.003104  0.177005   \n",
       "4  0.095978  0.393567  2.688094e-07  0.136671  0.387915 -0.004087  0.179313   \n",
       "\n",
       "     feat_7    feat_8    feat_9  ...   feat_55   feat_56   feat_57   feat_58  \\\n",
       "0  0.385696 -0.021234  0.215485  ...  0.438754 -0.051042  0.186654  0.438980   \n",
       "1  0.385090 -0.014206  0.208812  ...  0.439926 -0.043460  0.183299  0.439522   \n",
       "2  0.386656 -0.012880  0.203953  ...  0.443390 -0.040903  0.179401  0.442844   \n",
       "3  0.391834 -0.011821  0.204865  ...  0.447864 -0.039652  0.173955  0.447469   \n",
       "4  0.395896 -0.012594  0.204663  ...  0.451454 -0.037330  0.176432  0.451662   \n",
       "\n",
       "    feat_59   feat_60   feat_61   feat_62  time  id  \n",
       "0 -0.039412  0.193505  0.434531 -0.028805     1   0  \n",
       "1 -0.032350  0.190033  0.434250 -0.023307     2   0  \n",
       "2 -0.030374  0.185152  0.437684 -0.020871     3   0  \n",
       "3 -0.028377  0.179512  0.442588 -0.018689     4   0  \n",
       "4 -0.026292  0.183658  0.447311 -0.016078     5   0  \n",
       "\n",
       "[5 rows x 65 columns]"
      ]
     },
     "execution_count": 15,
     "metadata": {},
     "output_type": "execute_result"
    }
   ],
   "source": [
    "all_df.head()"
   ]
  },
  {
   "cell_type": "code",
   "execution_count": 19,
   "metadata": {},
   "outputs": [
    {
     "data": {
      "text/html": [
       "<div>\n",
       "<style scoped>\n",
       "    .dataframe tbody tr th:only-of-type {\n",
       "        vertical-align: middle;\n",
       "    }\n",
       "\n",
       "    .dataframe tbody tr th {\n",
       "        vertical-align: top;\n",
       "    }\n",
       "\n",
       "    .dataframe thead th {\n",
       "        text-align: right;\n",
       "    }\n",
       "</style>\n",
       "<table border=\"1\" class=\"dataframe\">\n",
       "  <thead>\n",
       "    <tr style=\"text-align: right;\">\n",
       "      <th></th>\n",
       "      <th>feat_0</th>\n",
       "      <th>feat_1</th>\n",
       "      <th>feat_2</th>\n",
       "      <th>feat_3</th>\n",
       "      <th>feat_4</th>\n",
       "      <th>feat_5</th>\n",
       "      <th>feat_6</th>\n",
       "      <th>feat_7</th>\n",
       "      <th>feat_8</th>\n",
       "      <th>feat_9</th>\n",
       "      <th>...</th>\n",
       "      <th>feat_55</th>\n",
       "      <th>feat_56</th>\n",
       "      <th>feat_57</th>\n",
       "      <th>feat_58</th>\n",
       "      <th>feat_59</th>\n",
       "      <th>feat_60</th>\n",
       "      <th>feat_61</th>\n",
       "      <th>feat_62</th>\n",
       "      <th>time</th>\n",
       "      <th>id</th>\n",
       "    </tr>\n",
       "  </thead>\n",
       "  <tbody>\n",
       "    <tr>\n",
       "      <th>0</th>\n",
       "      <td>0.117956</td>\n",
       "      <td>0.386922</td>\n",
       "      <td>2.853566e-07</td>\n",
       "      <td>0.153047</td>\n",
       "      <td>0.379128</td>\n",
       "      <td>-0.008062</td>\n",
       "      <td>0.193494</td>\n",
       "      <td>0.385696</td>\n",
       "      <td>-0.021234</td>\n",
       "      <td>0.215485</td>\n",
       "      <td>...</td>\n",
       "      <td>0.438754</td>\n",
       "      <td>-0.051042</td>\n",
       "      <td>0.186654</td>\n",
       "      <td>0.438980</td>\n",
       "      <td>-0.039412</td>\n",
       "      <td>0.193505</td>\n",
       "      <td>0.434531</td>\n",
       "      <td>-0.028805</td>\n",
       "      <td>1</td>\n",
       "      <td>0</td>\n",
       "    </tr>\n",
       "    <tr>\n",
       "      <th>1</th>\n",
       "      <td>0.101412</td>\n",
       "      <td>0.386470</td>\n",
       "      <td>3.435135e-07</td>\n",
       "      <td>0.139825</td>\n",
       "      <td>0.378564</td>\n",
       "      <td>-0.003829</td>\n",
       "      <td>0.182483</td>\n",
       "      <td>0.385090</td>\n",
       "      <td>-0.014206</td>\n",
       "      <td>0.208812</td>\n",
       "      <td>...</td>\n",
       "      <td>0.439926</td>\n",
       "      <td>-0.043460</td>\n",
       "      <td>0.183299</td>\n",
       "      <td>0.439522</td>\n",
       "      <td>-0.032350</td>\n",
       "      <td>0.190033</td>\n",
       "      <td>0.434250</td>\n",
       "      <td>-0.023307</td>\n",
       "      <td>2</td>\n",
       "      <td>0</td>\n",
       "    </tr>\n",
       "    <tr>\n",
       "      <th>2</th>\n",
       "      <td>0.093177</td>\n",
       "      <td>0.388346</td>\n",
       "      <td>3.150043e-07</td>\n",
       "      <td>0.130802</td>\n",
       "      <td>0.381340</td>\n",
       "      <td>-0.003627</td>\n",
       "      <td>0.174718</td>\n",
       "      <td>0.386656</td>\n",
       "      <td>-0.012880</td>\n",
       "      <td>0.203953</td>\n",
       "      <td>...</td>\n",
       "      <td>0.443390</td>\n",
       "      <td>-0.040903</td>\n",
       "      <td>0.179401</td>\n",
       "      <td>0.442844</td>\n",
       "      <td>-0.030374</td>\n",
       "      <td>0.185152</td>\n",
       "      <td>0.437684</td>\n",
       "      <td>-0.020871</td>\n",
       "      <td>3</td>\n",
       "      <td>0</td>\n",
       "    </tr>\n",
       "    <tr>\n",
       "      <th>3</th>\n",
       "      <td>0.093914</td>\n",
       "      <td>0.389550</td>\n",
       "      <td>2.925435e-07</td>\n",
       "      <td>0.133714</td>\n",
       "      <td>0.384082</td>\n",
       "      <td>-0.003104</td>\n",
       "      <td>0.177005</td>\n",
       "      <td>0.391834</td>\n",
       "      <td>-0.011821</td>\n",
       "      <td>0.204865</td>\n",
       "      <td>...</td>\n",
       "      <td>0.447864</td>\n",
       "      <td>-0.039652</td>\n",
       "      <td>0.173955</td>\n",
       "      <td>0.447469</td>\n",
       "      <td>-0.028377</td>\n",
       "      <td>0.179512</td>\n",
       "      <td>0.442588</td>\n",
       "      <td>-0.018689</td>\n",
       "      <td>4</td>\n",
       "      <td>0</td>\n",
       "    </tr>\n",
       "    <tr>\n",
       "      <th>4</th>\n",
       "      <td>0.095978</td>\n",
       "      <td>0.393567</td>\n",
       "      <td>2.688094e-07</td>\n",
       "      <td>0.136671</td>\n",
       "      <td>0.387915</td>\n",
       "      <td>-0.004087</td>\n",
       "      <td>0.179313</td>\n",
       "      <td>0.395896</td>\n",
       "      <td>-0.012594</td>\n",
       "      <td>0.204663</td>\n",
       "      <td>...</td>\n",
       "      <td>0.451454</td>\n",
       "      <td>-0.037330</td>\n",
       "      <td>0.176432</td>\n",
       "      <td>0.451662</td>\n",
       "      <td>-0.026292</td>\n",
       "      <td>0.183658</td>\n",
       "      <td>0.447311</td>\n",
       "      <td>-0.016078</td>\n",
       "      <td>5</td>\n",
       "      <td>0</td>\n",
       "    </tr>\n",
       "    <tr>\n",
       "      <th>...</th>\n",
       "      <td>...</td>\n",
       "      <td>...</td>\n",
       "      <td>...</td>\n",
       "      <td>...</td>\n",
       "      <td>...</td>\n",
       "      <td>...</td>\n",
       "      <td>...</td>\n",
       "      <td>...</td>\n",
       "      <td>...</td>\n",
       "      <td>...</td>\n",
       "      <td>...</td>\n",
       "      <td>...</td>\n",
       "      <td>...</td>\n",
       "      <td>...</td>\n",
       "      <td>...</td>\n",
       "      <td>...</td>\n",
       "      <td>...</td>\n",
       "      <td>...</td>\n",
       "      <td>...</td>\n",
       "      <td>...</td>\n",
       "      <td>...</td>\n",
       "    </tr>\n",
       "    <tr>\n",
       "      <th>346295</th>\n",
       "      <td>0.233839</td>\n",
       "      <td>0.513848</td>\n",
       "      <td>-9.722498e-08</td>\n",
       "      <td>0.275158</td>\n",
       "      <td>0.502327</td>\n",
       "      <td>0.007790</td>\n",
       "      <td>0.317959</td>\n",
       "      <td>0.506536</td>\n",
       "      <td>0.012863</td>\n",
       "      <td>0.343052</td>\n",
       "      <td>...</td>\n",
       "      <td>0.563890</td>\n",
       "      <td>-0.005739</td>\n",
       "      <td>0.325536</td>\n",
       "      <td>0.558758</td>\n",
       "      <td>0.003228</td>\n",
       "      <td>0.318171</td>\n",
       "      <td>0.553625</td>\n",
       "      <td>0.010196</td>\n",
       "      <td>96</td>\n",
       "      <td>3575</td>\n",
       "    </tr>\n",
       "    <tr>\n",
       "      <th>346296</th>\n",
       "      <td>0.234197</td>\n",
       "      <td>0.513990</td>\n",
       "      <td>-9.725095e-08</td>\n",
       "      <td>0.274799</td>\n",
       "      <td>0.502437</td>\n",
       "      <td>0.008103</td>\n",
       "      <td>0.317575</td>\n",
       "      <td>0.506107</td>\n",
       "      <td>0.013309</td>\n",
       "      <td>0.342860</td>\n",
       "      <td>...</td>\n",
       "      <td>0.564021</td>\n",
       "      <td>-0.005754</td>\n",
       "      <td>0.326883</td>\n",
       "      <td>0.559177</td>\n",
       "      <td>0.003527</td>\n",
       "      <td>0.320593</td>\n",
       "      <td>0.553961</td>\n",
       "      <td>0.010859</td>\n",
       "      <td>97</td>\n",
       "      <td>3575</td>\n",
       "    </tr>\n",
       "    <tr>\n",
       "      <th>346297</th>\n",
       "      <td>0.233718</td>\n",
       "      <td>0.513952</td>\n",
       "      <td>-9.344888e-08</td>\n",
       "      <td>0.274775</td>\n",
       "      <td>0.502218</td>\n",
       "      <td>0.007704</td>\n",
       "      <td>0.317788</td>\n",
       "      <td>0.506188</td>\n",
       "      <td>0.012552</td>\n",
       "      <td>0.343203</td>\n",
       "      <td>...</td>\n",
       "      <td>0.563900</td>\n",
       "      <td>-0.005466</td>\n",
       "      <td>0.326492</td>\n",
       "      <td>0.558926</td>\n",
       "      <td>0.003697</td>\n",
       "      <td>0.319886</td>\n",
       "      <td>0.553843</td>\n",
       "      <td>0.010976</td>\n",
       "      <td>98</td>\n",
       "      <td>3575</td>\n",
       "    </tr>\n",
       "    <tr>\n",
       "      <th>346298</th>\n",
       "      <td>0.234875</td>\n",
       "      <td>0.513540</td>\n",
       "      <td>-9.750433e-08</td>\n",
       "      <td>0.275554</td>\n",
       "      <td>0.502235</td>\n",
       "      <td>0.007847</td>\n",
       "      <td>0.318028</td>\n",
       "      <td>0.505789</td>\n",
       "      <td>0.012907</td>\n",
       "      <td>0.343222</td>\n",
       "      <td>...</td>\n",
       "      <td>0.564307</td>\n",
       "      <td>-0.006104</td>\n",
       "      <td>0.327353</td>\n",
       "      <td>0.559782</td>\n",
       "      <td>0.003310</td>\n",
       "      <td>0.321330</td>\n",
       "      <td>0.554713</td>\n",
       "      <td>0.010895</td>\n",
       "      <td>99</td>\n",
       "      <td>3575</td>\n",
       "    </tr>\n",
       "    <tr>\n",
       "      <th>346299</th>\n",
       "      <td>0.234409</td>\n",
       "      <td>0.514025</td>\n",
       "      <td>-8.415213e-08</td>\n",
       "      <td>0.275783</td>\n",
       "      <td>0.502517</td>\n",
       "      <td>0.007584</td>\n",
       "      <td>0.319031</td>\n",
       "      <td>0.506684</td>\n",
       "      <td>0.011546</td>\n",
       "      <td>0.344707</td>\n",
       "      <td>...</td>\n",
       "      <td>0.564422</td>\n",
       "      <td>-0.005665</td>\n",
       "      <td>0.327467</td>\n",
       "      <td>0.559655</td>\n",
       "      <td>0.004351</td>\n",
       "      <td>0.321450</td>\n",
       "      <td>0.554722</td>\n",
       "      <td>0.012147</td>\n",
       "      <td>100</td>\n",
       "      <td>3575</td>\n",
       "    </tr>\n",
       "  </tbody>\n",
       "</table>\n",
       "<p>346300 rows × 65 columns</p>\n",
       "</div>"
      ],
      "text/plain": [
       "          feat_0    feat_1        feat_2    feat_3    feat_4    feat_5  \\\n",
       "0       0.117956  0.386922  2.853566e-07  0.153047  0.379128 -0.008062   \n",
       "1       0.101412  0.386470  3.435135e-07  0.139825  0.378564 -0.003829   \n",
       "2       0.093177  0.388346  3.150043e-07  0.130802  0.381340 -0.003627   \n",
       "3       0.093914  0.389550  2.925435e-07  0.133714  0.384082 -0.003104   \n",
       "4       0.095978  0.393567  2.688094e-07  0.136671  0.387915 -0.004087   \n",
       "...          ...       ...           ...       ...       ...       ...   \n",
       "346295  0.233839  0.513848 -9.722498e-08  0.275158  0.502327  0.007790   \n",
       "346296  0.234197  0.513990 -9.725095e-08  0.274799  0.502437  0.008103   \n",
       "346297  0.233718  0.513952 -9.344888e-08  0.274775  0.502218  0.007704   \n",
       "346298  0.234875  0.513540 -9.750433e-08  0.275554  0.502235  0.007847   \n",
       "346299  0.234409  0.514025 -8.415213e-08  0.275783  0.502517  0.007584   \n",
       "\n",
       "          feat_6    feat_7    feat_8    feat_9  ...   feat_55   feat_56  \\\n",
       "0       0.193494  0.385696 -0.021234  0.215485  ...  0.438754 -0.051042   \n",
       "1       0.182483  0.385090 -0.014206  0.208812  ...  0.439926 -0.043460   \n",
       "2       0.174718  0.386656 -0.012880  0.203953  ...  0.443390 -0.040903   \n",
       "3       0.177005  0.391834 -0.011821  0.204865  ...  0.447864 -0.039652   \n",
       "4       0.179313  0.395896 -0.012594  0.204663  ...  0.451454 -0.037330   \n",
       "...          ...       ...       ...       ...  ...       ...       ...   \n",
       "346295  0.317959  0.506536  0.012863  0.343052  ...  0.563890 -0.005739   \n",
       "346296  0.317575  0.506107  0.013309  0.342860  ...  0.564021 -0.005754   \n",
       "346297  0.317788  0.506188  0.012552  0.343203  ...  0.563900 -0.005466   \n",
       "346298  0.318028  0.505789  0.012907  0.343222  ...  0.564307 -0.006104   \n",
       "346299  0.319031  0.506684  0.011546  0.344707  ...  0.564422 -0.005665   \n",
       "\n",
       "         feat_57   feat_58   feat_59   feat_60   feat_61   feat_62  time    id  \n",
       "0       0.186654  0.438980 -0.039412  0.193505  0.434531 -0.028805     1     0  \n",
       "1       0.183299  0.439522 -0.032350  0.190033  0.434250 -0.023307     2     0  \n",
       "2       0.179401  0.442844 -0.030374  0.185152  0.437684 -0.020871     3     0  \n",
       "3       0.173955  0.447469 -0.028377  0.179512  0.442588 -0.018689     4     0  \n",
       "4       0.176432  0.451662 -0.026292  0.183658  0.447311 -0.016078     5     0  \n",
       "...          ...       ...       ...       ...       ...       ...   ...   ...  \n",
       "346295  0.325536  0.558758  0.003228  0.318171  0.553625  0.010196    96  3575  \n",
       "346296  0.326883  0.559177  0.003527  0.320593  0.553961  0.010859    97  3575  \n",
       "346297  0.326492  0.558926  0.003697  0.319886  0.553843  0.010976    98  3575  \n",
       "346298  0.327353  0.559782  0.003310  0.321330  0.554713  0.010895    99  3575  \n",
       "346299  0.327467  0.559655  0.004351  0.321450  0.554722  0.012147   100  3575  \n",
       "\n",
       "[346300 rows x 65 columns]"
      ]
     },
     "execution_count": 19,
     "metadata": {},
     "output_type": "execute_result"
    }
   ],
   "source": [
    "all_df"
   ]
  },
  {
   "cell_type": "code",
   "execution_count": null,
   "metadata": {},
   "outputs": [],
   "source": []
  },
  {
   "cell_type": "code",
   "execution_count": null,
   "metadata": {},
   "outputs": [],
   "source": []
  },
  {
   "cell_type": "code",
   "execution_count": null,
   "metadata": {},
   "outputs": [],
   "source": []
  },
  {
   "cell_type": "code",
   "execution_count": 16,
   "metadata": {},
   "outputs": [
    {
     "name": "stderr",
     "output_type": "stream",
     "text": [
      "Feature Extraction: 100%|██████████| 50/50 [00:25<00:00,  2.00it/s]\n"
     ]
    }
   ],
   "source": [
    "extraction_settings = ComprehensiveFCParameters()\n",
    "\n",
    "# MinimalFCParameters, EfficientFCParameters\n",
    "\n",
    "X = extract_features(all_df, column_id='id', column_sort='time',\n",
    "                    default_fc_parameters=MinimalFCParameters(),\n",
    "                    impute_function=impute, n_jobs=10)\n",
    "\n",
    "X_filtered = select_features(X, y, n_jobs=10)"
   ]
  },
  {
   "cell_type": "code",
   "execution_count": 17,
   "metadata": {},
   "outputs": [
    {
     "data": {
      "text/plain": [
       "((3463, 337), (3463, 630))"
      ]
     },
     "execution_count": 17,
     "metadata": {},
     "output_type": "execute_result"
    }
   ],
   "source": [
    "X_filtered.shape, X.shape"
   ]
  },
  {
   "cell_type": "code",
   "execution_count": 137,
   "metadata": {},
   "outputs": [
    {
     "data": {
      "text/plain": [
       "Index(['feat_2__mean', 'feat_2__sum_values', 'feat_2__median',\n",
       "       'feat_2__maximum', 'feat_2__minimum', 'feat_37__maximum',\n",
       "       'feat_37__absolute_maximum', 'feat_61__absolute_maximum',\n",
       "       'feat_61__maximum', 'feat_49__maximum',\n",
       "       ...\n",
       "       'feat_58__root_mean_square', 'feat_47__maximum', 'feat_58__median',\n",
       "       'feat_40__standard_deviation', 'feat_40__variance',\n",
       "       'feat_41__sum_values', 'feat_41__mean', 'feat_43__standard_deviation',\n",
       "       'feat_43__variance', 'feat_41__median'],\n",
       "      dtype='object', length=129)"
      ]
     },
     "execution_count": 137,
     "metadata": {},
     "output_type": "execute_result"
    }
   ],
   "source": [
    "X_filtered.columns"
   ]
  },
  {
   "cell_type": "code",
   "execution_count": 158,
   "metadata": {},
   "outputs": [
    {
     "data": {
      "application/vnd.plotly.v1+json": {
       "config": {
        "plotlyServerURL": "https://plot.ly"
       },
       "data": [
        {
         "marker": {
          "color": [
           0,
           0,
           0,
           0,
           0,
           0,
           0,
           0,
           0,
           0,
           0,
           0,
           0,
           0,
           0,
           0,
           0,
           0,
           0,
           0,
           0,
           0,
           0,
           0,
           0,
           0,
           0,
           0,
           0,
           0,
           0,
           0,
           0,
           0,
           0,
           0,
           0,
           0,
           0,
           0,
           0,
           0,
           0,
           0,
           0,
           0,
           0,
           0,
           0,
           0,
           0,
           0,
           0,
           0,
           0,
           0,
           0,
           0,
           0,
           0,
           0,
           0,
           0,
           0,
           0,
           0,
           0,
           0,
           0,
           0,
           0,
           0,
           0,
           0,
           0,
           0,
           0,
           0,
           0,
           0,
           0,
           0,
           0,
           0,
           0,
           0,
           0,
           0,
           0,
           0,
           0,
           0,
           0,
           0,
           0,
           0,
           0,
           0,
           0,
           0,
           0,
           0,
           0,
           0,
           0,
           0,
           0,
           0,
           0,
           0,
           0,
           0,
           0,
           0,
           0,
           0,
           0,
           0,
           0,
           0,
           0,
           0,
           0,
           0,
           0,
           0,
           0,
           0,
           0,
           0,
           0,
           0,
           0,
           0,
           0,
           0,
           0,
           0,
           1,
           1,
           1,
           1,
           1,
           1,
           1,
           1,
           1,
           1,
           1,
           1,
           1,
           1,
           1,
           1,
           1,
           1,
           1,
           1,
           1,
           1,
           1,
           1,
           1,
           1,
           1,
           1,
           1,
           1,
           1,
           1,
           1,
           1,
           1,
           1,
           1,
           1,
           1,
           1,
           1,
           1,
           1,
           1,
           1,
           1,
           1,
           1,
           1,
           1,
           1,
           1,
           1,
           1,
           1,
           1,
           1,
           1,
           1,
           1,
           1,
           1,
           1,
           1,
           1,
           1,
           1,
           1,
           1,
           1,
           1,
           1,
           1,
           1,
           1,
           1,
           1,
           1,
           1,
           1,
           1,
           1,
           1,
           1,
           1,
           1,
           1,
           1,
           1,
           1,
           1,
           1,
           1,
           1,
           1,
           1,
           1,
           1,
           1,
           1,
           1,
           1,
           1,
           1,
           1,
           1,
           1,
           1,
           1,
           1,
           1,
           1,
           1,
           1,
           1,
           1,
           1,
           1,
           1,
           1,
           1,
           1,
           1,
           1,
           1,
           1,
           1,
           1,
           1,
           1,
           1,
           1,
           1,
           1,
           1,
           1,
           1,
           1,
           1,
           1,
           1,
           1,
           1,
           1,
           1,
           1,
           1,
           1,
           1,
           1,
           1,
           1,
           1,
           1,
           1,
           1,
           1,
           1,
           1,
           1,
           1,
           1,
           1,
           1,
           1,
           1,
           1,
           1,
           1,
           1,
           1,
           1,
           1,
           1,
           1,
           1,
           1,
           1,
           1,
           1,
           1,
           1,
           1,
           1,
           1,
           1,
           1,
           1,
           1,
           1,
           1,
           1,
           1,
           1,
           1,
           1,
           1,
           1,
           1,
           1,
           1,
           1,
           1,
           1,
           1,
           1,
           1,
           1,
           1,
           1,
           1,
           1,
           1,
           1,
           1,
           1,
           1,
           1,
           1,
           1,
           1,
           1,
           1,
           1,
           1,
           1,
           1,
           1,
           1,
           1,
           1,
           1,
           1,
           1,
           1,
           1,
           1,
           1,
           1,
           1,
           1,
           1,
           1,
           1,
           1,
           1,
           1,
           1,
           1,
           1,
           1,
           1,
           1,
           1,
           1,
           1,
           1,
           1,
           1,
           1,
           1,
           1,
           1,
           1,
           1,
           1,
           1,
           1,
           1,
           1,
           1,
           1,
           1,
           1,
           1,
           1,
           1,
           1,
           1,
           1,
           1,
           1,
           1,
           1,
           1,
           1,
           1,
           1,
           1,
           1,
           1,
           1,
           1,
           1,
           1,
           1,
           1,
           1,
           1,
           1,
           1,
           1,
           1,
           1,
           1,
           1,
           1,
           1,
           1,
           1,
           1,
           1,
           1,
           1,
           1,
           1,
           1,
           1,
           1,
           1,
           1,
           1,
           1,
           1,
           1,
           1,
           1,
           1,
           1,
           1,
           1,
           1,
           1,
           1,
           1,
           1,
           1,
           1,
           1,
           1,
           1,
           1,
           1,
           1,
           1,
           1,
           1,
           1,
           1,
           1,
           1,
           1,
           1,
           1,
           1,
           1,
           1,
           1,
           1,
           1,
           1,
           1,
           1,
           1,
           1,
           1,
           1,
           1,
           1,
           1,
           1,
           1,
           1,
           1,
           1,
           1,
           1,
           1,
           1,
           1,
           1,
           1,
           1,
           1,
           1,
           1,
           1,
           1,
           1,
           1,
           1,
           1,
           1,
           1,
           1,
           1,
           1,
           1,
           1,
           1,
           1,
           1,
           1,
           1,
           1,
           1,
           1,
           1,
           1,
           1,
           1,
           1,
           1,
           1,
           1,
           1,
           1,
           1,
           1,
           1,
           1,
           1,
           1,
           1,
           1,
           1,
           1,
           1,
           1,
           1,
           1,
           1,
           1,
           1,
           1,
           1,
           1,
           1,
           1,
           1,
           1,
           1,
           1,
           1,
           1,
           1,
           1,
           1,
           1,
           1,
           1,
           1,
           1,
           1,
           1,
           1,
           1,
           1,
           1,
           1,
           1,
           1,
           1,
           1,
           1,
           1,
           1,
           1,
           1,
           1,
           1,
           1,
           1,
           1,
           1,
           1,
           1,
           1,
           1,
           1,
           1,
           1,
           1,
           1,
           1,
           1,
           1,
           1,
           1,
           1,
           1,
           1,
           1,
           1,
           1,
           1,
           1,
           1,
           1,
           1,
           1,
           1,
           1,
           1,
           1,
           1,
           1,
           1,
           1,
           1,
           1,
           1,
           1,
           1,
           1,
           1,
           1,
           1,
           1,
           1,
           1,
           1,
           1,
           1,
           1,
           1,
           1,
           1,
           1,
           1,
           1,
           1,
           1,
           1,
           1,
           1,
           1,
           1,
           1,
           1,
           1,
           1,
           1,
           1,
           1,
           1,
           1,
           1,
           1,
           1,
           1,
           1,
           1,
           1,
           1,
           1,
           1,
           1,
           1,
           1,
           1,
           1,
           1,
           1,
           1,
           1,
           1,
           1,
           1,
           1,
           1,
           1,
           1,
           1,
           1,
           1,
           1,
           1,
           1,
           1,
           1,
           1,
           1,
           1,
           1,
           1,
           1,
           1,
           1,
           1,
           1,
           1,
           1,
           1,
           1,
           1,
           1,
           1,
           1,
           1,
           1,
           1,
           1,
           1,
           1,
           1,
           1,
           1,
           1,
           1,
           1,
           1,
           1,
           1,
           1,
           1,
           1,
           1,
           1,
           1,
           1,
           1,
           1,
           1,
           1,
           1,
           1,
           1,
           1,
           1,
           1,
           1,
           1,
           1,
           1,
           1,
           1,
           1,
           1,
           1,
           1,
           1,
           1,
           1,
           1,
           1,
           1,
           1,
           1,
           1,
           1,
           1,
           1,
           1,
           1,
           1,
           1,
           1,
           1,
           1,
           1,
           1,
           1,
           1,
           1,
           1,
           1,
           1,
           1,
           1,
           1,
           1,
           1,
           1,
           1,
           1,
           1,
           1,
           1,
           1,
           1,
           1,
           1,
           1,
           1,
           1,
           1,
           1,
           1,
           1,
           1,
           1,
           1,
           1,
           1,
           1,
           1,
           1,
           1,
           1,
           1,
           1,
           1,
           1,
           1,
           1,
           1,
           1,
           1,
           1,
           1,
           1,
           1,
           1,
           1,
           1,
           1,
           1,
           1,
           1,
           1,
           1,
           1,
           1,
           1,
           1,
           1,
           1,
           1,
           1,
           1,
           1,
           1,
           1,
           1,
           1,
           1,
           1,
           1,
           1,
           1,
           1,
           1,
           1,
           1,
           1,
           1,
           1,
           1,
           1,
           1,
           1,
           1,
           1,
           1,
           1,
           1,
           1,
           1,
           1,
           1,
           1,
           1,
           1,
           1,
           1,
           1,
           1,
           1,
           1,
           1,
           1,
           1,
           1,
           1
          ],
          "line": {
           "width": 1
          },
          "opacity": 1,
          "size": 5
         },
         "mode": "markers",
         "type": "scatter3d",
         "x": [
          1.1401604766739948,
          2.955936887690044,
          6.706361668595234,
          0.30753589964362166,
          3.718638472887979,
          5.298869441488933,
          6.494691778747621,
          7.12997034290332,
          2.6623967149765733,
          2.7591151377134913,
          4.896561387036763,
          2.306103087255448,
          1.6689087304969885,
          5.11826494975761,
          5.2520069311102535,
          4.21532699582694,
          2.507460831200724,
          3.399225820719642,
          6.682580373034394,
          10.15195476710417,
          2.8592929019753117,
          7.659133400581402,
          6.090862516540943,
          10.643261326668927,
          3.0092329608302992,
          1.9623280734997386,
          3.576276727678895,
          6.109232463053937,
          6.997878032520502,
          2.4069360541169487,
          5.13706935823592,
          1.5617268857127897,
          3.1584281924791298,
          2.3982163287939846,
          3.489886824834208,
          2.612248885457432,
          3.450228617934086,
          -10.908183495675102,
          -4.820445346893447,
          -4.206038543290614,
          -8.857254889258451,
          -2.5557591837500238,
          3.258124680719851,
          4.236619654154897,
          4.036935839652713,
          2.326570655442437,
          -4.564250458774126,
          -1.6176915745807636,
          -5.6343692819476034,
          -0.6993795958342047,
          -1.3453740979735203,
          1.446889779456791,
          1.0997208232212121,
          0.9144913096415455,
          -0.6931163785538188,
          -2.9909490337180418,
          -6.214138357057615,
          0.3954463647499117,
          -6.757498224192679,
          -5.296796155919847,
          -8.678792725373581,
          -6.69798784722034,
          -5.749490477361047,
          -2.29802256410584,
          -7.272094443115086,
          -5.854832406796243,
          -2.4680509906186523,
          -0.22772092419685186,
          0.14014708383585656,
          2.109704828639548,
          2.3336341996981025,
          3.627815752090526,
          3.997384014463291,
          0.45208519395901925,
          -1.8107343610084796,
          -0.8902418346354304,
          0.8108424037444236,
          0.26459358304480274,
          -1.0440907393335903,
          -4.4356175957766135,
          -4.774516586261319,
          -3.32698957148487,
          -0.8882789986230318,
          0.19919461221901183,
          -0.5793867933692228,
          -1.4140982681821948,
          -1.9854400654214686,
          -3.6183159164913414,
          -1.010695959130478,
          -6.8951943159271805,
          -3.2658821951789676,
          -1.4504235230388518,
          -1.6190123468156103,
          -4.448012222786447,
          3.180734878060954,
          2.479619167047609,
          6.971584683425443,
          8.114886067685156,
          10.818313517851704,
          11.107454448070033,
          9.510845992608315,
          9.39823092739772,
          7.207379438098737,
          7.134894937051335,
          5.505536394800851,
          4.500703241106598,
          4.623301764399417,
          6.653140017665655,
          6.676975313808449,
          5.6606320700453345,
          1.4599243916594897,
          3.137967556359363,
          3.0145961758673683,
          3.2640663071688416,
          5.490188833443273,
          7.130323854475521,
          7.300921702902514,
          10.315446862952607,
          12.035056584020042,
          6.557986320372444,
          6.736894049831659,
          6.865940576192707,
          6.770359084118778,
          11.229209575252268,
          11.176767948533566,
          10.128337730075117,
          6.9479712574801145,
          7.093780848370041,
          6.911897017220335,
          8.622118724679895,
          6.140662250295622,
          6.094221548727203,
          4.6114091180243415,
          2.7550524348111147,
          6.769542620857921,
          3.1326385887298733,
          5.880916664558528,
          5.2346118559708,
          -8.705590631123423,
          -3.892002929643786,
          -4.651630725285653,
          -8.469787369206525,
          -3.204447838858911,
          -1.1793368752077413,
          -0.2969599807364888,
          -5.720102609807257,
          -2.4611649595945027,
          0.8978015142295239,
          -0.018767137231275162,
          0.3207410026654712,
          4.098119897765518,
          3.4693115438136704,
          5.818456558350413,
          6.4440573648743324,
          3.332974512113678,
          1.5757588117418393,
          0.6782478542220924,
          0.10768722049481246,
          1.3067475055737898,
          0.8887534444112369,
          0.7487806451430579,
          1.5316056949952428,
          0.830987320804271,
          6.265891902691585,
          1.5394979415071695,
          4.381417790346369,
          1.7929744960130256,
          2.317626073327479,
          1.4182130556240087,
          4.6101233026389385,
          7.422895195745831,
          8.009296229134973,
          9.943404548225406,
          10.788599194734205,
          5.754347741076193,
          3.8221405470757426,
          5.216769665344664,
          6.187551665478125,
          7.827095371330261,
          8.588732644793659,
          1.0391043548386152,
          0.9155547069655021,
          2.213244109937895,
          1.8519367419648196,
          0.5471896312267485,
          0.5516472414347163,
          1.2371295891054264,
          1.9822751402109688,
          1.4666795360467548,
          1.2605968251159607,
          1.255861650728738,
          -15.348114937722734,
          -10.274598791155087,
          -10.538752960119288,
          -8.483538684261692,
          -3.8256598877570576,
          -7.929995800847656,
          -8.015195780885414,
          -6.870607136955863,
          -7.978647287965541,
          -6.740386590921039,
          -6.109148533437254,
          -3.9894147398486615,
          -2.649466636824269,
          -0.2653205858077571,
          1.157095273200721,
          -0.8489213720771062,
          -1.3638529408566495,
          -3.683818711665715,
          -0.0213348004268141,
          1.214638501362401,
          0.2698719935435998,
          1.9870267933590173,
          1.573108899308118,
          -3.7455263849718174,
          -4.807556359865817,
          -5.7972017758348375,
          -8.37988379171336,
          -5.410357192799023,
          -4.43027125484015,
          -4.955022923594637,
          -7.468747268100223,
          -4.6146031527078994,
          -4.778699821929995,
          -4.644323391751053,
          -6.343474297747958,
          -6.709897067785784,
          -4.702807785902901,
          -7.008337545959341,
          -3.5108802183394077,
          -2.60072743785022,
          -6.565118591382208,
          -4.721383488050332,
          -4.274858047379902,
          -9.165833246006452,
          -6.464342085452113,
          -8.253852967669586,
          -8.85767639374819,
          -7.195482522574593,
          -7.5031166606679305,
          -6.199924157758951,
          -6.083258749230227,
          -6.7869524675131885,
          -8.266536478639232,
          -9.356876690623794,
          -8.65232095951071,
          -7.39389769047127,
          -7.543696494766979,
          -8.327935400617838,
          -6.113023331516729,
          -3.491705731300165,
          -10.471296953907496,
          -6.84766039706719,
          -4.839059421033223,
          -16.838111002822288,
          -8.011185704107273,
          -6.858376344201655,
          -4.762966552239404,
          -2.18253433691083,
          -0.5710790706559735,
          -2.581839378719379,
          -2.289862973567032,
          -1.6089693208698894,
          0.2341503103195362,
          1.3451358960808102,
          1.728279468055664,
          2.1226228689038575,
          2.4732286304881157,
          2.080596768615319,
          2.776025682800225,
          4.6004637266516495,
          -11.350908228883632,
          0.04473331734894595,
          3.0481948641735976,
          1.3149307483911634,
          -8.005362739210724,
          -7.6041159575903965,
          -8.30507608872553,
          -8.07817302138306,
          -6.942920014024111,
          -8.891210170818214,
          -9.1868266441418,
          -8.835603300707755,
          -9.481821020243181,
          -9.644994226670185,
          -0.3085039754950387,
          4.868773642021679,
          3.9539302571221326,
          7.285198893499044,
          4.130414119987637,
          5.575518605434372,
          7.24579790890887,
          9.661951736728792,
          11.407869789637218,
          5.251403061654824,
          9.262609413736975,
          9.548811059431369,
          5.0286154776987395,
          5.391967027841343,
          5.3299473370095765,
          5.746614005072136,
          5.583249132582582,
          4.849672088908758,
          6.050613738938982,
          4.412952660378453,
          4.85797250806224,
          3.4469717993566324,
          4.3973760127667845,
          2.984008059058089,
          22.618831725612765,
          1.5917961562790968,
          5.635298515305668,
          -5.779000502020049,
          -1.9131405991262105,
          7.032465404591598,
          9.525734588138583,
          1.4667286699576787,
          4.3569441081094515,
          4.657116338773346,
          6.079408707981457,
          5.78226306359642,
          5.883088249752506,
          6.421407234517796,
          8.184450639207446,
          7.686809862259591,
          10.370894048580285,
          8.16173983804073,
          9.218143308419391,
          8.868203692130093,
          9.471026474448596,
          6.833745731395114,
          10.84777500911676,
          10.293514835589708,
          9.858909216776702,
          8.066865167820525,
          10.563695950232214,
          10.011760054892184,
          9.991574417246637,
          7.0100970340874165,
          -2.1674116575185853,
          2.620410356280109,
          4.668848300744654,
          4.734446221675834,
          2.3986677953126163,
          1.2086842277126837,
          1.6675991584938572,
          2.3142963836622457,
          4.325371903151285,
          -2.8650670947472765,
          1.3521100994158297,
          16.831641472965575,
          1.5548314882844347,
          2.0837239322797676,
          -0.8917055192303263,
          4.523609337654694,
          0.7659548500763893,
          4.034731954963838,
          2.2332589901054045,
          3.9290930161166617,
          3.4781882245400197,
          6.192828178430527,
          6.731807031029967,
          7.268265419354211,
          6.515801272252226,
          7.14739230924273,
          4.908026849768824,
          5.86757631682834,
          8.999624162943936,
          7.742565941899676,
          6.980144545816433,
          -5.370998409490571,
          -17.01293864790894,
          -16.155274643361775,
          -15.070575747918525,
          -13.847965716805716,
          -14.465884380180409,
          -10.13953389017436,
          -9.78602181923192,
          -10.201190074504893,
          -9.486575813682446,
          -16.219607265182596,
          -11.635483847781737,
          -12.663768519213276,
          -11.590760542287793,
          -11.670456165515763,
          -14.018646633767444,
          -14.417458854190448,
          -16.286705812054205,
          -19.686965854259753,
          -15.885037344456912,
          -11.864896685578225,
          -11.689364701213629,
          -15.17666717187245,
          -11.954101848510929,
          -12.927067522367967,
          -13.288148848852357,
          -12.957837058581074,
          -12.999914232233392,
          -15.191896810138477,
          -14.623057564516923,
          -11.124618478227358,
          -6.915885876865186,
          -4.429153121896499,
          -2.5466239120004843,
          0.12138410359413997,
          -0.8618573609791457,
          0.539565255599795,
          -1.8452418408476774,
          -9.149465696466816,
          -7.140099530211149,
          -11.500549515234972,
          -10.127157266533654,
          -12.34875503197715,
          -13.979462057183428,
          -11.22402826901785,
          -9.960901870504042,
          -8.976817859984939,
          -7.990299838940824,
          -8.30333191028274,
          -6.8428035522436055,
          -6.191543871192576,
          -5.068062146145868,
          -9.76516451022297,
          -11.735989749146905,
          -6.952902645532871,
          -5.312171590219895,
          -4.700800041541416,
          -4.12189985890827,
          35.773982009223275,
          -5.962575670438135,
          -5.218264615561586,
          -14.625325476297046,
          -4.835338065230442,
          -5.103405610786355,
          -5.755628955397351,
          -4.097105462476211,
          -4.2376622889128,
          -3.9293586981204185,
          -4.06928500078494,
          -4.617334510775014,
          -14.46325481912793,
          -7.783384754483237,
          -14.043762885738097,
          -17.68170020873193,
          -16.318831861288714,
          -14.966033480615454,
          -13.26060504339255,
          -11.601533678070853,
          -10.485765403961791,
          -8.549768079600945,
          -8.795399227407485,
          -1.076947988221474,
          -13.660151611199211,
          -13.018380184279254,
          -11.45219603681381,
          -10.872195613974094,
          -8.391032239003135,
          -7.327549279021779,
          -9.160606919667819,
          -9.810302199565745,
          -3.5272544874727565,
          -1.7383082591662948,
          -1.9355275393442337,
          -3.4641125302262243,
          -3.4823617951004673,
          -3.800036616784898,
          -1.7162873157167773,
          -5.784542281366335,
          -4.861855754389487,
          -4.689635431334097,
          -11.026264746347707,
          -6.831157721430844,
          -5.5612552320893425,
          -6.718982446265326,
          -3.3094252189693303,
          -5.283505004579395,
          -5.78945492057353,
          -5.054715155517195,
          -3.8085577904637025,
          -1.736953075882615,
          -0.5373537825217078,
          -1.204635216257459,
          -0.9561027963608036,
          -0.4869616019762818,
          -0.9785508451587539,
          -0.5066993079054879,
          -1.1533809280645753,
          -2.8688133827054543,
          -0.6452483519044148,
          -2.150942220836064,
          -1.4796922765396117,
          0.09966866017110242,
          -0.04278010574328362,
          0.1759956379681957,
          -0.31596242423864185,
          -0.6384263604085628,
          -3.2734092388985476,
          -0.5092660139291951,
          -24.31959559383687,
          -13.828747246718605,
          -14.911525868633923,
          -8.941709225711488,
          -1.6140487588689199,
          -0.6602411156844669,
          -2.442030076979011,
          -4.027845095838059,
          -4.742500656508618,
          -3.740657405192914,
          -2.1146037714507795,
          -3.481152246340492,
          -3.3177511630498424,
          -3.5666572973115898,
          -6.537792225828046,
          -1.2748287109230552,
          -1.2483643195651488,
          0.10495265881478476,
          -0.4462630473875807,
          -0.498379691061142,
          0.4909532011501109,
          0.7755475405596755,
          0.05270306687299724,
          3.1226737701996847,
          -2.6714012776325085,
          -14.830696625049335,
          -14.002080653625946,
          -23.481965128087726,
          -13.097277845573654,
          -2.1852379715374712,
          -2.1798711769010017,
          -3.829395331547129,
          -4.3856844940525965,
          -3.6417266679094977,
          -2.8977833149323935,
          -1.6242572352669378,
          -0.841715906218166,
          0.5683823528996242,
          -1.1451883032363077,
          0.4633532838861631,
          1.5811048866416848,
          1.7681263111289194,
          1.5616748485365137,
          -4.7134115736781474,
          -7.679425903687445,
          -6.8012114088862425,
          -3.469642837807944,
          -3.3038391013668718,
          -6.731194336992519,
          -5.348014500234089,
          -6.032370100094391,
          -7.227395925672747,
          -6.407895895033305,
          -7.058986911116519,
          -7.226529187665159,
          -4.52986368139583,
          -5.500634485515211,
          -5.8474207278861945,
          -4.739550845815905,
          -8.204641149183793,
          -4.225501046501685,
          -5.868980268006725,
          -5.512466481071457,
          -4.687507533874463,
          -5.697800670240939,
          -4.874504131843647,
          -13.887656054513462,
          -5.528677712253885,
          -8.860999220631841,
          -4.572999035414826,
          -11.734694269850616,
          -4.445164205975647,
          -2.062179684286471,
          -4.887348095047562,
          -0.8173729287593573,
          -2.1283823946331824,
          -0.33406539499296795,
          0.12448463631058798,
          2.0618633756432483,
          2.312339683962603,
          2.2208991075360545,
          2.3752133135099402,
          -1.3483955310549665,
          -0.4893468483664533,
          0.04098548114722032,
          1.641417847999497,
          3.041586692720538,
          0.4248100221679364,
          2.34095465395018,
          0.8855511225575814,
          1.3312975493297152,
          1.5019925403232763,
          0.11439952958021454,
          -0.6882146907302312,
          1.785976231327536,
          1.2559932130330194,
          2.063954791672262,
          1.2157906515661128,
          -1.64463231496297,
          0.18642601519307175,
          1.486149777146104,
          -0.06580039694016931,
          -2.5846084871391812,
          0.8431858397724871,
          -8.671598218901192,
          -5.237142793207806,
          -7.206188468286632,
          -4.465427852500264,
          -7.4291013675708175,
          -10.173200520744913,
          -7.908972098503276,
          -9.378683467494737,
          -8.513094997630786,
          4.079177156941492,
          -4.655951504749032,
          -5.037413829622963,
          6.6359523109912315,
          9.375638563177588,
          11.227607457529578,
          12.619938964484847,
          12.980117727014033,
          13.371649186206952,
          11.293100768523493,
          13.8979976755954,
          15.030385884899262,
          11.744002467667913,
          11.437738908912543,
          12.763930252048528,
          -15.028366605893146,
          -6.744557612989373,
          -7.9172000687901845,
          -10.727921581487633,
          -11.787709400599198,
          -9.160719881730568,
          -11.396921694266082,
          -7.127983211023895,
          -5.019511465347581,
          -4.003483333499629,
          -3.482995005329687,
          -2.744385140477938,
          -3.3728717603595073,
          -1.902938799298312,
          -1.1436098427133916,
          -4.389201697647974,
          -3.792324776710229,
          -3.403336628167946,
          -3.4632344202555587,
          -3.397807645885066,
          -2.1746312241877663,
          -1.464548022599886,
          -2.1323509354389554,
          -0.29631344850940294,
          0.10034109837442169,
          -1.1492454208350602,
          -2.053731999873373,
          -1.7376612124500965,
          -3.1162213621760477,
          -3.3428034035590946,
          5.47845700590101,
          14.029292412066622,
          12.62078549200101,
          12.923100073168328,
          16.895303496614403,
          32.47133721880938,
          -7.353628931514612,
          21.05707904369059,
          16.917580947949524,
          15.384584855730798,
          16.410105694789085,
          -11.55490327001176,
          -4.205572763005119,
          -8.217656968720323,
          -8.277903235796199,
          -6.846743141015628,
          -4.244330759780005,
          -2.2420480044916706,
          -0.19046442281290915,
          -0.8519394750095811,
          1.578583467729323,
          1.2922256426141039,
          -2.6294274621344607,
          -2.5677475659559863,
          -4.008366446456694,
          -3.4660416099506963,
          -1.7183075880948742,
          -1.2724209973956162,
          -0.5837995669694249,
          -0.47594402775633887,
          0.041816219200731405,
          0.49182508469724445,
          1.381732435814861,
          3.9521992560958217,
          3.568815665617905,
          1.6158615191225065,
          3.307321411945413,
          2.524280058213212,
          8.032791645656067,
          2.0901561052634583,
          0.9090400865956811,
          2.243138062203783,
          -7.38798360295242,
          26.712626965350044,
          -10.420181328501446,
          -10.35475774277042,
          -6.842683578800285,
          -3.954020798795098,
          0.0022097107764475084,
          -0.6192203145348267,
          -0.693220812673842,
          0.9504205176866146,
          1.033363923814453,
          2.47556582450964,
          3.7703252621654335,
          4.67383424249011,
          4.8724030457745675,
          4.598121110217416,
          4.304547936418537,
          4.306420484388538,
          3.0287281231915832,
          0.8921850768008933,
          2.5404047214915666,
          2.93782348283424,
          3.0516578290680303,
          3.996846371184084,
          3.560808381328903,
          2.8500522093732092,
          4.144967495158862,
          3.403488205654665,
          2.874341074813133,
          3.9745522090435728,
          4.873617783570002,
          4.287757685295175,
          4.462740215683599,
          7.218996868384023,
          5.6158169565736875,
          -6.115340773171992,
          -3.1100236932353793,
          -0.21911362730642522,
          0.22403808404614844,
          1.0479425075023214,
          2.0065711945499953,
          0.5082993608682985,
          1.0676537140472924,
          -0.9359369587992977,
          23.904599822666277,
          0.5327288093090298,
          -0.2989337734710794,
          -3.1516419102261017,
          -2.495278325510182,
          -2.8448972421555982,
          -1.4057713298202554,
          -5.978653429545809,
          -5.457902859592608,
          -5.643723867621148,
          -5.756145294055145,
          -4.433437464314959,
          -1.6035831364242095,
          -1.2942343023142704,
          -0.1826122524206212,
          -0.08034885049260809,
          3.8326651654653916,
          2.726685172777512,
          -0.6281588220221694,
          1.3103613962615936,
          1.868804221847282,
          1.431900532898319,
          2.473520835895005,
          0.47725616237890284,
          1.4821062905588263,
          0.9617369980601715,
          1.3266244014888104,
          1.6144040215722009,
          0.7157844094376064,
          0.3618812559292709,
          0.3329710601476839,
          0.4383600542722596,
          0.295003694123352,
          -1.244695424080873,
          0.8275602419180458,
          2.3391662042042345,
          -1.4538792470281596,
          3.743778746420439,
          6.203465589622672,
          4.276534930860367,
          2.9174413378774537,
          3.9224398055306526,
          5.065099373317783,
          7.307859599228407,
          8.569686069315463,
          2.1025564195243285,
          7.041656970569239,
          6.243193279119155,
          14.018806193588091,
          3.6058599047878843,
          3.3506855139523934,
          3.988361219876863,
          3.5824881831488997,
          0.959201561585625,
          3.7350296141848887,
          4.215756018333583,
          -5.6503342607879485,
          4.246337471492814,
          4.992825967270243,
          0.3727980898708671,
          -2.3913169601400495,
          5.592420771274426,
          -1.3044049481571651,
          5.348211401468264,
          5.183158730497703,
          -12.78787457515023,
          -7.26398414744957,
          -2.0479111317604124,
          3.174807816116481,
          5.272191440246942,
          2.903086924094337,
          1.5893510147565888,
          2.771619776224084,
          3.340098378202135,
          5.059165186541715,
          6.234440058743599,
          7.3449422442153995,
          7.370600392143509,
          7.508663819461403,
          7.244912370647487,
          7.464729172762259,
          5.055216973781343,
          7.51073644239901,
          8.25612071024432,
          8.411188733569933,
          9.018928833536572,
          -8.921766185495088,
          -1.3766204053278075,
          8.350230182732458,
          8.657220947485408,
          11.563775796785986,
          10.781822830327458,
          4.800086482110677,
          6.497553414389775,
          8.031625693259086,
          9.368916771830243,
          10.721917607521847,
          11.722349436088034,
          10.712588912318235,
          6.002305172533774,
          6.668035869939153,
          8.245199630693339,
          9.093668539862108,
          10.250735276742331,
          10.748862788156297,
          10.427132212824485,
          10.236606411273044,
          9.754870263238585,
          2.5624618495051332,
          4.047779471392148,
          4.341670536446004,
          6.350160099947079,
          4.542186872082179,
          5.560968676378968,
          6.232733458828103,
          4.453380066994203,
          4.105645420407284,
          1.045280617616572,
          -0.28984793878929094,
          3.626082687263093,
          4.5735633893219605,
          -0.3307779036720676,
          5.423815861104491,
          6.628300084264408,
          6.154240873088657,
          6.735437335591587,
          7.288765150153641,
          4.334030208745076,
          5.286847361028958,
          6.982052566806623,
          7.698085018511826,
          6.879719666970849,
          7.665874316621136,
          8.515204785315309,
          10.430143026597841,
          7.618042812061882,
          -0.40902937286129665,
          -1.446273718532856,
          -1.9351585798030895,
          2.8002222545789084,
          7.162963540095083,
          5.796051419777513,
          5.874309739349748,
          5.7416830632562865,
          5.865072804906164,
          5.541882381138532,
          4.4799779601821745,
          5.164612850373479,
          -1.5369052658176607,
          0.7260473653527483,
          4.093251766544563,
          2.793361966796099,
          7.4793203673075945,
          8.306504640558293,
          7.098636836273768,
          4.634450466272072,
          7.298648453738522,
          11.350661759804726,
          12.541575990372369,
          11.805253657602478,
          8.650800962217247,
          10.677894065511241,
          10.853088391656673,
          11.64130904818476,
          7.954589553797014,
          4.892743488135659,
          4.721287650558726,
          5.624069788031652,
          6.331099927615812,
          6.391909932993769,
          6.088814052710022
         ],
         "y": [
          -12.517273921696429,
          -12.422296667447378,
          -11.178034076578053,
          -7.9433304727441385,
          -9.024808069361306,
          -8.663246201070457,
          -10.533586843204715,
          -10.436033468454866,
          -3.7128019140673727,
          -9.17988193315137,
          -6.099994654408153,
          -7.221022960848779,
          -3.955537526941314,
          -9.386587131371774,
          -11.293346759972069,
          -5.301992033199627,
          -1.224233232740838,
          0.7283174687880455,
          -1.3939563887870665,
          -7.340975385425466,
          -2.1114545337170436,
          -5.6963895816582255,
          -1.5596576385314356,
          -13.056563262780916,
          -2.18216152977126,
          0.18117567188446698,
          -1.2500029468210885,
          -5.08975366714039,
          -7.581757165968365,
          -1.076763983768409,
          -6.083319599907977,
          -5.546498249541953,
          -5.058843494603635,
          -2.4442692538310333,
          -2.917077105139945,
          -0.5182216664634507,
          -2.738530871108829,
          -4.29283330988174,
          -4.857157929663538,
          -3.809128405902677,
          -2.500713454786926,
          -4.039926183311848,
          -7.470767963496568,
          -5.837969902868536,
          -5.975353964014657,
          -4.0074388819033455,
          3.6531452457056415,
          -0.47251120221321463,
          -11.302392971588475,
          -9.235087202249051,
          -4.065836196777976,
          -7.550642543958616,
          -8.151274784493035,
          -7.627111426075625,
          -10.380579521830098,
          -8.921018318928848,
          0.7101709764412556,
          3.753830738630109,
          -4.388511329799306,
          -10.522721351002675,
          -11.457990866452338,
          -9.827871627937379,
          -9.63033455540589,
          -10.44630254868573,
          -10.918134544346396,
          7.512273522185738,
          4.022294524418404,
          0.21190865655801183,
          0.051000816648476596,
          -3.61814630931021,
          -2.210362304271579,
          -1.0572102645627355,
          -2.8677288102856537,
          -1.8795857096424924,
          3.003795483435098,
          8.883458208784464,
          8.667931207734078,
          5.9968098522081235,
          0.18417648491339994,
          2.3861860103221018,
          5.349729926863884,
          6.072210082655815,
          11.329999667607122,
          9.559420575641614,
          8.571945995779442,
          3.746903728300573,
          9.17974669471538,
          1.0517071966487161,
          7.672861757119795,
          1.4123193757935713,
          6.2485871785702995,
          11.20526979270058,
          10.86100367923724,
          5.4146082798473865,
          6.373931229661919,
          4.639649308920876,
          -0.0870848880698941,
          1.4341159816577882,
          1.4836111428168213,
          2.796612121147677,
          1.2285129611921768,
          -1.7048515042312224,
          2.02947722623619,
          0.330778407662122,
          4.239625399797174,
          6.064998047928021,
          6.219323156990739,
          4.563706079928094,
          3.828334449381373,
          2.3924929400817585,
          -1.554585160021315,
          0.6255914696229917,
          4.17031339906845,
          0.2155316278131405,
          -1.0271869109625547,
          -1.7134710247682703,
          -3.3248326643446116,
          -1.442008344377498,
          1.3418876774258897,
          -1.3946515154090449,
          1.390231208833503,
          3.174517527618249,
          -0.7842817536751707,
          0.5012724871572026,
          3.567552892264116,
          2.0457163752115703,
          -4.283063948195745,
          -4.971968370598036,
          -3.6459179096765086,
          -3.3598961056487364,
          -2.1646509294613208,
          -4.357680351853453,
          -4.103648735783777,
          -4.094584165417343,
          -2.915874853834923,
          -4.741336993357016,
          -4.983510248750258,
          -4.90569779613026,
          -1.233321524484759,
          -3.835552357352524,
          1.2332080607603277,
          -3.5929296364849965,
          -1.6502084479435337,
          -0.9603730763024226,
          -0.22721248210185557,
          -3.267326215033114,
          -1.793199322446726,
          -4.340749804487839,
          0.18579486701418815,
          -1.4632880456102142,
          -2.1242359944271945,
          1.2989546995417611,
          0.6965858978645365,
          2.0705757784945393,
          1.0736140592772934,
          1.5065133891248643,
          7.4613604348276565,
          6.151159304929661,
          6.416354559030908,
          3.665750533435605,
          2.587756197908723,
          -1.348792543874631,
          1.1655934813895705,
          -1.4402392281165879,
          0.1830734633254498,
          10.013898020926387,
          8.090377216481428,
          -1.7312500438112157,
          -2.3931379109918547,
          -1.052147320518686,
          -0.503836972762604,
          0.0746235660785134,
          -0.3571943236468803,
          -6.197050711146919,
          -2.318530078712018,
          -0.3017805649153521,
          -0.3720355235798098,
          0.02610235097422289,
          0.602897449899068,
          1.4874032420553558,
          1.4779824490842977,
          0.800099837296765,
          -2.783134664786931,
          -0.42159364073489153,
          -1.455705562539972,
          -1.131072029883394,
          -2.3426759147097913,
          -4.963888266646743,
          -2.1078822929978047,
          -1.3915753997084672,
          -2.3526929723244403,
          -5.6647406538683445,
          -5.523764577173826,
          -7.155452112220326,
          -4.485566860565754,
          -1.0965099228875315,
          -0.15868110899741353,
          0.8801366217811453,
          -1.5457907007223826,
          3.910818559110021,
          -0.3125667842141162,
          0.9158025736055088,
          1.5256007723544054,
          -0.43063731492878504,
          -2.428195318964531,
          -5.90530079417051,
          -6.618219973088626,
          3.8051707895248006,
          4.871325258480668,
          3.984185469546953,
          1.5563140510319864,
          1.0151539870436281,
          0.2918269857311654,
          -1.106631297729417,
          4.224911852082899,
          2.0289397383456125,
          5.298082080448704,
          6.841776871372582,
          2.6956939246812195,
          1.8355725296841494,
          0.4522809128103564,
          2.905224126863028,
          6.112903482389648,
          2.136624370869394,
          5.64193134685476,
          1.9301146022498423,
          3.2689995636651905,
          3.484329809280589,
          3.608795158970737,
          -0.8830481809961419,
          3.7589151833830026,
          -2.145391083117957,
          3.777109187358895,
          3.5725185182780193,
          -3.6124143829434674,
          4.205304539868043,
          2.372779316715486,
          2.8329052036111877,
          1.5021277478135364,
          -1.0235092538565331,
          4.433837962980978,
          2.842622831730124,
          5.785509610609622,
          9.356154472052737,
          6.94063936602758,
          6.511905285292707,
          1.2616064529822804,
          -1.8923112817110124,
          2.3434562614791634,
          2.9626872857634527,
          0.08017724376676104,
          -5.305198081286946,
          -4.223581021447192,
          -3.7244445292034607,
          -3.0667030308191854,
          -3.997677826469921,
          -1.3940757945802047,
          5.039502831214844,
          5.982490828854991,
          4.971962294679292,
          -2.46797372135244,
          -5.498797352466618,
          -5.66220837502356,
          -7.095605824949709,
          -6.831500704996978,
          -7.112613367586993,
          -7.488679421497233,
          -5.2273692036133115,
          -1.4891556254197835,
          6.056479368590621,
          -2.2700896976431957,
          -11.546957259551192,
          2.292907866585153,
          0.7323324279526313,
          4.473280921652075,
          2.3005437611763955,
          -0.20905676715382668,
          1.1628212739635573,
          5.422385514812457,
          1.8312672508637735,
          2.0499085729768662,
          2.4254515337974127,
          1.6210454568242547,
          2.623711180366024,
          -3.249810851879013,
          3.0502848812817143,
          3.538959122386136,
          0.27241048088551706,
          -0.5149545064698873,
          -0.4517332665377268,
          0.6738139967973374,
          1.797207608515639,
          0.9485634547263038,
          -1.7546886253471832,
          -1.1104740695502386,
          -2.5272211390517523,
          -2.6370691928106833,
          4.018950640226471,
          3.6145184953929217,
          4.473069141438064,
          0.09916584689579729,
          -1.1616663455639353,
          1.5952810392365981,
          -4.267878134489153,
          0.6441693311879186,
          1.5297241012378482,
          4.0016196029830295,
          3.8536540818975835,
          0.19450901011913171,
          3.7435289261069506,
          -1.281025409655724,
          1.1149453260444677,
          -7.639283611983178,
          -8.453142410633086,
          -10.081039219678857,
          -5.5647509477338835,
          -3.6344407443829785,
          -4.985860663409631,
          -6.698231923730047,
          -4.95335046374071,
          -6.583038436270997,
          -4.734362145991803,
          -5.817254358068178,
          -2.2540722497609873,
          -4.704167376585614,
          -3.884537188501807,
          -0.58262208639034,
          -1.5180550490274844,
          -0.07697727932274609,
          -2.051579745951258,
          -5.6893388458756045,
          -8.842576434814141,
          -7.070075895899662,
          -7.232563362861386,
          -6.930615483414248,
          -7.011613773823907,
          -7.657722668536234,
          -6.986821412595942,
          -6.279810422008496,
          14.607067946912764,
          4.1838062018408575,
          -0.8452414694767758,
          -4.961634929844355,
          -1.8950228567108343,
          -0.8236598792840775,
          1.2744373051828564,
          -2.2552620219392816,
          -3.622689520008666,
          12.183210607071466,
          -0.06572939085145157,
          7.13002966330637,
          -4.938658462026787,
          2.8744314003324365,
          -16.62984750318775,
          -8.369548858315424,
          -4.6240778291399005,
          -8.37695651824448,
          -8.286781456810282,
          -10.948602286938085,
          -9.374609531087724,
          -13.75472795111398,
          -9.461348669531038,
          -5.387778609875288,
          -6.117669913712998,
          -9.927561555121052,
          -9.232932616319736,
          -9.530233545667294,
          -10.216722884275809,
          -11.83586439176207,
          -9.91546919342433,
          -1.3598479679264812,
          2.4843196944766412,
          2.7013957375612243,
          -0.5120716598109616,
          -0.9217470987839586,
          -0.0446902183730952,
          0.8432850303332423,
          -1.3554571542434086,
          1.79171172990554,
          1.6479144651208864,
          -6.786687986237425,
          -4.209527580655161,
          -2.5287070954042594,
          -1.009126028086796,
          0.8324443837847689,
          0.35600452877936123,
          1.538467134606886,
          -0.6916554791198852,
          -3.1967263541735975,
          -1.5982470483135798,
          0.41657340888208205,
          2.2178285655487895,
          0.559852570555182,
          2.840243825332211,
          3.4906959611494712,
          4.80683237714349,
          4.057107561782417,
          4.45690048195648,
          -1.9736493629858671,
          -0.7510201568640025,
          -4.995561232976127,
          -4.178934954250876,
          -4.128189401077173,
          -2.988918675251342,
          0.7976839872462425,
          -3.6944291800696876,
          -3.926337635927424,
          -2.677878646767914,
          -0.2065936029582813,
          1.901126576932112,
          -8.024741775520095,
          -1.9163704885652193,
          -1.3581435599383243,
          -1.788699140514065,
          -2.755885037242205,
          -4.116872045343946,
          -4.636493232855888,
          -1.0324586352364926,
          0.14411065194844647,
          -0.22239574940775622,
          -1.3948183722750824,
          -0.25435381635244614,
          1.989301658556539,
          1.3032658325248714,
          -0.30790460764322547,
          -2.227303690666271,
          -0.8753230822163232,
          -4.085670021726147,
          10.213114538657356,
          13.257740511143123,
          8.662521029860956,
          -10.890605115110521,
          -2.269740585732618,
          0.09198750680921258,
          0.4926930471791761,
          -1.2334165140947488,
          -3.240650157643108,
          -3.7086057103428876,
          -1.6056847669315961,
          -3.295222563800291,
          -2.541193309123064,
          -3.3957701069586865,
          -2.655579612056117,
          -4.418217573536632,
          -4.878024083789266,
          0.8371055166601135,
          -0.05805543455842952,
          -0.2523320982447227,
          -0.644126053386776,
          -0.9225579635644858,
          3.4980654397622044,
          2.313811603028334,
          5.115536916872249,
          2.9711877908192017,
          -1.1270441278960726,
          -1.2152503521423192,
          -1.8634057632394987,
          0.7714304699536579,
          1.0919289689570317,
          -0.6182034271121903,
          0.667357366918665,
          2.6439460363385003,
          3.475499815386042,
          0.11747605797794694,
          -0.31446979858478374,
          1.2224872150732824,
          1.280902845207719,
          2.630645622964197,
          3.2456224955895214,
          -0.48834476136346466,
          -2.7387535993790197,
          -3.7877864753467407,
          -3.6248281524680905,
          -2.6400674425334967,
          -2.8258702948970593,
          -3.626545838440347,
          -3.564353417861598,
          -3.5803472711067545,
          -2.6249276628450033,
          -1.4536733725094466,
          -1.5997822092954912,
          -3.1230393157500953,
          -3.5104538927936653,
          -2.6589698852487413,
          -1.5195424579186267,
          -3.6619394039169593,
          -2.9140268941992935,
          -4.646749454817957,
          -4.6586081991898105,
          -4.672218892022789,
          -1.9348585971461358,
          -1.8046809202258232,
          -4.728210697052556,
          -4.32831576185209,
          -2.701491763441963,
          -1.5988529543368464,
          -9.149585861648825,
          -6.236598495567612,
          0.13284945194247558,
          0.7350522435740782,
          2.8561264466518703,
          0.5827976605999883,
          4.575309545229062,
          1.4351648638622476,
          1.9514955373368665,
          2.1482475110353465,
          2.3400110056736696,
          5.13168748026459,
          5.579620328694562,
          5.186515861317387,
          6.786245509051507,
          3.9380168337041823,
          0.5187134120362187,
          8.358614308888242,
          10.099216081192314,
          7.297876371595038,
          7.194969829325378,
          6.703452433040239,
          8.178846690690296,
          7.433099811439066,
          5.579420173398619,
          3.5227374133017535,
          3.8288211745449767,
          -1.5666676070727377,
          -5.37292451606638,
          -3.433761040400085,
          -2.829243229359928,
          -0.09906199787781213,
          1.8111795962835204,
          0.4601101455462242,
          0.03666657575098751,
          -6.076833115683523,
          -8.240762990950362,
          -2.214769883027095,
          -1.2377188977814153,
          6.224886989335924,
          1.1495853500165272,
          -0.9443086195398812,
          -0.2780605535073668,
          0.6205648269020819,
          -2.2050699560979736,
          2.8279671438270313,
          5.500861297734458,
          4.469410866102271,
          -4.6987386288245006,
          1.220009484052333,
          3.946800569244114,
          3.2153587555085887,
          0.8208111424589394,
          3.9963105900397125,
          0.9363041029197894,
          0.5260839395757553,
          0.7949565770609455,
          -1.1004939131766882,
          2.318754128140523,
          0.055117288357770064,
          1.073518484016499,
          0.586096640201424,
          1.7080241161013359,
          6.284830505119472,
          4.804333510264566,
          4.187289292847012,
          1.2553166114223213,
          3.502631424141396,
          -0.766532945118909,
          1.3571610657986473,
          2.2877518396149017,
          3.6418835976274897,
          -3.8601196207686157,
          -0.6612103896397135,
          -5.626223315190163,
          -4.723182406772783,
          -15.731362363918866,
          -12.561829594111469,
          -8.00359179360053,
          -7.999795124152671,
          -6.95333922926401,
          0.5221654110205903,
          3.1191734157988846,
          1.156595209901407,
          -0.25192653462168296,
          -1.4197256453251141,
          -1.446774370952095,
          -1.2775694065528436,
          2.588380516550834,
          0.9711481173471086,
          0.7918588876324028,
          -0.00023229063658718283,
          -0.8384303936278716,
          1.1613538937862011,
          0.6408161067387275,
          2.831274114537743,
          0.11868058404736498,
          -0.3163594946011245,
          -0.1770780521759053,
          -1.2135993268528473,
          -6.3755143619805645,
          1.3688237975332196,
          0.5197994148994565,
          -0.45067495627087384,
          -7.645507266389729,
          -1.244666520050323,
          9.629914347102638,
          5.0729239130826045,
          12.311628936165068,
          7.983102575828616,
          4.27091441503224,
          2.7969630584838345,
          -0.05700211324736653,
          -0.12509404060183446,
          -2.28657815298039,
          0.5558952885513656,
          5.2989704754197025,
          8.588161851923113,
          13.575593535427142,
          25.576294246174818,
          20.568980084114447,
          13.714230343819608,
          11.00890204498786,
          10.809744900884075,
          16.346821946694714,
          11.469056059230363,
          9.61314323966026,
          17.652622844330892,
          19.997880520981045,
          14.516751757141822,
          3.1128107540727448,
          3.532935551288411,
          5.617679955724449,
          1.1604269625584185,
          7.295735784339748,
          15.02924951649136,
          3.2970671162794707,
          9.416507958659887,
          5.312579851607836,
          4.598733634007946,
          3.438310798973013,
          5.922081924246574,
          4.80825049986697,
          4.575185006159732,
          2.5098415406419377,
          3.583778438974884,
          2.958249629416522,
          -0.44280400211098947,
          -0.35775677712858167,
          -0.29885548155843267,
          -2.87762813735671,
          -1.9604932982808312,
          1.71317300299395,
          0.9801082625903346,
          0.3705827581641379,
          -3.207622978591314,
          -4.722040463373721,
          -3.880717549688424,
          -1.347483005798423,
          -0.16489473556694775,
          5.630281599116267,
          3.2762170016304553,
          3.0291502047203562,
          0.8667627779991712,
          2.793863640859966,
          9.488402912416504,
          -12.534880544782073,
          0.8467276628586736,
          4.198758029180492,
          0.2432715323103298,
          -4.295273130644429,
          4.621509478614908,
          3.7895253356863803,
          4.874914620732456,
          20.3407417043439,
          7.086061768994316,
          5.566826469769297,
          4.06283028111628,
          -0.04798102857084255,
          -0.8511267706916971,
          -1.6959527193565767,
          -3.244835008271907,
          -2.9297704948088543,
          1.3231306649478296,
          5.268496965530581,
          5.50662137619323,
          5.066261176721348,
          4.4442344941915355,
          0.7240273331221216,
          -3.1366178915168383,
          7.53986432864538,
          4.19667754609653,
          14.508367818158671,
          11.440402435880541,
          13.426780828831125,
          11.392495715671785,
          9.017895707527702,
          11.873379674955151,
          12.23830431554366,
          11.061021254168192,
          15.957039035134027,
          13.388215238164,
          1.7161345060559798,
          10.76074645193014,
          1.4261774157861262,
          -3.7353888588017665,
          0.8951059993584431,
          1.5597932885225643,
          -0.05194175327120996,
          4.565839340325775,
          4.565752664751592,
          0.36650915016908703,
          2.244921446268493,
          2.8307390153025,
          -0.01419766880182803,
          0.11002160761862263,
          -0.6521193703695436,
          1.5912222179585713,
          3.4715143548419403,
          3.787736619060171,
          1.249861156276318,
          -1.1128574696596039,
          -0.23986014548780402,
          0.5618391861396583,
          0.1618310629221078,
          -0.4687786100742397,
          -0.5748614567509347,
          0.1354562026635099,
          0.41303870862532754,
          1.466656224498908,
          -0.2816628232774056,
          -0.29004953260372796,
          0.05234207896435567,
          0.30384553211117404,
          -0.21591001620568623,
          1.4375606310969498,
          2.436976931844021,
          5.603493287521017,
          21.162796126876554,
          15.41116326696921,
          14.198967658250112,
          11.555808148915526,
          12.420498419689544,
          11.760575014359242,
          13.33215401193556,
          14.3992233250803,
          13.247647945514295,
          10.725759043307253,
          19.88656071178592,
          26.35544203044193,
          24.89284752492254,
          24.42245238898484,
          15.151689128101445,
          -12.274345785880172,
          -2.8747193221746765,
          1.1011768883598978,
          -1.5452237122019559,
          -5.889314425506816,
          -1.401328113259066,
          1.4681290500696986,
          1.7051372566931855,
          -11.293780894377635,
          -14.314327909251649,
          -10.714901787391868,
          -4.108815583373439,
          -4.967459861254067,
          -4.472040976471905,
          -4.495382452695389,
          -0.5651153977628598,
          -0.7287679420332086,
          -1.073221652081457,
          1.7332136644994593,
          0.2040675749030123,
          -1.0165443568379435,
          0.37205159542154254,
          -1.5941807518149624,
          1.0097860710773285,
          -0.46484019912039726,
          -2.935699225878398,
          -4.121225108902008,
          -1.5369940144438627,
          -0.1183598199495249,
          -0.2701001301640302,
          0.7637388709518471,
          -1.733186425667125,
          -0.9132665104403435,
          -3.158607938055166,
          -4.215129929331917,
          -3.9395940941818437,
          -2.6307101990721344,
          -2.1961296756267794,
          -8.607879107167504,
          -4.776955539092504,
          -0.5486454624127478,
          2.4748945432425513,
          0.8571977095772202,
          1.0902020670014343,
          4.781688740469039,
          0.28983721079886204,
          -2.878993847095306,
          -1.2197090824564445,
          -2.3571139071438845,
          -7.789162448409584,
          2.1939360754392494,
          -2.1964464358330997,
          -5.653835597538123,
          -5.358738070720173,
          -5.2599122197998405,
          -6.459257818071847,
          -3.174395724940426,
          -3.6660156229160665,
          -2.129370559952752,
          0.7401404566643001,
          -4.853392107118534,
          -13.83044544418723,
          -9.413017334515276,
          -8.068985892665275,
          -6.728845620056233,
          -4.4029000585051215,
          -4.875813883047835,
          -3.0167145637193507,
          -0.9174003248099282,
          -1.960120753890818,
          -1.2499169696771746,
          -1.1023685623470096,
          -0.9463676411913664,
          -10.43818759976175,
          -10.15392704164952,
          -12.202252475149717,
          -10.976312869985604,
          -5.184716277783949,
          -7.395599051730655,
          -8.266587835296313,
          -5.662382344837316,
          -4.073908719455404,
          -2.3348764518614122,
          -0.9310650349865234,
          -1.5010224476820362,
          -1.7934371405759413,
          -1.3496883663032329,
          -1.360089502446488,
          -0.6411237927133228,
          -0.4016051126951728,
          -0.8379983056546422,
          -1.7325834369379602,
          -0.653118336694235,
          1.1984606594709208,
          0.7543717980795314,
          2.331347677896624,
          2.3311241813802535,
          2.2274347126325553,
          1.8432087368351115,
          1.1643549684677228,
          -4.653224372296555,
          0.439932979596755,
          -2.0217222280091907,
          2.241470909545915,
          -2.2246043667830717,
          -0.3298031073245004,
          2.8897437314401926,
          2.369674343648067,
          -0.4051932546970207,
          -0.9254000513193473,
          1.7161974510424531,
          4.278788534837907,
          4.259332450885279,
          3.8565755187864297,
          7.026665379747492,
          -2.6866633982201775,
          -1.8003973286421358,
          2.9547143003699468,
          4.558214115460829,
          -0.48111816134182345,
          -8.123705987650512,
          -10.258753323340159,
          -7.806436453959463,
          -7.878677826926439,
          -6.8323312610748825,
          -4.7875325360862,
          -0.2877298608727903,
          3.7636988099836306,
          2.350488265863472,
          0.7586891038010726,
          2.940732982057819,
          3.2049272896699215,
          2.0357493352697538,
          3.426952235843555,
          4.108612608262829,
          4.5012638165907735,
          6.72698552925276,
          5.164217647899996,
          4.876048378521712,
          4.783700859944562,
          0.9287179221294216,
          -8.326256631746629,
          -14.316341255040964,
          -13.53641214097655,
          -14.854194161898803,
          -11.991702110069673,
          -0.7204378368189442,
          3.9082638342867706,
          4.369417693337538,
          2.570173422705282,
          -0.32031985046442707,
          1.2292019516904125,
          4.391521320017428,
          3.925567104083815,
          5.376858322623952,
          9.465032016837666,
          2.488795749697434,
          -1.1243170195683263,
          3.2533905326949952,
          2.485039129417515,
          0.9123324207998824,
          1.21818311942662,
          1.134803551602221,
          0.9273529906819478
         ],
         "z": [
          1.48956937983972,
          0.7133345521628749,
          -1.1329660263927583,
          5.365803311480412,
          0.5050826883679063,
          -1.206128293336439,
          -0.486397562280251,
          -1.4783084690150954,
          0.7456761839396189,
          1.4347528027269103,
          1.3540504916835334,
          0.8090884409551979,
          0.4286593677222946,
          -0.9812407909539651,
          0.7025920605543766,
          -0.3428806078353149,
          -0.7550241631583522,
          0.2539477178931301,
          -2.882391463543602,
          0.5176283253938405,
          -1.8061555969023062,
          -0.43969189514379436,
          -0.5519869689802084,
          -0.033523980353330575,
          0.26527621079933705,
          -1.8426685348546994,
          -1.1616990595015075,
          -2.0027557378580783,
          1.014419837381216,
          -0.8009503349885118,
          0.5544528585912586,
          0.5480222667927799,
          0.25543522276113617,
          0.08535421531590667,
          -0.09181349003544241,
          -0.5149874356802566,
          2.4897828805105036,
          -0.9812871615706785,
          1.220724754809721,
          4.215017323784066,
          3.6138118013783176,
          3.490107632495109,
          -0.41687181850259214,
          -2.7762427167423636,
          -2.049324449909823,
          0.26165351248011615,
          0.9371105549074662,
          0.9301338716707429,
          8.606237126541258,
          4.482375627251591,
          -0.46723636719457773,
          -0.33545571244870664,
          3.5743977836619716,
          5.62875729550585,
          8.454741101454768,
          5.343897455162526,
          -2.631708346714838,
          2.02107370892387,
          -0.10461715739176415,
          -0.14507373378834987,
          0.768812858440027,
          2.4319847881123278,
          0.07192622872706869,
          -0.9389098866648271,
          2.002846451463268,
          3.4659854805694406,
          -0.5152688219375302,
          -2.918600322893799,
          -3.3346282677775902,
          -3.647036024252884,
          -3.5525405245702824,
          -4.205804753527234,
          -2.884230018945426,
          -1.729917532180304,
          -3.166874657945871,
          -2.6515777289621894,
          -2.926115885103214,
          -1.6428550062242069,
          -0.04956392517415056,
          3.0352855403526164,
          4.365222112624579,
          0.3473910457099665,
          -1.8452328952680117,
          -0.27321795274145905,
          -0.26805006530338776,
          3.662586805747072,
          0.09614661880894032,
          1.644668963685119,
          0.5377053981793279,
          1.6552269157635167,
          -1.9726750666773774,
          -3.0867575040450697,
          -3.7678975978647062,
          3.869940977697481,
          2.334652772166587,
          1.6257182944062252,
          -4.338840743452131,
          -4.286524491337457,
          -4.971803880431967,
          -5.177417352086723,
          -2.0651316290554997,
          -3.1300396842418654,
          -1.262348639199886,
          -3.69669132771257,
          -3.903155559933515,
          -0.16304577717880298,
          -0.7462279220785077,
          -1.0011279255346424,
          -2.260019222772447,
          0.39753665048291015,
          0.7525772210421217,
          1.1039061732542415,
          0.5317892130288405,
          3.2715336275206486,
          -1.41500383573486,
          -3.0879230694970268,
          -3.639851453257098,
          0.25320470800720224,
          -2.81256448096243,
          -4.520132900753771,
          -4.496164589332162,
          -2.2062594422138315,
          -1.518924084682233,
          -1.551907438707637,
          -4.4530417203231805,
          -1.7661695620109765,
          1.2929889032164212,
          -2.393414031543226,
          4.6853489532967085,
          19.23682133014252,
          2.9225269418125426,
          0.8636513729680413,
          -0.5806609249568738,
          5.123441045764623,
          -0.6270829753197223,
          2.3774851526253795,
          -0.4228036929109785,
          2.1397796635085764,
          -2.3846182372977514,
          -1.5460119720111294,
          1.815709775451668,
          2.7237372880324067,
          -3.296189403218681,
          -2.9500579812580217,
          -3.2745680073761707,
          -3.2462074159964285,
          -1.746175723716769,
          -1.8715377535297615,
          5.723105043893219,
          7.221799403327974,
          3.157522044056486,
          -4.1031065501414545,
          -4.430921678460705,
          -4.682786309472608,
          -2.8394313318655318,
          -4.248223272367356,
          -2.3016016155971055,
          0.08511486134507008,
          2.5594856137591955,
          0.3674331804121436,
          0.9955316797548336,
          -0.13881407653418582,
          1.8752861115150599,
          -1.6379367750196032,
          -1.4477531456715256,
          -0.6880963639124287,
          4.120046186256172,
          3.7865059871492077,
          -1.8598166401186673,
          -3.8545545029955273,
          -4.453953738461263,
          -4.377140671815197,
          -3.136479489232806,
          -2.8075785561738544,
          -0.9738457790505354,
          -2.8096453637493317,
          -2.3834055947463413,
          -1.9285355874569912,
          -0.05192584628712943,
          -1.7301223692639287,
          -3.4815513391391204,
          -2.556045689231964,
          -1.0087346499641239,
          -0.7370986620570144,
          -2.054024057666249,
          -0.844092299533159,
          -1.0472028465092933,
          -1.2450466192169043,
          -0.7536648932549314,
          -0.8900007203923876,
          -2.6915601693659252,
          -0.7205551006334294,
          0.5462739792619395,
          0.06718422295035632,
          -0.06036450501147506,
          6.017519662349335,
          9.005203715246875,
          3.935126704893409,
          0.11119279909594483,
          0.21673628291206498,
          -0.7463582777847834,
          -1.567181525092863,
          -2.9410495427778147,
          -2.53600204541018,
          -2.486109053801028,
          -1.9563969213037564,
          -0.9136325668264128,
          -2.485363784186603,
          -0.4228010366807506,
          -0.9958364482301072,
          -3.0091222358559153,
          -1.8846237832634731,
          -2.5180037159712767,
          -2.237155870648864,
          0.012674488417309369,
          3.49889146859346,
          -1.4298519119681832,
          -2.669426191838051,
          3.2931313433389326,
          2.77157804736727,
          5.333075646866279,
          0.9573414972529846,
          -1.757087647531296,
          3.8287429483194653,
          -1.5752688070860912,
          3.7247728920083443,
          -2.582205771696708,
          -1.9057727345474376,
          -2.6254387715132967,
          4.460065697457933,
          0.9941398890948654,
          12.22294878874491,
          -1.4719925408258594,
          -2.404280272164854,
          12.453215566813592,
          -2.4545936041672607,
          -3.4698746104801064,
          -2.5618277374306557,
          -2.935036124725495,
          -2.1222700130726753,
          -3.081335692584504,
          -2.8397101391720296,
          -0.4392277022618206,
          0.4288562730455306,
          -1.8568524294040556,
          -0.9394152365691085,
          4.699592544604565,
          -1.975472578315052,
          -1.7846984426136379,
          -3.2194905975469665,
          3.1971179813139003,
          2.0291587468497196,
          0.17889663207564824,
          2.0827783859282305,
          4.989790400903504,
          3.314774269367697,
          2.0840635097187308,
          -1.442125773972614,
          -1.5951540895125893,
          -2.7337540041593513,
          -2.363585719865609,
          -2.790279917092823,
          -2.72365231766463,
          -2.2818172814853366,
          -2.6785179068324467,
          -2.626058324437711,
          -2.6540281585975904,
          -3.2205853422970336,
          -0.998920143196695,
          -3.709329203506467,
          -1.858937263113967,
          17.869802748793678,
          17.230577817201848,
          0.4409060290985534,
          11.47825075324173,
          0.2032226835437093,
          -0.6393165705191753,
          -0.3788325798238608,
          -0.14852839904171194,
          -1.1530056102160418,
          0.6499921520285022,
          1.0495132772141458,
          -1.0953031101962056,
          -0.4442604452916938,
          11.877039087631701,
          -0.9657624019761627,
          -1.7334708974419533,
          1.3668351441413977,
          0.24525749951114773,
          -3.4830944376668835,
          -4.090399433680077,
          -5.004985338526718,
          -5.3087815645957,
          -4.399687130341333,
          -2.914479363789473,
          -0.8944089694168407,
          -3.0159321211920087,
          -3.4881711199831216,
          -5.48825363015946,
          -1.9560072620196582,
          -2.3699756369041323,
          -1.9785483128335755,
          -2.4854432868915235,
          -2.761786399784785,
          -0.9196715241054474,
          -1.6669362838845907,
          -2.014532726290599,
          -3.423102248703532,
          3.302456216622402,
          23.658213618383943,
          18.713793148435975,
          -4.876426822879396,
          -2.7434709202500813,
          -1.7465749215079338,
          3.2930229518691583,
          -2.37145934464725,
          2.474695236674859,
          2.9799770656965103,
          0.8290584943692155,
          -1.576726996237225,
          -2.7052078450534025,
          -1.910509108979613,
          -0.09202582412168175,
          -2.76846213783931,
          -1.4669232279446602,
          -3.900958220394262,
          -4.225382374413617,
          -4.300439358126521,
          -3.9742323487655997,
          -1.7890232995341464,
          -2.725131925439306,
          0.9844919274006453,
          -1.6272486444025538,
          -1.9626595460115697,
          -0.4298218833390117,
          -1.5295512816653745,
          -2.684819810282387,
          -1.5169934396634899,
          1.7076291325930226,
          -1.0440184020829122,
          -0.005714863890131308,
          -0.6077324271631392,
          -1.1013987762140678,
          -1.1150720427811567,
          -0.2800050397760133,
          -0.1039797075795082,
          -0.04310620559882347,
          -0.9272666947688459,
          2.4890224328373076,
          1.6140281297387762,
          23.55997973078131,
          8.510286187609687,
          -1.938344191769939,
          2.6279415819264353,
          -1.4807097022338747,
          0.446959964658014,
          4.242700331702147,
          1.2092274331202741,
          -1.5179899938789785,
          -1.7929893428447898,
          0.4514600299106572,
          0.1810116798620575,
          -2.5459612868671613,
          -0.5336549674570411,
          1.202486195681771,
          -1.8427371685523202,
          -0.8002585183620412,
          -1.753068788103622,
          0.5616120826989323,
          -0.7919677492113663,
          11.84297927904078,
          0.5689936852636969,
          -1.0324101569172255,
          -1.8517169253956862,
          -2.0328727718697275,
          5.285689720494277,
          1.106981355447576,
          0.39367890870153455,
          -0.7907988952220555,
          -0.3179022843541729,
          2.7544936659794477,
          1.8514564985355695,
          1.5375624118010542,
          1.36823786504561,
          -0.4135918512644529,
          4.531444860320007,
          0.6204247845629124,
          3.1960028062259145,
          -0.47253254982992066,
          5.638861287398598,
          1.3668193737400722,
          -0.3403948702995533,
          3.8047388409952423,
          -1.6765388380783934,
          -0.9127806094776648,
          -0.9809856054441165,
          -0.8730595228310484,
          -0.3093422426850486,
          0.8553981854308068,
          3.3980540015626417,
          3.9900820828791805,
          2.4761115520677786,
          -0.8451533932751747,
          -1.913360722101119,
          -2.2736456253912145,
          -0.333662588796499,
          -0.49856443374691295,
          6.814141649402544,
          1.7550567072847119,
          1.4273087898442964,
          7.003892724858995,
          -1.4099911888599,
          -1.7761868691071874,
          -0.7814785438056446,
          -0.23848928403313222,
          -1.315573927657408,
          -1.2772568508298627,
          -1.31999426603504,
          -2.905444378047702,
          -2.9968448436595088,
          -1.6207991606810699,
          -3.4325893781833248,
          1.2533848100108362,
          -0.67253290769956,
          -1.7248905495612252,
          -3.3480856189849537,
          -0.540728544454824,
          -2.7698199769450067,
          43.04682029977739,
          -1.458256106201108,
          0.4733316479512966,
          1.6820117821389682,
          3.2463181927602918,
          0.8709217141555577,
          0.9813038897899031,
          0.8435274045439,
          0.9829359462529652,
          0.44371044310058794,
          -0.6629328130748661,
          2.0836814006851982,
          7.040590266524315,
          9.268282464633355,
          8.739648804786997,
          0.7955599020666736,
          -0.03135500454801985,
          0.13415702187333672,
          -1.2574338442504924,
          -1.8150839488555202,
          -1.5246383976919686,
          -1.8817744506582044,
          -0.9502073659867163,
          12.788266499426014,
          1.0767041400501243,
          -0.5955657031784563,
          -1.6115488414509593,
          -1.509159787731173,
          -1.2547269385490625,
          2.672872826780036,
          0.7535008492494679,
          -0.7877664137520318,
          5.850333519845412,
          -1.3707018054564595,
          -1.4951468435973008,
          5.185598973629745,
          3.3963322276849763,
          2.2850913681792537,
          2.25666917576904,
          7.0981912964747576,
          4.739829191543159,
          5.3745167745821485,
          12.840822772384485,
          -2.193254168583181,
          1.1667553569678641,
          0.6789748601035568,
          -2.1924533666548918,
          -2.3852522367410023,
          -3.110704718174158,
          -3.0415361776507166,
          -3.182265614758586,
          -3.2367852678928575,
          -3.1830540364825044,
          -0.3004950899969519,
          -2.33891466849004,
          -2.237754148086474,
          -1.8275047375219236,
          -0.9296033483424574,
          -0.10232443120891042,
          2.601513173362795,
          4.573351719015372,
          3.202631380191416,
          -3.0806808519410267,
          -1.4626722973266695,
          -0.16976108896584965,
          0.07509010625350501,
          -0.03798964740298489,
          0.15380778317966265,
          14.19169146703264,
          -2.0718655445095813,
          -0.1807473023728078,
          3.175270046761715,
          3.7494110819435646,
          2.432348251473428,
          -2.6886892704967686,
          -2.150924643977205,
          -3.0453667307288246,
          -2.6037178950276076,
          -2.7250836479598872,
          -2.5574682460087677,
          -2.723847061999713,
          1.6868176112987725,
          0.6749840126995904,
          2.2780721937186192,
          6.141844396396007,
          -3.2022125650152296,
          -3.705000425366948,
          -2.9297006071764997,
          0.4221085029417606,
          0.5213854459848237,
          -1.367715676415277,
          -2.5324277182691044,
          0.23330285659262112,
          14.157892410229106,
          7.808538877922027,
          -2.2681382856827454,
          2.6722643845309686,
          4.416845064393488,
          14.021578551266499,
          -2.5067760507090977,
          -2.7895631685411777,
          -3.3980968151247697,
          -3.308317989266477,
          -1.6069957420726833,
          -0.4280241749470192,
          -2.72537656438234,
          -1.7042029794851785,
          -2.8256734625458657,
          -2.795349392698405,
          -3.5422178987239663,
          -3.9370941352595072,
          -4.029008028782457,
          -3.4893273484447316,
          -0.2526191214683442,
          -2.1175063500522264,
          -0.03980260428228096,
          -0.33989288512803956,
          -0.8130304977055927,
          -3.085014019784555,
          -2.183887400436014,
          8.027900813671392,
          -1.287225037011032,
          -2.9726251930644816,
          -3.125095213076252,
          -2.9429766891748437,
          -2.3062971781788444,
          -1.7311238656440227,
          2.3093965153674287,
          -2.284656663682443,
          3.1642001239990183,
          -2.3405950284848456,
          -3.3580979339544053,
          -3.428912825483194,
          -2.8494008981944945,
          4.810408809552341,
          6.083210970211435,
          5.96437557202988,
          -0.5488158466504608,
          6.822854808647085,
          -0.9585481834577138,
          10.52922701068541,
          -2.292735040252457,
          2.7940373151230418,
          3.53476624760313,
          3.392529622350565,
          6.086251914884107,
          -3.0705786516013,
          -2.634613232725045,
          -1.5329075928580786,
          -3.9794161504103216,
          -4.446807737208409,
          -2.9793292891982643,
          -3.5308363655208987,
          -3.6333507540681773,
          -3.8204997422427764,
          -2.2165466879893154,
          -1.4299797549861588,
          -0.9808248931192808,
          -1.3866226668889778,
          1.3293966659591026,
          0.5082210771897798,
          1.0794528983020315,
          -0.6527348715793522,
          -3.575824927595354,
          0.27840490220224184,
          0.08880862362351398,
          -0.9887882268709723,
          1.0557201566758803,
          4.172265031956078,
          0.6102480006461334,
          2.0108914008405243,
          -2.0114137995113546,
          1.6196204983773186,
          -2.336126125433543,
          1.1583017511416807,
          3.350076658986684,
          -0.28024263896809604,
          -2.0700681729696524,
          1.0365026396119423,
          -1.4800657031384852,
          -2.248712363585542,
          -1.0761561935230157,
          -2.179394915792713,
          4.850637735273833,
          -2.6582326351051404,
          -1.786123307405285,
          7.621934763025737,
          -3.088854723297137,
          -3.633775123535349,
          -3.4801249225711532,
          -5.519976854542232,
          -2.0644591701731145,
          5.233330858968566,
          -2.854756468289636,
          -1.8036227287865785,
          5.389301655101078,
          -4.430988574304247,
          -4.509457607463437,
          -1.1354660166629487,
          0.2889676374390867,
          -0.943734264952281,
          4.903079982160357,
          8.586636079697263,
          6.859558143775171,
          3.5580504466367895,
          -0.9273946649603316,
          -2.591912525501024,
          -3.379158284510051,
          -3.3880594615151,
          -3.575922323270316,
          -2.966028899469884,
          -3.262753843491229,
          -3.046426815830434,
          -2.3112315842201507,
          -2.719460751960725,
          -3.0602777010619553,
          -3.13036367663867,
          -3.165448342936568,
          -3.3342330137392135,
          -2.99724570224938,
          -2.0800193863821894,
          -2.6035739733556196,
          -3.0636754171758698,
          -2.9521045725496573,
          -3.1269210146438713,
          -2.432934898607709,
          -0.8312800069854595,
          0.2775302177795344,
          20.592848271516345,
          -0.6820895394659944,
          -1.4574132177408439,
          17.50501182225014,
          1.4610834732868403,
          18.068333654498502,
          4.7325112759294985,
          48.43540348180545,
          -0.17235096691913612,
          -1.7589376649197557,
          -1.138959718051708,
          1.8075024159623787,
          3.9735345904042445,
          7.425454831857544,
          8.480035285347752,
          3.3941359680011005,
          -2.391535866939807,
          -3.210550470717002,
          -3.298792991174794,
          -1.5124365211240176,
          -2.8637063833559684,
          -1.807683416500916,
          -1.9807022391849638,
          -2.8535803310530277,
          -2.186891538607169,
          -2.7176278302449806,
          -2.655809063832111,
          -3.2973938099129794,
          -2.099820245729408,
          0.4822899825723832,
          -2.9513067591179634,
          -0.4793301021111718,
          0.2994644580321884,
          -1.0644291275119169,
          2.256466341608482,
          4.956054627233175,
          1.2501236897981272,
          -1.5781387337785768,
          3.212296260849633,
          2.0017792251941016,
          -3.0468411300272096,
          -2.2386215881302305,
          -1.808932666521609,
          46.81226372201705,
          -0.6074801537200512,
          4.593839820028116,
          10.38261252501122,
          6.955484921516694,
          3.299116636898492,
          -2.702701143513014,
          -3.0367853427420375,
          -2.567476584946851,
          -2.1578746950843155,
          -3.066443360997379,
          -3.63517177657714,
          -3.813762180570191,
          -2.509515413339786,
          -3.5548880495891106,
          -4.102284462482896,
          -3.178217166411865,
          -1.6926096909898698,
          -2.8057862736010684,
          -3.157679795406066,
          -3.0466355148483197,
          -3.7606442976240975,
          -4.124463824627927,
          -4.112050626481524,
          -3.3650659416117885,
          -4.021671517940678,
          -3.713351922020828,
          -3.945964777234592,
          -3.811733698433471,
          -4.716640562409817,
          -3.8986159389000394,
          -3.3629685064459034,
          -2.361971603970644,
          5.35061389881907,
          3.606582239007796,
          -1.1742977537163215,
          3.5693921689705244,
          4.206735351058678,
          5.6638913665673005,
          5.598556261798258,
          7.533666688415656,
          -1.167994885390394,
          3.854463342954476,
          24.523974480344936,
          7.982716701385621,
          -0.2919100006552542,
          -1.0995852689825332,
          -1.2439457781793615,
          -1.2059505595645892,
          5.671405832814689,
          7.691951087291154,
          5.657658761764932,
          4.480299747541403,
          0.8136076493706511,
          -0.7480372789582702,
          -2.2307459394507747,
          -3.0815343304889438,
          -3.2332499110346298,
          1.7935929106296185,
          3.3764247603686863,
          1.6958218147544588,
          -0.962109546365729,
          1.508012368089527,
          -0.06383174208424507,
          0.7574971259245784,
          -3.214797812838495,
          -1.3444294054892911,
          -1.3452898594879545,
          -2.0340687188781805,
          -0.6517209776322127,
          -2.1111129613437525,
          -1.357358746945958,
          -0.35062566819782087,
          3.701262226811767,
          -2.4479147442264453,
          -1.6645551784962147,
          0.7024466413924824,
          -1.1508127909149917,
          -1.8448792311317839,
          0.43171241698597096,
          1.076686067294212,
          1.5599300551309703,
          -0.17555603824072966,
          -3.3584424844753418,
          -4.0328494705559015,
          -4.003670908670767,
          -4.007652687047234,
          -4.463332900505231,
          12.318480838318974,
          8.935831306665367,
          -2.3082358766045847,
          2.046179611042135,
          -4.341061244330875,
          -4.719018106036953,
          -3.7136462075035706,
          -0.17055006480901144,
          -0.14729167579855332,
          -0.4311519588069329,
          -0.7464720998030884,
          7.845487013182451,
          -3.9991937303356084,
          -2.031308914998354,
          -1.996703303318999,
          5.037977115382945,
          -1.2995920183476988,
          12.414415406918804,
          -3.3160375914798963,
          -3.1286568825878067,
          -2.1975382368236995,
          0.7873259047583472,
          2.041394938124471,
          4.956907557122145,
          5.4609066118414775,
          3.1960698157669523,
          -0.9847353018287259,
          -2.9626172348830186,
          -3.3359907120520167,
          -3.0546257235683094,
          -4.187048272601406,
          -3.859315267996923,
          -4.237740969747466,
          -4.222169254387305,
          -4.706876862480503,
          2.1485425963351896,
          -1.5410510489195128,
          -1.5183793887286081,
          -0.7243845183949099,
          -2.238472460250022,
          -1.6783804860929643,
          -0.4264759650101863,
          1.6987884748287767,
          4.2757715759631445,
          2.0634279023630127,
          -4.98648378252782,
          -0.7712740501718572,
          -4.072622136018229,
          -4.021947752053697,
          -4.49499953598777,
          -4.715274808743694,
          -5.098201737085786,
          -5.153766002923564,
          -2.749923444658224,
          -4.289054599040414,
          -4.49026998860425,
          -4.1800510433805735,
          -4.562823574083272,
          -4.801316856101038,
          -5.005316016199237,
          -3.100047549377585,
          -4.791623768923599,
          -0.6577090104668393,
          -3.946178020538471,
          -1.6783692309119755,
          -0.26488201606712003,
          -2.3944632001216366,
          0.9176420792850642,
          -1.074848941771609,
          -1.0584843999404752,
          2.7047950008254014,
          -3.4686523228947794,
          -1.5956214752798104,
          -1.7415310534060107,
          -1.664164190994619,
          3.7635245669453092,
          1.8960032276432206,
          2.8053419556120383,
          -1.718300213219525,
          -3.993255979278354,
          -3.326583583104248,
          0.05575725935920327,
          -2.5249161809591527,
          -2.746439828436121,
          -1.3754119505597726,
          -3.12068980607435,
          -3.7492234900161687,
          -2.9174643784620424,
          -0.5804317586249712,
          -5.214312235140898,
          0.05874372333927395,
          -3.4742033571665667,
          -4.369917861548625,
          -4.653204272221245,
          0.45669899555775156,
          -3.106134544066242,
          -2.7296108345580175,
          -1.989384519981392,
          -2.0817967152487817,
          -2.3415156651847906,
          -1.4030646080809746,
          4.6640396435969835,
          7.186856686273765,
          -0.7355916741274879,
          -0.4360124890898253,
          1.2806706038731273,
          1.7932040052792888,
          2.292759562191272,
          11.687545209028164,
          -3.518187343775149,
          -5.031411722040789,
          -4.25507069547793,
          -3.281947791140457,
          -2.1208572767007263,
          -3.2659179667442033,
          -4.206979092281003,
          -4.003425091857055,
          -5.106865551053315,
          -2.106182869090826,
          -4.3622219975928544,
          -3.924304293477759,
          -3.7627745640809347,
          -2.8051415524242245,
          -3.4496956959014113,
          -2.8390794748382002,
          -4.736453283053771
         ]
        }
       ],
       "layout": {
        "height": 700,
        "margin": {
         "b": 100,
         "l": 100,
         "r": 100,
         "t": 100
        },
        "template": {
         "data": {
          "bar": [
           {
            "error_x": {
             "color": "#2a3f5f"
            },
            "error_y": {
             "color": "#2a3f5f"
            },
            "marker": {
             "line": {
              "color": "#E5ECF6",
              "width": 0.5
             },
             "pattern": {
              "fillmode": "overlay",
              "size": 10,
              "solidity": 0.2
             }
            },
            "type": "bar"
           }
          ],
          "barpolar": [
           {
            "marker": {
             "line": {
              "color": "#E5ECF6",
              "width": 0.5
             },
             "pattern": {
              "fillmode": "overlay",
              "size": 10,
              "solidity": 0.2
             }
            },
            "type": "barpolar"
           }
          ],
          "carpet": [
           {
            "aaxis": {
             "endlinecolor": "#2a3f5f",
             "gridcolor": "white",
             "linecolor": "white",
             "minorgridcolor": "white",
             "startlinecolor": "#2a3f5f"
            },
            "baxis": {
             "endlinecolor": "#2a3f5f",
             "gridcolor": "white",
             "linecolor": "white",
             "minorgridcolor": "white",
             "startlinecolor": "#2a3f5f"
            },
            "type": "carpet"
           }
          ],
          "choropleth": [
           {
            "colorbar": {
             "outlinewidth": 0,
             "ticks": ""
            },
            "type": "choropleth"
           }
          ],
          "contour": [
           {
            "colorbar": {
             "outlinewidth": 0,
             "ticks": ""
            },
            "colorscale": [
             [
              0,
              "#0d0887"
             ],
             [
              0.1111111111111111,
              "#46039f"
             ],
             [
              0.2222222222222222,
              "#7201a8"
             ],
             [
              0.3333333333333333,
              "#9c179e"
             ],
             [
              0.4444444444444444,
              "#bd3786"
             ],
             [
              0.5555555555555556,
              "#d8576b"
             ],
             [
              0.6666666666666666,
              "#ed7953"
             ],
             [
              0.7777777777777778,
              "#fb9f3a"
             ],
             [
              0.8888888888888888,
              "#fdca26"
             ],
             [
              1,
              "#f0f921"
             ]
            ],
            "type": "contour"
           }
          ],
          "contourcarpet": [
           {
            "colorbar": {
             "outlinewidth": 0,
             "ticks": ""
            },
            "type": "contourcarpet"
           }
          ],
          "heatmap": [
           {
            "colorbar": {
             "outlinewidth": 0,
             "ticks": ""
            },
            "colorscale": [
             [
              0,
              "#0d0887"
             ],
             [
              0.1111111111111111,
              "#46039f"
             ],
             [
              0.2222222222222222,
              "#7201a8"
             ],
             [
              0.3333333333333333,
              "#9c179e"
             ],
             [
              0.4444444444444444,
              "#bd3786"
             ],
             [
              0.5555555555555556,
              "#d8576b"
             ],
             [
              0.6666666666666666,
              "#ed7953"
             ],
             [
              0.7777777777777778,
              "#fb9f3a"
             ],
             [
              0.8888888888888888,
              "#fdca26"
             ],
             [
              1,
              "#f0f921"
             ]
            ],
            "type": "heatmap"
           }
          ],
          "heatmapgl": [
           {
            "colorbar": {
             "outlinewidth": 0,
             "ticks": ""
            },
            "colorscale": [
             [
              0,
              "#0d0887"
             ],
             [
              0.1111111111111111,
              "#46039f"
             ],
             [
              0.2222222222222222,
              "#7201a8"
             ],
             [
              0.3333333333333333,
              "#9c179e"
             ],
             [
              0.4444444444444444,
              "#bd3786"
             ],
             [
              0.5555555555555556,
              "#d8576b"
             ],
             [
              0.6666666666666666,
              "#ed7953"
             ],
             [
              0.7777777777777778,
              "#fb9f3a"
             ],
             [
              0.8888888888888888,
              "#fdca26"
             ],
             [
              1,
              "#f0f921"
             ]
            ],
            "type": "heatmapgl"
           }
          ],
          "histogram": [
           {
            "marker": {
             "pattern": {
              "fillmode": "overlay",
              "size": 10,
              "solidity": 0.2
             }
            },
            "type": "histogram"
           }
          ],
          "histogram2d": [
           {
            "colorbar": {
             "outlinewidth": 0,
             "ticks": ""
            },
            "colorscale": [
             [
              0,
              "#0d0887"
             ],
             [
              0.1111111111111111,
              "#46039f"
             ],
             [
              0.2222222222222222,
              "#7201a8"
             ],
             [
              0.3333333333333333,
              "#9c179e"
             ],
             [
              0.4444444444444444,
              "#bd3786"
             ],
             [
              0.5555555555555556,
              "#d8576b"
             ],
             [
              0.6666666666666666,
              "#ed7953"
             ],
             [
              0.7777777777777778,
              "#fb9f3a"
             ],
             [
              0.8888888888888888,
              "#fdca26"
             ],
             [
              1,
              "#f0f921"
             ]
            ],
            "type": "histogram2d"
           }
          ],
          "histogram2dcontour": [
           {
            "colorbar": {
             "outlinewidth": 0,
             "ticks": ""
            },
            "colorscale": [
             [
              0,
              "#0d0887"
             ],
             [
              0.1111111111111111,
              "#46039f"
             ],
             [
              0.2222222222222222,
              "#7201a8"
             ],
             [
              0.3333333333333333,
              "#9c179e"
             ],
             [
              0.4444444444444444,
              "#bd3786"
             ],
             [
              0.5555555555555556,
              "#d8576b"
             ],
             [
              0.6666666666666666,
              "#ed7953"
             ],
             [
              0.7777777777777778,
              "#fb9f3a"
             ],
             [
              0.8888888888888888,
              "#fdca26"
             ],
             [
              1,
              "#f0f921"
             ]
            ],
            "type": "histogram2dcontour"
           }
          ],
          "mesh3d": [
           {
            "colorbar": {
             "outlinewidth": 0,
             "ticks": ""
            },
            "type": "mesh3d"
           }
          ],
          "parcoords": [
           {
            "line": {
             "colorbar": {
              "outlinewidth": 0,
              "ticks": ""
             }
            },
            "type": "parcoords"
           }
          ],
          "pie": [
           {
            "automargin": true,
            "type": "pie"
           }
          ],
          "scatter": [
           {
            "fillpattern": {
             "fillmode": "overlay",
             "size": 10,
             "solidity": 0.2
            },
            "type": "scatter"
           }
          ],
          "scatter3d": [
           {
            "line": {
             "colorbar": {
              "outlinewidth": 0,
              "ticks": ""
             }
            },
            "marker": {
             "colorbar": {
              "outlinewidth": 0,
              "ticks": ""
             }
            },
            "type": "scatter3d"
           }
          ],
          "scattercarpet": [
           {
            "marker": {
             "colorbar": {
              "outlinewidth": 0,
              "ticks": ""
             }
            },
            "type": "scattercarpet"
           }
          ],
          "scattergeo": [
           {
            "marker": {
             "colorbar": {
              "outlinewidth": 0,
              "ticks": ""
             }
            },
            "type": "scattergeo"
           }
          ],
          "scattergl": [
           {
            "marker": {
             "colorbar": {
              "outlinewidth": 0,
              "ticks": ""
             }
            },
            "type": "scattergl"
           }
          ],
          "scattermapbox": [
           {
            "marker": {
             "colorbar": {
              "outlinewidth": 0,
              "ticks": ""
             }
            },
            "type": "scattermapbox"
           }
          ],
          "scatterpolar": [
           {
            "marker": {
             "colorbar": {
              "outlinewidth": 0,
              "ticks": ""
             }
            },
            "type": "scatterpolar"
           }
          ],
          "scatterpolargl": [
           {
            "marker": {
             "colorbar": {
              "outlinewidth": 0,
              "ticks": ""
             }
            },
            "type": "scatterpolargl"
           }
          ],
          "scatterternary": [
           {
            "marker": {
             "colorbar": {
              "outlinewidth": 0,
              "ticks": ""
             }
            },
            "type": "scatterternary"
           }
          ],
          "surface": [
           {
            "colorbar": {
             "outlinewidth": 0,
             "ticks": ""
            },
            "colorscale": [
             [
              0,
              "#0d0887"
             ],
             [
              0.1111111111111111,
              "#46039f"
             ],
             [
              0.2222222222222222,
              "#7201a8"
             ],
             [
              0.3333333333333333,
              "#9c179e"
             ],
             [
              0.4444444444444444,
              "#bd3786"
             ],
             [
              0.5555555555555556,
              "#d8576b"
             ],
             [
              0.6666666666666666,
              "#ed7953"
             ],
             [
              0.7777777777777778,
              "#fb9f3a"
             ],
             [
              0.8888888888888888,
              "#fdca26"
             ],
             [
              1,
              "#f0f921"
             ]
            ],
            "type": "surface"
           }
          ],
          "table": [
           {
            "cells": {
             "fill": {
              "color": "#EBF0F8"
             },
             "line": {
              "color": "white"
             }
            },
            "header": {
             "fill": {
              "color": "#C8D4E3"
             },
             "line": {
              "color": "white"
             }
            },
            "type": "table"
           }
          ]
         },
         "layout": {
          "annotationdefaults": {
           "arrowcolor": "#2a3f5f",
           "arrowhead": 0,
           "arrowwidth": 1
          },
          "autotypenumbers": "strict",
          "coloraxis": {
           "colorbar": {
            "outlinewidth": 0,
            "ticks": ""
           }
          },
          "colorscale": {
           "diverging": [
            [
             0,
             "#8e0152"
            ],
            [
             0.1,
             "#c51b7d"
            ],
            [
             0.2,
             "#de77ae"
            ],
            [
             0.3,
             "#f1b6da"
            ],
            [
             0.4,
             "#fde0ef"
            ],
            [
             0.5,
             "#f7f7f7"
            ],
            [
             0.6,
             "#e6f5d0"
            ],
            [
             0.7,
             "#b8e186"
            ],
            [
             0.8,
             "#7fbc41"
            ],
            [
             0.9,
             "#4d9221"
            ],
            [
             1,
             "#276419"
            ]
           ],
           "sequential": [
            [
             0,
             "#0d0887"
            ],
            [
             0.1111111111111111,
             "#46039f"
            ],
            [
             0.2222222222222222,
             "#7201a8"
            ],
            [
             0.3333333333333333,
             "#9c179e"
            ],
            [
             0.4444444444444444,
             "#bd3786"
            ],
            [
             0.5555555555555556,
             "#d8576b"
            ],
            [
             0.6666666666666666,
             "#ed7953"
            ],
            [
             0.7777777777777778,
             "#fb9f3a"
            ],
            [
             0.8888888888888888,
             "#fdca26"
            ],
            [
             1,
             "#f0f921"
            ]
           ],
           "sequentialminus": [
            [
             0,
             "#0d0887"
            ],
            [
             0.1111111111111111,
             "#46039f"
            ],
            [
             0.2222222222222222,
             "#7201a8"
            ],
            [
             0.3333333333333333,
             "#9c179e"
            ],
            [
             0.4444444444444444,
             "#bd3786"
            ],
            [
             0.5555555555555556,
             "#d8576b"
            ],
            [
             0.6666666666666666,
             "#ed7953"
            ],
            [
             0.7777777777777778,
             "#fb9f3a"
            ],
            [
             0.8888888888888888,
             "#fdca26"
            ],
            [
             1,
             "#f0f921"
            ]
           ]
          },
          "colorway": [
           "#636efa",
           "#EF553B",
           "#00cc96",
           "#ab63fa",
           "#FFA15A",
           "#19d3f3",
           "#FF6692",
           "#B6E880",
           "#FF97FF",
           "#FECB52"
          ],
          "font": {
           "color": "#2a3f5f"
          },
          "geo": {
           "bgcolor": "white",
           "lakecolor": "white",
           "landcolor": "#E5ECF6",
           "showlakes": true,
           "showland": true,
           "subunitcolor": "white"
          },
          "hoverlabel": {
           "align": "left"
          },
          "hovermode": "closest",
          "mapbox": {
           "style": "light"
          },
          "paper_bgcolor": "white",
          "plot_bgcolor": "#E5ECF6",
          "polar": {
           "angularaxis": {
            "gridcolor": "white",
            "linecolor": "white",
            "ticks": ""
           },
           "bgcolor": "#E5ECF6",
           "radialaxis": {
            "gridcolor": "white",
            "linecolor": "white",
            "ticks": ""
           }
          },
          "scene": {
           "xaxis": {
            "backgroundcolor": "#E5ECF6",
            "gridcolor": "white",
            "gridwidth": 2,
            "linecolor": "white",
            "showbackground": true,
            "ticks": "",
            "zerolinecolor": "white"
           },
           "yaxis": {
            "backgroundcolor": "#E5ECF6",
            "gridcolor": "white",
            "gridwidth": 2,
            "linecolor": "white",
            "showbackground": true,
            "ticks": "",
            "zerolinecolor": "white"
           },
           "zaxis": {
            "backgroundcolor": "#E5ECF6",
            "gridcolor": "white",
            "gridwidth": 2,
            "linecolor": "white",
            "showbackground": true,
            "ticks": "",
            "zerolinecolor": "white"
           }
          },
          "shapedefaults": {
           "line": {
            "color": "#2a3f5f"
           }
          },
          "ternary": {
           "aaxis": {
            "gridcolor": "white",
            "linecolor": "white",
            "ticks": ""
           },
           "baxis": {
            "gridcolor": "white",
            "linecolor": "white",
            "ticks": ""
           },
           "bgcolor": "#E5ECF6",
           "caxis": {
            "gridcolor": "white",
            "linecolor": "white",
            "ticks": ""
           }
          },
          "title": {
           "x": 0.05
          },
          "xaxis": {
           "automargin": true,
           "gridcolor": "white",
           "linecolor": "white",
           "ticks": "",
           "title": {
            "standoff": 15
           },
           "zerolinecolor": "white",
           "zerolinewidth": 2
          },
          "yaxis": {
           "automargin": true,
           "gridcolor": "white",
           "linecolor": "white",
           "ticks": "",
           "title": {
            "standoff": 15
           },
           "zerolinecolor": "white",
           "zerolinewidth": 2
          }
         }
        },
        "width": 1000
       }
      }
     },
     "metadata": {},
     "output_type": "display_data"
    }
   ],
   "source": [
    "X_ = X_filtered\n",
    "\n",
    "scaler = StandardScaler()\n",
    "scaler.fit(X_)\n",
    "X_normalized = scaler.transform(X_)\n",
    "\n",
    "pca = PCA(n_components=min(X_.shape[0], X_.shape[1]))\n",
    "pca.fit(X_normalized)\n",
    "\n",
    "X_pca = pca.fit_transform(X_normalized)\n",
    "\n",
    "plot_3d(X_pca[:, 0], X_pca[:, 1], X_pca[:, 2], y)"
   ]
  },
  {
   "cell_type": "code",
   "execution_count": null,
   "metadata": {},
   "outputs": [],
   "source": []
  },
  {
   "cell_type": "code",
   "execution_count": null,
   "metadata": {},
   "outputs": [],
   "source": []
  },
  {
   "cell_type": "code",
   "execution_count": null,
   "metadata": {},
   "outputs": [],
   "source": []
  },
  {
   "cell_type": "code",
   "execution_count": null,
   "metadata": {},
   "outputs": [],
   "source": []
  },
  {
   "cell_type": "code",
   "execution_count": null,
   "metadata": {},
   "outputs": [],
   "source": []
  },
  {
   "cell_type": "code",
   "execution_count": null,
   "metadata": {},
   "outputs": [],
   "source": []
  },
  {
   "cell_type": "code",
   "execution_count": null,
   "metadata": {},
   "outputs": [],
   "source": []
  },
  {
   "cell_type": "code",
   "execution_count": null,
   "metadata": {},
   "outputs": [],
   "source": []
  },
  {
   "cell_type": "code",
   "execution_count": null,
   "metadata": {},
   "outputs": [],
   "source": []
  },
  {
   "cell_type": "code",
   "execution_count": 101,
   "metadata": {},
   "outputs": [],
   "source": [
    "save_pickle('X_raw_1000.pkl', X)"
   ]
  },
  {
   "cell_type": "code",
   "execution_count": 105,
   "metadata": {},
   "outputs": [],
   "source": [
    "save_pickle('X_filt_1000.pkl', X_filtered)"
   ]
  },
  {
   "cell_type": "code",
   "execution_count": null,
   "metadata": {},
   "outputs": [],
   "source": []
  },
  {
   "cell_type": "code",
   "execution_count": null,
   "metadata": {},
   "outputs": [],
   "source": []
  },
  {
   "cell_type": "code",
   "execution_count": null,
   "metadata": {},
   "outputs": [],
   "source": []
  },
  {
   "cell_type": "code",
   "execution_count": 31,
   "metadata": {},
   "outputs": [],
   "source": [
    "X = load_pickle('X_raw_1000.pkl')"
   ]
  },
  {
   "cell_type": "code",
   "execution_count": 32,
   "metadata": {},
   "outputs": [
    {
     "data": {
      "text/plain": [
       "((357, 49329), (357,))"
      ]
     },
     "execution_count": 32,
     "metadata": {},
     "output_type": "execute_result"
    }
   ],
   "source": [
    "X.shape, y.shape"
   ]
  },
  {
   "cell_type": "code",
   "execution_count": 33,
   "metadata": {},
   "outputs": [],
   "source": [
    "X_filtered = select_features(X, y, n_jobs=10)"
   ]
  },
  {
   "cell_type": "code",
   "execution_count": 46,
   "metadata": {},
   "outputs": [
    {
     "data": {
      "text/plain": [
       "(357, 38)"
      ]
     },
     "execution_count": 46,
     "metadata": {},
     "output_type": "execute_result"
    }
   ],
   "source": [
    "X_filtered.shape"
   ]
  },
  {
   "cell_type": "code",
   "execution_count": 47,
   "metadata": {},
   "outputs": [],
   "source": [
    "y_copy = deepcopy(y)"
   ]
  },
  {
   "cell_type": "code",
   "execution_count": 48,
   "metadata": {},
   "outputs": [],
   "source": [
    "np.random.shuffle(y_copy)"
   ]
  },
  {
   "cell_type": "code",
   "execution_count": 51,
   "metadata": {},
   "outputs": [],
   "source": [
    "X_filtered = select_features(X, y_copy, n_jobs=10)"
   ]
  },
  {
   "cell_type": "code",
   "execution_count": 53,
   "metadata": {},
   "outputs": [
    {
     "data": {
      "text/plain": [
       "(357, 0)"
      ]
     },
     "execution_count": 53,
     "metadata": {},
     "output_type": "execute_result"
    }
   ],
   "source": [
    "X_filtered.shape"
   ]
  },
  {
   "cell_type": "code",
   "execution_count": 58,
   "metadata": {},
   "outputs": [
    {
     "name": "stderr",
     "output_type": "stream",
     "text": [
      "100%|██████████| 10/10 [03:02<00:00, 18.25s/it]\n"
     ]
    }
   ],
   "source": [
    "out = []\n",
    "for i in tqdm(range(10)):\n",
    "    y_copy = deepcopy(y)\n",
    "    np.random.shuffle(y_copy)\n",
    "    X_filtered = select_features(X, y_copy, n_jobs=10)\n",
    "    out.append(X_filtered)"
   ]
  },
  {
   "cell_type": "code",
   "execution_count": 68,
   "metadata": {},
   "outputs": [
    {
     "data": {
      "text/html": [
       "<div>\n",
       "<style scoped>\n",
       "    .dataframe tbody tr th:only-of-type {\n",
       "        vertical-align: middle;\n",
       "    }\n",
       "\n",
       "    .dataframe tbody tr th {\n",
       "        vertical-align: top;\n",
       "    }\n",
       "\n",
       "    .dataframe thead th {\n",
       "        text-align: right;\n",
       "    }\n",
       "</style>\n",
       "<table border=\"1\" class=\"dataframe\">\n",
       "  <thead>\n",
       "    <tr style=\"text-align: right;\">\n",
       "      <th></th>\n",
       "    </tr>\n",
       "  </thead>\n",
       "  <tbody>\n",
       "    <tr>\n",
       "      <th>0</th>\n",
       "    </tr>\n",
       "    <tr>\n",
       "      <th>1</th>\n",
       "    </tr>\n",
       "    <tr>\n",
       "      <th>2</th>\n",
       "    </tr>\n",
       "    <tr>\n",
       "      <th>3</th>\n",
       "    </tr>\n",
       "    <tr>\n",
       "      <th>4</th>\n",
       "    </tr>\n",
       "    <tr>\n",
       "      <th>...</th>\n",
       "    </tr>\n",
       "    <tr>\n",
       "      <th>352</th>\n",
       "    </tr>\n",
       "    <tr>\n",
       "      <th>353</th>\n",
       "    </tr>\n",
       "    <tr>\n",
       "      <th>354</th>\n",
       "    </tr>\n",
       "    <tr>\n",
       "      <th>355</th>\n",
       "    </tr>\n",
       "    <tr>\n",
       "      <th>356</th>\n",
       "    </tr>\n",
       "  </tbody>\n",
       "</table>\n",
       "<p>357 rows × 0 columns</p>\n",
       "</div>"
      ],
      "text/plain": [
       "Empty DataFrame\n",
       "Columns: []\n",
       "Index: [0, 1, 2, 3, 4, 5, 6, 7, 8, 9, 10, 11, 12, 13, 14, 15, 16, 17, 18, 19, 20, 21, 22, 23, 24, 25, 26, 27, 28, 29, 30, 31, 32, 33, 34, 35, 36, 37, 38, 39, 40, 41, 42, 43, 44, 45, 46, 47, 48, 49, 50, 51, 52, 53, 54, 55, 56, 57, 58, 59, 60, 61, 62, 63, 64, 65, 66, 67, 68, 69, 70, 71, 72, 73, 74, 75, 76, 77, 78, 79, 80, 81, 82, 83, 84, 85, 86, 87, 88, 89, 90, 91, 92, 93, 94, 95, 96, 97, 98, 99, ...]\n",
       "\n",
       "[357 rows x 0 columns]"
      ]
     },
     "execution_count": 68,
     "metadata": {},
     "output_type": "execute_result"
    }
   ],
   "source": [
    "out[9]"
   ]
  },
  {
   "cell_type": "code",
   "execution_count": null,
   "metadata": {},
   "outputs": [],
   "source": []
  },
  {
   "cell_type": "code",
   "execution_count": 96,
   "metadata": {},
   "outputs": [],
   "source": [
    "def reshape_temporal_landmarks(data, ws, overlap=0):\n",
    "    all_df = pd.DataFrame()\n",
    "    start_id = 0\n",
    "    cpt = 0\n",
    "    y = []\n",
    "\n",
    "    for subject_id in tqdm(all_data.keys()):\n",
    "        label = np.random.randint(0,2)\n",
    "        data_win = make_window(all_data[subject_id], ws, overlap)\n",
    "        for win_idx in range(data_win.shape[0]):\n",
    "            df = pd.DataFrame(data_win[win_idx,:,:], columns=['feat_' + str(idx) for idx in range(63)])\n",
    "            df['time'] = [i for i in range(1,len(df)+1)]\n",
    "            df['id'] = [(start_id + win_idx) for _ in range(len(df))]\n",
    "            all_df = pd.concat([all_df, df])\n",
    "            y.append(label)\n",
    "        start_id += (win_idx+1)\n",
    "    all_df.reset_index(drop=True, inplace=True)\n",
    "    return all_df, np.array(y)\n"
   ]
  },
  {
   "cell_type": "code",
   "execution_count": 121,
   "metadata": {},
   "outputs": [
    {
     "name": "stderr",
     "output_type": "stream",
     "text": [
      "100%|██████████| 28/28 [00:06<00:00,  4.65it/s]\n",
      "100%|██████████| 28/28 [00:05<00:00,  4.70it/s]\n",
      "100%|██████████| 28/28 [00:05<00:00,  4.70it/s]\n",
      "100%|██████████| 28/28 [00:05<00:00,  5.52it/s]\n",
      "100%|██████████| 28/28 [00:05<00:00,  5.47it/s]\n",
      "100%|██████████| 28/28 [00:05<00:00,  5.39it/s]\n",
      "100%|██████████| 28/28 [00:05<00:00,  5.44it/s]\n",
      "100%|██████████| 28/28 [00:05<00:00,  5.42it/s]\n",
      "100%|██████████| 28/28 [00:05<00:00,  5.53it/s]\n",
      "100%|██████████| 28/28 [00:05<00:00,  5.48it/s]\n",
      "100%|██████████| 10/10 [04:01<00:00, 24.15s/it]\n"
     ]
    }
   ],
   "source": [
    "out = []\n",
    "for i in tqdm(range(10)):\n",
    "    all_df, y = reshape_temporal_landmarks(all_data, ws=1000)\n",
    "    y_copy = deepcopy(y)\n",
    "    #np.random.shuffle(y_copy)\n",
    "    X_filtered = select_features(X, y_copy, n_jobs=10)\n",
    "    out.append((X_filtered, y_copy))"
   ]
  },
  {
   "cell_type": "code",
   "execution_count": 98,
   "metadata": {},
   "outputs": [
    {
     "data": {
      "text/plain": [
       "10"
      ]
     },
     "execution_count": 98,
     "metadata": {},
     "output_type": "execute_result"
    }
   ],
   "source": [
    "len(out)"
   ]
  },
  {
   "cell_type": "code",
   "execution_count": 142,
   "metadata": {},
   "outputs": [
    {
     "name": "stdout",
     "output_type": "stream",
     "text": [
      "(357, 21)\n",
      "(357, 912)\n",
      "(357, 372)\n",
      "(357, 4963)\n",
      "(357, 2770)\n",
      "(357, 4516)\n",
      "(357, 540)\n",
      "(357, 0)\n",
      "(357, 97)\n",
      "(357, 1244)\n"
     ]
    }
   ],
   "source": [
    "for i in range(len(out)):\n",
    "    print(out[i][0].shape)"
   ]
  },
  {
   "cell_type": "code",
   "execution_count": 136,
   "metadata": {},
   "outputs": [
    {
     "data": {
      "text/plain": [
       "((357, 372), (357,))"
      ]
     },
     "execution_count": 136,
     "metadata": {},
     "output_type": "execute_result"
    }
   ],
   "source": [
    "out[2][0].shape, out[2][1].shape"
   ]
  },
  {
   "cell_type": "code",
   "execution_count": 148,
   "metadata": {},
   "outputs": [
    {
     "data": {
      "application/vnd.plotly.v1+json": {
       "config": {
        "plotlyServerURL": "https://plot.ly"
       },
       "data": [
        {
         "marker": {
          "color": [
           0,
           0,
           0,
           0,
           0,
           0,
           0,
           0,
           0,
           0,
           0,
           0,
           0,
           0,
           0,
           1,
           1,
           1,
           1,
           1,
           1,
           1,
           0,
           0,
           0,
           0,
           0,
           0,
           0,
           0,
           0,
           0,
           0,
           0,
           0,
           0,
           0,
           0,
           0,
           0,
           0,
           0,
           0,
           1,
           1,
           1,
           1,
           1,
           1,
           1,
           1,
           1,
           1,
           1,
           0,
           0,
           0,
           0,
           0,
           0,
           0,
           0,
           0,
           1,
           1,
           1,
           1,
           1,
           1,
           1,
           1,
           1,
           1,
           1,
           0,
           0,
           0,
           0,
           0,
           0,
           0,
           0,
           0,
           0,
           0,
           0,
           0,
           0,
           0,
           0,
           0,
           0,
           0,
           0,
           0,
           0,
           0,
           0,
           0,
           0,
           0,
           0,
           0,
           0,
           0,
           0,
           0,
           0,
           0,
           0,
           0,
           0,
           0,
           0,
           0,
           0,
           0,
           0,
           0,
           0,
           0,
           1,
           1,
           1,
           1,
           1,
           1,
           1,
           1,
           1,
           1,
           1,
           1,
           1,
           1,
           1,
           1,
           1,
           1,
           1,
           1,
           1,
           1,
           1,
           1,
           1,
           1,
           1,
           1,
           1,
           1,
           1,
           1,
           1,
           1,
           1,
           1,
           1,
           1,
           1,
           1,
           1,
           1,
           1,
           1,
           1,
           1,
           1,
           1,
           1,
           1,
           1,
           0,
           0,
           0,
           0,
           0,
           0,
           0,
           0,
           0,
           0,
           0,
           0,
           1,
           1,
           1,
           1,
           1,
           1,
           1,
           1,
           1,
           1,
           1,
           1,
           1,
           1,
           1,
           1,
           1,
           1,
           1,
           1,
           1,
           1,
           1,
           1,
           1,
           1,
           1,
           1,
           1,
           1,
           1,
           1,
           1,
           1,
           1,
           1,
           1,
           1,
           1,
           1,
           0,
           0,
           0,
           0,
           0,
           0,
           0,
           0,
           0,
           0,
           0,
           0,
           1,
           1,
           1,
           1,
           1,
           1,
           1,
           1,
           1,
           0,
           0,
           0,
           0,
           0,
           0,
           0,
           0,
           0,
           0,
           0,
           0,
           0,
           0,
           0,
           0,
           0,
           0,
           0,
           0,
           0,
           0,
           0,
           0,
           0,
           0,
           0,
           0,
           1,
           1,
           1,
           1,
           1,
           1,
           1,
           1,
           1,
           1,
           1,
           1,
           1,
           1,
           1,
           1,
           1,
           1,
           1,
           1,
           0,
           0,
           0,
           0,
           0,
           0,
           0,
           0,
           0,
           0,
           0,
           0,
           0,
           0,
           0,
           0,
           0,
           0,
           0,
           0,
           0,
           0,
           0,
           0,
           0,
           0,
           0,
           0,
           0,
           0,
           0,
           0,
           0,
           0,
           0,
           0,
           0,
           0,
           0,
           0,
           0,
           0,
           0,
           1,
           1,
           1,
           1,
           1,
           1,
           1,
           1,
           1,
           1,
           1,
           1,
           1,
           1,
           1,
           1,
           1,
           1,
           1,
           1,
           1
          ],
          "line": {
           "width": 1
          },
          "opacity": 1,
          "size": 5
         },
         "mode": "markers",
         "type": "scatter3d",
         "x": [
          -46.684190454004046,
          -51.74599959857428,
          -48.955418177870385,
          -31.310585438093536,
          -31.386532910504386,
          -26.683194886091997,
          -35.87080113249029,
          -48.468472079121305,
          -46.88568238974601,
          -24.340249132415998,
          -12.800513461362915,
          -32.03378493868458,
          -35.320009984560315,
          -34.14287855185811,
          -9.426508550933562,
          14.435960249710412,
          21.168489597631634,
          35.6596233584905,
          46.98559092789806,
          59.489634869122646,
          18.46965127868135,
          81.09008606991905,
          -7.877524631486836,
          -32.95300657933385,
          -36.506112948220924,
          -31.46170695051152,
          -19.80143601484002,
          -19.82477891359484,
          -25.986910059554365,
          -25.055708728400052,
          -14.444953629081004,
          -26.993848154832847,
          -24.884907376993358,
          -43.08531270220849,
          -22.538522079232298,
          -12.675252162181794,
          -1.632322140800577,
          -1.5007249861271685,
          8.172525021741789,
          7.168155625005934,
          4.404777310265558,
          22.021874335917772,
          3.7472134796360006,
          -3.6831135556217465,
          17.864550666973898,
          -28.613501142109314,
          6.78067327055391,
          47.881914872466616,
          20.04097087620147,
          40.822885392328004,
          49.59956379563909,
          34.62550184838442,
          24.155018818141563,
          42.28814132563067,
          -4.48965385812173,
          -16.76572355244472,
          -9.691620876780103,
          20.64824811139438,
          2.7825272461067367,
          -12.305472006218839,
          -7.695018047449153,
          0.26831815787012187,
          98.35820951425085,
          -7.218483581862975,
          -1.9407766540550462,
          13.213005534543809,
          10.101172871748043,
          5.8190447173687705,
          8.255722213964928,
          37.836481492854524,
          21.63274408810242,
          27.189461920232432,
          49.5043161442695,
          59.41287413380719,
          -24.691024255843086,
          -40.79683765179008,
          -6.766490095433722,
          17.517638997551103,
          -12.68211557314641,
          -24.278716150045746,
          -20.959996375799303,
          -12.720244644374862,
          18.41061765902482,
          11.663611193778555,
          7.086807394328686,
          -16.400912091740025,
          0.20070128134540088,
          -4.044757401492438,
          8.687457547060541,
          -6.613843735446644,
          3.38657652685007,
          -0.5561596630180774,
          21.763935796425343,
          8.912209623472593,
          16.13099724368458,
          26.87858684114256,
          9.17419255563111,
          7.499735201618935,
          -15.927957024363131,
          -3.570771711792223,
          5.479607083438246,
          -19.660644636474583,
          -42.82914184824781,
          -40.40838504095602,
          -37.84663867415284,
          -0.973475351043181,
          29.01912528492168,
          16.820703285205827,
          -13.080433628065755,
          -3.5740723306745283,
          -17.03169385639779,
          -21.40717363893695,
          -5.455434406547226,
          -7.178527901209954,
          -9.27279055515179,
          19.805591433075776,
          10.847983847523713,
          12.944972672763893,
          16.662887051887687,
          -5.1056354403307855,
          -2.8599122525499356,
          10.035639272177889,
          13.26765359504741,
          21.27815020166728,
          34.35505568803872,
          45.340598381661735,
          18.69800134091609,
          4.429090442900336,
          29.240834629290887,
          36.5088715607986,
          35.581181977751996,
          35.341032716666206,
          4.608176449654947,
          2.997232745414048,
          9.197979380360444,
          17.053321928304932,
          14.551293137262817,
          26.807998101019553,
          9.09204530273446,
          26.835430335473273,
          37.52978986468971,
          27.264291539846255,
          40.74254311914441,
          39.13329973501594,
          3.1618187330464425,
          -0.6441326877756469,
          -8.80121147336902,
          -0.5352349288804603,
          -28.226357987110138,
          -2.0635384380088277,
          2.198847871413275,
          2.8290013255483424,
          -8.745651433121957,
          4.145126082052285,
          -4.183850618229235,
          9.054527546099655,
          11.811433317529437,
          11.588661460472228,
          36.72274366287001,
          -2.2106994962448026,
          22.989408305309503,
          33.79206578467072,
          36.282615577288304,
          17.840730283841353,
          18.117427319503573,
          25.937889456536453,
          22.454802193521047,
          45.05771541658826,
          32.247723129036864,
          28.561274540416907,
          23.22585987140785,
          48.36510071486567,
          -47.78016689528718,
          -13.17727927120263,
          -19.2967995086145,
          -30.530274928028952,
          -11.377140435330471,
          -11.088740543469848,
          -27.22703877176183,
          -15.651580344279473,
          -10.08208481222487,
          -21.44340162539611,
          -27.77984354989489,
          -23.636468904828703,
          -31.881715448830985,
          -17.740422887814493,
          -22.070987481079985,
          -19.326733694697456,
          8.88206288788781,
          -25.177373232194316,
          -50.64912800614781,
          -37.79296848259045,
          -43.4837130732139,
          -45.21072875433526,
          -49.293074378653785,
          -25.077793158348083,
          -12.655391327790364,
          3.6750152056419116,
          -8.04683538806985,
          5.388216475010489,
          -26.920107083009643,
          10.8282464322102,
          -10.574317589962572,
          -4.436437991832374,
          -28.594469533518662,
          -3.1604265413068706,
          0.8894559464643799,
          -1.4715556457126573,
          17.545957080070085,
          -1.133861809077908,
          -22.605759243983762,
          -32.819530459087815,
          9.032174360461736,
          42.558592935440714,
          19.483288796330314,
          12.128875207726614,
          24.257735318189035,
          12.356924919865707,
          11.06806957764905,
          20.27786296251255,
          13.391016617033856,
          -8.058774974868658,
          13.083577694576652,
          -1.202435972725585,
          -33.816962000721254,
          -17.524975002278126,
          -9.983302773185505,
          -0.4810003696559546,
          1.7165247772884442,
          -0.3814908428505502,
          -21.538264779082375,
          -26.239691290540893,
          -1.8377891901141614,
          -32.31171000367158,
          -28.700010980024402,
          -12.361294667664158,
          -5.055003019735717,
          -10.454919851666482,
          -10.989418638830923,
          -15.753777413304054,
          -0.9839524223482967,
          3.6722499405656803,
          14.772032562700634,
          14.260185653475885,
          11.579250223034105,
          -8.494645759386476,
          -29.065801779630934,
          1.3545543056298714,
          -13.286970125744535,
          -15.644540295662196,
          -20.98351758531043,
          -12.64454302108877,
          -11.073352351356704,
          -6.270270831072826,
          -3.076694573682986,
          -9.77902964678882,
          -7.590999208300976,
          51.282966133266825,
          31.034152791968157,
          -7.562706951682251,
          54.383071800445066,
          -26.266022474552624,
          -6.712890999469456,
          -14.339599009361967,
          -31.042656806598494,
          -38.489632123887404,
          -17.25466302669957,
          -12.950846365077274,
          5.608940554265583,
          0.5407703854228612,
          -9.058287966556414,
          13.203127530179064,
          3.100773573659445,
          -12.926377503177997,
          -16.47036061949742,
          -2.383335049963499,
          12.443429797902098,
          18.230162485286804,
          9.117650963446055,
          13.0613732359583,
          11.143277109697737,
          1.1899726793831897,
          -3.0335330395167763,
          5.434227812392712,
          9.066713393262871,
          4.234616886815739,
          10.791363215828726,
          6.603340274728714,
          19.449276321195264,
          16.024166406202507,
          8.351091874842467,
          26.398309478672886,
          19.855531554336192,
          -1.0408315949295572,
          11.642274467669427,
          6.9656746736619874,
          35.49104966359723,
          34.22714197213429,
          17.404631800116615,
          2.7230082027538214,
          9.870495541086731,
          5.2207122633163925,
          25.25151345313376,
          9.355757512296265,
          -39.387640645903424,
          -19.583556090857133,
          2.993809665599126,
          -14.6404179408088,
          15.219415243125516,
          21.34248412941327,
          -0.13087155184899446,
          -28.941152677260252,
          -27.292417404646464,
          -2.679094289687997,
          -27.28383947615618,
          -14.233981485366169,
          -9.130971954839106,
          35.49133650742841,
          21.97839901801848,
          10.267836248329639,
          15.578897326544624,
          11.668787333310652,
          39.578982433802885,
          38.69341580236668,
          22.972043090425082,
          -2.911981697100851,
          -2.413656560226586,
          -20.474885521126048,
          -24.9182189886327,
          -24.515434329210468,
          -17.420978289483728,
          -11.133142131945116,
          -0.39963424932027275,
          18.86368707935868,
          11.364441743995888,
          1.8260042687800473,
          -15.388913617532953,
          -21.951468420622472,
          15.808952198660387,
          -1.7279891929316769,
          -7.059668244551197,
          -7.02926509906971,
          -4.9087792183814605,
          11.463221028135933,
          5.266824998845435,
          -12.314204632180422,
          -6.763906600190881,
          -10.374785793037239,
          -33.75741851647553,
          -26.0147599532103,
          -19.46822179899203,
          -12.946880099814749,
          -1.9695356451628427,
          6.182221443353761,
          -11.145912557902577,
          -18.499790319723463,
          -13.616262229443567
         ],
         "y": [
          18.52270396933608,
          25.17706786756061,
          30.737989854917036,
          29.5859024226973,
          16.66203673177331,
          16.179638424981697,
          21.403687275007535,
          27.53583761657442,
          29.907775073674458,
          19.275821391469535,
          13.8099822793026,
          23.063685814672112,
          17.31406197532438,
          17.674957812246188,
          12.614899567863235,
          -9.459933511958532,
          4.605939119886027,
          3.398923133173152,
          9.10428017757741,
          42.46061041312096,
          -9.415901358994585,
          49.06975218055224,
          -15.001176716021197,
          -3.3527452052592106,
          2.0378927689380335,
          2.5224162036136626,
          -8.918721729059213,
          -13.606704099979764,
          -4.247576732874599,
          -4.13534089338854,
          -5.540004487780877,
          7.634143099685595,
          3.173205620196369,
          20.23877280613191,
          -1.4412798398221167,
          -11.332305700598662,
          -20.178932676220185,
          7.578886497725487,
          -8.896103926726322,
          -12.887183158846199,
          -5.0021819983819915,
          -12.595299664609039,
          5.641767056951639,
          -9.689073324776627,
          -5.189345145218191,
          -2.189318778975013,
          -10.563578301965517,
          17.24400688085609,
          3.802214103579437,
          1.7032922021486174,
          30.658428789344203,
          -3.724829749281276,
          15.900346497335322,
          8.36045316234496,
          -3.8675160784360516,
          -5.064149231859352,
          -12.847728472373044,
          -11.218564337618242,
          26.34813493339117,
          1.6249670146014787,
          -10.316625707603094,
          -7.855938026651741,
          73.50261372393805,
          -6.806516791918284,
          -3.9930654089229547,
          -15.165761677799642,
          -23.540437830055883,
          -19.704177431217186,
          -12.643137588934213,
          -1.5034379099577135,
          -16.260380030327447,
          -8.310736955559246,
          7.477221700331702,
          13.095587917701586,
          -8.563386408540046,
          10.774443384082726,
          7.109997918657032,
          2.164230195613322,
          -1.1073887512539196,
          -7.30240296160428,
          -0.2631179582237999,
          -4.009025155129101,
          -4.674463350925314,
          -0.6459338069202271,
          -12.104101347589276,
          4.667231186952815,
          -9.674758138819524,
          -7.363163781869571,
          -20.10573244656729,
          -2.631256908731313,
          -8.72744787717606,
          -5.4373984329100695,
          -27.486286968089665,
          -18.255840442618876,
          -10.492431548010922,
          -17.18348814861632,
          -10.566680530291544,
          -6.973108356517727,
          -2.667474590984582,
          4.8334651838561165,
          -5.2092042012448525,
          -0.6556899291363524,
          4.266473394465665,
          2.960533961920563,
          1.9105552845021843,
          -2.825518571608159,
          26.778586945587477,
          32.657742416849814,
          4.644313579496059,
          -0.9424429907739653,
          10.576197095990546,
          4.494737853522834,
          -7.450461459182594,
          -17.917985349136867,
          -11.14346691794556,
          -3.8512538715711826,
          -23.274587002883074,
          -1.2809008257784154,
          -11.59616148864057,
          -3.7544302959200486,
          5.736660625814114,
          -25.786748140859792,
          9.11074676502157,
          6.596433215404648,
          2.8957543335605953,
          12.677027340002613,
          -6.278301278581984,
          -9.540989926296486,
          5.675727158601681,
          11.279888677256967,
          14.220179879109294,
          15.752238793539748,
          3.6398940551269403,
          0.9472381776955213,
          8.217679140168519,
          5.689950035138059,
          25.922998387560856,
          2.50207434323112,
          10.95569427724315,
          -5.460561630829944,
          11.656960818515092,
          8.330723842991677,
          17.440918463476784,
          8.596728610336656,
          -11.671535353967412,
          -18.9477999665064,
          -4.380736768695802,
          -10.148811415232872,
          9.56829543489804,
          -10.66698611451447,
          -9.440186347070046,
          -15.591279446134559,
          1.8567297547049297,
          -14.122775179340012,
          -2.6664394239448383,
          -2.266739122873902,
          4.49835628405466,
          -9.58394510080248,
          12.785607435135365,
          18.43066702801299,
          -10.253482837392225,
          -18.74509901447007,
          -15.35989294113486,
          -29.039885884381068,
          -18.627704380201422,
          -23.366892954962744,
          -18.251541301074234,
          9.291581168646507,
          11.009167995245468,
          8.170620335450218,
          12.218069372458505,
          25.21551302220631,
          28.50985779611568,
          19.631685778540465,
          3.6497594919253875,
          5.4468109668070595,
          35.258108429162185,
          5.930168425454015,
          13.025202631389536,
          10.226369981762012,
          -1.2428368653701505,
          1.7845454436520574,
          7.50123084602365,
          9.306454619844963,
          5.14448973085907,
          -2.8344535462718152,
          -10.184762696508926,
          -10.583537297068503,
          -8.889381842438262,
          2.276668447977894,
          18.08287952791749,
          5.122416515901794,
          11.808337195670259,
          15.601981736684326,
          18.654978760128266,
          -0.5970778768615554,
          -1.1488723474028104,
          -2.198338516117692,
          -1.3118053828250005,
          -5.235779060732838,
          9.373591951000304,
          -27.52342810000953,
          0.033963992286752204,
          -6.251329988279039,
          13.721967592432575,
          -12.747909767624785,
          -17.203741343476796,
          -16.06934009357217,
          -11.726602945974363,
          -12.492835291653323,
          -7.187429615218601,
          -0.6713163776531471,
          -15.851817082531854,
          0.16883549974724896,
          -17.65047182633246,
          2.0189268992028047,
          -23.995135497937703,
          -10.910508114687659,
          -9.840154832364348,
          -21.78226099637819,
          -17.170607175877333,
          8.519569948432713,
          -7.195476051210326,
          -9.953701881689831,
          12.796215913328043,
          -6.199260276611765,
          -15.33869725624605,
          -12.676386607718074,
          -7.504249296690345,
          -12.184424571222834,
          4.004897457067926,
          4.982211028549294,
          -21.570034707430487,
          7.751419395560168,
          10.458298487929678,
          -7.243699376922751,
          11.800483945889951,
          3.7753271576387704,
          -8.692490539918898,
          -4.776492873362999,
          -10.09007553212597,
          -1.1032489119064408,
          -6.577734521847869,
          7.8613954845703,
          10.248085641054182,
          -5.959857055138953,
          14.352887542689007,
          12.992434877466033,
          -5.853694820728495,
          -11.958298189902333,
          -2.4814060254253314,
          -7.314756063690108,
          -8.00091797963606,
          -12.494523093467517,
          -7.107256983235272,
          -8.63934030068402,
          2.981869391371711,
          38.25266055741367,
          38.44849080514103,
          51.47298288447381,
          28.733918266919314,
          9.928234609942253,
          7.438361028856614,
          -5.698734034700534,
          1.9105978279024909,
          5.639738545743434,
          -0.28627766298575147,
          1.4619887413178878,
          4.786558170303636,
          4.627049680419161,
          12.030121846267534,
          2.8359639874966236,
          4.128033946358548,
          12.820432933844417,
          21.316146082309835,
          6.419483374236115,
          -16.197011976413798,
          -10.189593860358393,
          -12.17261257665955,
          -11.043896980641211,
          -13.566643044857107,
          -11.369461799652322,
          -10.98909627490618,
          -16.055889020946715,
          -16.52331469777793,
          -16.860685963348327,
          -14.71066004641694,
          -7.869630827440545,
          17.758220638092393,
          31.431896669568687,
          20.326115505492506,
          6.183844958409516,
          -14.914929326913635,
          5.369613873605195,
          -0.608923034669134,
          -11.298700278738409,
          21.3222316042466,
          13.247905441027887,
          11.239860036115687,
          2.1761110594408537,
          -8.884918789321402,
          -5.588814455669647,
          -0.5717900276618394,
          -1.3266980260822505,
          13.282483602265641,
          0.6429671997491259,
          -22.303921654881588,
          -15.00132268515357,
          -4.518527200189083,
          -19.709225501456825,
          -15.911772050240609,
          4.353623966396969,
          9.520042484829025,
          -20.76389435577919,
          8.423672860416577,
          -8.03872949706814,
          -8.862903456102373,
          23.52771537805644,
          -8.435181374741612,
          -21.869270504335947,
          -24.24852606961157,
          -23.023846783005663,
          1.2450103932134358,
          6.298569120103751,
          -5.142037967567492,
          -5.766508962239874,
          -15.27301611408615,
          -9.414888961255604,
          -7.4955064989142,
          -5.645652101197462,
          -6.981414954557857,
          -7.0487521052071385,
          -11.174265182705275,
          -12.982490651970982,
          -5.638547425761372,
          -9.30052618946917,
          -7.684249211754064,
          5.206670177405913,
          12.79543827780699,
          7.327175274912376,
          -12.807966207280652,
          -6.597869511293098,
          -0.19014257613643443,
          2.2322380111179148,
          -25.798910110346295,
          7.2688986590183715,
          4.982009424030121,
          10.603237276261513,
          8.312318246134232,
          12.20201293294479,
          8.102060788172803,
          -11.884135574854577,
          -8.416189491393135,
          -9.370068714663214,
          -7.5357329245776565,
          -3.459054288513819,
          -5.77345014554116
         ],
         "z": [
          2.329742737828712,
          2.615016129944033,
          4.982051537393284,
          -2.2170076511407215,
          -0.9699734994565918,
          -0.5132486303664839,
          -1.2774160866634428,
          -0.3724802070342602,
          -1.5005418766602112,
          -3.7731454977213272,
          -5.0257814166876145,
          -2.801721931988909,
          1.5830240770605575,
          1.1492430369445712,
          5.9816279777460775,
          -1.4375101997476563,
          -9.81289829429364,
          -1.2601679250010096,
          -9.787024552825029,
          17.708854259785785,
          -4.369097843592358,
          66.6941803939786,
          3.6942561330493398,
          5.7191166914264135,
          4.652894531357647,
          2.7856432701191123,
          4.275162376352795,
          5.683322090767786,
          3.9966866457583268,
          4.409157874460912,
          0.36147424275846474,
          0.5026280383607179,
          0.9841577375463051,
          0.6127165022167682,
          1.2293078906092556,
          2.976409452325663,
          4.428120059664417,
          -6.393108738908897,
          -3.4975856035211503,
          -3.2608366129391446,
          -4.159092301536727,
          -4.053099114405792,
          -8.590378561651304,
          2.556078941556319,
          0.9374241655319,
          5.893064249009125,
          6.219289149130467,
          35.37005643510947,
          17.05359728677466,
          1.5996969039203726,
          -6.081605888912386,
          -1.7782634718908552,
          1.622927932963898,
          -1.0941916169622363,
          -0.49576390312609037,
          -0.30069716282466846,
          1.118717855148305,
          -4.222585711465132,
          -4.931501168275532,
          1.688515629357428,
          -0.10941016635556723,
          0.9979022951822848,
          94.66255791434057,
          2.31273075892484,
          -3.9642888193518306,
          1.6684857453050606,
          6.495762342591092,
          3.499276073870536,
          -1.827164254886699,
          -5.994865041748081,
          0.027365734000549303,
          -6.182834245257708,
          -8.80194819067688,
          -4.061719824440136,
          4.219832930807937,
          3.655382725147302,
          -0.7219121591991192,
          -1.9369241193849573,
          0.08064032628920301,
          5.317110073025042,
          1.5032818732619686,
          2.222519168946518,
          -1.7914622620465375,
          -2.099915038020863,
          -2.431148896974778,
          -0.16959662886907048,
          0.144670795454046,
          0.5351059946152216,
          3.0971283552727935,
          0.09529353586808556,
          1.084609045828544,
          2.323523258915986,
          5.23320428802122,
          2.1228154107196877,
          0.6558432277864591,
          -0.499128215378085,
          3.3625057913772456,
          5.3299323054314955,
          0.35076767114111407,
          -2.2489238728766336,
          -3.4392988042677652,
          2.650332955490763,
          7.73177981197954,
          5.695451086446472,
          5.580815953735465,
          -3.489978025731126,
          -10.047744554621392,
          -11.89334739059768,
          -3.5409872212799,
          -4.121955496300428,
          -3.400800087885582,
          2.8373271591043014,
          2.7081890198836804,
          5.59807488231826,
          4.057840394017554,
          0.41237158222589737,
          5.615917303223994,
          -5.152456739559739,
          -5.012969368351336,
          -1.888506137129635,
          -1.0799689540749695,
          0.9799111697408562,
          -10.76515456321378,
          -6.466903038431586,
          5.789977087478178,
          25.188799319278957,
          9.509418279985281,
          4.299709944974362,
          -7.614433342623259,
          -4.683751582170534,
          -11.57920523897581,
          -13.590607874100254,
          -10.105982397195392,
          -6.20232604286286,
          -11.123209512519603,
          -15.022238209106435,
          -10.30020066119339,
          -11.958620725812635,
          -4.1691053278547665,
          -3.8233963201990795,
          -9.247855944077187,
          -5.348178393286424,
          -5.830313220435817,
          -12.705094327279046,
          4.9889729745098474,
          2.69181172013243,
          0.39599830679670794,
          0.2986599485280397,
          2.296057985972331,
          2.3577683440677712,
          1.364458879984819,
          4.526589107083358,
          -0.797055700495857,
          1.0690071858303558,
          1.7643998191137935,
          3.183407963036613,
          -1.9790216515404595,
          -3.0935961958150475,
          -11.386969759359385,
          -6.1510740085322535,
          5.797466833281888,
          3.9528655532767294,
          -0.730380517633571,
          6.446168576009344,
          4.971456263535778,
          2.695276501484641,
          -0.3827840483159023,
          -12.497172371725577,
          -15.27732255921845,
          -7.1711315959372035,
          -7.4608979852606385,
          -18.059245863677113,
          0.9409988460038484,
          -12.980949494483797,
          -0.3406661859621822,
          2.559674814508116,
          -12.182072792533623,
          -5.2296047570832265,
          -2.8821310564018057,
          -3.8768797805913104,
          2.9486420289706077,
          3.0605452418331125,
          1.861424480725135,
          1.9540799998655412,
          4.215991425547329,
          0.040571171260942535,
          6.314331439057341,
          6.801355275875826,
          -0.07420073421367031,
          1.8041564265836196,
          2.59814673187929,
          3.821334795598955,
          3.3794736470620643,
          3.4339225128123707,
          2.3484237802673693,
          5.081413161772966,
          2.511214813433913,
          -3.150251014517974,
          -1.800649490563964,
          -1.1095877300631578,
          1.4755403346591518,
          5.166062350522617,
          1.2526551174319907,
          2.2055271698279175,
          1.0624241511234878,
          0.5069189530228272,
          2.7405830036748866,
          2.8400858561167426,
          1.1853455380270588,
          0.18775097581892358,
          5.436652917696175,
          5.253156486749311,
          1.4300002623787669,
          -11.368714537247994,
          -0.35789059783937166,
          1.9166972585698958,
          3.4274203970521446,
          -2.9705095870187717,
          -2.2770512454911622,
          1.5699226648083426,
          1.2937007304595949,
          -3.701041096870372,
          -3.5009761207533154,
          2.1485925973419815,
          -0.23552657540994934,
          6.091306470392279,
          3.6922063652861197,
          1.6774635286692743,
          4.8879539648878385,
          2.026897101830853,
          1.9836224471879738,
          2.288354677940429,
          5.982456059592588,
          2.104238242372965,
          -0.1352082729221389,
          2.6120205392538858,
          -2.277256542224608,
          -4.65891433022496,
          2.5989515730762087,
          3.0868261917889686,
          -0.09778706574868637,
          -5.346647057978536,
          1.9224274395575414,
          -6.358297859629248,
          -4.4811537279263485,
          -1.0662104759612634,
          -2.5470896190585095,
          -10.731323935398494,
          -1.7769529500570778,
          2.714800447003751,
          1.3186721520371343,
          3.1282876247709064,
          2.3181160456696692,
          1.0539327667222236,
          -2.7685591239180374,
          -0.8678447849576156,
          -5.207168886140342,
          -8.057595878487513,
          -18.009506852065186,
          -7.776944734100425,
          -18.4588270133788,
          -0.5153313970033095,
          -5.683318853534538,
          1.7739611967250346,
          3.094215403378989,
          4.280791193641056,
          1.0238374980441327,
          -2.4619181128843537,
          -7.816518907851402,
          -7.864647079990704,
          -7.755842925636945,
          -0.8754324131767052,
          -3.4900836365661982,
          -4.434955987119307,
          -4.741439048395927,
          -5.188454084934577,
          0.04856788818300768,
          -5.481990064263234,
          -2.193706879618025,
          -2.1839735788548373,
          -1.0491283113014085,
          -0.0013476576319523248,
          1.1818901245203324,
          0.008348257337492818,
          0.5744328601750569,
          1.1729103280785826,
          -1.3202811189650978,
          -4.01054680440564,
          -2.161810634075992,
          -5.233484439632116,
          -3.193675684698963,
          -4.423344670856889,
          -1.912697217179885,
          -6.613909874382951,
          -5.030412586793535,
          -2.2353692976948225,
          -14.731340956008266,
          -7.960073522794149,
          -12.251410198236778,
          -4.450135378318242,
          0.4125103324311516,
          -5.237346756968727,
          -6.369311591671374,
          -6.206747066272631,
          1.8614888231297078,
          4.168391261320815,
          4.2661412760109965,
          4.940922706189116,
          -4.237788337199399,
          6.038915951335482,
          0.9978054760021782,
          1.0961170979215207,
          0.4150349698074339,
          3.387756414955623,
          -0.6354220581335805,
          2.7347282894893596,
          6.560889628405252,
          -3.0305182397914634,
          3.36587903165392,
          3.1052207487885815,
          5.503333801747737,
          3.9866516680858295,
          -7.011193035426242,
          -12.706412251686716,
          0.5973305663368879,
          8.919356767770694,
          5.143326831918565,
          5.742942327964843,
          5.796372108933659,
          4.163522553172506,
          2.2071716629007,
          -0.5186227301651783,
          -0.8163115111871497,
          -1.1770915980531271,
          0.20044500058386774,
          -0.44663352038142684,
          2.079095925262487,
          -0.22048029882051426,
          -0.9042599337570876,
          -7.575631744173614,
          0.43204381156340965,
          -0.41401981707893315,
          -3.283236850917842,
          2.803147236826346,
          9.909171056214051,
          0.48554665608990566,
          -0.5220399482676337,
          0.6347739011604615,
          4.011052218634082,
          0.2933158390478428,
          0.7723922434502649,
          1.8731393690402895,
          6.070004268478226,
          1.8029117093000984,
          4.395259963110749,
          3.722125738280449,
          4.463696713307986
         ]
        }
       ],
       "layout": {
        "height": 700,
        "margin": {
         "b": 100,
         "l": 100,
         "r": 100,
         "t": 100
        },
        "template": {
         "data": {
          "bar": [
           {
            "error_x": {
             "color": "#2a3f5f"
            },
            "error_y": {
             "color": "#2a3f5f"
            },
            "marker": {
             "line": {
              "color": "#E5ECF6",
              "width": 0.5
             },
             "pattern": {
              "fillmode": "overlay",
              "size": 10,
              "solidity": 0.2
             }
            },
            "type": "bar"
           }
          ],
          "barpolar": [
           {
            "marker": {
             "line": {
              "color": "#E5ECF6",
              "width": 0.5
             },
             "pattern": {
              "fillmode": "overlay",
              "size": 10,
              "solidity": 0.2
             }
            },
            "type": "barpolar"
           }
          ],
          "carpet": [
           {
            "aaxis": {
             "endlinecolor": "#2a3f5f",
             "gridcolor": "white",
             "linecolor": "white",
             "minorgridcolor": "white",
             "startlinecolor": "#2a3f5f"
            },
            "baxis": {
             "endlinecolor": "#2a3f5f",
             "gridcolor": "white",
             "linecolor": "white",
             "minorgridcolor": "white",
             "startlinecolor": "#2a3f5f"
            },
            "type": "carpet"
           }
          ],
          "choropleth": [
           {
            "colorbar": {
             "outlinewidth": 0,
             "ticks": ""
            },
            "type": "choropleth"
           }
          ],
          "contour": [
           {
            "colorbar": {
             "outlinewidth": 0,
             "ticks": ""
            },
            "colorscale": [
             [
              0,
              "#0d0887"
             ],
             [
              0.1111111111111111,
              "#46039f"
             ],
             [
              0.2222222222222222,
              "#7201a8"
             ],
             [
              0.3333333333333333,
              "#9c179e"
             ],
             [
              0.4444444444444444,
              "#bd3786"
             ],
             [
              0.5555555555555556,
              "#d8576b"
             ],
             [
              0.6666666666666666,
              "#ed7953"
             ],
             [
              0.7777777777777778,
              "#fb9f3a"
             ],
             [
              0.8888888888888888,
              "#fdca26"
             ],
             [
              1,
              "#f0f921"
             ]
            ],
            "type": "contour"
           }
          ],
          "contourcarpet": [
           {
            "colorbar": {
             "outlinewidth": 0,
             "ticks": ""
            },
            "type": "contourcarpet"
           }
          ],
          "heatmap": [
           {
            "colorbar": {
             "outlinewidth": 0,
             "ticks": ""
            },
            "colorscale": [
             [
              0,
              "#0d0887"
             ],
             [
              0.1111111111111111,
              "#46039f"
             ],
             [
              0.2222222222222222,
              "#7201a8"
             ],
             [
              0.3333333333333333,
              "#9c179e"
             ],
             [
              0.4444444444444444,
              "#bd3786"
             ],
             [
              0.5555555555555556,
              "#d8576b"
             ],
             [
              0.6666666666666666,
              "#ed7953"
             ],
             [
              0.7777777777777778,
              "#fb9f3a"
             ],
             [
              0.8888888888888888,
              "#fdca26"
             ],
             [
              1,
              "#f0f921"
             ]
            ],
            "type": "heatmap"
           }
          ],
          "heatmapgl": [
           {
            "colorbar": {
             "outlinewidth": 0,
             "ticks": ""
            },
            "colorscale": [
             [
              0,
              "#0d0887"
             ],
             [
              0.1111111111111111,
              "#46039f"
             ],
             [
              0.2222222222222222,
              "#7201a8"
             ],
             [
              0.3333333333333333,
              "#9c179e"
             ],
             [
              0.4444444444444444,
              "#bd3786"
             ],
             [
              0.5555555555555556,
              "#d8576b"
             ],
             [
              0.6666666666666666,
              "#ed7953"
             ],
             [
              0.7777777777777778,
              "#fb9f3a"
             ],
             [
              0.8888888888888888,
              "#fdca26"
             ],
             [
              1,
              "#f0f921"
             ]
            ],
            "type": "heatmapgl"
           }
          ],
          "histogram": [
           {
            "marker": {
             "pattern": {
              "fillmode": "overlay",
              "size": 10,
              "solidity": 0.2
             }
            },
            "type": "histogram"
           }
          ],
          "histogram2d": [
           {
            "colorbar": {
             "outlinewidth": 0,
             "ticks": ""
            },
            "colorscale": [
             [
              0,
              "#0d0887"
             ],
             [
              0.1111111111111111,
              "#46039f"
             ],
             [
              0.2222222222222222,
              "#7201a8"
             ],
             [
              0.3333333333333333,
              "#9c179e"
             ],
             [
              0.4444444444444444,
              "#bd3786"
             ],
             [
              0.5555555555555556,
              "#d8576b"
             ],
             [
              0.6666666666666666,
              "#ed7953"
             ],
             [
              0.7777777777777778,
              "#fb9f3a"
             ],
             [
              0.8888888888888888,
              "#fdca26"
             ],
             [
              1,
              "#f0f921"
             ]
            ],
            "type": "histogram2d"
           }
          ],
          "histogram2dcontour": [
           {
            "colorbar": {
             "outlinewidth": 0,
             "ticks": ""
            },
            "colorscale": [
             [
              0,
              "#0d0887"
             ],
             [
              0.1111111111111111,
              "#46039f"
             ],
             [
              0.2222222222222222,
              "#7201a8"
             ],
             [
              0.3333333333333333,
              "#9c179e"
             ],
             [
              0.4444444444444444,
              "#bd3786"
             ],
             [
              0.5555555555555556,
              "#d8576b"
             ],
             [
              0.6666666666666666,
              "#ed7953"
             ],
             [
              0.7777777777777778,
              "#fb9f3a"
             ],
             [
              0.8888888888888888,
              "#fdca26"
             ],
             [
              1,
              "#f0f921"
             ]
            ],
            "type": "histogram2dcontour"
           }
          ],
          "mesh3d": [
           {
            "colorbar": {
             "outlinewidth": 0,
             "ticks": ""
            },
            "type": "mesh3d"
           }
          ],
          "parcoords": [
           {
            "line": {
             "colorbar": {
              "outlinewidth": 0,
              "ticks": ""
             }
            },
            "type": "parcoords"
           }
          ],
          "pie": [
           {
            "automargin": true,
            "type": "pie"
           }
          ],
          "scatter": [
           {
            "fillpattern": {
             "fillmode": "overlay",
             "size": 10,
             "solidity": 0.2
            },
            "type": "scatter"
           }
          ],
          "scatter3d": [
           {
            "line": {
             "colorbar": {
              "outlinewidth": 0,
              "ticks": ""
             }
            },
            "marker": {
             "colorbar": {
              "outlinewidth": 0,
              "ticks": ""
             }
            },
            "type": "scatter3d"
           }
          ],
          "scattercarpet": [
           {
            "marker": {
             "colorbar": {
              "outlinewidth": 0,
              "ticks": ""
             }
            },
            "type": "scattercarpet"
           }
          ],
          "scattergeo": [
           {
            "marker": {
             "colorbar": {
              "outlinewidth": 0,
              "ticks": ""
             }
            },
            "type": "scattergeo"
           }
          ],
          "scattergl": [
           {
            "marker": {
             "colorbar": {
              "outlinewidth": 0,
              "ticks": ""
             }
            },
            "type": "scattergl"
           }
          ],
          "scattermapbox": [
           {
            "marker": {
             "colorbar": {
              "outlinewidth": 0,
              "ticks": ""
             }
            },
            "type": "scattermapbox"
           }
          ],
          "scatterpolar": [
           {
            "marker": {
             "colorbar": {
              "outlinewidth": 0,
              "ticks": ""
             }
            },
            "type": "scatterpolar"
           }
          ],
          "scatterpolargl": [
           {
            "marker": {
             "colorbar": {
              "outlinewidth": 0,
              "ticks": ""
             }
            },
            "type": "scatterpolargl"
           }
          ],
          "scatterternary": [
           {
            "marker": {
             "colorbar": {
              "outlinewidth": 0,
              "ticks": ""
             }
            },
            "type": "scatterternary"
           }
          ],
          "surface": [
           {
            "colorbar": {
             "outlinewidth": 0,
             "ticks": ""
            },
            "colorscale": [
             [
              0,
              "#0d0887"
             ],
             [
              0.1111111111111111,
              "#46039f"
             ],
             [
              0.2222222222222222,
              "#7201a8"
             ],
             [
              0.3333333333333333,
              "#9c179e"
             ],
             [
              0.4444444444444444,
              "#bd3786"
             ],
             [
              0.5555555555555556,
              "#d8576b"
             ],
             [
              0.6666666666666666,
              "#ed7953"
             ],
             [
              0.7777777777777778,
              "#fb9f3a"
             ],
             [
              0.8888888888888888,
              "#fdca26"
             ],
             [
              1,
              "#f0f921"
             ]
            ],
            "type": "surface"
           }
          ],
          "table": [
           {
            "cells": {
             "fill": {
              "color": "#EBF0F8"
             },
             "line": {
              "color": "white"
             }
            },
            "header": {
             "fill": {
              "color": "#C8D4E3"
             },
             "line": {
              "color": "white"
             }
            },
            "type": "table"
           }
          ]
         },
         "layout": {
          "annotationdefaults": {
           "arrowcolor": "#2a3f5f",
           "arrowhead": 0,
           "arrowwidth": 1
          },
          "autotypenumbers": "strict",
          "coloraxis": {
           "colorbar": {
            "outlinewidth": 0,
            "ticks": ""
           }
          },
          "colorscale": {
           "diverging": [
            [
             0,
             "#8e0152"
            ],
            [
             0.1,
             "#c51b7d"
            ],
            [
             0.2,
             "#de77ae"
            ],
            [
             0.3,
             "#f1b6da"
            ],
            [
             0.4,
             "#fde0ef"
            ],
            [
             0.5,
             "#f7f7f7"
            ],
            [
             0.6,
             "#e6f5d0"
            ],
            [
             0.7,
             "#b8e186"
            ],
            [
             0.8,
             "#7fbc41"
            ],
            [
             0.9,
             "#4d9221"
            ],
            [
             1,
             "#276419"
            ]
           ],
           "sequential": [
            [
             0,
             "#0d0887"
            ],
            [
             0.1111111111111111,
             "#46039f"
            ],
            [
             0.2222222222222222,
             "#7201a8"
            ],
            [
             0.3333333333333333,
             "#9c179e"
            ],
            [
             0.4444444444444444,
             "#bd3786"
            ],
            [
             0.5555555555555556,
             "#d8576b"
            ],
            [
             0.6666666666666666,
             "#ed7953"
            ],
            [
             0.7777777777777778,
             "#fb9f3a"
            ],
            [
             0.8888888888888888,
             "#fdca26"
            ],
            [
             1,
             "#f0f921"
            ]
           ],
           "sequentialminus": [
            [
             0,
             "#0d0887"
            ],
            [
             0.1111111111111111,
             "#46039f"
            ],
            [
             0.2222222222222222,
             "#7201a8"
            ],
            [
             0.3333333333333333,
             "#9c179e"
            ],
            [
             0.4444444444444444,
             "#bd3786"
            ],
            [
             0.5555555555555556,
             "#d8576b"
            ],
            [
             0.6666666666666666,
             "#ed7953"
            ],
            [
             0.7777777777777778,
             "#fb9f3a"
            ],
            [
             0.8888888888888888,
             "#fdca26"
            ],
            [
             1,
             "#f0f921"
            ]
           ]
          },
          "colorway": [
           "#636efa",
           "#EF553B",
           "#00cc96",
           "#ab63fa",
           "#FFA15A",
           "#19d3f3",
           "#FF6692",
           "#B6E880",
           "#FF97FF",
           "#FECB52"
          ],
          "font": {
           "color": "#2a3f5f"
          },
          "geo": {
           "bgcolor": "white",
           "lakecolor": "white",
           "landcolor": "#E5ECF6",
           "showlakes": true,
           "showland": true,
           "subunitcolor": "white"
          },
          "hoverlabel": {
           "align": "left"
          },
          "hovermode": "closest",
          "mapbox": {
           "style": "light"
          },
          "paper_bgcolor": "white",
          "plot_bgcolor": "#E5ECF6",
          "polar": {
           "angularaxis": {
            "gridcolor": "white",
            "linecolor": "white",
            "ticks": ""
           },
           "bgcolor": "#E5ECF6",
           "radialaxis": {
            "gridcolor": "white",
            "linecolor": "white",
            "ticks": ""
           }
          },
          "scene": {
           "xaxis": {
            "backgroundcolor": "#E5ECF6",
            "gridcolor": "white",
            "gridwidth": 2,
            "linecolor": "white",
            "showbackground": true,
            "ticks": "",
            "zerolinecolor": "white"
           },
           "yaxis": {
            "backgroundcolor": "#E5ECF6",
            "gridcolor": "white",
            "gridwidth": 2,
            "linecolor": "white",
            "showbackground": true,
            "ticks": "",
            "zerolinecolor": "white"
           },
           "zaxis": {
            "backgroundcolor": "#E5ECF6",
            "gridcolor": "white",
            "gridwidth": 2,
            "linecolor": "white",
            "showbackground": true,
            "ticks": "",
            "zerolinecolor": "white"
           }
          },
          "shapedefaults": {
           "line": {
            "color": "#2a3f5f"
           }
          },
          "ternary": {
           "aaxis": {
            "gridcolor": "white",
            "linecolor": "white",
            "ticks": ""
           },
           "baxis": {
            "gridcolor": "white",
            "linecolor": "white",
            "ticks": ""
           },
           "bgcolor": "#E5ECF6",
           "caxis": {
            "gridcolor": "white",
            "linecolor": "white",
            "ticks": ""
           }
          },
          "title": {
           "x": 0.05
          },
          "xaxis": {
           "automargin": true,
           "gridcolor": "white",
           "linecolor": "white",
           "ticks": "",
           "title": {
            "standoff": 15
           },
           "zerolinecolor": "white",
           "zerolinewidth": 2
          },
          "yaxis": {
           "automargin": true,
           "gridcolor": "white",
           "linecolor": "white",
           "ticks": "",
           "title": {
            "standoff": 15
           },
           "zerolinecolor": "white",
           "zerolinewidth": 2
          }
         }
        },
        "width": 1000
       }
      }
     },
     "metadata": {},
     "output_type": "display_data"
    }
   ],
   "source": [
    "X_ = out[9][0]\n",
    "y_ = out[9][1]\n",
    "\n",
    "scaler = StandardScaler()\n",
    "scaler.fit(X_)\n",
    "X_normalized = scaler.transform(X_)\n",
    "\n",
    "pca = PCA(n_components=min(X_.shape[0], X_.shape[1]))\n",
    "pca.fit(X_normalized)\n",
    "\n",
    "X_pca = pca.fit_transform(X_normalized)\n",
    "\n",
    "plot_3d(X_pca[:, 0], X_pca[:, 1], X_pca[:, 2], y_)"
   ]
  },
  {
   "cell_type": "code",
   "execution_count": 140,
   "metadata": {},
   "outputs": [
    {
     "data": {
      "application/vnd.plotly.v1+json": {
       "config": {
        "plotlyServerURL": "https://plot.ly"
       },
       "data": [
        {
         "marker": {
          "color": [
           1,
           1,
           1,
           1,
           1,
           1,
           1,
           1,
           1,
           1,
           1,
           1,
           1,
           1,
           1,
           1,
           1,
           1,
           1,
           1,
           1,
           1,
           0,
           0,
           0,
           0,
           0,
           0,
           0,
           0,
           0,
           0,
           0,
           0,
           0,
           0,
           0,
           0,
           0,
           0,
           0,
           0,
           0,
           1,
           1,
           1,
           1,
           1,
           1,
           1,
           1,
           1,
           1,
           1,
           1,
           1,
           1,
           1,
           1,
           1,
           1,
           1,
           1,
           0,
           0,
           0,
           0,
           0,
           0,
           0,
           0,
           0,
           0,
           0,
           0,
           0,
           0,
           0,
           0,
           0,
           0,
           0,
           0,
           0,
           0,
           0,
           0,
           0,
           0,
           0,
           0,
           0,
           0,
           0,
           0,
           0,
           0,
           0,
           0,
           0,
           0,
           0,
           0,
           0,
           0,
           0,
           0,
           0,
           0,
           0,
           0,
           0,
           0,
           0,
           0,
           0,
           0,
           0,
           0,
           0,
           0,
           1,
           1,
           1,
           1,
           1,
           1,
           1,
           1,
           1,
           1,
           1,
           1,
           1,
           1,
           1,
           1,
           0,
           0,
           0,
           0,
           0,
           0,
           0,
           0,
           0,
           0,
           0,
           0,
           0,
           0,
           0,
           0,
           0,
           0,
           1,
           1,
           1,
           1,
           1,
           1,
           1,
           1,
           1,
           1,
           1,
           1,
           1,
           1,
           1,
           1,
           1,
           0,
           0,
           0,
           0,
           0,
           0,
           0,
           0,
           0,
           0,
           0,
           0,
           0,
           0,
           0,
           0,
           0,
           0,
           0,
           0,
           0,
           0,
           0,
           1,
           1,
           1,
           1,
           1,
           1,
           1,
           1,
           1,
           1,
           0,
           0,
           0,
           0,
           0,
           0,
           0,
           0,
           0,
           0,
           0,
           0,
           0,
           0,
           0,
           0,
           0,
           0,
           0,
           0,
           0,
           0,
           0,
           0,
           0,
           0,
           0,
           0,
           0,
           0,
           0,
           0,
           0,
           0,
           0,
           0,
           0,
           0,
           0,
           0,
           0,
           0,
           0,
           0,
           0,
           0,
           0,
           0,
           0,
           0,
           0,
           0,
           0,
           0,
           0,
           0,
           0,
           0,
           0,
           0,
           0,
           0,
           0,
           0,
           0,
           0,
           0,
           0,
           1,
           1,
           1,
           1,
           1,
           1,
           1,
           1,
           1,
           1,
           1,
           1,
           1,
           1,
           1,
           1,
           1,
           1,
           1,
           1,
           0,
           0,
           0,
           0,
           0,
           0,
           0,
           0,
           0,
           0,
           0,
           1,
           1,
           1,
           1,
           1,
           1,
           1,
           1,
           1,
           1,
           1,
           1,
           1,
           1,
           1,
           1,
           1,
           1,
           1,
           1,
           1,
           1,
           1,
           1,
           1,
           1,
           1,
           1,
           1,
           1,
           1,
           1,
           1,
           1,
           1,
           1,
           1,
           1,
           1,
           1,
           1,
           1,
           1,
           1,
           1,
           1,
           1,
           1,
           1,
           1,
           1,
           1,
           1
          ],
          "line": {
           "width": 1
          },
          "opacity": 1,
          "size": 5
         },
         "mode": "markers",
         "type": "scatter3d",
         "x": [
          -28.50034243147626,
          -2.4423782483170675,
          27.85623453223627,
          14.136705084151895,
          -3.6273940577789974,
          -2.12785443969457,
          -5.833900167127567,
          3.392799329809342,
          -2.0343487916434833,
          16.476573844493352,
          6.572197602698335,
          10.247142159233512,
          5.854955087305322,
          -22.712442660318303,
          21.469921777839154,
          -29.141001286583165,
          -9.649955828319642,
          48.646053642622036,
          40.46674460516606,
          60.35411297122921,
          6.508348038662895,
          173.5831427247443,
          -29.406398903459532,
          -51.04202946026766,
          -50.170498290754956,
          -36.392275758203276,
          -29.881315630304723,
          -22.235174124914035,
          -12.354270378750236,
          -24.136046755174103,
          -10.257791241966501,
          -28.709189081692017,
          -41.10942895087312,
          -10.500271999761123,
          -31.83821919394185,
          -28.108879377293977,
          -21.085046979768567,
          -13.978571070203964,
          21.443264623822397,
          28.30905864045352,
          28.301812098408035,
          22.627035270393296,
          18.152359386858,
          -12.428064818933914,
          -7.351204048144786,
          6.459571326868363,
          54.74503148092423,
          95.11291252627547,
          54.733308407929975,
          91.62506105903928,
          93.33477675275714,
          56.33476166272142,
          18.70982301258308,
          45.48516547913155,
          -18.54169838554087,
          -30.766571668448776,
          -10.797138119702877,
          5.986934147050542,
          40.01140903057094,
          39.26877778361044,
          24.656159198195372,
          11.715431855414186,
          140.1464943861856,
          -16.519364851938676,
          5.127205354273109,
          21.716045845258456,
          19.610867647712045,
          21.000500637468363,
          15.586332284882738,
          31.70295025377736,
          29.9330932605734,
          21.716517531750487,
          26.300986018652505,
          47.74792986779204,
          -67.48840850862443,
          -52.41312247464735,
          -13.064391651173883,
          -3.9012893372039,
          -29.71078136285975,
          -24.732714161066422,
          -25.182297699951686,
          -25.775470890136702,
          9.699777119259126,
          37.62057342173855,
          -26.306317652551648,
          -55.523063398693,
          -51.17036789082297,
          -44.876399717176334,
          -30.740592246535286,
          -27.129304107505757,
          -35.224048927386896,
          -9.880106266968301,
          -28.321969396712152,
          -29.30973313700803,
          -10.600830718686586,
          -33.07136930729311,
          -17.736882438336767,
          17.33929198857274,
          -49.78232633702098,
          -31.066903719648803,
          -44.58447790675675,
          -20.47383005599588,
          -28.67573459940379,
          -22.72153281097795,
          -18.30091400420468,
          -3.3653018040232903,
          34.96046040293953,
          35.795556720325756,
          -41.029067736164585,
          -33.55376926486687,
          -36.893922118362404,
          -16.84464472555963,
          0.9696111259621825,
          5.896833740800296,
          21.12118689277504,
          47.091499843602485,
          8.006582151943922,
          11.85362619624496,
          17.98714042192337,
          8.221882796398233,
          30.418184524934635,
          -20.447322304226823,
          25.41407712817319,
          28.12373712512835,
          82.14366270856934,
          104.1881783820815,
          75.01478890629669,
          50.00186906178395,
          61.43364537478174,
          83.76657160426963,
          74.49555473283678,
          76.77221011602916,
          -2.3284262710265473,
          14.164083789335672,
          13.67506055676773,
          -5.6571216559038255,
          55.21381561066287,
          0.8396016999521355,
          -7.9384855477775345,
          29.834487374209203,
          77.07557797965876,
          68.02731321929326,
          75.39884849799475,
          45.3928868215586,
          -45.32036410119321,
          -56.04356584508526,
          -71.31399188561254,
          -55.39305500827171,
          -70.97754616511493,
          -52.0118319746137,
          -58.8842281224398,
          -69.8293984192444,
          -49.89531605821144,
          -50.103135320114305,
          -49.53681720626121,
          -27.774560141383642,
          -14.344957662055425,
          -9.532940371314506,
          20.070874195277366,
          -16.04683373366813,
          -3.6516321510442284,
          -34.73481994242479,
          -25.477328130439176,
          -28.246134468871265,
          -18.884945273350564,
          -36.46738163430638,
          -13.986308824387768,
          36.50175934761604,
          4.542567465510177,
          -4.170332640728595,
          -4.516737698227628,
          35.530196624103574,
          -49.24292293625315,
          -46.31030036372261,
          -58.681185092691685,
          -56.840344951738516,
          -16.2648939825627,
          -51.327714171359915,
          -43.37768530500795,
          -53.02988772929765,
          -28.264135285469592,
          -19.42194187323815,
          -36.98541444739929,
          -16.348573004279455,
          -26.357931727020876,
          -26.73789142458372,
          -35.21339112079788,
          -23.993926621634383,
          -0.60597042663223,
          -13.641947541796837,
          -27.45650803290709,
          -24.205725744902573,
          -21.895841129660656,
          -15.17539713608568,
          -48.25416676562253,
          -92.92016419413036,
          -41.23471814488632,
          -1.260379411055504,
          -16.074329596985738,
          -8.880139586349843,
          -24.43198782077653,
          -16.218254242974567,
          -6.651858814093307,
          -24.56756280682274,
          -17.59702258503316,
          -55.48767050070682,
          -61.70095140001493,
          -14.765376446178374,
          25.21205681025252,
          -11.689848516050832,
          -20.488303518735844,
          -17.51598749998382,
          -13.175113269318384,
          -7.129036854668726,
          -18.84554792614068,
          17.060530415350016,
          -22.044512312920837,
          -23.428233378511965,
          -24.412901477342054,
          -30.98556569163236,
          -17.759743865872903,
          -44.27392875280093,
          -25.765417193565103,
          -25.261951729754472,
          -33.26874448237701,
          -9.285834497374394,
          -15.229055068046081,
          -1.0471824541126098,
          25.179940073057697,
          -1.095233855063792,
          -12.000561448474953,
          -26.723846630512966,
          -22.201568401445577,
          -11.543032493726379,
          -7.353442037168242,
          -5.545341874242946,
          -19.654906512826688,
          -36.12475513023683,
          -46.32373724498767,
          -18.360267684591857,
          -36.5713337755338,
          7.167760735222371,
          52.82139775323765,
          51.7012757572997,
          66.09428668564118,
          -57.797736802937166,
          -47.64930827614466,
          -29.2577391761518,
          -28.915243936501557,
          -28.83739033052237,
          -26.10368881017612,
          -23.919701484033332,
          -18.10663648789573,
          -13.077513997568305,
          -11.521744291546678,
          -9.35116537158794,
          -11.181445114074577,
          86.72051685252558,
          61.948504514874955,
          120.57615514664826,
          111.72433325254237,
          -54.82700098754018,
          -53.72500051392915,
          -30.149506181876177,
          -21.14838525061104,
          -25.34752147918675,
          -25.356878122510984,
          -16.254644188677844,
          0.15289586875198452,
          -7.716202614549251,
          8.990149024207977,
          32.99851467833732,
          37.1512379095172,
          -14.382941965146719,
          -44.24175518732168,
          3.3587933086628414,
          4.370124920650627,
          14.100638354362243,
          14.982566342709184,
          20.47636731016429,
          13.689429675913223,
          4.579742229986949,
          8.587992493784618,
          4.555552934739474,
          7.371268669416338,
          12.53370061299175,
          19.038185728882453,
          -35.20377703823582,
          23.787889309387083,
          40.953081619664076,
          65.0760495705436,
          34.922562889496945,
          -12.182231164535702,
          -37.27756103039528,
          -13.802106968725097,
          -7.320714291937983,
          59.91152422253935,
          49.00796832883084,
          21.69115470338485,
          12.626407907862193,
          4.40853214776568,
          5.580657415054139,
          28.79516425617077,
          9.663128901775895,
          -8.309264511617503,
          -8.560834034370277,
          3.1316421624206314,
          7.894809869475928,
          32.99849833687672,
          82.87971089249682,
          9.072114089642314,
          -22.40252315791411,
          -13.254904929041144,
          17.27107700662087,
          -19.297643201388276,
          -32.75678680900627,
          -36.028774330922616,
          61.416599194135785,
          42.55923975134581,
          6.4896426139552,
          12.801719528724949,
          20.307327092464604,
          43.70857481849979,
          50.79942009463031,
          9.170978412631554,
          39.617326468140845,
          27.20190387480252,
          11.085743230107955,
          19.948003012835684,
          7.705183420868308,
          15.561429470269358,
          22.303552210356504,
          31.342026053155905,
          12.999274237422847,
          34.71217332636924,
          12.098770557409479,
          -20.492629544957794,
          -9.665201683178395,
          36.21348764062121,
          0.16212048660411896,
          3.1262850177156993,
          10.539578322490806,
          12.27385031181989,
          34.99563057430887,
          12.373224061267722,
          4.297337844792119,
          13.168212541956324,
          24.322505440316192,
          -18.769687654798933,
          -2.6093844696575075,
          27.88712132777012,
          9.20327270892226,
          31.768846064236996,
          42.31819348684639,
          29.752616810295983,
          10.999657055023386,
          34.161892613100555
         ],
         "y": [
          21.07125662949586,
          -7.223057688956349,
          12.833065160199194,
          -3.8525756231868167,
          -5.252288150377583,
          3.4023074246026677,
          -13.287682093307083,
          -25.43482565283798,
          -16.648599001449295,
          -20.18409485235307,
          -7.26264131541106,
          -17.394572839832264,
          -12.240452724056588,
          18.042386934040653,
          2.3954527845334996,
          59.915789117197036,
          41.29301509401684,
          25.831456168614753,
          12.414603420469001,
          79.28974670917977,
          15.486949036587985,
          185.66890178168416,
          15.1018386168927,
          10.430595773389244,
          13.341268466721035,
          4.135113479064568,
          -3.056494449016291,
          -23.36710497475164,
          -28.85445350250232,
          -18.71257835439928,
          -29.55206859940161,
          1.7999877693536988,
          16.768835362782937,
          -22.21122559355166,
          4.276386014219776,
          -18.69131408916468,
          -30.28620904592582,
          8.742088602222765,
          -39.44187339160457,
          -56.483771713925684,
          -35.58915221703883,
          -39.03929372735393,
          -45.59958644182409,
          -4.990516703197366,
          -1.3401226351307087,
          -45.51919705935764,
          -28.195796702674933,
          41.56910398743282,
          1.5999953044375652,
          7.115480591928969,
          43.36878293282614,
          14.38195333963471,
          30.23096006061156,
          37.623627190498716,
          17.38020951165083,
          13.422987018810622,
          -15.389377174839817,
          14.695198403224397,
          32.06995308476548,
          -4.274450643153623,
          -35.20019607219868,
          -16.5715927854278,
          174.97062944559826,
          2.0481378632299827,
          -28.510258374025934,
          9.271353272856102,
          -34.44107249413786,
          -46.93581682727403,
          -26.036766701099047,
          -24.890664237041793,
          -33.57831615380501,
          -14.931961746065141,
          -0.023012388536407608,
          12.048841481852085,
          25.33038425877481,
          18.999610759309235,
          1.5622125370154947,
          32.05219870663238,
          2.2904025801403094,
          -14.51437253098702,
          -8.01677092181164,
          -12.233771273630316,
          3.8681479287065974,
          24.663747470947847,
          4.530129936658471,
          33.9675184454913,
          27.269499134943302,
          26.071564840265225,
          -7.9421933418246855,
          5.577241783970969,
          12.772207894172885,
          20.720551353544934,
          4.093299729314843,
          1.6445633406995346,
          8.135521292252356,
          3.6068503546434654,
          11.753583326112938,
          51.17180464561837,
          34.23954193129162,
          21.177292771010496,
          31.57223038794685,
          -22.43620694203543,
          -12.610770441223979,
          -18.852616604180312,
          -22.09037012137999,
          -22.428844877304936,
          48.52508202815141,
          29.704121548005958,
          9.163429537643207,
          0.4420115963597177,
          7.239705613754989,
          -12.264296674387928,
          -19.699802913552013,
          -37.87180864792206,
          -48.718058332532934,
          -8.646805492308964,
          -42.38988671357108,
          -13.925738196236868,
          -27.234227821682005,
          -35.72695618082804,
          -11.920690797676647,
          7.9018262344869665,
          -3.3199516908587636,
          23.161956142076903,
          32.258393261637,
          56.21593104011974,
          1.5835448980878153,
          -24.186719742373583,
          -18.504516615711694,
          10.905234524226831,
          16.96796302395113,
          4.852429838182969,
          -21.529624441802888,
          -21.496421673553353,
          -17.05541471485188,
          -4.591016311155168,
          52.423031861397654,
          24.36232714938197,
          40.515027222543196,
          5.48047228484134,
          34.181851694379525,
          14.925955707295696,
          31.14387173882429,
          5.061122270186052,
          62.020644447105106,
          26.142169522286355,
          49.53057501511202,
          28.507605899800392,
          54.439402523099005,
          19.33188475771903,
          31.982105299157773,
          51.39271045067327,
          16.97184014998496,
          12.120850477677198,
          16.042396098620305,
          64.17293102018678,
          39.63159419690684,
          4.9784256565425276,
          22.847385977265922,
          36.724590643331354,
          61.28603462270526,
          36.77719865016473,
          24.80775349907222,
          7.216946776380099,
          27.434771358726344,
          24.45539429066535,
          6.265436692902056,
          8.922443990492456,
          38.02718064413831,
          24.23505768316944,
          9.127838200647336,
          48.80160296228861,
          28.0022729997753,
          33.34304478060453,
          29.018554968147225,
          15.389485679192424,
          35.97886338551371,
          18.388948067187638,
          10.909257172436183,
          18.81760764086983,
          8.833101788039754,
          -13.165305406164965,
          5.709643192970947,
          8.653786783823982,
          12.454726350702062,
          2.7571022744367775,
          -1.7087947444834255,
          -15.922953918145653,
          -14.697266747253016,
          -12.040586690278035,
          -12.527977282144086,
          -11.796017494452096,
          -12.58593625502179,
          -8.62413238475074,
          23.01158735884689,
          53.51701293902706,
          31.979902839560864,
          -11.873685982230821,
          -6.290607195464766,
          -7.939842633740403,
          -5.925014824318531,
          -27.01650009795136,
          -20.624702910008914,
          -9.25580783170085,
          -1.592116341270492,
          31.23612878512015,
          45.68967833178332,
          -15.182731714653789,
          27.935887351530127,
          -13.562783910329976,
          -30.999202665794126,
          -30.816767680927445,
          -8.874058223032883,
          10.973283711534094,
          -8.789338525571322,
          36.72723537551105,
          3.5055499941758392,
          2.1688070240972848,
          -0.2702913921558551,
          -6.286318920107389,
          0.164027993292397,
          48.317438817580204,
          -3.325106820772522,
          4.215332054954675,
          15.666807845403971,
          20.54837696374934,
          -10.052572367944054,
          -29.533247231190316,
          4.653578404468005,
          -14.385809499907838,
          -11.583451855322089,
          -3.2047649147131567,
          -18.35029976351716,
          -25.147903568262745,
          -17.14707268496616,
          -12.587320007637032,
          7.317574937259495,
          -12.847899568876361,
          6.498992206027543,
          24.078180063495363,
          -7.105785907461377,
          -41.81584919302348,
          -58.688455478455055,
          -46.520061569272805,
          -45.73155726180051,
          21.161108391629348,
          15.558054537388697,
          7.807561304664262,
          -8.34363418996782,
          -21.573392786627192,
          -19.095328891418962,
          -16.45108721078334,
          -15.883442048009567,
          -11.08547045110614,
          -20.86271736684809,
          -15.137434459540685,
          -1.820772834695764,
          82.30616826596466,
          -0.28906649965640485,
          -10.842748830750633,
          -31.99615595901825,
          22.534090566656534,
          20.939238764071273,
          -10.91623485168326,
          -20.45239938154442,
          -21.183166047763667,
          -14.401629120319084,
          -17.60876022119784,
          -9.695531655813243,
          -29.44484812596233,
          -39.41810404943951,
          -15.993282872103208,
          -10.209342986735903,
          7.296241464241413,
          27.511402031132125,
          14.629718753595633,
          -12.709280705918422,
          -16.707591110617084,
          -27.572798930669105,
          -30.01582394976149,
          -29.637633441017677,
          -21.746497741421916,
          -27.404538639609626,
          -22.756922746860745,
          -23.34690193475193,
          -32.62831104230075,
          -23.23707322003024,
          7.484659221509198,
          -8.321291398149654,
          11.046673352371123,
          17.73318726507836,
          4.564938265620968,
          -34.80594024628557,
          53.869968520507626,
          27.341250279719368,
          -3.1250604255715637,
          46.292753486611346,
          31.459866870864474,
          1.7128234384330268,
          -13.733640938788508,
          -10.623041899144747,
          -19.788667862675474,
          7.285813704094695,
          -7.554617270155625,
          -22.054761265441908,
          5.779016046542434,
          -21.448421225767724,
          -43.61162392494363,
          2.650148636944696,
          15.40827958963389,
          -33.86430668313916,
          -3.3879159580932403,
          11.247487412160401,
          -26.68182533910509,
          12.609277116129844,
          31.32757424798117,
          43.813802800397994,
          39.99772394851679,
          18.230189746874775,
          -23.580503164912034,
          -35.81638781742277,
          -43.50623765951347,
          -10.248372103454365,
          7.097185494677335,
          54.316376923274234,
          -11.470404483514267,
          -47.150399158759235,
          -42.61405418366648,
          -59.674195397504974,
          -49.245649470289365,
          -49.742799038866615,
          -58.22049359055304,
          -48.537031364445276,
          -23.492274116814947,
          -11.306239019395658,
          -37.87437243493383,
          -17.57762413960848,
          -21.090267977936616,
          8.044096248414935,
          -46.01574135013812,
          -20.826833068085747,
          -26.72493869738598,
          -30.483114767447713,
          -34.72429474689394,
          -3.426175175804906,
          -11.454704513616887,
          -40.69887366371606,
          -28.98200439118385,
          7.793143359680733,
          -9.119494279939097,
          -26.322048347456477,
          -45.306627270598966,
          -45.84137222450162,
          -44.82227934337661,
          -51.84833997957983,
          -26.571354498380295,
          -14.74669370138953
         ],
         "z": [
          -25.48738823667154,
          -12.160415301477801,
          -14.336522704720977,
          -8.796160148658812,
          -19.39602794199418,
          -24.873923536708347,
          -5.364114365733705,
          -0.15166089911595823,
          -0.5726575098204968,
          -16.682375103507614,
          -10.63010207045049,
          -11.457720725114994,
          -11.971629794325239,
          -7.198384726183613,
          13.416121556447669,
          -15.052837152308259,
          -24.12333813682778,
          -35.472304298349115,
          -16.067113148563376,
          17.516854133461354,
          -31.648671046477318,
          69.6746882144413,
          4.116304878456719,
          -11.618450979571467,
          -14.125236304274509,
          -8.859975298842269,
          16.2775667626479,
          3.3142855289404425,
          6.367697132249591,
          16.45673377748514,
          19.539291124329456,
          9.152325963037763,
          23.894208919968396,
          29.51279688337875,
          20.161261611729916,
          20.761355437514247,
          32.26040073798027,
          9.122423880344636,
          -4.807962514576212,
          -4.873918654399998,
          -15.053653217145214,
          -5.809184036038333,
          7.970759021706031,
          -2.386039680021717,
          6.599006789506821,
          4.4378933754026235,
          -4.16357992793833,
          52.48287674486885,
          28.761538882392415,
          14.444407764711936,
          -4.840414890505033,
          -8.52858664066968,
          -24.862754946512048,
          -25.398713425114796,
          -10.516072600424682,
          -10.175682998546472,
          -11.031895175895984,
          -29.41614924788817,
          -1.8254928832127735,
          2.388308088297693,
          -9.863208269919491,
          3.3446236002952014,
          86.09041128056612,
          -1.459158401590505,
          8.727651090634373,
          1.1414981137149058,
          -11.28359145954079,
          -2.525667814251819,
          -8.150411205890943,
          -14.329333783500767,
          -4.682444972318771,
          -12.831695442224646,
          -20.374737873504785,
          -34.70837108691645,
          -4.346976813558995,
          -2.2827195681172405,
          12.438481626705421,
          3.685787323196691,
          3.716627412982173,
          3.217961310837079,
          0.9521825154610287,
          17.9357737260932,
          0.8830550272746556,
          27.562719635143374,
          18.663008537812793,
          12.277923032895776,
          12.0019188075228,
          15.821830744215884,
          10.217120683353901,
          15.955221380776726,
          9.761410463986186,
          10.906156153239124,
          4.468003822623106,
          2.7409683706867463,
          5.8806331445736495,
          17.874187180096843,
          5.038321830610603,
          35.57538780775517,
          -15.114347982484265,
          -13.582123079870259,
          -8.888446678649158,
          12.432368123825922,
          -3.8624098005960392,
          -6.5579498300479395,
          -8.559317422108464,
          7.160175666815972,
          -14.33386698163608,
          0.7319429394818717,
          -0.8975856271354072,
          0.439013254876464,
          2.827369446773379,
          12.820074818947303,
          2.844639612283083,
          0.5803951759535495,
          3.9711863829102656,
          -15.547844955397078,
          17.008537361182785,
          -3.8979882789274316,
          -8.761547765779733,
          9.464481790875922,
          8.762996789081756,
          -33.81669235824471,
          -38.97194795712547,
          -21.040377937237825,
          -15.725521181700422,
          23.216686980192485,
          -13.212738349120908,
          -6.234635290205395,
          -32.909346702037624,
          -20.222050999127283,
          -31.69874904242063,
          -26.08292359015475,
          6.85019798419789,
          -22.727854502530565,
          -9.807762338278081,
          -12.947301342643405,
          8.727413057760353,
          -54.24607888708588,
          -24.44986410971747,
          -45.84996154126693,
          -38.59811395003156,
          -30.690577398730234,
          -36.999573072497775,
          -51.354674027577,
          13.24357714532213,
          1.6774792090015869,
          -1.5946584637585328,
          7.574458417620394,
          -3.1890265805292572,
          -0.05023659411376644,
          1.6290573534843136,
          -4.152278671778501,
          0.7615415439662857,
          3.7256516323778905,
          9.967592960551423,
          -3.3432795428397415,
          -13.381628322894189,
          -17.879914770168856,
          -23.257200310677316,
          -4.478494423607501,
          -9.511262006775462,
          -14.344332709348945,
          -28.325160799615578,
          -11.126360475485674,
          -11.753017701926709,
          -6.331229053768356,
          -14.6581701579921,
          9.830199012602542,
          -21.462789656947105,
          -8.488385665997539,
          -7.44101422301438,
          -6.675510865370373,
          -3.354764900531056,
          -18.935631240039402,
          -6.11132893166564,
          8.394492848403933,
          37.49428811284905,
          5.644349950438951,
          -3.8567171483706337,
          13.60611827170005,
          7.249332592232625,
          13.703539412756957,
          6.417578997564048,
          20.109418030481326,
          -7.543035685152311,
          -14.670661209997089,
          -8.150538504813696,
          -0.5168138957721521,
          -15.162543656046875,
          -8.478611231668713,
          -6.099453043953451,
          -6.248959237032955,
          -0.783375457683583,
          1.9859788370289342,
          -18.443399833113858,
          10.495104894872286,
          20.472267936616415,
          -4.670659642761246,
          3.5343058442971653,
          15.266288298398045,
          18.786194242259928,
          22.237177873571778,
          23.00990750314255,
          25.464394879292197,
          18.416803030034888,
          -11.218588977629302,
          -4.900806149847001,
          -4.173357478321374,
          -19.31884908202198,
          -9.631272925668219,
          17.85371731958732,
          8.506055947702277,
          6.853877749549629,
          -13.844210779509849,
          -0.08673166922357617,
          17.328833700805433,
          -11.495766867389646,
          -10.790166307672163,
          -4.644820289258199,
          9.409798782979529,
          15.56496428455889,
          1.863368988467992,
          5.926649844755352,
          -6.286316217493566,
          -11.148722711695822,
          -30.01594029971212,
          -21.940422403253507,
          4.911498096001825,
          -3.598871580538136,
          -3.034596839027082,
          15.629698245430047,
          9.512978915817943,
          18.43052708550638,
          4.903939682539382,
          -0.1108946753955298,
          9.447349347970029,
          35.72144222483748,
          38.03834937977519,
          13.101864121808276,
          16.48947218335323,
          24.08215688454552,
          38.05192605622097,
          43.500035849002295,
          51.89588706035239,
          45.82061308382733,
          12.885001222929048,
          17.497320852371892,
          24.22290433736728,
          7.249190139649496,
          14.33271080003231,
          15.17286273019695,
          9.248370754505757,
          1.9803796446959523,
          -15.07659189006882,
          -4.25399156484962,
          -22.138222322769554,
          -14.1148216532388,
          40.465695708696295,
          -1.9462371781076298,
          4.513714864708132,
          4.386276786399461,
          18.056220592170817,
          32.434540821622136,
          15.876946495335401,
          7.531479811819692,
          7.660234836419367,
          17.48755486418057,
          12.560481523616858,
          -10.864691492359462,
          21.686139452596066,
          24.187470112447862,
          31.029840599842338,
          40.34413830126246,
          13.51547823767885,
          5.9966438134951705,
          5.169544681143423,
          -3.6953138705710415,
          -19.751307023412462,
          -14.585708656327906,
          -7.8551518931488,
          -7.7255471420184385,
          -10.495060521900783,
          -11.975244950953483,
          -14.22946902656761,
          -11.189824577956541,
          -11.021155065577194,
          1.8822697626127505,
          20.339114924475176,
          35.36017655350497,
          58.240198702997986,
          53.914368173586205,
          38.04500724253532,
          59.474400528076536,
          -36.754204861636616,
          -14.071261448432821,
          -15.14701918849073,
          -30.01741986031418,
          -38.616540761223874,
          -27.57818059026141,
          -11.047694630744964,
          -2.4563302565664844,
          -7.757740270101787,
          -2.880675668332497,
          -18.916948801257703,
          2.625505717116753,
          -2.2959729354603016,
          -14.404771925013844,
          -9.082347808595898,
          -16.50524638147673,
          5.693294447633507,
          1.509192814364064,
          -11.653658942070752,
          -15.02144184780842,
          -5.877210750223255,
          -26.021478320345874,
          -14.162799166643671,
          5.879389788979549,
          -23.65362900636511,
          -15.867988995464852,
          -18.94236932789939,
          -9.16400261169866,
          -12.991204140338896,
          -33.32475198748803,
          -47.042484901956605,
          -17.304167717146647,
          2.240855340119249,
          -6.470171668080702,
          -4.766078491759155,
          0.6516524436768688,
          0.8562076646770987,
          1.567573704376682,
          1.8797291852596205,
          -6.544945271553013,
          -12.408128687077294,
          -9.00303404588207,
          2.5796920990417913,
          6.865406795816974,
          14.811869221705098,
          10.4471198773168,
          29.391648827723518,
          -17.060630281077984,
          -11.399960036485933,
          -3.5239532007639336,
          9.945046533645415,
          15.29727234110266,
          9.611757250278623,
          14.593447619202584,
          16.821066956371464,
          -17.101572808987203,
          -28.450040278744854,
          5.684682303863373,
          6.978311071693588,
          13.799526323769225,
          8.471436535842141,
          9.905393632332684,
          19.989649737917308,
          23.351815522183742
         ]
        }
       ],
       "layout": {
        "height": 700,
        "margin": {
         "b": 100,
         "l": 100,
         "r": 100,
         "t": 100
        },
        "template": {
         "data": {
          "bar": [
           {
            "error_x": {
             "color": "#2a3f5f"
            },
            "error_y": {
             "color": "#2a3f5f"
            },
            "marker": {
             "line": {
              "color": "#E5ECF6",
              "width": 0.5
             },
             "pattern": {
              "fillmode": "overlay",
              "size": 10,
              "solidity": 0.2
             }
            },
            "type": "bar"
           }
          ],
          "barpolar": [
           {
            "marker": {
             "line": {
              "color": "#E5ECF6",
              "width": 0.5
             },
             "pattern": {
              "fillmode": "overlay",
              "size": 10,
              "solidity": 0.2
             }
            },
            "type": "barpolar"
           }
          ],
          "carpet": [
           {
            "aaxis": {
             "endlinecolor": "#2a3f5f",
             "gridcolor": "white",
             "linecolor": "white",
             "minorgridcolor": "white",
             "startlinecolor": "#2a3f5f"
            },
            "baxis": {
             "endlinecolor": "#2a3f5f",
             "gridcolor": "white",
             "linecolor": "white",
             "minorgridcolor": "white",
             "startlinecolor": "#2a3f5f"
            },
            "type": "carpet"
           }
          ],
          "choropleth": [
           {
            "colorbar": {
             "outlinewidth": 0,
             "ticks": ""
            },
            "type": "choropleth"
           }
          ],
          "contour": [
           {
            "colorbar": {
             "outlinewidth": 0,
             "ticks": ""
            },
            "colorscale": [
             [
              0,
              "#0d0887"
             ],
             [
              0.1111111111111111,
              "#46039f"
             ],
             [
              0.2222222222222222,
              "#7201a8"
             ],
             [
              0.3333333333333333,
              "#9c179e"
             ],
             [
              0.4444444444444444,
              "#bd3786"
             ],
             [
              0.5555555555555556,
              "#d8576b"
             ],
             [
              0.6666666666666666,
              "#ed7953"
             ],
             [
              0.7777777777777778,
              "#fb9f3a"
             ],
             [
              0.8888888888888888,
              "#fdca26"
             ],
             [
              1,
              "#f0f921"
             ]
            ],
            "type": "contour"
           }
          ],
          "contourcarpet": [
           {
            "colorbar": {
             "outlinewidth": 0,
             "ticks": ""
            },
            "type": "contourcarpet"
           }
          ],
          "heatmap": [
           {
            "colorbar": {
             "outlinewidth": 0,
             "ticks": ""
            },
            "colorscale": [
             [
              0,
              "#0d0887"
             ],
             [
              0.1111111111111111,
              "#46039f"
             ],
             [
              0.2222222222222222,
              "#7201a8"
             ],
             [
              0.3333333333333333,
              "#9c179e"
             ],
             [
              0.4444444444444444,
              "#bd3786"
             ],
             [
              0.5555555555555556,
              "#d8576b"
             ],
             [
              0.6666666666666666,
              "#ed7953"
             ],
             [
              0.7777777777777778,
              "#fb9f3a"
             ],
             [
              0.8888888888888888,
              "#fdca26"
             ],
             [
              1,
              "#f0f921"
             ]
            ],
            "type": "heatmap"
           }
          ],
          "heatmapgl": [
           {
            "colorbar": {
             "outlinewidth": 0,
             "ticks": ""
            },
            "colorscale": [
             [
              0,
              "#0d0887"
             ],
             [
              0.1111111111111111,
              "#46039f"
             ],
             [
              0.2222222222222222,
              "#7201a8"
             ],
             [
              0.3333333333333333,
              "#9c179e"
             ],
             [
              0.4444444444444444,
              "#bd3786"
             ],
             [
              0.5555555555555556,
              "#d8576b"
             ],
             [
              0.6666666666666666,
              "#ed7953"
             ],
             [
              0.7777777777777778,
              "#fb9f3a"
             ],
             [
              0.8888888888888888,
              "#fdca26"
             ],
             [
              1,
              "#f0f921"
             ]
            ],
            "type": "heatmapgl"
           }
          ],
          "histogram": [
           {
            "marker": {
             "pattern": {
              "fillmode": "overlay",
              "size": 10,
              "solidity": 0.2
             }
            },
            "type": "histogram"
           }
          ],
          "histogram2d": [
           {
            "colorbar": {
             "outlinewidth": 0,
             "ticks": ""
            },
            "colorscale": [
             [
              0,
              "#0d0887"
             ],
             [
              0.1111111111111111,
              "#46039f"
             ],
             [
              0.2222222222222222,
              "#7201a8"
             ],
             [
              0.3333333333333333,
              "#9c179e"
             ],
             [
              0.4444444444444444,
              "#bd3786"
             ],
             [
              0.5555555555555556,
              "#d8576b"
             ],
             [
              0.6666666666666666,
              "#ed7953"
             ],
             [
              0.7777777777777778,
              "#fb9f3a"
             ],
             [
              0.8888888888888888,
              "#fdca26"
             ],
             [
              1,
              "#f0f921"
             ]
            ],
            "type": "histogram2d"
           }
          ],
          "histogram2dcontour": [
           {
            "colorbar": {
             "outlinewidth": 0,
             "ticks": ""
            },
            "colorscale": [
             [
              0,
              "#0d0887"
             ],
             [
              0.1111111111111111,
              "#46039f"
             ],
             [
              0.2222222222222222,
              "#7201a8"
             ],
             [
              0.3333333333333333,
              "#9c179e"
             ],
             [
              0.4444444444444444,
              "#bd3786"
             ],
             [
              0.5555555555555556,
              "#d8576b"
             ],
             [
              0.6666666666666666,
              "#ed7953"
             ],
             [
              0.7777777777777778,
              "#fb9f3a"
             ],
             [
              0.8888888888888888,
              "#fdca26"
             ],
             [
              1,
              "#f0f921"
             ]
            ],
            "type": "histogram2dcontour"
           }
          ],
          "mesh3d": [
           {
            "colorbar": {
             "outlinewidth": 0,
             "ticks": ""
            },
            "type": "mesh3d"
           }
          ],
          "parcoords": [
           {
            "line": {
             "colorbar": {
              "outlinewidth": 0,
              "ticks": ""
             }
            },
            "type": "parcoords"
           }
          ],
          "pie": [
           {
            "automargin": true,
            "type": "pie"
           }
          ],
          "scatter": [
           {
            "fillpattern": {
             "fillmode": "overlay",
             "size": 10,
             "solidity": 0.2
            },
            "type": "scatter"
           }
          ],
          "scatter3d": [
           {
            "line": {
             "colorbar": {
              "outlinewidth": 0,
              "ticks": ""
             }
            },
            "marker": {
             "colorbar": {
              "outlinewidth": 0,
              "ticks": ""
             }
            },
            "type": "scatter3d"
           }
          ],
          "scattercarpet": [
           {
            "marker": {
             "colorbar": {
              "outlinewidth": 0,
              "ticks": ""
             }
            },
            "type": "scattercarpet"
           }
          ],
          "scattergeo": [
           {
            "marker": {
             "colorbar": {
              "outlinewidth": 0,
              "ticks": ""
             }
            },
            "type": "scattergeo"
           }
          ],
          "scattergl": [
           {
            "marker": {
             "colorbar": {
              "outlinewidth": 0,
              "ticks": ""
             }
            },
            "type": "scattergl"
           }
          ],
          "scattermapbox": [
           {
            "marker": {
             "colorbar": {
              "outlinewidth": 0,
              "ticks": ""
             }
            },
            "type": "scattermapbox"
           }
          ],
          "scatterpolar": [
           {
            "marker": {
             "colorbar": {
              "outlinewidth": 0,
              "ticks": ""
             }
            },
            "type": "scatterpolar"
           }
          ],
          "scatterpolargl": [
           {
            "marker": {
             "colorbar": {
              "outlinewidth": 0,
              "ticks": ""
             }
            },
            "type": "scatterpolargl"
           }
          ],
          "scatterternary": [
           {
            "marker": {
             "colorbar": {
              "outlinewidth": 0,
              "ticks": ""
             }
            },
            "type": "scatterternary"
           }
          ],
          "surface": [
           {
            "colorbar": {
             "outlinewidth": 0,
             "ticks": ""
            },
            "colorscale": [
             [
              0,
              "#0d0887"
             ],
             [
              0.1111111111111111,
              "#46039f"
             ],
             [
              0.2222222222222222,
              "#7201a8"
             ],
             [
              0.3333333333333333,
              "#9c179e"
             ],
             [
              0.4444444444444444,
              "#bd3786"
             ],
             [
              0.5555555555555556,
              "#d8576b"
             ],
             [
              0.6666666666666666,
              "#ed7953"
             ],
             [
              0.7777777777777778,
              "#fb9f3a"
             ],
             [
              0.8888888888888888,
              "#fdca26"
             ],
             [
              1,
              "#f0f921"
             ]
            ],
            "type": "surface"
           }
          ],
          "table": [
           {
            "cells": {
             "fill": {
              "color": "#EBF0F8"
             },
             "line": {
              "color": "white"
             }
            },
            "header": {
             "fill": {
              "color": "#C8D4E3"
             },
             "line": {
              "color": "white"
             }
            },
            "type": "table"
           }
          ]
         },
         "layout": {
          "annotationdefaults": {
           "arrowcolor": "#2a3f5f",
           "arrowhead": 0,
           "arrowwidth": 1
          },
          "autotypenumbers": "strict",
          "coloraxis": {
           "colorbar": {
            "outlinewidth": 0,
            "ticks": ""
           }
          },
          "colorscale": {
           "diverging": [
            [
             0,
             "#8e0152"
            ],
            [
             0.1,
             "#c51b7d"
            ],
            [
             0.2,
             "#de77ae"
            ],
            [
             0.3,
             "#f1b6da"
            ],
            [
             0.4,
             "#fde0ef"
            ],
            [
             0.5,
             "#f7f7f7"
            ],
            [
             0.6,
             "#e6f5d0"
            ],
            [
             0.7,
             "#b8e186"
            ],
            [
             0.8,
             "#7fbc41"
            ],
            [
             0.9,
             "#4d9221"
            ],
            [
             1,
             "#276419"
            ]
           ],
           "sequential": [
            [
             0,
             "#0d0887"
            ],
            [
             0.1111111111111111,
             "#46039f"
            ],
            [
             0.2222222222222222,
             "#7201a8"
            ],
            [
             0.3333333333333333,
             "#9c179e"
            ],
            [
             0.4444444444444444,
             "#bd3786"
            ],
            [
             0.5555555555555556,
             "#d8576b"
            ],
            [
             0.6666666666666666,
             "#ed7953"
            ],
            [
             0.7777777777777778,
             "#fb9f3a"
            ],
            [
             0.8888888888888888,
             "#fdca26"
            ],
            [
             1,
             "#f0f921"
            ]
           ],
           "sequentialminus": [
            [
             0,
             "#0d0887"
            ],
            [
             0.1111111111111111,
             "#46039f"
            ],
            [
             0.2222222222222222,
             "#7201a8"
            ],
            [
             0.3333333333333333,
             "#9c179e"
            ],
            [
             0.4444444444444444,
             "#bd3786"
            ],
            [
             0.5555555555555556,
             "#d8576b"
            ],
            [
             0.6666666666666666,
             "#ed7953"
            ],
            [
             0.7777777777777778,
             "#fb9f3a"
            ],
            [
             0.8888888888888888,
             "#fdca26"
            ],
            [
             1,
             "#f0f921"
            ]
           ]
          },
          "colorway": [
           "#636efa",
           "#EF553B",
           "#00cc96",
           "#ab63fa",
           "#FFA15A",
           "#19d3f3",
           "#FF6692",
           "#B6E880",
           "#FF97FF",
           "#FECB52"
          ],
          "font": {
           "color": "#2a3f5f"
          },
          "geo": {
           "bgcolor": "white",
           "lakecolor": "white",
           "landcolor": "#E5ECF6",
           "showlakes": true,
           "showland": true,
           "subunitcolor": "white"
          },
          "hoverlabel": {
           "align": "left"
          },
          "hovermode": "closest",
          "mapbox": {
           "style": "light"
          },
          "paper_bgcolor": "white",
          "plot_bgcolor": "#E5ECF6",
          "polar": {
           "angularaxis": {
            "gridcolor": "white",
            "linecolor": "white",
            "ticks": ""
           },
           "bgcolor": "#E5ECF6",
           "radialaxis": {
            "gridcolor": "white",
            "linecolor": "white",
            "ticks": ""
           }
          },
          "scene": {
           "xaxis": {
            "backgroundcolor": "#E5ECF6",
            "gridcolor": "white",
            "gridwidth": 2,
            "linecolor": "white",
            "showbackground": true,
            "ticks": "",
            "zerolinecolor": "white"
           },
           "yaxis": {
            "backgroundcolor": "#E5ECF6",
            "gridcolor": "white",
            "gridwidth": 2,
            "linecolor": "white",
            "showbackground": true,
            "ticks": "",
            "zerolinecolor": "white"
           },
           "zaxis": {
            "backgroundcolor": "#E5ECF6",
            "gridcolor": "white",
            "gridwidth": 2,
            "linecolor": "white",
            "showbackground": true,
            "ticks": "",
            "zerolinecolor": "white"
           }
          },
          "shapedefaults": {
           "line": {
            "color": "#2a3f5f"
           }
          },
          "ternary": {
           "aaxis": {
            "gridcolor": "white",
            "linecolor": "white",
            "ticks": ""
           },
           "baxis": {
            "gridcolor": "white",
            "linecolor": "white",
            "ticks": ""
           },
           "bgcolor": "#E5ECF6",
           "caxis": {
            "gridcolor": "white",
            "linecolor": "white",
            "ticks": ""
           }
          },
          "title": {
           "x": 0.05
          },
          "xaxis": {
           "automargin": true,
           "gridcolor": "white",
           "linecolor": "white",
           "ticks": "",
           "title": {
            "standoff": 15
           },
           "zerolinecolor": "white",
           "zerolinewidth": 2
          },
          "yaxis": {
           "automargin": true,
           "gridcolor": "white",
           "linecolor": "white",
           "ticks": "",
           "title": {
            "standoff": 15
           },
           "zerolinecolor": "white",
           "zerolinewidth": 2
          }
         }
        },
        "width": 1000
       }
      }
     },
     "metadata": {},
     "output_type": "display_data"
    }
   ],
   "source": []
  },
  {
   "cell_type": "code",
   "execution_count": null,
   "metadata": {},
   "outputs": [],
   "source": []
  },
  {
   "cell_type": "code",
   "execution_count": null,
   "metadata": {},
   "outputs": [],
   "source": []
  },
  {
   "cell_type": "code",
   "execution_count": null,
   "metadata": {},
   "outputs": [],
   "source": []
  },
  {
   "cell_type": "code",
   "execution_count": null,
   "metadata": {},
   "outputs": [],
   "source": []
  },
  {
   "cell_type": "code",
   "execution_count": null,
   "metadata": {},
   "outputs": [],
   "source": []
  },
  {
   "cell_type": "code",
   "execution_count": 91,
   "metadata": {},
   "outputs": [],
   "source": [
    "from copy import deepcopy"
   ]
  },
  {
   "cell_type": "code",
   "execution_count": 149,
   "metadata": {},
   "outputs": [],
   "source": [
    "#X = deepcopy(X_filtered)\n",
    "\n",
    "X_ = X_filtered\n",
    "\n",
    "scaler = StandardScaler()\n",
    "scaler.fit(X_)\n",
    "X_normalized = scaler.transform(X_)\n",
    "\n",
    "pca = PCA(n_components=min(X_.shape[0], X_.shape[1]))\n",
    "pca.fit(X_normalized)\n",
    "\n",
    "X_pca = pca.fit_transform(X_normalized)"
   ]
  },
  {
   "cell_type": "code",
   "execution_count": 150,
   "metadata": {},
   "outputs": [
    {
     "data": {
      "text/plain": [
       "array([9.92476842e-01, 7.52315755e-03, 3.12528799e-33])"
      ]
     },
     "execution_count": 150,
     "metadata": {},
     "output_type": "execute_result"
    }
   ],
   "source": [
    "pca.explained_variance_ratio_[:10]"
   ]
  },
  {
   "cell_type": "code",
   "execution_count": 151,
   "metadata": {},
   "outputs": [
    {
     "data": {
      "image/png": "[encoded data removed]",
      "text/plain": [
       "<Figure size 864x504 with 1 Axes>"
      ]
     },
     "metadata": {},
     "output_type": "display_data"
    }
   ],
   "source": [
    "ax = plt.figure(figsize=[12,7]).gca()\n",
    "ax.plot(np.cumsum(pca.explained_variance_ratio_))\n",
    "ax.xaxis.set_major_locator(MaxNLocator(integer=True))\n",
    "plt.xlabel('Number of Components')\n",
    "plt.ylabel('Cumulative Explained Variance')\n",
    "plt.axvline(x=10, linewidth=1, color='r', alpha=0.5)\n",
    "plt.title('Explained Variance of PCA by Component')\n",
    "plt.show()"
   ]
  },
  {
   "cell_type": "code",
   "execution_count": 141,
   "metadata": {},
   "outputs": [
    {
     "data": {
      "image/png": "[encoded data removed]",
      "text/plain": [
       "<Figure size 864x504 with 1 Axes>"
      ]
     },
     "metadata": {},
     "output_type": "display_data"
    }
   ],
   "source": [
    "ax = plt.figure(figsize=[12,7]).gca()\n",
    "ax.plot(pca.explained_variance_)\n",
    "ax.xaxis.set_major_locator(MaxNLocator(integer=True))\n",
    "plt.xlabel('Principal Component')\n",
    "plt.ylabel('Eigenvalue')\n",
    "plt.axhline(y=1, linewidth=1, color='r', alpha=0.5)\n",
    "plt.title('Scree Plot of PCA: Component Eigenvalues')\n",
    "plt.show()"
   ]
  },
  {
   "cell_type": "code",
   "execution_count": 152,
   "metadata": {},
   "outputs": [
    {
     "data": {
      "application/vnd.plotly.v1+json": {
       "config": {
        "plotlyServerURL": "https://plot.ly"
       },
       "data": [
        {
         "marker": {
          "color": [
           0,
           0,
           0,
           0,
           0,
           0,
           0,
           0,
           0,
           0,
           0,
           0,
           0,
           0,
           0,
           0,
           0,
           0,
           0,
           0,
           0,
           0,
           0,
           0,
           0,
           0,
           0,
           0,
           0,
           0,
           0,
           0,
           0,
           0,
           0,
           0,
           0,
           0,
           0,
           0,
           0,
           0,
           0,
           0,
           0,
           0,
           0,
           0,
           0,
           0,
           0,
           0,
           0,
           0,
           1,
           1,
           1,
           1,
           1,
           1,
           1,
           1,
           1,
           1,
           1,
           1,
           1,
           1,
           1,
           1,
           1,
           1,
           1,
           1,
           1,
           1,
           1,
           1,
           1,
           1,
           1,
           1,
           1,
           1,
           1,
           1,
           1,
           1,
           1,
           1,
           1,
           1,
           1,
           1,
           1,
           1,
           1,
           1,
           1,
           1,
           1,
           1,
           1,
           1,
           1,
           1,
           1,
           1,
           1,
           1,
           1,
           1,
           1,
           1,
           1,
           1,
           1,
           1,
           1,
           1,
           1,
           1,
           1,
           1,
           1,
           1,
           1,
           1,
           1,
           1,
           1,
           1,
           1,
           1,
           1,
           1,
           1,
           1,
           1,
           1,
           1,
           1,
           1,
           1,
           1,
           1,
           1,
           1,
           1,
           1,
           1,
           1,
           1,
           1,
           1,
           1,
           1,
           1,
           1,
           1,
           1,
           1,
           1,
           1,
           1,
           1,
           1,
           1,
           1,
           1,
           1,
           1,
           1,
           1,
           1,
           1,
           1,
           1,
           1,
           1,
           1,
           1,
           1,
           1,
           1,
           1,
           1,
           1,
           1,
           1,
           1,
           1,
           1,
           1,
           1,
           1,
           1,
           1,
           1,
           1,
           1,
           1,
           1,
           1,
           1,
           1,
           1,
           1,
           1,
           1,
           1,
           1,
           1,
           1,
           1,
           1,
           1,
           1,
           1,
           1,
           1,
           1,
           1,
           1,
           1,
           1,
           1,
           1,
           1,
           1,
           1,
           1,
           1,
           1,
           1,
           1,
           1,
           1,
           1,
           1,
           1,
           1,
           1,
           1,
           1,
           1,
           1,
           1,
           1,
           1,
           1,
           1,
           1,
           1,
           1,
           1,
           1,
           1,
           1,
           1,
           1,
           1,
           1,
           1,
           1,
           1,
           1,
           1,
           1,
           1,
           1,
           1,
           1,
           1,
           1,
           1,
           1,
           1,
           1,
           1,
           1,
           1,
           1,
           1,
           1,
           1,
           1,
           1,
           1,
           1,
           1,
           1,
           1,
           1,
           1,
           1,
           1,
           1,
           1,
           1,
           1,
           1,
           1,
           1,
           1,
           1,
           1,
           1,
           1,
           1,
           1,
           1,
           1,
           1,
           1,
           1,
           1,
           1,
           1,
           1,
           1,
           1,
           1,
           1,
           1,
           1,
           1,
           1,
           1,
           1,
           1,
           1,
           1,
           1,
           1,
           1,
           1,
           1,
           1,
           1,
           1,
           1,
           1,
           1,
           1,
           1,
           1,
           1,
           1,
           1,
           1,
           1,
           1,
           1,
           1,
           1,
           1
          ],
          "line": {
           "width": 1
          },
          "showscale": true,
          "size": 10
         },
         "mode": "markers",
         "type": "scatter",
         "x": [
          4.502952537637518,
          3.869525748754429,
          2.5636128205094058,
          2.407602810304646,
          2.182287215482728,
          2.3399721195680128,
          1.0089748698040881,
          0.5273939918348369,
          1.2251657674644756,
          2.516861549150919,
          1.0454698481700722,
          1.702287390399932,
          1.0067241209576574,
          1.1041378850120585,
          1.341957360381552,
          1.9805205715912877,
          1.65905172690793,
          2.2213623191244447,
          2.583761593407485,
          2.485376489098701,
          1.3679974637871832,
          2.47194580477714,
          -0.8834973001387493,
          4.453428561549999,
          3.5985101676922047,
          1.5441746202849072,
          -0.872411030945564,
          0.8452863845516568,
          -0.013071924437549136,
          -1.5700032147807623,
          -0.9798506297313672,
          -1.3376559387551326,
          -1.942164704676444,
          -2.186094981146219,
          -1.9773965323928444,
          -0.8013586996640792,
          -2.2725285421189536,
          2.090829399677617,
          2.3290361459219504,
          0.5498328925312509,
          2.81827412943159,
          2.5186343672137945,
          3.067115727605958,
          0.1561681526435556,
          0.6623805443511928,
          0.1515051498726611,
          -0.2501913650661783,
          1.5404870861140538,
          -0.4619253624103038,
          2.211970771779058,
          2.645048375386894,
          2.4586000040986637,
          1.0861559611920368,
          2.835542939830396,
          -1.2619234405506599,
          -0.6607995076323216,
          -1.947001252066757,
          -1.2209328166956137,
          -0.45219207252882926,
          -0.7810193561403486,
          -0.9095786041027104,
          -1.1184942829118438,
          -0.38252548570338524,
          -2.481383740170791,
          -2.7632492650385245,
          -2.2112035428878616,
          -2.2191861137919506,
          0.547956225183912,
          -2.575714295610751,
          -1.0998459994321763,
          -1.3200678818450295,
          -2.6320621464361262,
          -0.19991776622515856,
          0.2128356144219508,
          0.7345091955297557,
          -0.534449487836989,
          -0.08351534324321808,
          0.29186045038327385,
          -2.2123268676364765,
          -2.0916259718446737,
          -2.1704453903942453,
          -3.0376015056741097,
          -1.34384427083839,
          -0.9626315447716746,
          -0.47238194065056655,
          -3.2205797477355578,
          -2.722798330357774,
          -3.1831699523212458,
          -2.540622945760001,
          -2.667397512676935,
          -0.9872986256621852,
          -0.9349248430393539,
          -0.824153634599118,
          -0.3519617200763043,
          0.6122994043936621,
          0.12498802916039792,
          -1.162114391502335,
          -1.6792246786222806,
          0.4732458162047094,
          0.3058839525962388,
          -0.3295702577930125,
          -2.292755179051815,
          0.031630716763807146,
          1.315925963653079,
          0.7041185696642889,
          -3.078514186015699,
          1.9710625857793709,
          2.7494278586290006,
          2.077442657212959,
          2.186346396020911,
          1.880894182765624,
          -0.8318155117779598,
          -0.46742694600201906,
          -0.9647513898511525,
          -0.8320535107316731,
          0.551937006019506,
          -0.4434770805665625,
          0.6184514031648992,
          -0.5545746348558819,
          -0.0810621440732926,
          0.19365315651464643,
          2.5493212535319554,
          1.2703123820315103,
          2.659675346209154,
          -0.008611191517284037,
          -1.0083178078406636,
          -1.2535197718012656,
          -1.5170482145131445,
          1.1070347499574869,
          2.0011852191876764,
          1.913488711266001,
          1.9046989934658007,
          1.5817594506743784,
          0.6475355318103005,
          -0.5990323568366835,
          -1.1935320007745116,
          0.9697833213943199,
          0.4613478123354638,
          -0.4810367988483961,
          0.7351648888080474,
          -0.7765376212275787,
          2.2902043664296774,
          2.6458237168791143,
          1.406203606215289,
          -0.36847869909410336,
          0.8677705589014745,
          0.10075566709478034,
          -0.05860672117062495,
          0.027291182077751986,
          0.5362175001230299,
          0.9496257318386321,
          1.0641915091086902,
          1.2208267634814727,
          1.6493076935669655,
          2.2533629579953396,
          1.815795709991747,
          2.9255825501546804,
          1.7471567579991252,
          0.10117955033766475,
          2.01405525185586,
          2.5514574038072606,
          4.019472954431456,
          3.336990582046297,
          1.505794839475613,
          1.953706119259471,
          2.7047699917189063,
          2.1058220044179197,
          3.8224308515768213,
          3.296104354150459,
          1.1746966385565816,
          2.52228015542304,
          1.8570606030520742,
          -1.0386731943747887,
          0.29860717473977444,
          -1.2062156044834902,
          -1.6650994128685368,
          -0.3329275267315918,
          1.3473407238225776,
          0.33356588689047273,
          0.05032918690655512,
          -2.937684381910604,
          -1.9477362951625106,
          -1.764186495236055,
          -1.7348957231019062,
          -0.7330069175855676,
          -0.23861990225713461,
          -0.660281180646253,
          -1.4122145017068777,
          0.04661485292414174,
          -0.254537600122472,
          0.673234918554581,
          0.83768872208041,
          0.8017395609386636,
          0.3020055619155283,
          1.4985428842199922,
          -1.0656573938788616,
          -0.7877553590956179,
          -0.2386473784063322,
          -0.3239903251293453,
          -0.9866803440098377,
          -1.1988979915434927,
          -1.9717432371103403,
          -1.4479579732253849,
          -1.2400391035055147,
          -1.1452406864456652,
          2.292235547129912,
          0.9082594881155485,
          -0.4914306989580721,
          0.03936573783000489,
          -1.1372126454164773,
          -1.9614941115476863,
          -2.1136223355277894,
          1.346393305688571,
          3.5570295326629027,
          -0.2097872679270973,
          -0.3225134048448012,
          -0.3349979851036022,
          0.3135184611235034,
          -0.8771000970824294,
          -0.7784155802701131,
          -0.6485176426025295,
          -0.08617481762619227,
          -1.079140496175513,
          2.2826867883267994,
          3.704062246341165,
          3.4426199546738565,
          2.089230199894894,
          -0.14138057725263553,
          0.09828738089615904,
          0.5107849065561807,
          2.49067550131635,
          1.7227291276018575,
          2.031114890079479,
          1.6682637545347034,
          2.1422400212533925,
          0.6423163745613321,
          -2.940613350948666,
          -2.3686829746502114,
          -2.443780929231708,
          -2.760502618180258,
          -3.710189840544185,
          -1.0327827731866386,
          -3.0027939041829232,
          -2.4329684629760804,
          -1.3992041469779237,
          0.6323953220433943,
          -0.42942523926653353,
          1.4879945874622285,
          -0.19185896773800112,
          -1.7159173121265519,
          -1.7102246201494682,
          -0.7346707664079822,
          -0.7120790185976085,
          -0.6836246239390227,
          -0.26249428305795436,
          -0.8333905378740704,
          -0.4456991476030596,
          -1.2327739691162969,
          -1.34924875185132,
          1.0646548982175312,
          -0.21103984719580776,
          -1.835651796584479,
          -1.0776140588626055,
          -2.043732378328329,
          0.29820631905687717,
          -1.4273664819134582,
          -2.283337246720506,
          -2.8644027051354617,
          -2.6156888189705954,
          -2.0173733812193055,
          -2.4742392958829775,
          -1.8387727110878036,
          -2.215786014563457,
          -0.9483751362425218,
          -1.4967660981943383,
          -0.9833678807430848,
          0.542542200565168,
          1.0422793068194351,
          1.2772326982400333,
          -0.4241853785535781,
          -0.9389397120183105,
          -1.2978000021445086,
          -1.3230202954869392,
          -0.24889879789814706,
          -1.012326345513039,
          -1.9983307052774826,
          -2.0415512960237914,
          0.5233723490877762,
          -1.1492923535880928,
          0.06994729429093055,
          -1.6280321276851102,
          -0.5512811691112327,
          0.15598888387652937,
          1.4979478799327215,
          0.2661779186894776,
          -1.0240666468479522,
          1.0040999194773088,
          0.9626278667679696,
          -0.8857233652576822,
          -0.3395267355344477,
          -0.007778693433889294,
          -1.6800321771201663,
          -2.0127742365049888,
          -3.1932264654030775,
          -1.6136345063990785,
          -1.056128308161578,
          -0.014098381830688695,
          0.4170792595167149,
          0.8989886154185485,
          -1.407116492003839,
          -1.2505873492441273,
          -1.4178890290049844,
          -1.1405473506830268,
          -1.1903693394745902,
          -0.1706734231873092,
          -0.22638513754600867,
          1.4037367812640014,
          3.131552362319176,
          1.6047140268039508,
          2.0594819292364646,
          0.19454424745738597,
          -1.0899656902153805,
          3.6632108376522576,
          3.081940440834537,
          1.218929518588229,
          -0.8501945933023134,
          -2.4932086458145335,
          -1.4385752968871333,
          -0.9211505462664933,
          -1.0601065527959261,
          -1.0713263606575625,
          -1.1308462469301317,
          -0.4598734072898229,
          1.0158066479887315,
          0.6194020454355375,
          -0.582437447194444,
          -2.1796133443471173,
          -2.2643466873946343,
          -0.24613480235933238,
          -1.073370177899531,
          3.541701163482171,
          3.830773632603582,
          1.5019212464455167,
          -1.646404645962221,
          -0.5467061063152364,
          -1.7565427835666994,
          -2.0269846671649767,
          -1.854616749683396,
          2.950480719242054,
          3.381494633042651,
          -1.299936951425297,
          -2.493844127041478,
          -2.715385414372696,
          -3.1376413226026023,
          -1.5665426948703136,
          0.17745045409496232,
          -0.0198706120473791
         ],
         "y": [
          0.02617517272538685,
          -0.00021669520888256309,
          -0.12905908712779285,
          0.0625794404085263,
          0.08095545779860551,
          -0.09330540005270409,
          0.20192391161251083,
          0.06346380715738044,
          0.12769245946338992,
          -0.1636666526349293,
          0.09333525842282472,
          0.09142317562731488,
          0.14698006634284339,
          0.01950481425898122,
          0.10113536733618683,
          -0.09052838621695523,
          -0.1755232526680138,
          0.05321004892100097,
          -0.06218242320069724,
          0.15560060114247198,
          0.09163202111473032,
          -0.1741095406726494,
          -0.19516161200811605,
          0.04460439274121874,
          0.17479287801299914,
          -0.6589131305786085,
          -0.008916750066504407,
          -0.01375347758908033,
          0.09323041111708133,
          0.13702354970246203,
          0.04366233080387024,
          -0.11333469587360051,
          -0.06215564473110236,
          0.006997017505552699,
          -0.04940157207047193,
          -0.1482881107885549,
          -0.0705163285222941,
          -0.08664617372701457,
          0.00835286667852405,
          0.07557738890466492,
          0.03559387417529695,
          0.016507357645009078,
          0.060006117679979064,
          -0.08949852578325564,
          0.39874203054035834,
          0.18530747926975838,
          -0.19548021011992542,
          0.18271109419147138,
          0.23436991951048788,
          -0.2336342294631461,
          -0.08571630938227082,
          -0.23949288156543208,
          0.2869878647710992,
          -0.056693525193829565,
          -0.2629629623457976,
          0.033799071826201496,
          -0.057934957833365996,
          0.1984762690162634,
          0.03154350742815245,
          -0.11771047447045,
          -0.17163243940306275,
          -0.15859574881036992,
          -0.06940147581083154,
          0.004845461319226421,
          -0.11279721016461362,
          -0.25446448978258,
          0.17259384213747064,
          -0.18823506173914425,
          0.2856362949699047,
          0.03308955585031203,
          -0.08157883479605205,
          0.2269893102362909,
          0.02658433465296505,
          -0.13597377091991697,
          -0.035509194647270724,
          0.036334742793298916,
          0.32823925103377954,
          -0.08183771756887592,
          0.05378916082315042,
          0.10471022349496813,
          0.22557032430880142,
          0.17813098225083246,
          -0.0970219364296137,
          0.0606556411729738,
          -0.054160452306777164,
          -0.1595147412967092,
          -0.11080282970768746,
          -0.10062667188379372,
          -0.05574099416616446,
          0.022693783801349978,
          -0.09167391059231084,
          -0.045106939182318465,
          -0.04200355939110769,
          -0.012974141636736712,
          0.42361525069645395,
          0.053993027281298754,
          -0.08076425747191812,
          0.009556991569820466,
          -0.09525653448389991,
          0.0655537180262818,
          0.017466481099196077,
          -0.14423193631739095,
          0.01809873602727292,
          -0.03871029070246947,
          -0.034412939085990385,
          0.37188589509077985,
          -0.023907937328255798,
          0.001762374327334259,
          0.07914752844374572,
          0.03495486874830014,
          0.09844951226571097,
          -0.05562885546305531,
          0.196125386663131,
          0.0667000997925247,
          0.294002208981013,
          0.04080427252640991,
          -0.009075347406841969,
          0.14463268354288122,
          0.11317369557030194,
          -0.04057803177685786,
          0.05430298478080098,
          0.024539789007102332,
          0.010845547270298638,
          -0.17521229479060643,
          -0.19840527577737815,
          0.10541317765876476,
          0.016397412908864088,
          0.0016740194667122076,
          0.009816630128267126,
          -0.13797364466022605,
          0.01946434693909536,
          -0.028199669414851174,
          -0.2180709424217948,
          -0.14981970917074625,
          0.1605344821243909,
          0.14084041849952955,
          0.08592501636177431,
          -0.09654783972842784,
          0.17924871911854665,
          0.1029482034429207,
          0.06425151967313807,
          0.11623442134429549,
          -0.0560426400134931,
          0.03997090656766222,
          -0.052957469931955194,
          -0.02652989466265262,
          0.040731678867582076,
          -0.020790549058504623,
          0.007322721150344341,
          0.01678018094876108,
          0.05835425041470129,
          0.04857883087944588,
          -0.08364800331650141,
          0.06860356722616863,
          0.11230834438787275,
          0.10328462677372069,
          -0.05650873130835775,
          -0.18217339979797254,
          0.34953520258705545,
          -0.026817661580092318,
          0.13001876197160286,
          0.014914572503119337,
          -0.228550321965541,
          0.045869330697146285,
          -0.030556616496747485,
          -0.07548754676758924,
          -0.04441379261683839,
          0.024564006476546243,
          -0.1448622475938037,
          0.11355204435932496,
          -0.08043817485594859,
          0.08300158992696192,
          -0.012959926302206312,
          0.030816738944406712,
          0.10868730485422695,
          -0.08570041821500458,
          -0.011791024561600862,
          0.04294226815489625,
          0.07859235452081133,
          0.12834546725493784,
          -0.03100958968741679,
          -0.06524270273001076,
          -0.09086385704295721,
          -0.08857261812941693,
          -0.01721572327643359,
          -0.025714938166730074,
          -0.0486293198976624,
          -0.03504182014350508,
          0.02086467561905031,
          -0.05199988356248111,
          0.023779904745123585,
          0.13897521770425697,
          -0.05503195938457559,
          0.05217873248080827,
          0.04825189024787257,
          -0.02366389277133211,
          -0.03908111200027119,
          0.00899840825250679,
          -0.004079886116575487,
          -0.03254663227182211,
          -0.06029321281900704,
          -0.033555288280127694,
          -0.1251982086246106,
          -0.1210548582542652,
          -0.011969849382490731,
          0.01793652270464004,
          0.577037902228425,
          -0.021941382325405212,
          0.3184355684149762,
          -0.18723658549759448,
          -0.2726139472333509,
          -0.017425578957572317,
          -0.35913480857759694,
          -0.2501060104061363,
          0.01647043362196303,
          -0.0937922693334986,
          -0.060956432660393786,
          -0.1399255710851275,
          0.13302704045445757,
          0.023936668090842224,
          0.024372179763161392,
          0.2615068585600294,
          0.1238314188248046,
          0.11353704174328806,
          0.2131481820333085,
          0.5284063282480512,
          -0.04207362251000191,
          0.012715834069655438,
          -0.09643113522594188,
          -0.060129065601733256,
          0.088677605763741,
          -0.1549465309275441,
          0.061691977613762106,
          -0.05615324392571963,
          0.19623218784777846,
          -0.12657945188566666,
          0.14936279280239242,
          0.21257936180131998,
          0.17709476251002423,
          -0.11486930196986926,
          -0.04702134691097252,
          0.02610376579267316,
          -0.03938251028626469,
          -0.16696291420324266,
          -0.11140306317431171,
          -0.07253303610273615,
          -0.06741006825827021,
          0.2290135270206552,
          0.12497488293953354,
          -0.06142252546051143,
          -0.0726974577188028,
          -0.06864991031223666,
          -0.048064909279294674,
          -0.07364223035934064,
          -0.06247764255944882,
          -0.050190687251074714,
          -0.005862886927848382,
          -0.09017617027691392,
          -0.03487428623423099,
          -0.2691985429098612,
          0.06382020333754322,
          -0.11999384134403669,
          0.17397415909704597,
          0.13495807397572981,
          -0.2529157777310201,
          -0.03488579825705785,
          -0.03137887159624393,
          -0.11356479773256915,
          -0.07176484501262535,
          0.21270461459092185,
          -0.1219710779822375,
          0.03401239639161959,
          0.07005596897241739,
          0.15551704812588116,
          0.10101128224663533,
          0.125260387951857,
          -0.06717082028298303,
          0.04022439496323683,
          -0.02147923032901268,
          -0.017008438970030394,
          0.005155136476921939,
          0.03286961950379477,
          -0.04068464382155972,
          -0.06393793190960739,
          0.027818083245803173,
          0.10460226619841821,
          -0.021375749175418603,
          0.05458134652609728,
          -0.17463336149219857,
          -0.08140942758299954,
          -0.00016028298844585694,
          -0.062311523291820464,
          -0.03943701926835383,
          0.002000731879498192,
          -0.2899670810727616,
          -0.05870360307731113,
          -0.030669880799430616,
          -0.6389486288440782,
          0.04450730732516911,
          -0.01693519438589247,
          0.04568510089029905,
          0.15302044325959235,
          0.00750774570519371,
          -0.20682313295322213,
          -0.026214405002377573,
          -0.1382603957992153,
          0.23675641270962636,
          -0.07169962751431569,
          0.08813291589277619,
          -0.08149399521107381,
          -0.10289502204595292,
          -0.08623358249207386,
          0.046283313438889216,
          -0.08147165084146722,
          0.019994899825622536,
          -0.04806113088398083,
          -0.12512261991253895,
          -0.16025397313245013,
          -0.13071959558816132,
          -0.5483832499922238,
          0.2287933143295815,
          0.08843152736720906,
          -0.15434051561795886,
          0.15210083283031992,
          0.08100038199346193,
          0.029978141792352628,
          0.194598399996663,
          -0.07849517606114763,
          -0.04204984852457065,
          -0.027252948360462777,
          -0.02650608647146918,
          -0.08088388586080579,
          -0.035316096876941025,
          0.6648286174517394,
          0.5148755662099831,
          0.12182474982370813,
          -0.04627301020028503,
          -0.033288276444620096,
          0.4218230489814399,
          0.054615627378378204,
          -0.024155648120186876,
          0.024180570981548234,
          -0.36674874658272927,
          -0.02004469572017979,
          0.003154928428053579,
          0.06534165064872396,
          -0.1300354256438061,
          -0.028102651911459504,
          -0.21067588669697088,
          0.05474425202185627,
          0.15929479410015424,
          -0.04519580273244596,
          0.02128247600951383,
          -0.0401263221345188,
          -0.4025774054515743,
          -0.04132433613075857,
          -0.06649599838981735
         ]
        }
       ],
       "layout": {
        "height": 500,
        "margin": {
         "b": 100,
         "l": 100,
         "r": 100,
         "t": 100
        },
        "template": {
         "data": {
          "bar": [
           {
            "error_x": {
             "color": "#f2f5fa"
            },
            "error_y": {
             "color": "#f2f5fa"
            },
            "marker": {
             "line": {
              "color": "rgb(17,17,17)",
              "width": 0.5
             },
             "pattern": {
              "fillmode": "overlay",
              "size": 10,
              "solidity": 0.2
             }
            },
            "type": "bar"
           }
          ],
          "barpolar": [
           {
            "marker": {
             "line": {
              "color": "rgb(17,17,17)",
              "width": 0.5
             },
             "pattern": {
              "fillmode": "overlay",
              "size": 10,
              "solidity": 0.2
             }
            },
            "type": "barpolar"
           }
          ],
          "carpet": [
           {
            "aaxis": {
             "endlinecolor": "#A2B1C6",
             "gridcolor": "#506784",
             "linecolor": "#506784",
             "minorgridcolor": "#506784",
             "startlinecolor": "#A2B1C6"
            },
            "baxis": {
             "endlinecolor": "#A2B1C6",
             "gridcolor": "#506784",
             "linecolor": "#506784",
             "minorgridcolor": "#506784",
             "startlinecolor": "#A2B1C6"
            },
            "type": "carpet"
           }
          ],
          "choropleth": [
           {
            "colorbar": {
             "outlinewidth": 0,
             "ticks": ""
            },
            "type": "choropleth"
           }
          ],
          "contour": [
           {
            "colorbar": {
             "outlinewidth": 0,
             "ticks": ""
            },
            "colorscale": [
             [
              0,
              "#0d0887"
             ],
             [
              0.1111111111111111,
              "#46039f"
             ],
             [
              0.2222222222222222,
              "#7201a8"
             ],
             [
              0.3333333333333333,
              "#9c179e"
             ],
             [
              0.4444444444444444,
              "#bd3786"
             ],
             [
              0.5555555555555556,
              "#d8576b"
             ],
             [
              0.6666666666666666,
              "#ed7953"
             ],
             [
              0.7777777777777778,
              "#fb9f3a"
             ],
             [
              0.8888888888888888,
              "#fdca26"
             ],
             [
              1,
              "#f0f921"
             ]
            ],
            "type": "contour"
           }
          ],
          "contourcarpet": [
           {
            "colorbar": {
             "outlinewidth": 0,
             "ticks": ""
            },
            "type": "contourcarpet"
           }
          ],
          "heatmap": [
           {
            "colorbar": {
             "outlinewidth": 0,
             "ticks": ""
            },
            "colorscale": [
             [
              0,
              "#0d0887"
             ],
             [
              0.1111111111111111,
              "#46039f"
             ],
             [
              0.2222222222222222,
              "#7201a8"
             ],
             [
              0.3333333333333333,
              "#9c179e"
             ],
             [
              0.4444444444444444,
              "#bd3786"
             ],
             [
              0.5555555555555556,
              "#d8576b"
             ],
             [
              0.6666666666666666,
              "#ed7953"
             ],
             [
              0.7777777777777778,
              "#fb9f3a"
             ],
             [
              0.8888888888888888,
              "#fdca26"
             ],
             [
              1,
              "#f0f921"
             ]
            ],
            "type": "heatmap"
           }
          ],
          "heatmapgl": [
           {
            "colorbar": {
             "outlinewidth": 0,
             "ticks": ""
            },
            "colorscale": [
             [
              0,
              "#0d0887"
             ],
             [
              0.1111111111111111,
              "#46039f"
             ],
             [
              0.2222222222222222,
              "#7201a8"
             ],
             [
              0.3333333333333333,
              "#9c179e"
             ],
             [
              0.4444444444444444,
              "#bd3786"
             ],
             [
              0.5555555555555556,
              "#d8576b"
             ],
             [
              0.6666666666666666,
              "#ed7953"
             ],
             [
              0.7777777777777778,
              "#fb9f3a"
             ],
             [
              0.8888888888888888,
              "#fdca26"
             ],
             [
              1,
              "#f0f921"
             ]
            ],
            "type": "heatmapgl"
           }
          ],
          "histogram": [
           {
            "marker": {
             "pattern": {
              "fillmode": "overlay",
              "size": 10,
              "solidity": 0.2
             }
            },
            "type": "histogram"
           }
          ],
          "histogram2d": [
           {
            "colorbar": {
             "outlinewidth": 0,
             "ticks": ""
            },
            "colorscale": [
             [
              0,
              "#0d0887"
             ],
             [
              0.1111111111111111,
              "#46039f"
             ],
             [
              0.2222222222222222,
              "#7201a8"
             ],
             [
              0.3333333333333333,
              "#9c179e"
             ],
             [
              0.4444444444444444,
              "#bd3786"
             ],
             [
              0.5555555555555556,
              "#d8576b"
             ],
             [
              0.6666666666666666,
              "#ed7953"
             ],
             [
              0.7777777777777778,
              "#fb9f3a"
             ],
             [
              0.8888888888888888,
              "#fdca26"
             ],
             [
              1,
              "#f0f921"
             ]
            ],
            "type": "histogram2d"
           }
          ],
          "histogram2dcontour": [
           {
            "colorbar": {
             "outlinewidth": 0,
             "ticks": ""
            },
            "colorscale": [
             [
              0,
              "#0d0887"
             ],
             [
              0.1111111111111111,
              "#46039f"
             ],
             [
              0.2222222222222222,
              "#7201a8"
             ],
             [
              0.3333333333333333,
              "#9c179e"
             ],
             [
              0.4444444444444444,
              "#bd3786"
             ],
             [
              0.5555555555555556,
              "#d8576b"
             ],
             [
              0.6666666666666666,
              "#ed7953"
             ],
             [
              0.7777777777777778,
              "#fb9f3a"
             ],
             [
              0.8888888888888888,
              "#fdca26"
             ],
             [
              1,
              "#f0f921"
             ]
            ],
            "type": "histogram2dcontour"
           }
          ],
          "mesh3d": [
           {
            "colorbar": {
             "outlinewidth": 0,
             "ticks": ""
            },
            "type": "mesh3d"
           }
          ],
          "parcoords": [
           {
            "line": {
             "colorbar": {
              "outlinewidth": 0,
              "ticks": ""
             }
            },
            "type": "parcoords"
           }
          ],
          "pie": [
           {
            "automargin": true,
            "type": "pie"
           }
          ],
          "scatter": [
           {
            "marker": {
             "line": {
              "color": "#283442"
             }
            },
            "type": "scatter"
           }
          ],
          "scatter3d": [
           {
            "line": {
             "colorbar": {
              "outlinewidth": 0,
              "ticks": ""
             }
            },
            "marker": {
             "colorbar": {
              "outlinewidth": 0,
              "ticks": ""
             }
            },
            "type": "scatter3d"
           }
          ],
          "scattercarpet": [
           {
            "marker": {
             "colorbar": {
              "outlinewidth": 0,
              "ticks": ""
             }
            },
            "type": "scattercarpet"
           }
          ],
          "scattergeo": [
           {
            "marker": {
             "colorbar": {
              "outlinewidth": 0,
              "ticks": ""
             }
            },
            "type": "scattergeo"
           }
          ],
          "scattergl": [
           {
            "marker": {
             "line": {
              "color": "#283442"
             }
            },
            "type": "scattergl"
           }
          ],
          "scattermapbox": [
           {
            "marker": {
             "colorbar": {
              "outlinewidth": 0,
              "ticks": ""
             }
            },
            "type": "scattermapbox"
           }
          ],
          "scatterpolar": [
           {
            "marker": {
             "colorbar": {
              "outlinewidth": 0,
              "ticks": ""
             }
            },
            "type": "scatterpolar"
           }
          ],
          "scatterpolargl": [
           {
            "marker": {
             "colorbar": {
              "outlinewidth": 0,
              "ticks": ""
             }
            },
            "type": "scatterpolargl"
           }
          ],
          "scatterternary": [
           {
            "marker": {
             "colorbar": {
              "outlinewidth": 0,
              "ticks": ""
             }
            },
            "type": "scatterternary"
           }
          ],
          "surface": [
           {
            "colorbar": {
             "outlinewidth": 0,
             "ticks": ""
            },
            "colorscale": [
             [
              0,
              "#0d0887"
             ],
             [
              0.1111111111111111,
              "#46039f"
             ],
             [
              0.2222222222222222,
              "#7201a8"
             ],
             [
              0.3333333333333333,
              "#9c179e"
             ],
             [
              0.4444444444444444,
              "#bd3786"
             ],
             [
              0.5555555555555556,
              "#d8576b"
             ],
             [
              0.6666666666666666,
              "#ed7953"
             ],
             [
              0.7777777777777778,
              "#fb9f3a"
             ],
             [
              0.8888888888888888,
              "#fdca26"
             ],
             [
              1,
              "#f0f921"
             ]
            ],
            "type": "surface"
           }
          ],
          "table": [
           {
            "cells": {
             "fill": {
              "color": "#506784"
             },
             "line": {
              "color": "rgb(17,17,17)"
             }
            },
            "header": {
             "fill": {
              "color": "#2a3f5f"
             },
             "line": {
              "color": "rgb(17,17,17)"
             }
            },
            "type": "table"
           }
          ]
         },
         "layout": {
          "annotationdefaults": {
           "arrowcolor": "#f2f5fa",
           "arrowhead": 0,
           "arrowwidth": 1
          },
          "autotypenumbers": "strict",
          "coloraxis": {
           "colorbar": {
            "outlinewidth": 0,
            "ticks": ""
           }
          },
          "colorscale": {
           "diverging": [
            [
             0,
             "#8e0152"
            ],
            [
             0.1,
             "#c51b7d"
            ],
            [
             0.2,
             "#de77ae"
            ],
            [
             0.3,
             "#f1b6da"
            ],
            [
             0.4,
             "#fde0ef"
            ],
            [
             0.5,
             "#f7f7f7"
            ],
            [
             0.6,
             "#e6f5d0"
            ],
            [
             0.7,
             "#b8e186"
            ],
            [
             0.8,
             "#7fbc41"
            ],
            [
             0.9,
             "#4d9221"
            ],
            [
             1,
             "#276419"
            ]
           ],
           "sequential": [
            [
             0,
             "#0d0887"
            ],
            [
             0.1111111111111111,
             "#46039f"
            ],
            [
             0.2222222222222222,
             "#7201a8"
            ],
            [
             0.3333333333333333,
             "#9c179e"
            ],
            [
             0.4444444444444444,
             "#bd3786"
            ],
            [
             0.5555555555555556,
             "#d8576b"
            ],
            [
             0.6666666666666666,
             "#ed7953"
            ],
            [
             0.7777777777777778,
             "#fb9f3a"
            ],
            [
             0.8888888888888888,
             "#fdca26"
            ],
            [
             1,
             "#f0f921"
            ]
           ],
           "sequentialminus": [
            [
             0,
             "#0d0887"
            ],
            [
             0.1111111111111111,
             "#46039f"
            ],
            [
             0.2222222222222222,
             "#7201a8"
            ],
            [
             0.3333333333333333,
             "#9c179e"
            ],
            [
             0.4444444444444444,
             "#bd3786"
            ],
            [
             0.5555555555555556,
             "#d8576b"
            ],
            [
             0.6666666666666666,
             "#ed7953"
            ],
            [
             0.7777777777777778,
             "#fb9f3a"
            ],
            [
             0.8888888888888888,
             "#fdca26"
            ],
            [
             1,
             "#f0f921"
            ]
           ]
          },
          "colorway": [
           "#636efa",
           "#EF553B",
           "#00cc96",
           "#ab63fa",
           "#FFA15A",
           "#19d3f3",
           "#FF6692",
           "#B6E880",
           "#FF97FF",
           "#FECB52"
          ],
          "font": {
           "color": "#f2f5fa"
          },
          "geo": {
           "bgcolor": "rgb(17,17,17)",
           "lakecolor": "rgb(17,17,17)",
           "landcolor": "rgb(17,17,17)",
           "showlakes": true,
           "showland": true,
           "subunitcolor": "#506784"
          },
          "hoverlabel": {
           "align": "left"
          },
          "hovermode": "closest",
          "mapbox": {
           "style": "dark"
          },
          "paper_bgcolor": "rgb(17,17,17)",
          "plot_bgcolor": "rgb(17,17,17)",
          "polar": {
           "angularaxis": {
            "gridcolor": "#506784",
            "linecolor": "#506784",
            "ticks": ""
           },
           "bgcolor": "rgb(17,17,17)",
           "radialaxis": {
            "gridcolor": "#506784",
            "linecolor": "#506784",
            "ticks": ""
           }
          },
          "scene": {
           "xaxis": {
            "backgroundcolor": "rgb(17,17,17)",
            "gridcolor": "#506784",
            "gridwidth": 2,
            "linecolor": "#506784",
            "showbackground": true,
            "ticks": "",
            "zerolinecolor": "#C8D4E3"
           },
           "yaxis": {
            "backgroundcolor": "rgb(17,17,17)",
            "gridcolor": "#506784",
            "gridwidth": 2,
            "linecolor": "#506784",
            "showbackground": true,
            "ticks": "",
            "zerolinecolor": "#C8D4E3"
           },
           "zaxis": {
            "backgroundcolor": "rgb(17,17,17)",
            "gridcolor": "#506784",
            "gridwidth": 2,
            "linecolor": "#506784",
            "showbackground": true,
            "ticks": "",
            "zerolinecolor": "#C8D4E3"
           }
          },
          "shapedefaults": {
           "line": {
            "color": "#f2f5fa"
           }
          },
          "sliderdefaults": {
           "bgcolor": "#C8D4E3",
           "bordercolor": "rgb(17,17,17)",
           "borderwidth": 1,
           "tickwidth": 0
          },
          "ternary": {
           "aaxis": {
            "gridcolor": "#506784",
            "linecolor": "#506784",
            "ticks": ""
           },
           "baxis": {
            "gridcolor": "#506784",
            "linecolor": "#506784",
            "ticks": ""
           },
           "bgcolor": "rgb(17,17,17)",
           "caxis": {
            "gridcolor": "#506784",
            "linecolor": "#506784",
            "ticks": ""
           }
          },
          "title": {
           "x": 0.05
          },
          "updatemenudefaults": {
           "bgcolor": "#506784",
           "borderwidth": 0
          },
          "xaxis": {
           "automargin": true,
           "gridcolor": "#283442",
           "linecolor": "#506784",
           "ticks": "",
           "title": {
            "standoff": 15
           },
           "zerolinecolor": "#283442",
           "zerolinewidth": 2
          },
          "yaxis": {
           "automargin": true,
           "gridcolor": "#283442",
           "linecolor": "#506784",
           "ticks": "",
           "title": {
            "standoff": 15
           },
           "zerolinecolor": "#283442",
           "zerolinewidth": 2
          }
         }
        },
        "width": 700
       }
      }
     },
     "metadata": {},
     "output_type": "display_data"
    }
   ],
   "source": [
    "plot_2d(X_pca[:, 0], X_pca[:, 1], y)"
   ]
  },
  {
   "cell_type": "code",
   "execution_count": 157,
   "metadata": {},
   "outputs": [
    {
     "ename": "ValueError",
     "evalue": "\nImage export using the \"kaleido\" engine requires the kaleido package,\nwhich can be installed using pip:\n    $ pip install -U kaleido\n",
     "output_type": "error",
     "traceback": [
      "\u001b[0;31m---------------------------------------------------------------------------\u001b[0m",
      "\u001b[0;31mValueError\u001b[0m                                Traceback (most recent call last)",
      "\u001b[1;32m/home/kevin/Documents/PhD/ASH/Focus/May2022/hand_gesture_classification/src/test.ipynb Cell 35\u001b[0m in \u001b[0;36m<cell line: 1>\u001b[0;34m()\u001b[0m\n\u001b[0;32m----> <a href='vscode-notebook-cell:/home/kevin/Documents/PhD/ASH/Focus/May2022/hand_gesture_classification/src/test.ipynb#X61sZmlsZQ%3D%3D?line=0'>1</a>\u001b[0m plot_3d(X_pca[:, \u001b[39m0\u001b[39;49m], X_pca[:, \u001b[39m1\u001b[39;49m], X_pca[:, \u001b[39m2\u001b[39;49m], y)\n",
      "\u001b[1;32m/home/kevin/Documents/PhD/ASH/Focus/May2022/hand_gesture_classification/src/test.ipynb Cell 35\u001b[0m in \u001b[0;36mplot_3d\u001b[0;34m(component1, component2, component3, y)\u001b[0m\n\u001b[1;32m    <a href='vscode-notebook-cell:/home/kevin/Documents/PhD/ASH/Focus/May2022/hand_gesture_classification/src/test.ipynb#X61sZmlsZQ%3D%3D?line=136'>137</a>\u001b[0m fig\u001b[39m.\u001b[39mupdate_layout(margin\u001b[39m=\u001b[39m\u001b[39mdict\u001b[39m(l\u001b[39m=\u001b[39m\u001b[39m100\u001b[39m,r\u001b[39m=\u001b[39m\u001b[39m100\u001b[39m,b\u001b[39m=\u001b[39m\u001b[39m100\u001b[39m,t\u001b[39m=\u001b[39m\u001b[39m100\u001b[39m),width\u001b[39m=\u001b[39m\u001b[39m1000\u001b[39m,height\u001b[39m=\u001b[39m\u001b[39m700\u001b[39m)\n\u001b[1;32m    <a href='vscode-notebook-cell:/home/kevin/Documents/PhD/ASH/Focus/May2022/hand_gesture_classification/src/test.ipynb#X61sZmlsZQ%3D%3D?line=137'>138</a>\u001b[0m \u001b[39m#fig.layout.template = 'plotly_dark'\u001b[39;00m\n\u001b[0;32m--> <a href='vscode-notebook-cell:/home/kevin/Documents/PhD/ASH/Focus/May2022/hand_gesture_classification/src/test.ipynb#X61sZmlsZQ%3D%3D?line=138'>139</a>\u001b[0m fig\u001b[39m.\u001b[39;49mwrite_image(\u001b[39m\"\u001b[39;49m\u001b[39mtest.png\u001b[39;49m\u001b[39m\"\u001b[39;49m) \n\u001b[1;32m    <a href='vscode-notebook-cell:/home/kevin/Documents/PhD/ASH/Focus/May2022/hand_gesture_classification/src/test.ipynb#X61sZmlsZQ%3D%3D?line=140'>141</a>\u001b[0m fig\u001b[39m.\u001b[39mshow()\n",
      "File \u001b[0;32m~/miniconda3/envs/mml/lib/python3.9/site-packages/plotly/basedatatypes.py:3829\u001b[0m, in \u001b[0;36mBaseFigure.write_image\u001b[0;34m(self, *args, **kwargs)\u001b[0m\n\u001b[1;32m   3769\u001b[0m \u001b[39m\"\"\"\u001b[39;00m\n\u001b[1;32m   3770\u001b[0m \u001b[39mConvert a figure to a static image and write it to a file or writeable\u001b[39;00m\n\u001b[1;32m   3771\u001b[0m \u001b[39mobject\u001b[39;00m\n\u001b[0;32m   (...)\u001b[0m\n\u001b[1;32m   3825\u001b[0m \u001b[39mNone\u001b[39;00m\n\u001b[1;32m   3826\u001b[0m \u001b[39m\"\"\"\u001b[39;00m\n\u001b[1;32m   3827\u001b[0m \u001b[39mimport\u001b[39;00m \u001b[39mplotly\u001b[39;00m\u001b[39m.\u001b[39;00m\u001b[39mio\u001b[39;00m \u001b[39mas\u001b[39;00m \u001b[39mpio\u001b[39;00m\n\u001b[0;32m-> 3829\u001b[0m \u001b[39mreturn\u001b[39;00m pio\u001b[39m.\u001b[39;49mwrite_image(\u001b[39mself\u001b[39;49m, \u001b[39m*\u001b[39;49margs, \u001b[39m*\u001b[39;49m\u001b[39m*\u001b[39;49mkwargs)\n",
      "File \u001b[0;32m~/miniconda3/envs/mml/lib/python3.9/site-packages/plotly/io/_kaleido.py:267\u001b[0m, in \u001b[0;36mwrite_image\u001b[0;34m(fig, file, format, scale, width, height, validate, engine)\u001b[0m\n\u001b[1;32m    251\u001b[0m             \u001b[39mraise\u001b[39;00m \u001b[39mValueError\u001b[39;00m(\n\u001b[1;32m    252\u001b[0m                 \u001b[39m\"\"\"\u001b[39;00m\n\u001b[1;32m    253\u001b[0m \u001b[39mCannot infer image type from output path '{file}'.\u001b[39;00m\n\u001b[0;32m   (...)\u001b[0m\n\u001b[1;32m    261\u001b[0m                 )\n\u001b[1;32m    262\u001b[0m             )\n\u001b[1;32m    264\u001b[0m     \u001b[39m# Request image\u001b[39;00m\n\u001b[1;32m    265\u001b[0m     \u001b[39m# -------------\u001b[39;00m\n\u001b[1;32m    266\u001b[0m     \u001b[39m# Do this first so we don't create a file if image conversion fails\u001b[39;00m\n\u001b[0;32m--> 267\u001b[0m     img_data \u001b[39m=\u001b[39m to_image(\n\u001b[1;32m    268\u001b[0m         fig,\n\u001b[1;32m    269\u001b[0m         \u001b[39mformat\u001b[39;49m\u001b[39m=\u001b[39;49m\u001b[39mformat\u001b[39;49m,\n\u001b[1;32m    270\u001b[0m         scale\u001b[39m=\u001b[39;49mscale,\n\u001b[1;32m    271\u001b[0m         width\u001b[39m=\u001b[39;49mwidth,\n\u001b[1;32m    272\u001b[0m         height\u001b[39m=\u001b[39;49mheight,\n\u001b[1;32m    273\u001b[0m         validate\u001b[39m=\u001b[39;49mvalidate,\n\u001b[1;32m    274\u001b[0m         engine\u001b[39m=\u001b[39;49mengine,\n\u001b[1;32m    275\u001b[0m     )\n\u001b[1;32m    277\u001b[0m     \u001b[39m# Open file\u001b[39;00m\n\u001b[1;32m    278\u001b[0m     \u001b[39m# ---------\u001b[39;00m\n\u001b[1;32m    279\u001b[0m     \u001b[39mif\u001b[39;00m path \u001b[39mis\u001b[39;00m \u001b[39mNone\u001b[39;00m:\n\u001b[1;32m    280\u001b[0m         \u001b[39m# We previously failed to make sense of `file` as a pathlib object.\u001b[39;00m\n\u001b[1;32m    281\u001b[0m         \u001b[39m# Attempt to write to `file` as an open file descriptor.\u001b[39;00m\n",
      "File \u001b[0;32m~/miniconda3/envs/mml/lib/python3.9/site-packages/plotly/io/_kaleido.py:133\u001b[0m, in \u001b[0;36mto_image\u001b[0;34m(fig, format, width, height, scale, validate, engine)\u001b[0m\n\u001b[1;32m    131\u001b[0m     \u001b[39m# Raise informative error message if Kaleido is not installed\u001b[39;00m\n\u001b[1;32m    132\u001b[0m     \u001b[39mif\u001b[39;00m scope \u001b[39mis\u001b[39;00m \u001b[39mNone\u001b[39;00m:\n\u001b[0;32m--> 133\u001b[0m         \u001b[39mraise\u001b[39;00m \u001b[39mValueError\u001b[39;00m(\n\u001b[1;32m    134\u001b[0m             \u001b[39m\"\"\"\u001b[39;00m\n\u001b[1;32m    135\u001b[0m \u001b[39mImage export using the \"kaleido\" engine requires the kaleido package,\u001b[39;00m\n\u001b[1;32m    136\u001b[0m \u001b[39mwhich can be installed using pip:\u001b[39;00m\n\u001b[1;32m    137\u001b[0m \u001b[39m    $ pip install -U kaleido\u001b[39;00m\n\u001b[1;32m    138\u001b[0m \u001b[39m\"\"\"\u001b[39;00m\n\u001b[1;32m    139\u001b[0m         )\n\u001b[1;32m    141\u001b[0m     \u001b[39m# Validate figure\u001b[39;00m\n\u001b[1;32m    142\u001b[0m     \u001b[39m# ---------------\u001b[39;00m\n\u001b[1;32m    143\u001b[0m     fig_dict \u001b[39m=\u001b[39m validate_coerce_fig_to_dict(fig, validate)\n",
      "\u001b[0;31mValueError\u001b[0m: \nImage export using the \"kaleido\" engine requires the kaleido package,\nwhich can be installed using pip:\n    $ pip install -U kaleido\n"
     ]
    }
   ],
   "source": [
    "plot_3d(X_pca[:, 0], X_pca[:, 1], X_pca[:, 2], y)"
   ]
  },
  {
   "cell_type": "code",
   "execution_count": null,
   "metadata": {},
   "outputs": [],
   "source": []
  },
  {
   "cell_type": "code",
   "execution_count": null,
   "metadata": {},
   "outputs": [],
   "source": []
  },
  {
   "cell_type": "code",
   "execution_count": null,
   "metadata": {},
   "outputs": [],
   "source": []
  },
  {
   "cell_type": "code",
   "execution_count": null,
   "metadata": {},
   "outputs": [],
   "source": []
  },
  {
   "cell_type": "code",
   "execution_count": null,
   "metadata": {},
   "outputs": [],
   "source": []
  },
  {
   "cell_type": "code",
   "execution_count": null,
   "metadata": {},
   "outputs": [],
   "source": []
  },
  {
   "cell_type": "code",
   "execution_count": null,
   "metadata": {},
   "outputs": [],
   "source": []
  },
  {
   "cell_type": "code",
   "execution_count": null,
   "metadata": {},
   "outputs": [],
   "source": []
  },
  {
   "cell_type": "code",
   "execution_count": 150,
   "metadata": {},
   "outputs": [],
   "source": [
    "import numpy as np\n",
    "import pandas as pd\n",
    "import matplotlib.pyplot as plt\n",
    "from mpl_toolkits import mplot3d\n",
    "from matplotlib.ticker import MaxNLocator\n",
    "import seaborn as sns\n",
    "import plotly\n",
    "import plotly.express as px\n",
    "from tqdm import tqdm\n",
    "import os\n",
    "from copy import deepcopy\n",
    "import multiprocessing\n",
    "from typing import *\n",
    "\n",
    "from sklearn.preprocessing import StandardScaler, MinMaxScaler\n",
    "from sklearn.decomposition import PCA\n",
    "from sklearn.manifold import TSNE\n",
    "\n",
    "from tsfresh import extract_features, extract_relevant_features, select_features\n",
    "from tsfresh.utilities.dataframe_functions import impute\n",
    "from tsfresh.feature_extraction import ComprehensiveFCParameters, EfficientFCParameters, MinimalFCParameters\n",
    "\n",
    "from dataloader.build_dataset import *\n",
    "from utils import *"
   ]
  },
  {
   "cell_type": "code",
   "execution_count": 128,
   "metadata": {},
   "outputs": [
    {
     "name": "stderr",
     "output_type": "stream",
     "text": [
      "100%|██████████| 28/28 [00:00<00:00, 33.95it/s]"
     ]
    },
    {
     "name": "stdout",
     "output_type": "stream",
     "text": [
      "data loading completed ...\n"
     ]
    },
    {
     "name": "stderr",
     "output_type": "stream",
     "text": [
      "\n"
     ]
    }
   ],
   "source": [
    "every = 1\n",
    "window_size = 350\n",
    "overlap = 0\n",
    "\n",
    "# data loading\n",
    "path_data_dir = \"../data/hands_landmarks\"\n",
    "filenames = sorted([file for file in os.listdir(\"../data/hands_landmarks\") if file[0] == 'I' or file[0] == 'C'])\n",
    "\n",
    "all_data = data_loading(path_data_dir, filenames, every)"
   ]
  },
  {
   "cell_type": "code",
   "execution_count": 129,
   "metadata": {},
   "outputs": [],
   "source": [
    "hand = all_data['Chir1'][1000].reshape((21,3))"
   ]
  },
  {
   "cell_type": "code",
   "execution_count": 130,
   "metadata": {},
   "outputs": [],
   "source": [
    "df = pd.DataFrame(hand, columns=['X', 'Y', 'Z'])"
   ]
  },
  {
   "cell_type": "code",
   "execution_count": 131,
   "metadata": {},
   "outputs": [
    {
     "data": {
      "application/vnd.plotly.v1+json": {
       "config": {
        "plotlyServerURL": "https://plot.ly"
       },
       "data": [
        {
         "hovertemplate": "X=%{x}<br>Y=%{y}<extra></extra>",
         "legendgroup": "",
         "marker": {
          "color": "#636efa",
          "symbol": "circle"
         },
         "mode": "markers",
         "name": "",
         "orientation": "v",
         "showlegend": false,
         "type": "scatter",
         "x": [
          0.2782995104789734,
          0.32186996936798096,
          0.3569057583808899,
          0.37826430797576904,
          0.3850507140159607,
          0.3638063073158264,
          0.4003351330757141,
          0.4202001690864563,
          0.4349521994590759,
          0.3465949594974518,
          0.382510244846344,
          0.3970261812210083,
          0.4057895541191101,
          0.328840434551239,
          0.3603077530860901,
          0.3772330582141876,
          0.3883627653121948,
          0.3126332461833954,
          0.32004040479660034,
          0.3207979202270508,
          0.3209967613220215
         ],
         "xaxis": "x",
         "y": [
          0.46956759691238403,
          0.465693861246109,
          0.4730479419231415,
          0.48712822794914246,
          0.49934589862823486,
          0.47759729623794556,
          0.4962337911128998,
          0.5081923604011536,
          0.5174397826194763,
          0.4909081757068634,
          0.5172839760780334,
          0.5294299125671387,
          0.5362628698348999,
          0.5020439028739929,
          0.5256839990615845,
          0.5371738076210022,
          0.5439692139625549,
          0.5091317296028137,
          0.5318365097045898,
          0.5454292893409729,
          0.5560669898986816
         ],
         "yaxis": "y"
        }
       ],
       "layout": {
        "legend": {
         "tracegroupgap": 0
        },
        "margin": {
         "t": 60
        },
        "template": {
         "data": {
          "bar": [
           {
            "error_x": {
             "color": "#2a3f5f"
            },
            "error_y": {
             "color": "#2a3f5f"
            },
            "marker": {
             "line": {
              "color": "#E5ECF6",
              "width": 0.5
             },
             "pattern": {
              "fillmode": "overlay",
              "size": 10,
              "solidity": 0.2
             }
            },
            "type": "bar"
           }
          ],
          "barpolar": [
           {
            "marker": {
             "line": {
              "color": "#E5ECF6",
              "width": 0.5
             },
             "pattern": {
              "fillmode": "overlay",
              "size": 10,
              "solidity": 0.2
             }
            },
            "type": "barpolar"
           }
          ],
          "carpet": [
           {
            "aaxis": {
             "endlinecolor": "#2a3f5f",
             "gridcolor": "white",
             "linecolor": "white",
             "minorgridcolor": "white",
             "startlinecolor": "#2a3f5f"
            },
            "baxis": {
             "endlinecolor": "#2a3f5f",
             "gridcolor": "white",
             "linecolor": "white",
             "minorgridcolor": "white",
             "startlinecolor": "#2a3f5f"
            },
            "type": "carpet"
           }
          ],
          "choropleth": [
           {
            "colorbar": {
             "outlinewidth": 0,
             "ticks": ""
            },
            "type": "choropleth"
           }
          ],
          "contour": [
           {
            "colorbar": {
             "outlinewidth": 0,
             "ticks": ""
            },
            "colorscale": [
             [
              0,
              "#0d0887"
             ],
             [
              0.1111111111111111,
              "#46039f"
             ],
             [
              0.2222222222222222,
              "#7201a8"
             ],
             [
              0.3333333333333333,
              "#9c179e"
             ],
             [
              0.4444444444444444,
              "#bd3786"
             ],
             [
              0.5555555555555556,
              "#d8576b"
             ],
             [
              0.6666666666666666,
              "#ed7953"
             ],
             [
              0.7777777777777778,
              "#fb9f3a"
             ],
             [
              0.8888888888888888,
              "#fdca26"
             ],
             [
              1,
              "#f0f921"
             ]
            ],
            "type": "contour"
           }
          ],
          "contourcarpet": [
           {
            "colorbar": {
             "outlinewidth": 0,
             "ticks": ""
            },
            "type": "contourcarpet"
           }
          ],
          "heatmap": [
           {
            "colorbar": {
             "outlinewidth": 0,
             "ticks": ""
            },
            "colorscale": [
             [
              0,
              "#0d0887"
             ],
             [
              0.1111111111111111,
              "#46039f"
             ],
             [
              0.2222222222222222,
              "#7201a8"
             ],
             [
              0.3333333333333333,
              "#9c179e"
             ],
             [
              0.4444444444444444,
              "#bd3786"
             ],
             [
              0.5555555555555556,
              "#d8576b"
             ],
             [
              0.6666666666666666,
              "#ed7953"
             ],
             [
              0.7777777777777778,
              "#fb9f3a"
             ],
             [
              0.8888888888888888,
              "#fdca26"
             ],
             [
              1,
              "#f0f921"
             ]
            ],
            "type": "heatmap"
           }
          ],
          "heatmapgl": [
           {
            "colorbar": {
             "outlinewidth": 0,
             "ticks": ""
            },
            "colorscale": [
             [
              0,
              "#0d0887"
             ],
             [
              0.1111111111111111,
              "#46039f"
             ],
             [
              0.2222222222222222,
              "#7201a8"
             ],
             [
              0.3333333333333333,
              "#9c179e"
             ],
             [
              0.4444444444444444,
              "#bd3786"
             ],
             [
              0.5555555555555556,
              "#d8576b"
             ],
             [
              0.6666666666666666,
              "#ed7953"
             ],
             [
              0.7777777777777778,
              "#fb9f3a"
             ],
             [
              0.8888888888888888,
              "#fdca26"
             ],
             [
              1,
              "#f0f921"
             ]
            ],
            "type": "heatmapgl"
           }
          ],
          "histogram": [
           {
            "marker": {
             "pattern": {
              "fillmode": "overlay",
              "size": 10,
              "solidity": 0.2
             }
            },
            "type": "histogram"
           }
          ],
          "histogram2d": [
           {
            "colorbar": {
             "outlinewidth": 0,
             "ticks": ""
            },
            "colorscale": [
             [
              0,
              "#0d0887"
             ],
             [
              0.1111111111111111,
              "#46039f"
             ],
             [
              0.2222222222222222,
              "#7201a8"
             ],
             [
              0.3333333333333333,
              "#9c179e"
             ],
             [
              0.4444444444444444,
              "#bd3786"
             ],
             [
              0.5555555555555556,
              "#d8576b"
             ],
             [
              0.6666666666666666,
              "#ed7953"
             ],
             [
              0.7777777777777778,
              "#fb9f3a"
             ],
             [
              0.8888888888888888,
              "#fdca26"
             ],
             [
              1,
              "#f0f921"
             ]
            ],
            "type": "histogram2d"
           }
          ],
          "histogram2dcontour": [
           {
            "colorbar": {
             "outlinewidth": 0,
             "ticks": ""
            },
            "colorscale": [
             [
              0,
              "#0d0887"
             ],
             [
              0.1111111111111111,
              "#46039f"
             ],
             [
              0.2222222222222222,
              "#7201a8"
             ],
             [
              0.3333333333333333,
              "#9c179e"
             ],
             [
              0.4444444444444444,
              "#bd3786"
             ],
             [
              0.5555555555555556,
              "#d8576b"
             ],
             [
              0.6666666666666666,
              "#ed7953"
             ],
             [
              0.7777777777777778,
              "#fb9f3a"
             ],
             [
              0.8888888888888888,
              "#fdca26"
             ],
             [
              1,
              "#f0f921"
             ]
            ],
            "type": "histogram2dcontour"
           }
          ],
          "mesh3d": [
           {
            "colorbar": {
             "outlinewidth": 0,
             "ticks": ""
            },
            "type": "mesh3d"
           }
          ],
          "parcoords": [
           {
            "line": {
             "colorbar": {
              "outlinewidth": 0,
              "ticks": ""
             }
            },
            "type": "parcoords"
           }
          ],
          "pie": [
           {
            "automargin": true,
            "type": "pie"
           }
          ],
          "scatter": [
           {
            "fillpattern": {
             "fillmode": "overlay",
             "size": 10,
             "solidity": 0.2
            },
            "type": "scatter"
           }
          ],
          "scatter3d": [
           {
            "line": {
             "colorbar": {
              "outlinewidth": 0,
              "ticks": ""
             }
            },
            "marker": {
             "colorbar": {
              "outlinewidth": 0,
              "ticks": ""
             }
            },
            "type": "scatter3d"
           }
          ],
          "scattercarpet": [
           {
            "marker": {
             "colorbar": {
              "outlinewidth": 0,
              "ticks": ""
             }
            },
            "type": "scattercarpet"
           }
          ],
          "scattergeo": [
           {
            "marker": {
             "colorbar": {
              "outlinewidth": 0,
              "ticks": ""
             }
            },
            "type": "scattergeo"
           }
          ],
          "scattergl": [
           {
            "marker": {
             "colorbar": {
              "outlinewidth": 0,
              "ticks": ""
             }
            },
            "type": "scattergl"
           }
          ],
          "scattermapbox": [
           {
            "marker": {
             "colorbar": {
              "outlinewidth": 0,
              "ticks": ""
             }
            },
            "type": "scattermapbox"
           }
          ],
          "scatterpolar": [
           {
            "marker": {
             "colorbar": {
              "outlinewidth": 0,
              "ticks": ""
             }
            },
            "type": "scatterpolar"
           }
          ],
          "scatterpolargl": [
           {
            "marker": {
             "colorbar": {
              "outlinewidth": 0,
              "ticks": ""
             }
            },
            "type": "scatterpolargl"
           }
          ],
          "scatterternary": [
           {
            "marker": {
             "colorbar": {
              "outlinewidth": 0,
              "ticks": ""
             }
            },
            "type": "scatterternary"
           }
          ],
          "surface": [
           {
            "colorbar": {
             "outlinewidth": 0,
             "ticks": ""
            },
            "colorscale": [
             [
              0,
              "#0d0887"
             ],
             [
              0.1111111111111111,
              "#46039f"
             ],
             [
              0.2222222222222222,
              "#7201a8"
             ],
             [
              0.3333333333333333,
              "#9c179e"
             ],
             [
              0.4444444444444444,
              "#bd3786"
             ],
             [
              0.5555555555555556,
              "#d8576b"
             ],
             [
              0.6666666666666666,
              "#ed7953"
             ],
             [
              0.7777777777777778,
              "#fb9f3a"
             ],
             [
              0.8888888888888888,
              "#fdca26"
             ],
             [
              1,
              "#f0f921"
             ]
            ],
            "type": "surface"
           }
          ],
          "table": [
           {
            "cells": {
             "fill": {
              "color": "#EBF0F8"
             },
             "line": {
              "color": "white"
             }
            },
            "header": {
             "fill": {
              "color": "#C8D4E3"
             },
             "line": {
              "color": "white"
             }
            },
            "type": "table"
           }
          ]
         },
         "layout": {
          "annotationdefaults": {
           "arrowcolor": "#2a3f5f",
           "arrowhead": 0,
           "arrowwidth": 1
          },
          "autotypenumbers": "strict",
          "coloraxis": {
           "colorbar": {
            "outlinewidth": 0,
            "ticks": ""
           }
          },
          "colorscale": {
           "diverging": [
            [
             0,
             "#8e0152"
            ],
            [
             0.1,
             "#c51b7d"
            ],
            [
             0.2,
             "#de77ae"
            ],
            [
             0.3,
             "#f1b6da"
            ],
            [
             0.4,
             "#fde0ef"
            ],
            [
             0.5,
             "#f7f7f7"
            ],
            [
             0.6,
             "#e6f5d0"
            ],
            [
             0.7,
             "#b8e186"
            ],
            [
             0.8,
             "#7fbc41"
            ],
            [
             0.9,
             "#4d9221"
            ],
            [
             1,
             "#276419"
            ]
           ],
           "sequential": [
            [
             0,
             "#0d0887"
            ],
            [
             0.1111111111111111,
             "#46039f"
            ],
            [
             0.2222222222222222,
             "#7201a8"
            ],
            [
             0.3333333333333333,
             "#9c179e"
            ],
            [
             0.4444444444444444,
             "#bd3786"
            ],
            [
             0.5555555555555556,
             "#d8576b"
            ],
            [
             0.6666666666666666,
             "#ed7953"
            ],
            [
             0.7777777777777778,
             "#fb9f3a"
            ],
            [
             0.8888888888888888,
             "#fdca26"
            ],
            [
             1,
             "#f0f921"
            ]
           ],
           "sequentialminus": [
            [
             0,
             "#0d0887"
            ],
            [
             0.1111111111111111,
             "#46039f"
            ],
            [
             0.2222222222222222,
             "#7201a8"
            ],
            [
             0.3333333333333333,
             "#9c179e"
            ],
            [
             0.4444444444444444,
             "#bd3786"
            ],
            [
             0.5555555555555556,
             "#d8576b"
            ],
            [
             0.6666666666666666,
             "#ed7953"
            ],
            [
             0.7777777777777778,
             "#fb9f3a"
            ],
            [
             0.8888888888888888,
             "#fdca26"
            ],
            [
             1,
             "#f0f921"
            ]
           ]
          },
          "colorway": [
           "#636efa",
           "#EF553B",
           "#00cc96",
           "#ab63fa",
           "#FFA15A",
           "#19d3f3",
           "#FF6692",
           "#B6E880",
           "#FF97FF",
           "#FECB52"
          ],
          "font": {
           "color": "#2a3f5f"
          },
          "geo": {
           "bgcolor": "white",
           "lakecolor": "white",
           "landcolor": "#E5ECF6",
           "showlakes": true,
           "showland": true,
           "subunitcolor": "white"
          },
          "hoverlabel": {
           "align": "left"
          },
          "hovermode": "closest",
          "mapbox": {
           "style": "light"
          },
          "paper_bgcolor": "white",
          "plot_bgcolor": "#E5ECF6",
          "polar": {
           "angularaxis": {
            "gridcolor": "white",
            "linecolor": "white",
            "ticks": ""
           },
           "bgcolor": "#E5ECF6",
           "radialaxis": {
            "gridcolor": "white",
            "linecolor": "white",
            "ticks": ""
           }
          },
          "scene": {
           "xaxis": {
            "backgroundcolor": "#E5ECF6",
            "gridcolor": "white",
            "gridwidth": 2,
            "linecolor": "white",
            "showbackground": true,
            "ticks": "",
            "zerolinecolor": "white"
           },
           "yaxis": {
            "backgroundcolor": "#E5ECF6",
            "gridcolor": "white",
            "gridwidth": 2,
            "linecolor": "white",
            "showbackground": true,
            "ticks": "",
            "zerolinecolor": "white"
           },
           "zaxis": {
            "backgroundcolor": "#E5ECF6",
            "gridcolor": "white",
            "gridwidth": 2,
            "linecolor": "white",
            "showbackground": true,
            "ticks": "",
            "zerolinecolor": "white"
           }
          },
          "shapedefaults": {
           "line": {
            "color": "#2a3f5f"
           }
          },
          "ternary": {
           "aaxis": {
            "gridcolor": "white",
            "linecolor": "white",
            "ticks": ""
           },
           "baxis": {
            "gridcolor": "white",
            "linecolor": "white",
            "ticks": ""
           },
           "bgcolor": "#E5ECF6",
           "caxis": {
            "gridcolor": "white",
            "linecolor": "white",
            "ticks": ""
           }
          },
          "title": {
           "x": 0.05
          },
          "xaxis": {
           "automargin": true,
           "gridcolor": "white",
           "linecolor": "white",
           "ticks": "",
           "title": {
            "standoff": 15
           },
           "zerolinecolor": "white",
           "zerolinewidth": 2
          },
          "yaxis": {
           "automargin": true,
           "gridcolor": "white",
           "linecolor": "white",
           "ticks": "",
           "title": {
            "standoff": 15
           },
           "zerolinecolor": "white",
           "zerolinewidth": 2
          }
         }
        },
        "xaxis": {
         "anchor": "y",
         "domain": [
          0,
          1
         ],
         "title": {
          "text": "X"
         }
        },
        "yaxis": {
         "anchor": "x",
         "domain": [
          0,
          1
         ],
         "title": {
          "text": "Y"
         }
        }
       }
      }
     },
     "metadata": {},
     "output_type": "display_data"
    }
   ],
   "source": [
    "fig = px.scatter(df, x='X', y='Y')\n",
    "fig.show()"
   ]
  },
  {
   "cell_type": "code",
   "execution_count": null,
   "metadata": {},
   "outputs": [],
   "source": []
  },
  {
   "cell_type": "code",
   "execution_count": 133,
   "metadata": {},
   "outputs": [
    {
     "data": {
      "text/plain": [
       "<mpl_toolkits.mplot3d.art3d.Path3DCollection at 0x7fe6974f0910>"
      ]
     },
     "execution_count": 133,
     "metadata": {},
     "output_type": "execute_result"
    },
    {
     "data": {
      "image/png": "[encoded data removed]",
      "text/plain": [
       "<Figure size 864x576 with 1 Axes>"
      ]
     },
     "metadata": {},
     "output_type": "display_data"
    }
   ],
   "source": [
    "ax = plt.axes(projection='3d')\n",
    "\n",
    "ax.scatter3D(hand[:,0], hand[:,1], hand[:,2])"
   ]
  },
  {
   "cell_type": "code",
   "execution_count": null,
   "metadata": {},
   "outputs": [],
   "source": []
  },
  {
   "cell_type": "markdown",
   "metadata": {},
   "source": [
    "### Sliding window"
   ]
  },
  {
   "cell_type": "code",
   "execution_count": 205,
   "metadata": {},
   "outputs": [],
   "source": [
    "def sliding_window(all_data, ws, overlap):\n",
    "    \n",
    "    all_df = pd.DataFrame()\n",
    "    y = []\n",
    "    start_id = 0\n",
    "    cpt = 0\n",
    "\n",
    "    for idx, subject_id in enumerate(all_data.keys()):\n",
    "\n",
    "        label = 0 if subject_id.startswith('C') else 1\n",
    "        #label = idx\n",
    "        data_win = make_window(all_data[subject_id], ws, overlap)\n",
    "        \n",
    "        for win_idx in range(data_win.shape[0]):\n",
    "\n",
    "            df = pd.DataFrame(data_win[win_idx,:,:], columns=['feat_' + str(idx) for idx in range(63)])\n",
    "            df['time'] = [i for i in range(1,len(df)+1)]\n",
    "            df['id'] = [(start_id + win_idx) for _ in range(len(df))]\n",
    "            all_df = pd.concat([all_df, df])\n",
    "            y.append(label)\n",
    "\n",
    "        start_id += (win_idx+1)\n",
    "\n",
    "    all_df.reset_index(drop=True, inplace=True)\n",
    "    y = np.array(y)\n",
    "\n",
    "    return all_df, y"
   ]
  },
  {
   "cell_type": "code",
   "execution_count": 206,
   "metadata": {},
   "outputs": [],
   "source": [
    "ws = 1000\n",
    "overlap = 0\n",
    "\n",
    "all_df, y = sliding_window(all_data, ws, overlap)"
   ]
  },
  {
   "cell_type": "code",
   "execution_count": 166,
   "metadata": {},
   "outputs": [
    {
     "data": {
      "text/plain": [
       "((357000, 65), (357,))"
      ]
     },
     "execution_count": 166,
     "metadata": {},
     "output_type": "execute_result"
    }
   ],
   "source": [
    "all_df.shape, y.shape"
   ]
  },
  {
   "cell_type": "code",
   "execution_count": 167,
   "metadata": {},
   "outputs": [
    {
     "data": {
      "text/plain": [
       "array([ 0,  0,  0,  0,  0,  0,  0,  0,  0,  0,  0,  0,  0,  0,  0,  1,  1,\n",
       "        1,  1,  1,  1,  1,  2,  2,  2,  2,  2,  2,  2,  2,  2,  2,  2,  2,\n",
       "        2,  2,  2,  3,  3,  3,  3,  3,  3,  4,  4,  4,  4,  4,  4,  4,  4,\n",
       "        4,  4,  4,  5,  5,  5,  5,  5,  5,  5,  5,  5,  6,  6,  6,  6,  6,\n",
       "        6,  6,  6,  6,  6,  6,  7,  7,  7,  7,  7,  7,  7,  7,  7,  7,  7,\n",
       "        7,  7,  7,  7,  7,  7,  7,  7,  7,  7,  7,  7,  7,  8,  8,  8,  8,\n",
       "        8,  8,  8,  8,  8,  8,  8,  8,  8,  9,  9,  9,  9,  9,  9,  9,  9,\n",
       "        9,  9, 10, 10, 10, 10, 10, 10, 10, 10, 10, 10, 10, 10, 10, 10, 10,\n",
       "       10, 11, 11, 11, 11, 11, 11, 11, 11, 11, 11, 11, 11, 11, 11, 11, 11,\n",
       "       11, 11, 12, 12, 12, 12, 12, 12, 12, 12, 12, 12, 12, 12, 12, 12, 12,\n",
       "       12, 12, 13, 13, 13, 13, 13, 13, 13, 13, 13, 13, 13, 13, 14, 14, 14,\n",
       "       14, 14, 14, 14, 14, 14, 14, 14, 15, 15, 15, 15, 15, 15, 15, 15, 15,\n",
       "       15, 16, 16, 16, 16, 16, 16, 16, 16, 16, 16, 16, 16, 16, 16, 16, 16,\n",
       "       16, 16, 16, 17, 17, 17, 17, 17, 17, 17, 17, 17, 17, 17, 17, 18, 18,\n",
       "       18, 18, 18, 18, 18, 18, 18, 19, 19, 19, 19, 19, 19, 19, 19, 19, 19,\n",
       "       19, 19, 19, 19, 19, 19, 20, 20, 20, 20, 20, 20, 20, 20, 20, 20, 20,\n",
       "       20, 21, 21, 21, 21, 21, 21, 21, 21, 21, 21, 21, 21, 21, 21, 21, 21,\n",
       "       21, 21, 21, 21, 22, 22, 22, 22, 22, 22, 22, 22, 22, 22, 22, 23, 23,\n",
       "       23, 23, 23, 23, 23, 23, 23, 23, 23, 23, 24, 24, 24, 24, 24, 24, 24,\n",
       "       24, 25, 25, 25, 25, 25, 25, 25, 25, 25, 25, 25, 25, 26, 26, 26, 26,\n",
       "       26, 26, 26, 26, 26, 26, 26, 26, 27, 27, 27, 27, 27, 27, 27, 27, 27])"
      ]
     },
     "execution_count": 167,
     "metadata": {},
     "output_type": "execute_result"
    }
   ],
   "source": [
    "y"
   ]
  },
  {
   "cell_type": "markdown",
   "metadata": {},
   "source": [
    "### TSFresh"
   ]
  },
  {
   "cell_type": "code",
   "execution_count": 168,
   "metadata": {},
   "outputs": [
    {
     "name": "stderr",
     "output_type": "stream",
     "text": [
      "Feature Extraction: 100%|██████████| 50/50 [47:20<00:00, 56.80s/it]   \n"
     ]
    }
   ],
   "source": [
    "extraction_settings = ComprehensiveFCParameters()\n",
    "\n",
    "X = extract_features(all_df, column_id='id', column_sort='time',\n",
    "                    default_fc_parameters=EfficientFCParameters(),\n",
    "                    impute_function=impute, n_jobs=10)\n",
    "\n",
    "X_filtered = select_features(X, y, n_jobs=10)"
   ]
  },
  {
   "cell_type": "code",
   "execution_count": 169,
   "metadata": {},
   "outputs": [],
   "source": [
    "save_pickle('X_raw_100_bis.pkl', X)\n",
    "save_pickle('X_filt_100_bis.pkl', X_filtered)"
   ]
  },
  {
   "cell_type": "code",
   "execution_count": 218,
   "metadata": {},
   "outputs": [],
   "source": [
    "X_raw = load_pickle('X_raw_1000.pkl')\n",
    "X_filt = load_pickle('X_filt_1000.pkl')"
   ]
  },
  {
   "cell_type": "code",
   "execution_count": 210,
   "metadata": {},
   "outputs": [],
   "source": [
    "X_raw = load_pickle('X_raw_100_bis.pkl')\n",
    "X_filt = load_pickle('X_filt_100_bis.pkl')"
   ]
  },
  {
   "cell_type": "code",
   "execution_count": 211,
   "metadata": {},
   "outputs": [
    {
     "data": {
      "text/plain": [
       "((357, 49329), (357, 7388))"
      ]
     },
     "execution_count": 211,
     "metadata": {},
     "output_type": "execute_result"
    }
   ],
   "source": [
    "X_raw.shape, X_filt.shape"
   ]
  },
  {
   "cell_type": "markdown",
   "metadata": {},
   "source": [
    "### PCA"
   ]
  },
  {
   "cell_type": "code",
   "execution_count": 219,
   "metadata": {},
   "outputs": [],
   "source": [
    "X = deepcopy(X_filt)\n",
    "\n",
    "scaler = StandardScaler()\n",
    "scaler.fit(X)\n",
    "X_normalized = scaler.transform(X)\n",
    "\n",
    "pca = PCA(n_components=min(X.shape[0], X.shape[1]))\n",
    "pca.fit(X_normalized)\n",
    "\n",
    "X_pca = pca.fit_transform(X_normalized)"
   ]
  },
  {
   "cell_type": "code",
   "execution_count": 220,
   "metadata": {},
   "outputs": [
    {
     "data": {
      "image/png": "[encoded data removed]",
      "text/plain": [
       "<Figure size 864x504 with 1 Axes>"
      ]
     },
     "metadata": {},
     "output_type": "display_data"
    }
   ],
   "source": [
    "ax = plt.figure(figsize=[12,7]).gca()\n",
    "ax.plot(np.cumsum(pca.explained_variance_ratio_))\n",
    "ax.xaxis.set_major_locator(MaxNLocator(integer=True))\n",
    "plt.xlabel('Number of Components')\n",
    "plt.ylabel('Cumulative Explained Variance')\n",
    "plt.axvline(x=10, linewidth=1, color='r', alpha=0.5)\n",
    "plt.title('Explained Variance of PCA by Component')\n",
    "plt.show()"
   ]
  },
  {
   "cell_type": "code",
   "execution_count": 221,
   "metadata": {},
   "outputs": [
    {
     "data": {
      "image/png": "[encoded data removed]",
      "text/plain": [
       "<Figure size 864x504 with 1 Axes>"
      ]
     },
     "metadata": {},
     "output_type": "display_data"
    }
   ],
   "source": [
    "ax = plt.figure(figsize=[12,7]).gca()\n",
    "ax.plot(pca.explained_variance_)\n",
    "ax.xaxis.set_major_locator(MaxNLocator(integer=True))\n",
    "plt.xlabel('Principal Component')\n",
    "plt.ylabel('Eigenvalue')\n",
    "plt.axhline(y=1, linewidth=1, color='r', alpha=0.5)\n",
    "plt.title('Scree Plot of PCA: Component Eigenvalues')\n",
    "plt.show()"
   ]
  },
  {
   "cell_type": "code",
   "execution_count": 222,
   "metadata": {},
   "outputs": [
    {
     "data": {
      "image/png": "[encoded data removed]",
      "text/plain": [
       "<Figure size 720x1440 with 1 Axes>"
      ]
     },
     "metadata": {},
     "output_type": "display_data"
    }
   ],
   "source": [
    "fig = plt.figure(figsize=[10,20])\n",
    " \n",
    "# syntax for 3-D projection\n",
    "ax = plt.axes(projection ='3d')\n",
    " \n",
    "# plotting\n",
    "ax.scatter(X_pca[:, 0], X_pca[:, 1], X_pca[:, 2], c = y, cmap ='viridis')\n",
    "plt.show()"
   ]
  },
  {
   "cell_type": "code",
   "execution_count": 188,
   "metadata": {},
   "outputs": [
    {
     "data": {
      "text/plain": [
       "array([0, 0, 0, 0, 0, 0, 0, 0, 0, 0, 0, 0, 0, 0, 0, 0, 0, 0, 0, 0, 0, 0,\n",
       "       0, 0, 0, 0, 0, 0, 0, 0, 0, 0, 0, 0, 0, 0, 0, 0, 0, 0, 0, 0, 0, 0,\n",
       "       0, 0, 0, 0, 0, 0])"
      ]
     },
     "execution_count": 188,
     "metadata": {},
     "output_type": "execute_result"
    }
   ],
   "source": [
    "y_copy[:50]"
   ]
  },
  {
   "cell_type": "code",
   "execution_count": 181,
   "metadata": {},
   "outputs": [],
   "source": [
    "y_copy = deepcopy(y)"
   ]
  },
  {
   "cell_type": "code",
   "execution_count": 182,
   "metadata": {},
   "outputs": [],
   "source": [
    "y_copy[y_copy == 0] = 0\n",
    "y_copy[y_copy == 1] = 0\n",
    "y_copy[y_copy == 2] = 0\n",
    "y_copy[y_copy == 3] = 0\n",
    "y_copy[y_copy == 4] = 0"
   ]
  },
  {
   "cell_type": "code",
   "execution_count": 183,
   "metadata": {},
   "outputs": [
    {
     "data": {
      "text/plain": [
       "array([ 0,  0,  0,  0,  0,  0,  0,  0,  0,  0,  0,  0,  0,  0,  0,  0,  0,\n",
       "        0,  0,  0,  0,  0,  0,  0,  0,  0,  0,  0,  0,  0,  0,  0,  0,  0,\n",
       "        0,  0,  0,  0,  0,  0,  0,  0,  0,  0,  0,  0,  0,  0,  0,  0,  0,\n",
       "        0,  0,  0,  5,  5,  5,  5,  5,  5,  5,  5,  5,  6,  6,  6,  6,  6,\n",
       "        6,  6,  6,  6,  6,  6,  7,  7,  7,  7,  7,  7,  7,  7,  7,  7,  7,\n",
       "        7,  7,  7,  7,  7,  7,  7,  7,  7,  7,  7,  7,  7,  8,  8,  8,  8,\n",
       "        8,  8,  8,  8,  8,  8,  8,  8,  8,  9,  9,  9,  9,  9,  9,  9,  9,\n",
       "        9,  9, 10, 10, 10, 10, 10, 10, 10, 10, 10, 10, 10, 10, 10, 10, 10,\n",
       "       10, 11, 11, 11, 11, 11, 11, 11, 11, 11, 11, 11, 11, 11, 11, 11, 11,\n",
       "       11, 11, 12, 12, 12, 12, 12, 12, 12, 12, 12, 12, 12, 12, 12, 12, 12,\n",
       "       12, 12, 13, 13, 13, 13, 13, 13, 13, 13, 13, 13, 13, 13, 14, 14, 14,\n",
       "       14, 14, 14, 14, 14, 14, 14, 14, 15, 15, 15, 15, 15, 15, 15, 15, 15,\n",
       "       15, 16, 16, 16, 16, 16, 16, 16, 16, 16, 16, 16, 16, 16, 16, 16, 16,\n",
       "       16, 16, 16, 17, 17, 17, 17, 17, 17, 17, 17, 17, 17, 17, 17, 18, 18,\n",
       "       18, 18, 18, 18, 18, 18, 18, 19, 19, 19, 19, 19, 19, 19, 19, 19, 19,\n",
       "       19, 19, 19, 19, 19, 19, 20, 20, 20, 20, 20, 20, 20, 20, 20, 20, 20,\n",
       "       20, 21, 21, 21, 21, 21, 21, 21, 21, 21, 21, 21, 21, 21, 21, 21, 21,\n",
       "       21, 21, 21, 21, 22, 22, 22, 22, 22, 22, 22, 22, 22, 22, 22, 23, 23,\n",
       "       23, 23, 23, 23, 23, 23, 23, 23, 23, 23, 24, 24, 24, 24, 24, 24, 24,\n",
       "       24, 25, 25, 25, 25, 25, 25, 25, 25, 25, 25, 25, 25, 26, 26, 26, 26,\n",
       "       26, 26, 26, 26, 26, 26, 26, 26, 27, 27, 27, 27, 27, 27, 27, 27, 27])"
      ]
     },
     "execution_count": 183,
     "metadata": {},
     "output_type": "execute_result"
    }
   ],
   "source": [
    "y_copy"
   ]
  },
  {
   "cell_type": "code",
   "execution_count": null,
   "metadata": {},
   "outputs": [],
   "source": []
  },
  {
   "cell_type": "code",
   "execution_count": null,
   "metadata": {},
   "outputs": [],
   "source": []
  },
  {
   "cell_type": "code",
   "execution_count": null,
   "metadata": {},
   "outputs": [],
   "source": []
  },
  {
   "cell_type": "markdown",
   "metadata": {},
   "source": [
    "### TSNE"
   ]
  },
  {
   "cell_type": "code",
   "execution_count": 223,
   "metadata": {},
   "outputs": [],
   "source": [
    "X = deepcopy(X_filt)\n",
    "\n",
    "caler = StandardScaler()\n",
    "X_normalized = scaler.fit_transform(X)\n",
    "\n",
    "X_tsne = TSNE(n_components=3, learning_rate='auto',\n",
    "                init='random').fit_transform(X_normalized)"
   ]
  },
  {
   "cell_type": "code",
   "execution_count": 224,
   "metadata": {},
   "outputs": [
    {
     "data": {
      "image/png": "[encoded data removed]",
      "text/plain": [
       "<Figure size 720x1440 with 1 Axes>"
      ]
     },
     "metadata": {},
     "output_type": "display_data"
    }
   ],
   "source": [
    "fig = plt.figure(figsize=[10,20])\n",
    " \n",
    "# syntax for 3-D projection\n",
    "ax = plt.axes(projection ='3d')\n",
    " \n",
    "# plotting\n",
    "ax.scatter(X_tsne[:, 0], X_tsne[:, 1], X_tsne[:, 2], c = y, cmap ='viridis')\n",
    "plt.show()"
   ]
  },
  {
   "cell_type": "code",
   "execution_count": null,
   "metadata": {},
   "outputs": [],
   "source": []
  },
  {
   "cell_type": "code",
   "execution_count": null,
   "metadata": {},
   "outputs": [],
   "source": []
  },
  {
   "cell_type": "code",
   "execution_count": null,
   "metadata": {},
   "outputs": [],
   "source": []
  },
  {
   "cell_type": "code",
   "execution_count": null,
   "metadata": {},
   "outputs": [],
   "source": []
  },
  {
   "cell_type": "code",
   "execution_count": null,
   "metadata": {},
   "outputs": [],
   "source": []
  },
  {
   "cell_type": "code",
   "execution_count": null,
   "metadata": {},
   "outputs": [],
   "source": []
  },
  {
   "cell_type": "code",
   "execution_count": null,
   "metadata": {},
   "outputs": [],
   "source": []
  },
  {
   "cell_type": "code",
   "execution_count": null,
   "metadata": {},
   "outputs": [],
   "source": []
  },
  {
   "cell_type": "code",
   "execution_count": null,
   "metadata": {},
   "outputs": [],
   "source": []
  },
  {
   "cell_type": "code",
   "execution_count": null,
   "metadata": {},
   "outputs": [],
   "source": []
  },
  {
   "cell_type": "code",
   "execution_count": null,
   "metadata": {},
   "outputs": [],
   "source": []
  },
  {
   "cell_type": "code",
   "execution_count": null,
   "metadata": {},
   "outputs": [],
   "source": []
  }
 ],
 "metadata": {
  "kernelspec": {
   "display_name": "Python 3 (ipykernel)",
   "language": "python",
   "name": "python3"
  },
  "language_info": {
   "codemirror_mode": {
    "name": "ipython",
    "version": 3
   },
   "file_extension": ".py",
   "mimetype": "text/x-python",
   "name": "python",
   "nbconvert_exporter": "python",
   "pygments_lexer": "ipython3",
   "version": "3.9.7"
  },
  "vscode": {
   "interpreter": {
    "hash": "94ac9e074711721b63e2d0927380c5966893a9b6b7f2b95be1ba987ca00b8468"
   }
  }
 },
 "nbformat": 4,
 "nbformat_minor": 2
}
